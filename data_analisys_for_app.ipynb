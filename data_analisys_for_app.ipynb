{
 "cells": [
  {
   "cell_type": "markdown",
   "id": "f9956b31",
   "metadata": {},
   "source": [
    "This notebook is done in order to see some characteristics of the data for the app implementation.\n",
    "\n",
    "The first thing I want to do is see de max and the min sizes depending on the property type. In the app to select the size I want to have a slider but I want that the litms make sense with the property type, in order to get an accurate result."
   ]
  },
  {
   "cell_type": "code",
   "execution_count": 1,
   "id": "ce9cb7cf",
   "metadata": {},
   "outputs": [],
   "source": [
    "import pandas as pd\n",
    "import json"
   ]
  },
  {
   "cell_type": "code",
   "execution_count": 2,
   "id": "e13171e6",
   "metadata": {},
   "outputs": [],
   "source": [
    "df = pd.read_csv(\"data/working_data/data_cleaned_20250901.csv\")"
   ]
  },
  {
   "cell_type": "code",
   "execution_count": 4,
   "id": "1d1fa2ed",
   "metadata": {},
   "outputs": [
    {
     "data": {
      "application/vnd.microsoft.datawrangler.viewer.v0+json": {
       "columns": [
        {
         "name": "index",
         "rawType": "int64",
         "type": "integer"
        },
        {
         "name": "detailedType",
         "rawType": "object",
         "type": "string"
        },
        {
         "name": "min",
         "rawType": "float64",
         "type": "float"
        },
        {
         "name": "max",
         "rawType": "float64",
         "type": "float"
        }
       ],
       "ref": "219dce28-05c5-4e52-abb0-00c5685f7b0d",
       "rows": [
        [
         "0",
         "carAndMotorcycle",
         "19.0",
         "19.0"
        ],
        [
         "1",
         "casaDePueblo",
         "80.0",
         "488.0"
        ],
        [
         "2",
         "casale",
         "65.0",
         "411.0"
        ],
        [
         "3",
         "caseron",
         "99.0",
         "140.0"
        ],
        [
         "4",
         "chalet",
         "81.0",
         "721.0"
        ],
        [
         "5",
         "commercialProperty",
         "15.0",
         "2046.0"
        ],
        [
         "6",
         "compactCar",
         "11.0",
         "11.0"
        ],
        [
         "7",
         "cortijo",
         "72.0",
         "587.0"
        ],
        [
         "8",
         "countryHouse",
         "75.0",
         "2000.0"
        ],
        [
         "9",
         "duplex",
         "35.0",
         "3100.0"
        ],
        [
         "10",
         "flat",
         "25.0",
         "1200.0"
        ],
        [
         "11",
         "garage",
         "15.0",
         "15.0"
        ],
        [
         "12",
         "independantHouse",
         "29.0",
         "1827.0"
        ],
        [
         "13",
         "industrialPremise",
         "70.0",
         "4092.0"
        ],
        [
         "14",
         "office",
         "11.0",
         "3085.0"
        ],
        [
         "15",
         "penthouse",
         "30.0",
         "1131.0"
        ],
        [
         "16",
         "premise",
         "25.0",
         "1280.0"
        ],
        [
         "17",
         "sedanCar",
         "13.0",
         "13.0"
        ],
        [
         "18",
         "semidetachedHouse",
         "80.0",
         "21185.0"
        ],
        [
         "19",
         "studio",
         "19.0",
         "81.0"
        ],
        [
         "20",
         "terracedHouse",
         "66.0",
         "559.0"
        ],
        [
         "21",
         "twoCars",
         "27.0",
         "27.0"
        ]
       ],
       "shape": {
        "columns": 3,
        "rows": 22
       }
      },
      "text/html": [
       "<div>\n",
       "<style scoped>\n",
       "    .dataframe tbody tr th:only-of-type {\n",
       "        vertical-align: middle;\n",
       "    }\n",
       "\n",
       "    .dataframe tbody tr th {\n",
       "        vertical-align: top;\n",
       "    }\n",
       "\n",
       "    .dataframe thead th {\n",
       "        text-align: right;\n",
       "    }\n",
       "</style>\n",
       "<table border=\"1\" class=\"dataframe\">\n",
       "  <thead>\n",
       "    <tr style=\"text-align: right;\">\n",
       "      <th></th>\n",
       "      <th>detailedType</th>\n",
       "      <th>min</th>\n",
       "      <th>max</th>\n",
       "    </tr>\n",
       "  </thead>\n",
       "  <tbody>\n",
       "    <tr>\n",
       "      <th>0</th>\n",
       "      <td>carAndMotorcycle</td>\n",
       "      <td>19.0</td>\n",
       "      <td>19.0</td>\n",
       "    </tr>\n",
       "    <tr>\n",
       "      <th>1</th>\n",
       "      <td>casaDePueblo</td>\n",
       "      <td>80.0</td>\n",
       "      <td>488.0</td>\n",
       "    </tr>\n",
       "    <tr>\n",
       "      <th>2</th>\n",
       "      <td>casale</td>\n",
       "      <td>65.0</td>\n",
       "      <td>411.0</td>\n",
       "    </tr>\n",
       "    <tr>\n",
       "      <th>3</th>\n",
       "      <td>caseron</td>\n",
       "      <td>99.0</td>\n",
       "      <td>140.0</td>\n",
       "    </tr>\n",
       "    <tr>\n",
       "      <th>4</th>\n",
       "      <td>chalet</td>\n",
       "      <td>81.0</td>\n",
       "      <td>721.0</td>\n",
       "    </tr>\n",
       "    <tr>\n",
       "      <th>5</th>\n",
       "      <td>commercialProperty</td>\n",
       "      <td>15.0</td>\n",
       "      <td>2046.0</td>\n",
       "    </tr>\n",
       "    <tr>\n",
       "      <th>6</th>\n",
       "      <td>compactCar</td>\n",
       "      <td>11.0</td>\n",
       "      <td>11.0</td>\n",
       "    </tr>\n",
       "    <tr>\n",
       "      <th>7</th>\n",
       "      <td>cortijo</td>\n",
       "      <td>72.0</td>\n",
       "      <td>587.0</td>\n",
       "    </tr>\n",
       "    <tr>\n",
       "      <th>8</th>\n",
       "      <td>countryHouse</td>\n",
       "      <td>75.0</td>\n",
       "      <td>2000.0</td>\n",
       "    </tr>\n",
       "    <tr>\n",
       "      <th>9</th>\n",
       "      <td>duplex</td>\n",
       "      <td>35.0</td>\n",
       "      <td>3100.0</td>\n",
       "    </tr>\n",
       "    <tr>\n",
       "      <th>10</th>\n",
       "      <td>flat</td>\n",
       "      <td>25.0</td>\n",
       "      <td>1200.0</td>\n",
       "    </tr>\n",
       "    <tr>\n",
       "      <th>11</th>\n",
       "      <td>garage</td>\n",
       "      <td>15.0</td>\n",
       "      <td>15.0</td>\n",
       "    </tr>\n",
       "    <tr>\n",
       "      <th>12</th>\n",
       "      <td>independantHouse</td>\n",
       "      <td>29.0</td>\n",
       "      <td>1827.0</td>\n",
       "    </tr>\n",
       "    <tr>\n",
       "      <th>13</th>\n",
       "      <td>industrialPremise</td>\n",
       "      <td>70.0</td>\n",
       "      <td>4092.0</td>\n",
       "    </tr>\n",
       "    <tr>\n",
       "      <th>14</th>\n",
       "      <td>office</td>\n",
       "      <td>11.0</td>\n",
       "      <td>3085.0</td>\n",
       "    </tr>\n",
       "    <tr>\n",
       "      <th>15</th>\n",
       "      <td>penthouse</td>\n",
       "      <td>30.0</td>\n",
       "      <td>1131.0</td>\n",
       "    </tr>\n",
       "    <tr>\n",
       "      <th>16</th>\n",
       "      <td>premise</td>\n",
       "      <td>25.0</td>\n",
       "      <td>1280.0</td>\n",
       "    </tr>\n",
       "    <tr>\n",
       "      <th>17</th>\n",
       "      <td>sedanCar</td>\n",
       "      <td>13.0</td>\n",
       "      <td>13.0</td>\n",
       "    </tr>\n",
       "    <tr>\n",
       "      <th>18</th>\n",
       "      <td>semidetachedHouse</td>\n",
       "      <td>80.0</td>\n",
       "      <td>21185.0</td>\n",
       "    </tr>\n",
       "    <tr>\n",
       "      <th>19</th>\n",
       "      <td>studio</td>\n",
       "      <td>19.0</td>\n",
       "      <td>81.0</td>\n",
       "    </tr>\n",
       "    <tr>\n",
       "      <th>20</th>\n",
       "      <td>terracedHouse</td>\n",
       "      <td>66.0</td>\n",
       "      <td>559.0</td>\n",
       "    </tr>\n",
       "    <tr>\n",
       "      <th>21</th>\n",
       "      <td>twoCars</td>\n",
       "      <td>27.0</td>\n",
       "      <td>27.0</td>\n",
       "    </tr>\n",
       "  </tbody>\n",
       "</table>\n",
       "</div>"
      ],
      "text/plain": [
       "          detailedType   min      max\n",
       "0     carAndMotorcycle  19.0     19.0\n",
       "1         casaDePueblo  80.0    488.0\n",
       "2               casale  65.0    411.0\n",
       "3              caseron  99.0    140.0\n",
       "4               chalet  81.0    721.0\n",
       "5   commercialProperty  15.0   2046.0\n",
       "6           compactCar  11.0     11.0\n",
       "7              cortijo  72.0    587.0\n",
       "8         countryHouse  75.0   2000.0\n",
       "9               duplex  35.0   3100.0\n",
       "10                flat  25.0   1200.0\n",
       "11              garage  15.0     15.0\n",
       "12    independantHouse  29.0   1827.0\n",
       "13   industrialPremise  70.0   4092.0\n",
       "14              office  11.0   3085.0\n",
       "15           penthouse  30.0   1131.0\n",
       "16             premise  25.0   1280.0\n",
       "17            sedanCar  13.0     13.0\n",
       "18   semidetachedHouse  80.0  21185.0\n",
       "19              studio  19.0     81.0\n",
       "20       terracedHouse  66.0    559.0\n",
       "21             twoCars  27.0     27.0"
      ]
     },
     "execution_count": 4,
     "metadata": {},
     "output_type": "execute_result"
    }
   ],
   "source": [
    "df_grouped = df.groupby('detailedType')['size'].agg(['min', 'max']).reset_index()\n",
    "df_grouped"
   ]
  },
  {
   "cell_type": "code",
   "execution_count": 5,
   "id": "f87cd3db",
   "metadata": {},
   "outputs": [
    {
     "name": "stdout",
     "output_type": "stream",
     "text": [
      "{'carAndMotorcycle': {'min': 19.0, 'max': 19.0}, 'casaDePueblo': {'min': 80.0, 'max': 488.0}, 'casale': {'min': 65.0, 'max': 411.0}, 'caseron': {'min': 99.0, 'max': 140.0}, 'chalet': {'min': 81.0, 'max': 721.0}, 'commercialProperty': {'min': 15.0, 'max': 2046.0}, 'compactCar': {'min': 11.0, 'max': 11.0}, 'cortijo': {'min': 72.0, 'max': 587.0}, 'countryHouse': {'min': 75.0, 'max': 2000.0}, 'duplex': {'min': 35.0, 'max': 3100.0}, 'flat': {'min': 25.0, 'max': 1200.0}, 'garage': {'min': 15.0, 'max': 15.0}, 'independantHouse': {'min': 29.0, 'max': 1827.0}, 'industrialPremise': {'min': 70.0, 'max': 4092.0}, 'office': {'min': 11.0, 'max': 3085.0}, 'penthouse': {'min': 30.0, 'max': 1131.0}, 'premise': {'min': 25.0, 'max': 1280.0}, 'sedanCar': {'min': 13.0, 'max': 13.0}, 'semidetachedHouse': {'min': 80.0, 'max': 21185.0}, 'studio': {'min': 19.0, 'max': 81.0}, 'terracedHouse': {'min': 66.0, 'max': 559.0}, 'twoCars': {'min': 27.0, 'max': 27.0}}\n"
     ]
    }
   ],
   "source": [
    "dic_min_mas_sizes = df_grouped.set_index('detailedType').T.to_dict()\n",
    "print(dic_min_mas_sizes)"
   ]
  },
  {
   "cell_type": "code",
   "execution_count": null,
   "id": "030f839a",
   "metadata": {},
   "outputs": [
    {
     "name": "stdout",
     "output_type": "stream",
     "text": [
      "[{'label': 'flat', 'value': 'flat'}, {'label': 'penthouse', 'value': 'penthouse'}, {'label': 'studio', 'value': 'studio'}, {'label': 'semidetachedHouse', 'value': 'semidetachedHouse'}, {'label': 'duplex', 'value': 'duplex'}, {'label': 'independantHouse', 'value': 'independantHouse'}, {'label': 'terracedHouse', 'value': 'terracedHouse'}, {'label': 'office', 'value': 'office'}, {'label': 'commercialProperty', 'value': 'commercialProperty'}, {'label': 'industrialPremise', 'value': 'industrialPremise'}, {'label': 'premise', 'value': 'premise'}, {'label': 'casale', 'value': 'casale'}, {'label': 'chalet', 'value': 'chalet'}, {'label': 'countryHouse', 'value': 'countryHouse'}, {'label': 'cortijo', 'value': 'cortijo'}, {'label': 'casaDePueblo', 'value': 'casaDePueblo'}, {'label': 'carAndMotorcycle', 'value': 'carAndMotorcycle'}, {'label': 'compactCar', 'value': 'compactCar'}, {'label': 'sedanCar', 'value': 'sedanCar'}, {'label': 'garage', 'value': 'garage'}, {'label': 'twoCars', 'value': 'twoCars'}, {'label': 'caseron', 'value': 'caseron'}]\n"
     ]
    }
   ],
   "source": [
    "options_detailedType = [\n",
    "    {\"label\": val, \"value\": val}\n",
    "    for val in df['detailedType'].dropna().unique()\n",
    "]\n",
    "print(options_detailedType)\n"
   ]
  },
  {
   "cell_type": "code",
   "execution_count": 6,
   "id": "359db3ec",
   "metadata": {},
   "outputs": [
    {
     "data": {
      "application/vnd.microsoft.datawrangler.viewer.v0+json": {
       "columns": [
        {
         "name": "index",
         "rawType": "int64",
         "type": "integer"
        },
        {
         "name": "propertyType",
         "rawType": "object",
         "type": "string"
        },
        {
         "name": "min",
         "rawType": "float64",
         "type": "float"
        },
        {
         "name": "max",
         "rawType": "float64",
         "type": "float"
        }
       ],
       "ref": "53c05748-d42c-4406-b175-2b5a65c8bbc1",
       "rows": [
        [
         "0",
         "chalet",
         "1.0",
         "12.0"
        ],
        [
         "1",
         "countryHouse",
         "2.0",
         "11.0"
        ],
        [
         "2",
         "duplex",
         "0.0",
         "5.0"
        ],
        [
         "3",
         "flat",
         "1.0",
         "13.0"
        ],
        [
         "4",
         "garage",
         "0.0",
         "0.0"
        ],
        [
         "5",
         "office",
         "0.0",
         "0.0"
        ],
        [
         "6",
         "penthouse",
         "0.0",
         "7.0"
        ],
        [
         "7",
         "premise",
         "0.0",
         "0.0"
        ],
        [
         "8",
         "studio",
         "0.0",
         "0.0"
        ]
       ],
       "shape": {
        "columns": 3,
        "rows": 9
       }
      },
      "text/html": [
       "<div>\n",
       "<style scoped>\n",
       "    .dataframe tbody tr th:only-of-type {\n",
       "        vertical-align: middle;\n",
       "    }\n",
       "\n",
       "    .dataframe tbody tr th {\n",
       "        vertical-align: top;\n",
       "    }\n",
       "\n",
       "    .dataframe thead th {\n",
       "        text-align: right;\n",
       "    }\n",
       "</style>\n",
       "<table border=\"1\" class=\"dataframe\">\n",
       "  <thead>\n",
       "    <tr style=\"text-align: right;\">\n",
       "      <th></th>\n",
       "      <th>propertyType</th>\n",
       "      <th>min</th>\n",
       "      <th>max</th>\n",
       "    </tr>\n",
       "  </thead>\n",
       "  <tbody>\n",
       "    <tr>\n",
       "      <th>0</th>\n",
       "      <td>chalet</td>\n",
       "      <td>1.0</td>\n",
       "      <td>12.0</td>\n",
       "    </tr>\n",
       "    <tr>\n",
       "      <th>1</th>\n",
       "      <td>countryHouse</td>\n",
       "      <td>2.0</td>\n",
       "      <td>11.0</td>\n",
       "    </tr>\n",
       "    <tr>\n",
       "      <th>2</th>\n",
       "      <td>duplex</td>\n",
       "      <td>0.0</td>\n",
       "      <td>5.0</td>\n",
       "    </tr>\n",
       "    <tr>\n",
       "      <th>3</th>\n",
       "      <td>flat</td>\n",
       "      <td>1.0</td>\n",
       "      <td>13.0</td>\n",
       "    </tr>\n",
       "    <tr>\n",
       "      <th>4</th>\n",
       "      <td>garage</td>\n",
       "      <td>0.0</td>\n",
       "      <td>0.0</td>\n",
       "    </tr>\n",
       "    <tr>\n",
       "      <th>5</th>\n",
       "      <td>office</td>\n",
       "      <td>0.0</td>\n",
       "      <td>0.0</td>\n",
       "    </tr>\n",
       "    <tr>\n",
       "      <th>6</th>\n",
       "      <td>penthouse</td>\n",
       "      <td>0.0</td>\n",
       "      <td>7.0</td>\n",
       "    </tr>\n",
       "    <tr>\n",
       "      <th>7</th>\n",
       "      <td>premise</td>\n",
       "      <td>0.0</td>\n",
       "      <td>0.0</td>\n",
       "    </tr>\n",
       "    <tr>\n",
       "      <th>8</th>\n",
       "      <td>studio</td>\n",
       "      <td>0.0</td>\n",
       "      <td>0.0</td>\n",
       "    </tr>\n",
       "  </tbody>\n",
       "</table>\n",
       "</div>"
      ],
      "text/plain": [
       "   propertyType  min   max\n",
       "0        chalet  1.0  12.0\n",
       "1  countryHouse  2.0  11.0\n",
       "2        duplex  0.0   5.0\n",
       "3          flat  1.0  13.0\n",
       "4        garage  0.0   0.0\n",
       "5        office  0.0   0.0\n",
       "6     penthouse  0.0   7.0\n",
       "7       premise  0.0   0.0\n",
       "8        studio  0.0   0.0"
      ]
     },
     "execution_count": 6,
     "metadata": {},
     "output_type": "execute_result"
    }
   ],
   "source": [
    "df.groupby('propertyType')['rooms'].agg(['min', 'max']).reset_index()"
   ]
  },
  {
   "cell_type": "code",
   "execution_count": null,
   "id": "3fc02ed3",
   "metadata": {},
   "outputs": [
    {
     "data": {
      "application/vnd.microsoft.datawrangler.viewer.v0+json": {
       "columns": [
        {
         "name": "index",
         "rawType": "int64",
         "type": "integer"
        },
        {
         "name": "propertyType",
         "rawType": "object",
         "type": "string"
        },
        {
         "name": "min",
         "rawType": "float64",
         "type": "float"
        },
        {
         "name": "max",
         "rawType": "float64",
         "type": "float"
        }
       ],
       "ref": "4c4d8812-6ebd-4160-8015-ca9e73479e30",
       "rows": [
        [
         "0",
         "chalet",
         "0.0",
         "11.0"
        ],
        [
         "1",
         "countryHouse",
         "1.0",
         "5.0"
        ],
        [
         "2",
         "duplex",
         "1.0",
         "4.0"
        ],
        [
         "3",
         "flat",
         "0.0",
         "6.0"
        ],
        [
         "4",
         "garage",
         "0.0",
         "0.0"
        ],
        [
         "5",
         "office",
         "0.0",
         "8.0"
        ],
        [
         "6",
         "penthouse",
         "1.0",
         "4.0"
        ],
        [
         "7",
         "premise",
         "0.0",
         "14.0"
        ],
        [
         "8",
         "studio",
         "1.0",
         "1.0"
        ]
       ],
       "shape": {
        "columns": 3,
        "rows": 9
       }
      },
      "text/html": [
       "<div>\n",
       "<style scoped>\n",
       "    .dataframe tbody tr th:only-of-type {\n",
       "        vertical-align: middle;\n",
       "    }\n",
       "\n",
       "    .dataframe tbody tr th {\n",
       "        vertical-align: top;\n",
       "    }\n",
       "\n",
       "    .dataframe thead th {\n",
       "        text-align: right;\n",
       "    }\n",
       "</style>\n",
       "<table border=\"1\" class=\"dataframe\">\n",
       "  <thead>\n",
       "    <tr style=\"text-align: right;\">\n",
       "      <th></th>\n",
       "      <th>propertyType</th>\n",
       "      <th>min</th>\n",
       "      <th>max</th>\n",
       "    </tr>\n",
       "  </thead>\n",
       "  <tbody>\n",
       "    <tr>\n",
       "      <th>0</th>\n",
       "      <td>chalet</td>\n",
       "      <td>0.0</td>\n",
       "      <td>11.0</td>\n",
       "    </tr>\n",
       "    <tr>\n",
       "      <th>1</th>\n",
       "      <td>countryHouse</td>\n",
       "      <td>1.0</td>\n",
       "      <td>5.0</td>\n",
       "    </tr>\n",
       "    <tr>\n",
       "      <th>2</th>\n",
       "      <td>duplex</td>\n",
       "      <td>1.0</td>\n",
       "      <td>4.0</td>\n",
       "    </tr>\n",
       "    <tr>\n",
       "      <th>3</th>\n",
       "      <td>flat</td>\n",
       "      <td>0.0</td>\n",
       "      <td>6.0</td>\n",
       "    </tr>\n",
       "    <tr>\n",
       "      <th>4</th>\n",
       "      <td>garage</td>\n",
       "      <td>0.0</td>\n",
       "      <td>0.0</td>\n",
       "    </tr>\n",
       "    <tr>\n",
       "      <th>5</th>\n",
       "      <td>office</td>\n",
       "      <td>0.0</td>\n",
       "      <td>8.0</td>\n",
       "    </tr>\n",
       "    <tr>\n",
       "      <th>6</th>\n",
       "      <td>penthouse</td>\n",
       "      <td>1.0</td>\n",
       "      <td>4.0</td>\n",
       "    </tr>\n",
       "    <tr>\n",
       "      <th>7</th>\n",
       "      <td>premise</td>\n",
       "      <td>0.0</td>\n",
       "      <td>14.0</td>\n",
       "    </tr>\n",
       "    <tr>\n",
       "      <th>8</th>\n",
       "      <td>studio</td>\n",
       "      <td>1.0</td>\n",
       "      <td>1.0</td>\n",
       "    </tr>\n",
       "  </tbody>\n",
       "</table>\n",
       "</div>"
      ],
      "text/plain": [
       "   propertyType  min   max\n",
       "0        chalet  0.0  11.0\n",
       "1  countryHouse  1.0   5.0\n",
       "2        duplex  1.0   4.0\n",
       "3          flat  0.0   6.0\n",
       "4        garage  0.0   0.0\n",
       "5        office  0.0   8.0\n",
       "6     penthouse  1.0   4.0\n",
       "7       premise  0.0  14.0\n",
       "8        studio  1.0   1.0"
      ]
     },
     "execution_count": 8,
     "metadata": {},
     "output_type": "execute_result"
    }
   ],
   "source": [
    "df.groupby('propertyType')['bathrooms'].agg(['min', 'max']).reset_index()"
   ]
  },
  {
   "cell_type": "markdown",
   "id": "a5ff1954",
   "metadata": {},
   "source": [
    "Lo que voy a hacer es una tabla agrupando por property type y poniendo dos columnas una para el maximo y otra para el minimo. despues uso .set_index('propertType').T.to_dict()"
   ]
  },
  {
   "cell_type": "markdown",
   "id": "e2d004fd",
   "metadata": {},
   "source": [
    "Miro tambien el maximo de rooms y bathrooms. Pero comprobando cuantos hay de media tambien segun el tipo de propiedad, los que no tengan que entonces no pueda seleccionar ningun numero y se autorellene como 0."
   ]
  },
  {
   "cell_type": "markdown",
   "id": "00481724",
   "metadata": {},
   "source": [
    "Esto es para escribir las options de los dropdowns de municipality, district y neighborhood"
   ]
  },
  {
   "cell_type": "code",
   "execution_count": 7,
   "id": "f177aed9",
   "metadata": {},
   "outputs": [
    {
     "name": "stdout",
     "output_type": "stream",
     "text": [
      "[{'label': 'Alcaucín', 'value': 'Alcaucín'}, {'label': 'Algarrobo-Costa', 'value': 'Algarrobo-Costa'}, {'label': 'Alhaurín de la Torre', 'value': 'Alhaurín de la Torre'}, {'label': 'Alhaurín el Grande', 'value': 'Alhaurín el Grande'}, {'label': 'Almayate Bajo', 'value': 'Almayate Bajo'}, {'label': 'Alora', 'value': 'Alora'}, {'label': 'Antequera', 'value': 'Antequera'}, {'label': 'Archidona', 'value': 'Archidona'}, {'label': 'Arriate', 'value': 'Arriate'}, {'label': 'Benahavís', 'value': 'Benahavís'}, {'label': 'Benajarafe', 'value': 'Benajarafe'}, {'label': 'Benalmádena', 'value': 'Benalmádena'}, {'label': 'Caleta de Velez', 'value': 'Caleta de Velez'}, {'label': 'Campillos', 'value': 'Campillos'}, {'label': 'Canillas de Albaida', 'value': 'Canillas de Albaida'}, {'label': 'Casabermeja', 'value': 'Casabermeja'}, {'label': 'Casarabonela', 'value': 'Casarabonela'}, {'label': 'Casares', 'value': 'Casares'}, {'label': 'Chilches', 'value': 'Chilches'}, {'label': 'Coin', 'value': 'Coin'}, {'label': 'Colmenar', 'value': 'Colmenar'}, {'label': 'Competa', 'value': 'Competa'}, {'label': 'Cutar', 'value': 'Cutar'}, {'label': 'Cártama', 'value': 'Cártama'}, {'label': 'Estepona', 'value': 'Estepona'}, {'label': 'Frigiliana', 'value': 'Frigiliana'}, {'label': 'Fuengirola', 'value': 'Fuengirola'}, {'label': 'Gaucin', 'value': 'Gaucin'}, {'label': 'Humilladero', 'value': 'Humilladero'}, {'label': 'Istan', 'value': 'Istan'}, {'label': 'Manilva', 'value': 'Manilva'}, {'label': 'Marbella', 'value': 'Marbella'}, {'label': 'Mezquitilla', 'value': 'Mezquitilla'}, {'label': 'Mijas', 'value': 'Mijas'}, {'label': 'Mollina', 'value': 'Mollina'}, {'label': 'Monda', 'value': 'Monda'}, {'label': 'Málaga', 'value': 'Málaga'}, {'label': 'Nerja', 'value': 'Nerja'}, {'label': 'Ojén', 'value': 'Ojén'}, {'label': 'Pizarra', 'value': 'Pizarra'}, {'label': 'Rincón de la Victoria', 'value': 'Rincón de la Victoria'}, {'label': 'Riogordo', 'value': 'Riogordo'}, {'label': 'Ronda', 'value': 'Ronda'}, {'label': 'Teba', 'value': 'Teba'}, {'label': 'Tolox', 'value': 'Tolox'}, {'label': 'Torre del Mar', 'value': 'Torre del Mar'}, {'label': 'Torremolinos', 'value': 'Torremolinos'}, {'label': 'Torrox', 'value': 'Torrox'}, {'label': 'Villanueva de Algaidas', 'value': 'Villanueva de Algaidas'}, {'label': 'Villanueva de la Concepcion', 'value': 'Villanueva de la Concepcion'}, {'label': 'Vélez-Malaga', 'value': 'Vélez-Malaga'}, {'label': 'Yunquera', 'value': 'Yunquera'}]\n",
      "[{'label': 'Alcorrín', 'value': 'Alcorrín'}, {'label': 'Algarrobo-Costa', 'value': 'Algarrobo-Costa'}, {'label': 'Alhaurín Golf', 'value': 'Alhaurín Golf'}, {'label': 'Alhaurín el Grande', 'value': 'Alhaurín el Grande'}, {'label': 'Almijara', 'value': 'Almijara'}, {'label': 'Alquería-Torrealquería', 'value': 'Alquería-Torrealquería'}, {'label': 'Altos de Estepona', 'value': 'Altos de Estepona'}, {'label': 'Archidona', 'value': 'Archidona'}, {'label': 'Ardelejos - Cuesta de la Palma - Buenavista', 'value': 'Ardelejos - Cuesta de la Palma - Buenavista'}, {'label': 'Arriate', 'value': 'Arriate'}, {'label': 'Arroyo de la Miel', 'value': 'Arroyo de la Miel'}, {'label': 'Avda Pescia - Ctra de Frigiliana', 'value': 'Avda Pescia - Ctra de Frigiliana'}, {'label': 'Añoreta Golf - Paraíso del Sol', 'value': 'Añoreta Golf - Paraíso del Sol'}, {'label': 'Añoreta baja', 'value': 'Añoreta baja'}, {'label': 'Bahía de Casares', 'value': 'Bahía de Casares'}, {'label': 'Bailén - Miraflores', 'value': 'Bailén - Miraflores'}, {'label': 'Benahavís', 'value': 'Benahavís'}, {'label': 'Benalmádena Pueblo', 'value': 'Benalmádena Pueblo'}, {'label': 'Benamara - Atalaya', 'value': 'Benamara - Atalaya'}, {'label': 'Bobadilla - Bobadilla Estación - La Joya', 'value': 'Bobadilla - Bobadilla Estación - La Joya'}, {'label': 'Buenavista-Lauro Golf', 'value': 'Buenavista-Lauro Golf'}, {'label': 'Burriana', 'value': 'Burriana'}, {'label': 'Calaburra - Chaparral', 'value': 'Calaburra - Chaparral'}, {'label': 'Caleta 2000', 'value': 'Caleta 2000'}, {'label': 'Camino Viejo de Málaga', 'value': 'Camino Viejo de Málaga'}, {'label': 'Campanillas', 'value': 'Campanillas'}, {'label': 'Campillos', 'value': 'Campillos'}, {'label': 'Campo de Mijas', 'value': 'Campo de Mijas'}, {'label': 'Canillas de Albaida', 'value': 'Canillas de Albaida'}, {'label': 'Capellanía - Retamar', 'value': 'Capellanía - Retamar'}, {'label': 'Capistrano', 'value': 'Capistrano'}, {'label': 'Carretera de Cádiz', 'value': 'Carretera de Cádiz'}, {'label': 'Casabermeja', 'value': 'Casabermeja'}, {'label': 'Casarabonela', 'value': 'Casarabonela'}, {'label': 'Casares', 'value': 'Casares'}, {'label': 'Casares Golf - Casares del Sol', 'value': 'Casares Golf - Casares del Sol'}, {'label': 'Casco Histórico', 'value': 'Casco Histórico'}, {'label': 'Centro', 'value': 'Centro'}, {'label': 'Centro Ciudad', 'value': 'Centro Ciudad'}, {'label': 'Centro Ciudad - El Carmen', 'value': 'Centro Ciudad - El Carmen'}, {'label': 'Centro Internacional', 'value': 'Centro Internacional'}, {'label': 'Cerros del Águila', 'value': 'Cerros del Águila'}, {'label': 'Chaparil - Torrecilla - Punta Lara', 'value': 'Chaparil - Torrecilla - Punta Lara'}, {'label': 'Chullera', 'value': 'Chullera'}, {'label': 'Churriana', 'value': 'Churriana'}, {'label': 'Ciudad Jardín', 'value': 'Ciudad Jardín'}, {'label': 'Colmenar', 'value': 'Colmenar'}, {'label': 'Costa Natura', 'value': 'Costa Natura'}, {'label': 'Cotomar - Urbanizaciones', 'value': 'Cotomar - Urbanizaciones'}, {'label': 'Coín', 'value': 'Coín'}, {'label': 'Cruz de Humilladero', 'value': 'Cruz de Humilladero'}, {'label': 'Cártama pueblo', 'value': 'Cártama pueblo'}, {'label': 'Cómpeta', 'value': 'Cómpeta'}, {'label': 'Cútar', 'value': 'Cútar'}, {'label': 'Diseminados', 'value': 'Diseminados'}, {'label': 'Doña Julia Golf', 'value': 'Doña Julia Golf'}, {'label': 'El Bajondillo', 'value': 'El Bajondillo'}, {'label': 'El Castillo', 'value': 'El Castillo'}, {'label': 'El Cigarral - Dehesa - Borrajo', 'value': 'El Cigarral - Dehesa - Borrajo'}, {'label': 'El Fuerte - La Dehesa', 'value': 'El Fuerte - La Dehesa'}, {'label': 'El Higuerón', 'value': 'El Higuerón'}, {'label': 'El Higuerón - Capellanía', 'value': 'El Higuerón - Capellanía'}, {'label': 'El Limonar', 'value': 'El Limonar'}, {'label': 'El Madroñal', 'value': 'El Madroñal'}, {'label': 'El Morche', 'value': 'El Morche'}, {'label': 'El Paraíso', 'value': 'El Paraíso'}, {'label': 'El Peñoncillo', 'value': 'El Peñoncillo'}, {'label': 'El Pinar - Palacio de Congresos', 'value': 'El Pinar - Palacio de Congresos'}, {'label': 'El Pinillo', 'value': 'El Pinillo'}, {'label': 'El Romeral-Peñón de Zapata', 'value': 'El Romeral-Peñón de Zapata'}, {'label': 'El Tomillar', 'value': 'El Tomillar'}, {'label': 'Elviria-Cabopino', 'value': 'Elviria-Cabopino'}, {'label': 'Estación', 'value': 'Estación'}, {'label': 'Este', 'value': 'Este'}, {'label': 'Estepona Pueblo', 'value': 'Estepona Pueblo'}, {'label': 'Frigiliana', 'value': 'Frigiliana'}, {'label': 'Gaucín', 'value': 'Gaucín'}, {'label': 'Gran Sol - Montesol', 'value': 'Gran Sol - Montesol'}, {'label': 'Hipódromo - Cerrado del Águila', 'value': 'Hipódromo - Cerrado del Águila'}, {'label': 'Hipódromo-Cerrado del Águila', 'value': 'Hipódromo-Cerrado del Águila'}, {'label': 'Humilladero', 'value': 'Humilladero'}, {'label': 'Istán', 'value': 'Istán'}, {'label': 'Jardines de Alhaurín-Huerta Alta-Fuensanguínea', 'value': 'Jardines de Alhaurín-Huerta Alta-Fuensanguínea'}, {'label': 'La Alquería', 'value': 'La Alquería'}, {'label': 'La Cala Golf - Lagar Martell', 'value': 'La Cala Golf - Lagar Martell'}, {'label': 'La Cala de Mijas', 'value': 'La Cala de Mijas'}, {'label': 'La Cala del Moral', 'value': 'La Cala del Moral'}, {'label': 'La Carihuela - Los Nidos', 'value': 'La Carihuela - Los Nidos'}, {'label': 'La Duquesa', 'value': 'La Duquesa'}, {'label': 'La Leala - El Saltillo', 'value': 'La Leala - El Saltillo'}, {'label': 'La Mairena', 'value': 'La Mairena'}, {'label': 'La Quinta', 'value': 'La Quinta'}, {'label': 'Laguna Beach', 'value': 'Laguna Beach'}, {'label': 'Las Chapas-El Rosario', 'value': 'Las Chapas-El Rosario'}, {'label': 'Las Gaviotas', 'value': 'Las Gaviotas'}, {'label': 'Las Lagunas', 'value': 'Las Lagunas'}, {'label': 'Las Lomas - Las Torres - Terrazas de Alhaurín', 'value': 'Las Lomas - Las Torres - Terrazas de Alhaurín'}, {'label': 'Lo Cea - Los Cortijos', 'value': 'Lo Cea - Los Cortijos'}, {'label': 'Los Arqueros-Puerto del Almendro', 'value': 'Los Arqueros-Puerto del Almendro'}, {'label': 'Los Boliches', 'value': 'Los Boliches'}, {'label': 'Los Flamingos', 'value': 'Los Flamingos'}, {'label': 'Los Olivos', 'value': 'Los Olivos'}, {'label': 'Los Pacos', 'value': 'Los Pacos'}, {'label': 'Manantiales - Lagar - Cortijo', 'value': 'Manantiales - Lagar - Cortijo'}, {'label': 'Manilva', 'value': 'Manilva'}, {'label': 'Marbella Pueblo', 'value': 'Marbella Pueblo'}, {'label': 'Marina de Casares', 'value': 'Marina de Casares'}, {'label': 'Maro - Cuevas de Nerja', 'value': 'Maro - Cuevas de Nerja'}, {'label': 'Martiricos - La Roca', 'value': 'Martiricos - La Roca'}, {'label': 'Mijas Golf', 'value': 'Mijas Golf'}, {'label': 'Mijas Pueblo', 'value': 'Mijas Pueblo'}, {'label': 'Mollina', 'value': 'Mollina'}, {'label': 'Monda', 'value': 'Monda'}, {'label': 'Montealto', 'value': 'Montealto'}, {'label': 'Montemar', 'value': 'Montemar'}, {'label': 'Montemayor-Marbella Club', 'value': 'Montemayor-Marbella Club'}, {'label': 'Nagüeles-Milla de Oro', 'value': 'Nagüeles-Milla de Oro'}, {'label': 'Norte - Barrio del Pilar - El Reñidero', 'value': 'Norte - Barrio del Pilar - El Reñidero'}, {'label': 'Nueva Andalucía', 'value': 'Nueva Andalucía'}, {'label': 'Ojén pueblo', 'value': 'Ojén pueblo'}, {'label': 'Palo Alto', 'value': 'Palo Alto'}, {'label': 'Parque de la Paloma', 'value': 'Parque de la Paloma'}, {'label': 'Partidas norte', 'value': 'Partidas norte'}, {'label': 'Partidas sur', 'value': 'Partidas sur'}, {'label': 'Paseo Marítimo de Levante', 'value': 'Paseo Marítimo de Levante'}, {'label': 'Pinos de Alhaurín', 'value': 'Pinos de Alhaurín'}, {'label': 'Pizarra', 'value': 'Pizarra'}, {'label': 'Platero - El Limón', 'value': 'Platero - El Limón'}, {'label': 'Playa Bahía Dorada', 'value': 'Playa Bahía Dorada'}, {'label': 'Playa de los Boliches', 'value': 'Playa de los Boliches'}, {'label': 'Playa del Rincón', 'value': 'Playa del Rincón'}, {'label': 'Playamar', 'value': 'Playamar'}, {'label': 'Poniente-Faro', 'value': 'Poniente-Faro'}, {'label': 'Puente de Don Manuel', 'value': 'Puente de Don Manuel'}, {'label': 'Puerto de la Duquesa', 'value': 'Puerto de la Duquesa'}, {'label': 'Puerto de la Torre', 'value': 'Puerto de la Torre'}, {'label': 'Punta Plata', 'value': 'Punta Plata'}, {'label': 'Rio Real-Los Monteros', 'value': 'Rio Real-Los Monteros'}, {'label': 'Riogordo', 'value': 'Riogordo'}, {'label': 'Riviera del Sol', 'value': 'Riviera del Sol'}, {'label': 'San Cristóbal', 'value': 'San Cristóbal'}, {'label': 'San Francisco', 'value': 'San Francisco'}, {'label': 'San Luis de Sabinillas', 'value': 'San Luis de Sabinillas'}, {'label': 'San Pedro de Alcántara', 'value': 'San Pedro de Alcántara'}, {'label': 'San Rafael', 'value': 'San Rafael'}, {'label': 'Santangelo', 'value': 'Santangelo'}, {'label': 'Seghers', 'value': 'Seghers'}, {'label': 'Selwo', 'value': 'Selwo'}, {'label': 'Sitio de Calahonda', 'value': 'Sitio de Calahonda'}, {'label': 'Solymar - Puerto Marina', 'value': 'Solymar - Puerto Marina'}, {'label': 'Teatinos', 'value': 'Teatinos'}, {'label': 'Teba', 'value': 'Teba'}, {'label': 'Tolox', 'value': 'Tolox'}, {'label': 'Torre de Benagalbón', 'value': 'Torre de Benagalbón'}, {'label': 'Torreblanca', 'value': 'Torreblanca'}, {'label': 'Torremuelle', 'value': 'Torremuelle'}, {'label': 'Torrequebrada', 'value': 'Torrequebrada'}, {'label': 'Torrox Park', 'value': 'Torrox Park'}, {'label': 'Torrox Pueblo', 'value': 'Torrox Pueblo'}, {'label': 'Urbanización Santa Rosa', 'value': 'Urbanización Santa Rosa'}, {'label': 'Valle-Niza', 'value': 'Valle-Niza'}, {'label': 'Valtocado - La Alquería - La Atalaya', 'value': 'Valtocado - La Alquería - La Atalaya'}, {'label': 'Villafranco del Guadalhorce', 'value': 'Villafranco del Guadalhorce'}, {'label': 'Villanueva de Algaidas', 'value': 'Villanueva de Algaidas'}, {'label': 'Villanueva de la Concepción', 'value': 'Villanueva de la Concepción'}, {'label': 'Viña Málaga', 'value': 'Viña Málaga'}, {'label': 'Vélez-Málaga', 'value': 'Vélez-Málaga'}, {'label': 'Yunquera', 'value': 'Yunquera'}, {'label': 'Zona Cueva de Menga', 'value': 'Zona Cueva de Menga'}, {'label': 'Zona Fuentemora', 'value': 'Zona Fuentemora'}, {'label': 'Zona Hispanidad-Vivar Téllez', 'value': 'Zona Hispanidad-Vivar Téllez'}, {'label': 'Zona Juzgados - La Feria', 'value': 'Zona Juzgados - La Feria'}, {'label': 'Zona Puerto Deportivo', 'value': 'Zona Puerto Deportivo'}, {'label': 'Zona Sohail', 'value': 'Zona Sohail'}, {'label': 'Zona de la Vega', 'value': 'Zona de la Vega'}, {'label': 'Álora', 'value': 'Álora'}]\n",
      "[{'label': 'Abandoned Development', 'value': 'Abandoned Development'}, {'label': 'Alberca', 'value': 'Alberca'}, {'label': 'Alcorrín', 'value': 'Alcorrín'}, {'label': 'Algarrobo-Costa', 'value': 'Algarrobo-Costa'}, {'label': 'Alhaurín Golf', 'value': 'Alhaurín Golf'}, {'label': 'Alhaurín el Grande', 'value': 'Alhaurín el Grande'}, {'label': 'Almijara', 'value': 'Almijara'}, {'label': 'Aloha', 'value': 'Aloha'}, {'label': 'Alquería', 'value': 'Alquería'}, {'label': 'Alquería-Torrealquería', 'value': 'Alquería-Torrealquería'}, {'label': 'Alto de los Monteros', 'value': 'Alto de los Monteros'}, {'label': 'Altos de Estepona', 'value': 'Altos de Estepona'}, {'label': 'Altos de la Quinta II', 'value': 'Altos de la Quinta II'}, {'label': 'Ampliación de Cártama', 'value': 'Ampliación de Cártama'}, {'label': 'Archidona', 'value': 'Archidona'}, {'label': 'Ardelejos - Cuesta de la Palma - Buenavista', 'value': 'Ardelejos - Cuesta de la Palma - Buenavista'}, {'label': 'Arriate', 'value': 'Arriate'}, {'label': 'Arroyo de la Miel', 'value': 'Arroyo de la Miel'}, {'label': 'Atalaya-Isdabe', 'value': 'Atalaya-Isdabe'}, {'label': 'Avda Pescia - Ctra de Frigiliana', 'value': 'Avda Pescia - Ctra de Frigiliana'}, {'label': 'Ayuntamiento', 'value': 'Ayuntamiento'}, {'label': 'Añoreta Golf - Paraíso del Sol', 'value': 'Añoreta Golf - Paraíso del Sol'}, {'label': 'Bahía Dorada', 'value': 'Bahía Dorada'}, {'label': 'Bahía de Casares', 'value': 'Bahía de Casares'}, {'label': 'Bahía de Marbella', 'value': 'Bahía de Marbella'}, {'label': 'Barriada Estación', 'value': 'Barriada Estación'}, {'label': 'Barrio Cortijo Blanco', 'value': 'Barrio Cortijo Blanco'}, {'label': 'Bel-Air', 'value': 'Bel-Air'}, {'label': 'Bello Horizonte-Lindasol', 'value': 'Bello Horizonte-Lindasol'}, {'label': 'Benahavis Hills Countryclub', 'value': 'Benahavis Hills Countryclub'}, {'label': 'Benatalaya', 'value': 'Benatalaya'}, {'label': 'Bobadilla - Bobadilla Estación - La Joya', 'value': 'Bobadilla - Bobadilla Estación - La Joya'}, {'label': 'Buenas Noches', 'value': 'Buenas Noches'}, {'label': 'Buenavista', 'value': 'Buenavista'}, {'label': 'Buenavista-Lauro Golf', 'value': 'Buenavista-Lauro Golf'}, {'label': 'Buenavista-Villalatas', 'value': 'Buenavista-Villalatas'}, {'label': 'Cabopino-Artola', 'value': 'Cabopino-Artola'}, {'label': 'Cajiz', 'value': 'Cajiz'}, {'label': 'Calaburra - Chaparral', 'value': 'Calaburra - Chaparral'}, {'label': 'Caleta 2000', 'value': 'Caleta 2000'}, {'label': 'Caleta del Sol', 'value': 'Caleta del Sol'}, {'label': 'Calvario', 'value': 'Calvario'}, {'label': 'Camarillas', 'value': 'Camarillas'}, {'label': 'Camino de Antequera', 'value': 'Camino de Antequera'}, {'label': 'Campanillas', 'value': 'Campanillas'}, {'label': 'Campillos', 'value': 'Campillos'}, {'label': 'Campo de Mijas', 'value': 'Campo de Mijas'}, {'label': 'Cancelada', 'value': 'Cancelada'}, {'label': 'Canillas de Albaida', 'value': 'Canillas de Albaida'}, {'label': 'Capellanía - Retamar', 'value': 'Capellanía - Retamar'}, {'label': 'Capuchinos', 'value': 'Capuchinos'}, {'label': 'Carranque - Haza Cuevas', 'value': 'Carranque - Haza Cuevas'}, {'label': 'Carvajal', 'value': 'Carvajal'}, {'label': 'Casabermeja', 'value': 'Casabermeja'}, {'label': 'Casablanca - La Viñuela', 'value': 'Casablanca - La Viñuela'}, {'label': 'Casarabonela', 'value': 'Casarabonela'}, {'label': 'Casares', 'value': 'Casares'}, {'label': 'Casares Costa', 'value': 'Casares Costa'}, {'label': 'Casares Golf - Casares del Sol', 'value': 'Casares Golf - Casares del Sol'}, {'label': 'Casares del Sol', 'value': 'Casares del Sol'}, {'label': 'Casasola', 'value': 'Casasola'}, {'label': 'Casco Antiguo', 'value': 'Casco Antiguo'}, {'label': 'Casco Histórico', 'value': 'Casco Histórico'}, {'label': 'Cdad Las Terrazas de Atalaya', 'value': 'Cdad Las Terrazas de Atalaya'}, {'label': 'Cdad Pueblo Cortes del Golf', 'value': 'Cdad Pueblo Cortes del Golf'}, {'label': 'Cdad paraiso bellevue', 'value': 'Cdad paraiso bellevue'}, {'label': 'Centro', 'value': 'Centro'}, {'label': 'Centro Ciudad', 'value': 'Centro Ciudad'}, {'label': 'Centro Histórico', 'value': 'Centro Histórico'}, {'label': 'Centro Internacional', 'value': 'Centro Internacional'}, {'label': 'Cerrado de Calderón - Hacienda Paredes', 'value': 'Cerrado de Calderón - Hacienda Paredes'}, {'label': 'Cerrado de Elviria', 'value': 'Cerrado de Elviria'}, {'label': 'Cerro de Verdearo', 'value': 'Cerro de Verdearo'}, {'label': 'Cerro del Águila', 'value': 'Cerro del Águila'}, {'label': 'Chaparil - Torrecilla - Punta Lara', 'value': 'Chaparil - Torrecilla - Punta Lara'}, {'label': 'Chullera', 'value': 'Chullera'}, {'label': 'Churriana - La Noria', 'value': 'Churriana - La Noria'}, {'label': 'Churriana-El Pizarrillo-La Noria-Guadalsol', 'value': 'Churriana-El Pizarrillo-La Noria-Guadalsol'}, {'label': 'Ciudad Jardín', 'value': 'Ciudad Jardín'}, {'label': 'Ciudad deportiva', 'value': 'Ciudad deportiva'}, {'label': 'Colmenar', 'value': 'Colmenar'}, {'label': 'Conde de Ureña', 'value': 'Conde de Ureña'}, {'label': 'Conjunta Rubimar', 'value': 'Conjunta Rubimar'}, {'label': 'Conjunto Natura', 'value': 'Conjunto Natura'}, {'label': 'Conjunto los Geranios', 'value': 'Conjunto los Geranios'}, {'label': 'Cortijo Alto', 'value': 'Cortijo Alto'}, {'label': 'Cortijo Bazán - Los Casinis - Los Cipreses', 'value': 'Cortijo Bazán - Los Casinis - Los Cipreses'}, {'label': 'Cortijo Torrequebrada', 'value': 'Cortijo Torrequebrada'}, {'label': 'Cortijo de Maza-Finca Monsalvez-El Olivar', 'value': 'Cortijo de Maza-Finca Monsalvez-El Olivar'}, {'label': 'Cortijo del Peñón', 'value': 'Cortijo del Peñón'}, {'label': 'Costabella', 'value': 'Costabella'}, {'label': 'Coín', 'value': 'Coín'}, {'label': 'Cristo de la Epidemia', 'value': 'Cristo de la Epidemia'}, {'label': 'Cruz del Humilladero - Los Tilos', 'value': 'Cruz del Humilladero - Los Tilos'}, {'label': 'Cártama pueblo', 'value': 'Cártama pueblo'}, {'label': 'Cómpeta', 'value': 'Cómpeta'}, {'label': 'Cútar', 'value': 'Cútar'}, {'label': 'Diseminados', 'value': 'Diseminados'}, {'label': 'Divina Pastora', 'value': 'Divina Pastora'}, {'label': 'Don Juan Fase 1', 'value': 'Don Juan Fase 1'}, {'label': 'Doña Julia Golf', 'value': 'Doña Julia Golf'}, {'label': 'El Atabal', 'value': 'El Atabal'}, {'label': 'El Bajondillo', 'value': 'El Bajondillo'}, {'label': 'El Candado', 'value': 'El Candado'}, {'label': 'El Capitán', 'value': 'El Capitán'}, {'label': 'El Cigarral', 'value': 'El Cigarral'}, {'label': 'El Consejo', 'value': 'El Consejo'}, {'label': 'El Consul - El Romeral', 'value': 'El Consul - El Romeral'}, {'label': 'El Cortijuelo', 'value': 'El Cortijuelo'}, {'label': 'El Cuartón - Heliomar', 'value': 'El Cuartón - Heliomar'}, {'label': 'El Ejido', 'value': 'El Ejido'}, {'label': 'El Fuerte - La Dehesa', 'value': 'El Fuerte - La Dehesa'}, {'label': 'El Hierro Alto', 'value': 'El Hierro Alto'}, {'label': 'El Higuerón', 'value': 'El Higuerón'}, {'label': 'El Higuerón - Capellanía', 'value': 'El Higuerón - Capellanía'}, {'label': 'El Limonar', 'value': 'El Limonar'}, {'label': 'El Madroñal', 'value': 'El Madroñal'}, {'label': 'El Molinillo - Capuchinos', 'value': 'El Molinillo - Capuchinos'}, {'label': 'El Morche', 'value': 'El Morche'}, {'label': 'El Palo', 'value': 'El Palo'}, {'label': 'El Parral', 'value': 'El Parral'}, {'label': 'El Peñoncillo', 'value': 'El Peñoncillo'}, {'label': 'El Pinar - Palacio de Congresos', 'value': 'El Pinar - Palacio de Congresos'}, {'label': 'El Pinillo', 'value': 'El Pinillo'}, {'label': 'El Romeral', 'value': 'El Romeral'}, {'label': 'El Romeral-Peñón de Zapata', 'value': 'El Romeral-Peñón de Zapata'}, {'label': 'El Rosario-Ricmar', 'value': 'El Rosario-Ricmar'}, {'label': 'El Ruedo', 'value': 'El Ruedo'}, {'label': 'El Soto de la Quinta', 'value': 'El Soto de la Quinta'}, {'label': 'El Tejar - Hacienda Bizcochero', 'value': 'El Tejar - Hacienda Bizcochero'}, {'label': 'El Torcal', 'value': 'El Torcal'}, {'label': 'El Velerín', 'value': 'El Velerín'}, {'label': 'El Zángano', 'value': 'El Zángano'}, {'label': 'Elviria', 'value': 'Elviria'}, {'label': 'Elysium Golf', 'value': 'Elysium Golf'}, {'label': 'Ensanche Centro - Soho', 'value': 'Ensanche Centro - Soho'}, {'label': 'Estación', 'value': 'Estación'}, {'label': 'Estepona Golf', 'value': 'Estepona Golf'}, {'label': 'Finca el Pato - Torre del Río', 'value': 'Finca el Pato - Torre del Río'}, {'label': 'Flamingo Golf Resort', 'value': 'Flamingo Golf Resort'}, {'label': 'Frigiliana', 'value': 'Frigiliana'}, {'label': 'Fuente Alegre - El Chaparral - Los Morales', 'value': 'Fuente Alegre - El Chaparral - Los Morales'}, {'label': 'Fuente del Perro', 'value': 'Fuente del Perro'}, {'label': 'Gaucín Pueblo', 'value': 'Gaucín Pueblo'}, {'label': 'Generación del 27', 'value': 'Generación del 27'}, {'label': 'Gibralfaro', 'value': 'Gibralfaro'}, {'label': 'Gibralgalia', 'value': 'Gibralgalia'}, {'label': 'Girón - Las Delicias - Pacífico', 'value': 'Girón - Las Delicias - Pacífico'}, {'label': 'Golfanoreta', 'value': 'Golfanoreta'}, {'label': 'Gran Sol - Montesol', 'value': 'Gran Sol - Montesol'}, {'label': 'Guadalmansa', 'value': 'Guadalmansa'}, {'label': 'Guadalmar', 'value': 'Guadalmar'}, {'label': 'Guadalmina Alta', 'value': 'Guadalmina Alta'}, {'label': 'Guadalmina Baja', 'value': 'Guadalmina Baja'}, {'label': 'Guadalobón', 'value': 'Guadalobón'}, {'label': 'Hacienda Las Chapas', 'value': 'Hacienda Las Chapas'}, {'label': 'Hacienda Torrequebrada', 'value': 'Hacienda Torrequebrada'}, {'label': 'Harmony', 'value': 'Harmony'}, {'label': 'Haza del Mojón', 'value': 'Haza del Mojón'}, {'label': 'Hipódromo-Cerrado del Águila', 'value': 'Hipódromo-Cerrado del Águila'}, {'label': 'Horizon Golf Apartments', 'value': 'Horizon Golf Apartments'}, {'label': 'Huelin', 'value': 'Huelin'}, {'label': 'Huerta Belón-Calvario', 'value': 'Huerta Belón-Calvario'}, {'label': 'Huerta Nueva', 'value': 'Huerta Nueva'}, {'label': 'Huerta Nueva - Jardín de Málaga', 'value': 'Huerta Nueva - Jardín de Málaga'}, {'label': 'Humilladero', 'value': 'Humilladero'}, {'label': 'Imaroga', 'value': 'Imaroga'}, {'label': 'Jarazmín', 'value': 'Jarazmín'}, {'label': 'Jardines de Albaicin', 'value': 'Jardines de Albaicin'}, {'label': 'Jardines de Alhaurín-Huerta Alta-Fuensanguínea', 'value': 'Jardines de Alhaurín-Huerta Alta-Fuensanguínea'}, {'label': 'Jardines de Minea', 'value': 'Jardines de Minea'}, {'label': 'Jardines de Nerja', 'value': 'Jardines de Nerja'}, {'label': 'Jardines del Aguila', 'value': 'Jardines del Aguila'}, {'label': 'Kempinski', 'value': 'Kempinski'}, {'label': 'La Alqueria', 'value': 'La Alqueria'}, {'label': 'La Alquería', 'value': 'La Alquería'}, {'label': 'La Cala de Mijas', 'value': 'La Cala de Mijas'}, {'label': 'La Cala del Moral', 'value': 'La Cala del Moral'}, {'label': 'La Calerita', 'value': 'La Calerita'}, {'label': 'La Carihuela - Los Nidos', 'value': 'La Carihuela - Los Nidos'}, {'label': 'La Carolina-Guadalpín', 'value': 'La Carolina-Guadalpín'}, {'label': 'La Chichara', 'value': 'La Chichara'}, {'label': 'La Chullera', 'value': 'La Chullera'}, {'label': 'La Cocha', 'value': 'La Cocha'}, {'label': 'La Colina', 'value': 'La Colina'}, {'label': 'La Concha-Resina Golf', 'value': 'La Concha-Resina Golf'}, {'label': 'La Dama de Noche-La Alzambra', 'value': 'La Dama de Noche-La Alzambra'}, {'label': 'La Duquesa', 'value': 'La Duquesa'}, {'label': 'La Florida - Parque norte', 'value': 'La Florida - Parque norte'}, {'label': 'La Goleta - San Felipe Neri', 'value': 'La Goleta - San Felipe Neri'}, {'label': 'La Herredia', 'value': 'La Herredia'}, {'label': 'La Leala - El Saltillo', 'value': 'La Leala - El Saltillo'}, {'label': 'La Luz', 'value': 'La Luz'}, {'label': 'La Mairena', 'value': 'La Mairena'}, {'label': 'La Manla', 'value': 'La Manla'}, {'label': 'La Merced', 'value': 'La Merced'}, {'label': 'La Molineta', 'value': 'La Molineta'}, {'label': 'La Paca', 'value': 'La Paca'}, {'label': 'La Paloma de Manilva', 'value': 'La Paloma de Manilva'}, {'label': 'La Patera', 'value': 'La Patera'}, {'label': 'La Perdiz', 'value': 'La Perdiz'}, {'label': 'La Perla de Bahía', 'value': 'La Perla de Bahía'}, {'label': 'La Ponderosa', 'value': 'La Ponderosa'}, {'label': 'La Princesa', 'value': 'La Princesa'}, {'label': 'La Puya - La Ermita', 'value': 'La Puya - La Ermita'}, {'label': 'La Quinta', 'value': 'La Quinta'}, {'label': 'La Quinta Hills', 'value': 'La Quinta Hills'}, {'label': 'La Rabia', 'value': 'La Rabia'}, {'label': 'La Torre', 'value': 'La Torre'}, {'label': 'La Torrecilla', 'value': 'La Torrecilla'}, {'label': 'La Trinidad', 'value': 'La Trinidad'}, {'label': 'La Victoria', 'value': 'La Victoria'}, {'label': 'La Villa', 'value': 'La Villa'}, {'label': 'La Viña', 'value': 'La Viña'}, {'label': 'Lagar de las Pitas', 'value': 'Lagar de las Pitas'}, {'label': 'Las Brisas', 'value': 'Las Brisas'}, {'label': 'Las Casillas', 'value': 'Las Casillas'}, {'label': 'Las Cañadas', 'value': 'Las Cañadas'}, {'label': 'Las Chapas-Alicate Playa', 'value': 'Las Chapas-Alicate Playa'}, {'label': 'Las Delicias', 'value': 'Las Delicias'}, {'label': 'Las Flores', 'value': 'Las Flores'}, {'label': 'Las Gaviotas', 'value': 'Las Gaviotas'}, {'label': 'Las Lagunas', 'value': 'Las Lagunas'}, {'label': 'Las Lomas', 'value': 'Las Lomas'}, {'label': 'Las Lomas - Las Torres - Terrazas de Alhaurín', 'value': 'Las Lomas - Las Torres - Terrazas de Alhaurín'}, {'label': 'Las Lomas de Río Verde', 'value': 'Las Lomas de Río Verde'}, {'label': 'Las Malvinas', 'value': 'Las Malvinas'}, {'label': 'Las Zorreras', 'value': 'Las Zorreras'}, {'label': 'Limonar', 'value': 'Limonar'}, {'label': 'Linda Vista-Nueva Alcántara-Cortijo Blanco', 'value': 'Linda Vista-Nueva Alcántara-Cortijo Blanco'}, {'label': 'Lo Cea - Los Cortijos', 'value': 'Lo Cea - Los Cortijos'}, {'label': 'Loma de Cuenca', 'value': 'Loma de Cuenca'}, {'label': 'Loma de los Riscos', 'value': 'Loma de los Riscos'}, {'label': 'Lomas Bajas', 'value': 'Lomas Bajas'}, {'label': 'Lomas de Marbella Club', 'value': 'Lomas de Marbella Club'}, {'label': 'Los Almendros - El Limonero - El Tomillar', 'value': 'Los Almendros - El Limonero - El Tomillar'}, {'label': 'Los Arqueros', 'value': 'Los Arqueros'}, {'label': 'Los Arqueros-Puerto del Almendro', 'value': 'Los Arqueros-Puerto del Almendro'}, {'label': 'Los Baenas', 'value': 'Los Baenas'}, {'label': 'Los Boliches', 'value': 'Los Boliches'}, {'label': 'Los Castillejos - La Trinidad', 'value': 'Los Castillejos - La Trinidad'}, {'label': 'Los Guindos - Parque Mediterráneo - Santa Paula', 'value': 'Los Guindos - Parque Mediterráneo - Santa Paula'}, {'label': 'Los Jaralez', 'value': 'Los Jaralez'}, {'label': 'Los Llanos', 'value': 'Los Llanos'}, {'label': 'Los Monteros', 'value': 'Los Monteros'}, {'label': 'Los Mozos', 'value': 'Los Mozos'}, {'label': 'Los Nadales - Tio Charles', 'value': 'Los Nadales - Tio Charles'}, {'label': 'Los Naranjos', 'value': 'Los Naranjos'}, {'label': 'Los Pacos', 'value': 'Los Pacos'}, {'label': 'Los Pinos', 'value': 'Los Pinos'}, {'label': 'Los Rios - CARE', 'value': 'Los Rios - CARE'}, {'label': 'Los Álamos', 'value': 'Los Álamos'}, {'label': 'Los Árboles', 'value': 'Los Árboles'}, {'label': 'Macaca', 'value': 'Macaca'}, {'label': 'Malagueta - Monte Sancha', 'value': 'Malagueta - Monte Sancha'}, {'label': 'Manantiales - Estación de Autobuses', 'value': 'Manantiales - Estación de Autobuses'}, {'label': 'Manantiales - Lagar - Cortijo', 'value': 'Manantiales - Lagar - Cortijo'}, {'label': 'Mangas Verdes - Las Flores', 'value': 'Mangas Verdes - Las Flores'}, {'label': 'Manilva Pueblo', 'value': 'Manilva Pueblo'}, {'label': 'Marbesa', 'value': 'Marbesa'}, {'label': 'Marina de Casares', 'value': 'Marina de Casares'}, {'label': 'Martagina', 'value': 'Martagina'}, {'label': 'Martiricos - La Roca', 'value': 'Martiricos - La Roca'}, {'label': 'Mayorazgo', 'value': 'Mayorazgo'}, {'label': 'Mezquitilla', 'value': 'Mezquitilla'}, {'label': 'Mijas Golf', 'value': 'Mijas Golf'}, {'label': 'Mijas Pueblo', 'value': 'Mijas Pueblo'}, {'label': 'Miraflores', 'value': 'Miraflores'}, {'label': 'Miralmonte', 'value': 'Miralmonte'}, {'label': 'Mollina', 'value': 'Mollina'}, {'label': 'Monda', 'value': 'Monda'}, {'label': 'Monte Halcones', 'value': 'Monte Halcones'}, {'label': 'Monte Viñas', 'value': 'Monte Viñas'}, {'label': 'Montealto', 'value': 'Montealto'}, {'label': 'Montemar', 'value': 'Montemar'}, {'label': 'Montemayor', 'value': 'Montemayor'}, {'label': 'Montemayor-Marbella Club', 'value': 'Montemayor-Marbella Club'}, {'label': 'Nagüeles', 'value': 'Nagüeles'}, {'label': 'Nueva Aljaima-Tres Leguas', 'value': 'Nueva Aljaima-Tres Leguas'}, {'label': 'Nueva Andalucía', 'value': 'Nueva Andalucía'}, {'label': 'Nueva Atalaya', 'value': 'Nueva Atalaya'}, {'label': 'Nueva Torrequebrada', 'value': 'Nueva Torrequebrada'}, {'label': 'Nuevo San Andrés - Dos Hermanas', 'value': 'Nuevo San Andrés - Dos Hermanas'}, {'label': 'Ojén pueblo', 'value': 'Ojén pueblo'}, {'label': 'Olletas - Sierra Blanquilla', 'value': 'Olletas - Sierra Blanquilla'}, {'label': 'Pacífico', 'value': 'Pacífico'}, {'label': 'Palma - Palmilla', 'value': 'Palma - Palmilla'}, {'label': 'Palo Alto', 'value': 'Palo Alto'}, {'label': 'Paraiso Hills', 'value': 'Paraiso Hills'}, {'label': 'Paraiso-Barronal', 'value': 'Paraiso-Barronal'}, {'label': 'Paraíso del Sol', 'value': 'Paraíso del Sol'}, {'label': 'Paredones-Cerrajones', 'value': 'Paredones-Cerrajones'}, {'label': 'Parque Botánico Las Lomas del Guadalmina', 'value': 'Parque Botánico Las Lomas del Guadalmina'}, {'label': 'Parque Central', 'value': 'Parque Central'}, {'label': 'Parque Clavero', 'value': 'Parque Clavero'}, {'label': 'Parque de la Paloma', 'value': 'Parque de la Paloma'}, {'label': 'Pedregalejo - Morlaco', 'value': 'Pedregalejo - Morlaco'}, {'label': 'Perchel norte', 'value': 'Perchel norte'}, {'label': 'Perchel sur - El Bulto', 'value': 'Perchel sur - El Bulto'}, {'label': 'Pinares de San Antón', 'value': 'Pinares de San Antón'}, {'label': 'Pinos de Alhaurín', 'value': 'Pinos de Alhaurín'}, {'label': 'Pizarra', 'value': 'Pizarra'}, {'label': 'Pizarrillo - El Retiro', 'value': 'Pizarrillo - El Retiro'}, {'label': 'Platero - El Limón', 'value': 'Platero - El Limón'}, {'label': 'Playa Bajadilla-Puertos', 'value': 'Playa Bajadilla-Puertos'}, {'label': 'Playa de la Fontanilla', 'value': 'Playa de la Fontanilla'}, {'label': 'Playa de los Boliches', 'value': 'Playa de los Boliches'}, {'label': 'Playa del Rincón', 'value': 'Playa del Rincón'}, {'label': 'Playamar - Benyamina', 'value': 'Playamar - Benyamina'}, {'label': 'Pol Ctra de Cártama', 'value': 'Pol Ctra de Cártama'}, {'label': 'Polígonos - Recinto Ferial', 'value': 'Polígonos - Recinto Ferial'}, {'label': 'Poniente-Faro', 'value': 'Poniente-Faro'}, {'label': 'Portada Alta-La Barriguilla', 'value': 'Portada Alta-La Barriguilla'}, {'label': 'Puebla Lucía', 'value': 'Puebla Lucía'}, {'label': 'Pueblo Lago Sector A', 'value': 'Pueblo Lago Sector A'}, {'label': 'Pueblo Lago Sector C', 'value': 'Pueblo Lago Sector C'}, {'label': 'Pueblo López', 'value': 'Pueblo López'}, {'label': 'Pueblo Rocio', 'value': 'Pueblo Rocio'}, {'label': 'Pueblo Rocío', 'value': 'Pueblo Rocío'}, {'label': 'Puente Romano', 'value': 'Puente Romano'}, {'label': 'Puerta Blanca - Almudena', 'value': 'Puerta Blanca - Almudena'}, {'label': 'Puerto Banús', 'value': 'Puerto Banús'}, {'label': 'Puerto Terrón', 'value': 'Puerto Terrón'}, {'label': 'Puerto de Estepona', 'value': 'Puerto de Estepona'}, {'label': 'Puerto de la Duquesa', 'value': 'Puerto de la Duquesa'}, {'label': 'Puertosol - Santa Isabel', 'value': 'Puertosol - Santa Isabel'}, {'label': 'Punta Plata', 'value': 'Punta Plata'}, {'label': 'Rancho Domingo - La Hacienda', 'value': 'Rancho Domingo - La Hacienda'}, {'label': 'Real Bajo', 'value': 'Real Bajo'}, {'label': 'Real de Zaragoza', 'value': 'Real de Zaragoza'}, {'label': 'Reserva de Marbella', 'value': 'Reserva de Marbella'}, {'label': 'Reñidero', 'value': 'Reñidero'}, {'label': 'Ricardo Soriano', 'value': 'Ricardo Soriano'}, {'label': 'Rincón del Sol', 'value': 'Rincón del Sol'}, {'label': 'Rio Real', 'value': 'Rio Real'}, {'label': 'Riogordo', 'value': 'Riogordo'}, {'label': 'Riviera del Sol', 'value': 'Riviera del Sol'}, {'label': 'Rodeo Alto-Guadaiza-La Campana', 'value': 'Rodeo Alto-Guadaiza-La Campana'}, {'label': 'Romana Playa', 'value': 'Romana Playa'}, {'label': 'Rubeltor', 'value': 'Rubeltor'}, {'label': 'Saladavieja', 'value': 'Saladavieja'}, {'label': 'San Alberto - La Alcubilla - Florisol', 'value': 'San Alberto - La Alcubilla - Florisol'}, {'label': 'San Cristóbal', 'value': 'San Cristóbal'}, {'label': 'San Francisco', 'value': 'San Francisco'}, {'label': 'San Luis de Sabinillas', 'value': 'San Luis de Sabinillas'}, {'label': 'San Pedro Pueblo', 'value': 'San Pedro Pueblo'}, {'label': 'San Rafael', 'value': 'San Rafael'}, {'label': 'Santa Amalia', 'value': 'Santa Amalia'}, {'label': 'Santa Ana', 'value': 'Santa Ana'}, {'label': 'Santa Clara', 'value': 'Santa Clara'}, {'label': 'Santa Cristina - San Rafael', 'value': 'Santa Cristina - San Rafael'}, {'label': 'Santa María', 'value': 'Santa María'}, {'label': 'Santana', 'value': 'Santana'}, {'label': 'Santangelo', 'value': 'Santangelo'}, {'label': 'Sierra Blanca', 'value': 'Sierra Blanca'}, {'label': 'Sierra Blanca Country Club', 'value': 'Sierra Blanca Country Club'}, {'label': 'Sierra Gorda', 'value': 'Sierra Gorda'}, {'label': 'Sierra de Estepona-Avda de Andalucia', 'value': 'Sierra de Estepona-Avda de Andalucia'}, {'label': 'Sitio de Calahonda', 'value': 'Sitio de Calahonda'}, {'label': 'Solymar - Puerto Marina', 'value': 'Solymar - Puerto Marina'}, {'label': 'Sotoserena', 'value': 'Sotoserena'}, {'label': 'Suárez', 'value': 'Suárez'}, {'label': 'Taralpe', 'value': 'Taralpe'}, {'label': 'Teatinos', 'value': 'Teatinos'}, {'label': 'Teba', 'value': 'Teba'}, {'label': 'Terrazas del Golf', 'value': 'Terrazas del Golf'}, {'label': 'Tolox', 'value': 'Tolox'}, {'label': 'Torreblanca', 'value': 'Torreblanca'}, {'label': 'Torrecilla-La Cañada', 'value': 'Torrecilla-La Cañada'}, {'label': 'Torremuelle', 'value': 'Torremuelle'}, {'label': 'Torres de Colón', 'value': 'Torres de Colón'}, {'label': 'Torrox Pueblo', 'value': 'Torrox Pueblo'}, {'label': 'Toskana Hills', 'value': 'Toskana Hills'}, {'label': 'Trocha de Guadalobón', 'value': 'Trocha de Guadalobón'}, {'label': 'Urb Benatorre', 'value': 'Urb Benatorre'}, {'label': 'Urbanisacion El Paraiso Alto', 'value': 'Urbanisacion El Paraiso Alto'}, {'label': 'Urbanizacion Calaceite', 'value': 'Urbanizacion Calaceite'}, {'label': 'Urbanizacion El Oasis de Capistrano', 'value': 'Urbanizacion El Oasis de Capistrano'}, {'label': 'Urbanizacion Lagar Martell', 'value': 'Urbanizacion Lagar Martell'}, {'label': 'Urbanizacion Panorama Beach', 'value': 'Urbanizacion Panorama Beach'}, {'label': 'Urbanizacion Playa Linda', 'value': 'Urbanizacion Playa Linda'}, {'label': 'Urbanizacion Tamango Hill', 'value': 'Urbanizacion Tamango Hill'}, {'label': 'Urbanización Altos de Guadalobon', 'value': 'Urbanización Altos de Guadalobon'}, {'label': 'Urbanización Atalaya de Cártama', 'value': 'Urbanización Atalaya de Cártama'}, {'label': 'Urbanización Biznagas', 'value': 'Urbanización Biznagas'}, {'label': 'Urbanización Casa Blanca', 'value': 'Urbanización Casa Blanca'}, {'label': 'Urbanización Centro Internacional', 'value': 'Urbanización Centro Internacional'}, {'label': 'Urbanización El olivar', 'value': 'Urbanización El olivar'}, {'label': 'Urbanización Ermita Alta', 'value': 'Urbanización Ermita Alta'}, {'label': 'Urbanización Hacienda Condemar', 'value': 'Urbanización Hacienda Condemar'}, {'label': 'Urbanización Hacienda Guadalupe', 'value': 'Urbanización Hacienda Guadalupe'}, {'label': 'Urbanización La Esperanza', 'value': 'Urbanización La Esperanza'}, {'label': 'Urbanización Las Jacarandas', 'value': 'Urbanización Las Jacarandas'}, {'label': 'Urbanización Las Jábegas', 'value': 'Urbanización Las Jábegas'}, {'label': 'Urbanización Los Algarrobos', 'value': 'Urbanización Los Algarrobos'}, {'label': 'Urbanización Los Alijares', 'value': 'Urbanización Los Alijares'}, {'label': 'Urbanización Los Altos de la Mai', 'value': 'Urbanización Los Altos de la Mai'}, {'label': 'Urbanización Los Hidalgos', 'value': 'Urbanización Los Hidalgos'}, {'label': 'Urbanización Parque del Mar', 'value': 'Urbanización Parque del Mar'}, {'label': 'Urbanización Princesa Kristina', 'value': 'Urbanización Princesa Kristina'}, {'label': 'Urbanización Puente Águila', 'value': 'Urbanización Puente Águila'}, {'label': 'Urbanización Río Adelfas', 'value': 'Urbanización Río Adelfas'}, {'label': 'Urbanización San Juan de Capistrano', 'value': 'Urbanización San Juan de Capistrano'}, {'label': 'Urbanización Santa Rosa', 'value': 'Urbanización Santa Rosa'}, {'label': 'Urbanización Villa del Mar', 'value': 'Urbanización Villa del Mar'}, {'label': 'Val de Guadalmina', 'value': 'Val de Guadalmina'}, {'label': 'Valdeolletas-Las Cancelas-Xarblanca', 'value': 'Valdeolletas-Las Cancelas-Xarblanca'}, {'label': 'Valle Romano Golf', 'value': 'Valle Romano Golf'}, {'label': 'Valle-Niza', 'value': 'Valle-Niza'}, {'label': 'Valtocado', 'value': 'Valtocado'}, {'label': 'Valtocado - La Alquería - La Atalaya', 'value': 'Valtocado - La Alquería - La Atalaya'}, {'label': 'Victoria Eugenia', 'value': 'Victoria Eugenia'}, {'label': 'Villacana - Costalita - Saladillo', 'value': 'Villacana - Costalita - Saladillo'}, {'label': 'Villafranco del Guadalhorce', 'value': 'Villafranco del Guadalhorce'}, {'label': 'Villanueva de Algaidas', 'value': 'Villanueva de Algaidas'}, {'label': 'Villanueva de la Concepción', 'value': 'Villanueva de la Concepción'}, {'label': 'Vistafranca', 'value': 'Vistafranca'}, {'label': 'Viña Carmen', 'value': 'Viña Carmen'}, {'label': 'Viña Málaga', 'value': 'Viña Málaga'}, {'label': 'Yedra', 'value': 'Yedra'}, {'label': 'Yunquera', 'value': 'Yunquera'}, {'label': 'Zenit Golf', 'value': 'Zenit Golf'}, {'label': 'Zona Calvario', 'value': 'Zona Calvario'}, {'label': 'Zona Centro Comercial Torrequebrada', 'value': 'Zona Centro Comercial Torrequebrada'}, {'label': 'Zona Cueva de Menga', 'value': 'Zona Cueva de Menga'}, {'label': 'Zona Fuentemora', 'value': 'Zona Fuentemora'}, {'label': 'Zona Juzgados - La Feria', 'value': 'Zona Juzgados - La Feria'}, {'label': 'Zona Puerto Deportivo', 'value': 'Zona Puerto Deportivo'}, {'label': 'Zona Sohail', 'value': 'Zona Sohail'}, {'label': 'Zona de la Vega', 'value': 'Zona de la Vega'}, {'label': 'Álora', 'value': 'Álora'}]\n"
     ]
    }
   ],
   "source": [
    "municipalities = sorted(df['municipality'].dropna().unique())\n",
    "districts = sorted(df['district'].dropna().unique())\n",
    "neighborhoods = sorted(df['neighborhood'].dropna().unique())\n",
    "\n",
    "dic_municipalities = [{'label': municipality, 'value': municipality} for municipality in municipalities]\n",
    "dic_districts = [{'label': district, 'value': district} for district in districts]\n",
    "dic_neighborhoods = [{'label': neighborhood, 'value': neighborhood} for neighborhood in neighborhoods]\n",
    "\n",
    "print(dic_municipalities)\n",
    "print(dic_districts)    \n",
    "print(dic_neighborhoods)"
   ]
  },
  {
   "cell_type": "code",
   "execution_count": 8,
   "id": "d71c0f5d",
   "metadata": {},
   "outputs": [
    {
     "data": {
      "application/vnd.microsoft.datawrangler.viewer.v0+json": {
       "columns": [
        {
         "name": "index",
         "rawType": "int64",
         "type": "integer"
        },
        {
         "name": "municipality",
         "rawType": "object",
         "type": "string"
        },
        {
         "name": "district",
         "rawType": "object",
         "type": "string"
        },
        {
         "name": "neighborhood",
         "rawType": "object",
         "type": "string"
        }
       ],
       "ref": "914abbd7-0ed9-4480-b4d6-61f4947c1fb8",
       "rows": [
        [
         "0",
         "Málaga",
         "Centro",
         "Perchel norte"
        ],
        [
         "1",
         "Málaga",
         "Centro",
         "Centro Histórico"
        ],
        [
         "2",
         "Málaga",
         "Centro",
         "La Trinidad"
        ],
        [
         "3",
         "Málaga",
         "Centro",
         "Centro Histórico"
        ],
        [
         "4",
         "Málaga",
         "Centro",
         "Cristo de la Epidemia"
        ],
        [
         "5",
         "Málaga",
         "Centro",
         "La Trinidad"
        ],
        [
         "6",
         "Málaga",
         "Centro",
         "Perchel sur - El Bulto"
        ],
        [
         "7",
         "Málaga",
         "Centro",
         "Ensanche Centro - Soho"
        ],
        [
         "8",
         "Málaga",
         "Puerto de la Torre",
         "Puertosol - Santa Isabel"
        ],
        [
         "9",
         "Málaga",
         "Este",
         "Malagueta - Monte Sancha"
        ],
        [
         "10",
         "Málaga",
         "Carretera de Cádiz",
         "Puerta Blanca - Almudena"
        ],
        [
         "11",
         "Málaga",
         "Centro",
         "Perchel sur - El Bulto"
        ],
        [
         "12",
         "Málaga",
         "Este",
         "Malagueta - Monte Sancha"
        ],
        [
         "13",
         "Málaga",
         "Centro",
         "Ensanche Centro - Soho"
        ],
        [
         "14",
         "Málaga",
         "Cruz de Humilladero",
         "Polígonos - Recinto Ferial"
        ],
        [
         "15",
         "Málaga",
         "Centro",
         "La Trinidad"
        ],
        [
         "16",
         "Málaga",
         "Teatinos",
         "El Consul - El Romeral"
        ],
        [
         "17",
         "Málaga",
         "Cruz de Humilladero",
         "Carranque - Haza Cuevas"
        ],
        [
         "18",
         "Málaga",
         "Centro",
         "Perchel sur - El Bulto"
        ],
        [
         "19",
         "Málaga",
         "Carretera de Cádiz",
         "La Princesa"
        ],
        [
         "20",
         "Málaga",
         "Centro",
         "La Goleta - San Felipe Neri"
        ],
        [
         "21",
         "Málaga",
         "Cruz de Humilladero",
         "Carranque - Haza Cuevas"
        ],
        [
         "22",
         "Málaga",
         "Centro",
         "La Merced"
        ],
        [
         "23",
         "Málaga",
         "Centro",
         "La Victoria"
        ],
        [
         "24",
         "Málaga",
         "Centro",
         "Centro Histórico"
        ],
        [
         "25",
         "Málaga",
         "Bailén - Miraflores",
         "Victoria Eugenia"
        ],
        [
         "26",
         "Málaga",
         "Carretera de Cádiz",
         "Finca el Pato - Torre del Río"
        ],
        [
         "27",
         "Málaga",
         "Centro",
         "Perchel norte"
        ],
        [
         "28",
         "Málaga",
         "Centro",
         "Perchel sur - El Bulto"
        ],
        [
         "29",
         "Málaga",
         "Centro",
         "Ensanche Centro - Soho"
        ],
        [
         "30",
         "Málaga",
         "Centro",
         "Centro Histórico"
        ],
        [
         "31",
         "Málaga",
         "Bailén - Miraflores",
         "Victoria Eugenia"
        ],
        [
         "32",
         "Málaga",
         "Carretera de Cádiz",
         "Girón - Las Delicias - Pacífico"
        ],
        [
         "33",
         "Málaga",
         "Centro",
         "Centro Histórico"
        ],
        [
         "34",
         "Málaga",
         "Centro",
         "Centro Histórico"
        ],
        [
         "35",
         "Málaga",
         "Centro",
         "Perchel norte"
        ],
        [
         "36",
         "Málaga",
         "Centro",
         "Perchel norte"
        ],
        [
         "37",
         "Málaga",
         "Bailén - Miraflores",
         "San Alberto - La Alcubilla - Florisol"
        ],
        [
         "38",
         "Málaga",
         "Carretera de Cádiz",
         "Huelin"
        ],
        [
         "39",
         "Málaga",
         "Carretera de Cádiz",
         "La Luz"
        ],
        [
         "40",
         "Málaga",
         "Carretera de Cádiz",
         "Los Guindos - Parque Mediterráneo - Santa Paula"
        ],
        [
         "41",
         "Málaga",
         "Cruz de Humilladero",
         "Carranque - Haza Cuevas"
        ],
        [
         "42",
         "Málaga",
         "Este",
         "Pedregalejo - Morlaco"
        ],
        [
         "43",
         "Málaga",
         "Martiricos - La Roca",
         "Martiricos - La Roca"
        ],
        [
         "44",
         "Málaga",
         "Centro",
         "La Goleta - San Felipe Neri"
        ],
        [
         "45",
         "Málaga",
         "Centro",
         "La Trinidad"
        ],
        [
         "46",
         "Málaga",
         "Carretera de Cádiz",
         "Pacífico"
        ],
        [
         "47",
         "Málaga",
         "Bailén - Miraflores",
         "Los Castillejos - La Trinidad"
        ],
        [
         "48",
         "Málaga",
         "Este",
         "Pedregalejo - Morlaco"
        ],
        [
         "49",
         "Málaga",
         "Carretera de Cádiz",
         "Pacífico"
        ]
       ],
       "shape": {
        "columns": 3,
        "rows": 7526
       }
      },
      "text/html": [
       "<div>\n",
       "<style scoped>\n",
       "    .dataframe tbody tr th:only-of-type {\n",
       "        vertical-align: middle;\n",
       "    }\n",
       "\n",
       "    .dataframe tbody tr th {\n",
       "        vertical-align: top;\n",
       "    }\n",
       "\n",
       "    .dataframe thead th {\n",
       "        text-align: right;\n",
       "    }\n",
       "</style>\n",
       "<table border=\"1\" class=\"dataframe\">\n",
       "  <thead>\n",
       "    <tr style=\"text-align: right;\">\n",
       "      <th></th>\n",
       "      <th>municipality</th>\n",
       "      <th>district</th>\n",
       "      <th>neighborhood</th>\n",
       "    </tr>\n",
       "  </thead>\n",
       "  <tbody>\n",
       "    <tr>\n",
       "      <th>0</th>\n",
       "      <td>Málaga</td>\n",
       "      <td>Centro</td>\n",
       "      <td>Perchel norte</td>\n",
       "    </tr>\n",
       "    <tr>\n",
       "      <th>1</th>\n",
       "      <td>Málaga</td>\n",
       "      <td>Centro</td>\n",
       "      <td>Centro Histórico</td>\n",
       "    </tr>\n",
       "    <tr>\n",
       "      <th>2</th>\n",
       "      <td>Málaga</td>\n",
       "      <td>Centro</td>\n",
       "      <td>La Trinidad</td>\n",
       "    </tr>\n",
       "    <tr>\n",
       "      <th>3</th>\n",
       "      <td>Málaga</td>\n",
       "      <td>Centro</td>\n",
       "      <td>Centro Histórico</td>\n",
       "    </tr>\n",
       "    <tr>\n",
       "      <th>4</th>\n",
       "      <td>Málaga</td>\n",
       "      <td>Centro</td>\n",
       "      <td>Cristo de la Epidemia</td>\n",
       "    </tr>\n",
       "    <tr>\n",
       "      <th>...</th>\n",
       "      <td>...</td>\n",
       "      <td>...</td>\n",
       "      <td>...</td>\n",
       "    </tr>\n",
       "    <tr>\n",
       "      <th>7521</th>\n",
       "      <td>Marbella</td>\n",
       "      <td>Las Chapas-El Rosario</td>\n",
       "      <td>El Rosario-Ricmar</td>\n",
       "    </tr>\n",
       "    <tr>\n",
       "      <th>7522</th>\n",
       "      <td>Estepona</td>\n",
       "      <td>Benamara - Atalaya</td>\n",
       "      <td>Atalaya-Isdabe</td>\n",
       "    </tr>\n",
       "    <tr>\n",
       "      <th>7523</th>\n",
       "      <td>Marbella</td>\n",
       "      <td>Elviria-Cabopino</td>\n",
       "      <td>Elviria</td>\n",
       "    </tr>\n",
       "    <tr>\n",
       "      <th>7524</th>\n",
       "      <td>Marbella</td>\n",
       "      <td>Elviria-Cabopino</td>\n",
       "      <td>Elviria</td>\n",
       "    </tr>\n",
       "    <tr>\n",
       "      <th>7525</th>\n",
       "      <td>Marbella</td>\n",
       "      <td>Elviria-Cabopino</td>\n",
       "      <td>Santa María</td>\n",
       "    </tr>\n",
       "  </tbody>\n",
       "</table>\n",
       "<p>7526 rows × 3 columns</p>\n",
       "</div>"
      ],
      "text/plain": [
       "     municipality               district           neighborhood\n",
       "0          Málaga                 Centro          Perchel norte\n",
       "1          Málaga                 Centro       Centro Histórico\n",
       "2          Málaga                 Centro            La Trinidad\n",
       "3          Málaga                 Centro       Centro Histórico\n",
       "4          Málaga                 Centro  Cristo de la Epidemia\n",
       "...           ...                    ...                    ...\n",
       "7521     Marbella  Las Chapas-El Rosario      El Rosario-Ricmar\n",
       "7522     Estepona     Benamara - Atalaya         Atalaya-Isdabe\n",
       "7523     Marbella       Elviria-Cabopino                Elviria\n",
       "7524     Marbella       Elviria-Cabopino                Elviria\n",
       "7525     Marbella       Elviria-Cabopino            Santa María\n",
       "\n",
       "[7526 rows x 3 columns]"
      ]
     },
     "execution_count": 8,
     "metadata": {},
     "output_type": "execute_result"
    }
   ],
   "source": [
    "df_municipalities = df[['municipality', 'district', 'neighborhood']]\n",
    "df_municipalities"
   ]
  },
  {
   "cell_type": "code",
   "execution_count": 9,
   "id": "1e27d8f0",
   "metadata": {},
   "outputs": [],
   "source": [
    "df_municipalities.to_csv('../data/working_data/municipalities.csv', index=False)"
   ]
  },
  {
   "cell_type": "code",
   "execution_count": 11,
   "id": "6dd97899",
   "metadata": {},
   "outputs": [],
   "source": [
    "columns_needed = ['municipality', 'district', 'neighborhood', 'latitude', 'longitude']\n",
    "df = df[columns_needed]\n",
    "\n",
    "centroids = (\n",
    "    df\n",
    "    .groupby(['municipality', 'district', 'neighborhood'], as_index=False)\n",
    "    .agg({'latitude': 'mean', 'longitude': 'mean'})\n",
    ")\n",
    "\n",
    "# o en formato pickle (más eficiente si es para Python exclusivamente)\n",
    "centroids.to_pickle(\"../data/working_data/datalocation_centroids.pkl\")"
   ]
  },
  {
   "cell_type": "markdown",
   "id": "2bd8e62a",
   "metadata": {},
   "source": [
    "Pasamos los datos a numericos y guardamos un nuevo mapeo y datos"
   ]
  },
  {
   "cell_type": "markdown",
   "id": "7958eafc",
   "metadata": {},
   "source": [
    "Vamos a coger los valores que toma status y new development para escribir las pciones que tendrá su dropdown"
   ]
  },
  {
   "cell_type": "code",
   "execution_count": 18,
   "id": "d852eb0e",
   "metadata": {},
   "outputs": [],
   "source": [
    "status_options = [{'label': s, 'value': s} for s in sorted(df['status'].dropna().unique())]\n",
    "new_development_options = [{'label': nd, 'value': nd} for nd in sorted(df['newDevelopment'].dropna().unique())]\n"
   ]
  },
  {
   "cell_type": "code",
   "execution_count": 19,
   "id": "aea1115c",
   "metadata": {},
   "outputs": [
    {
     "name": "stdout",
     "output_type": "stream",
     "text": [
      "[{'label': 'good', 'value': 'good'}, {'label': 'newdevelopment', 'value': 'newdevelopment'}, {'label': 'renew', 'value': 'renew'}, {'label': 'unknown', 'value': 'unknown'}]\n",
      "[{'label': np.False_, 'value': np.False_}, {'label': np.True_, 'value': np.True_}]\n"
     ]
    }
   ],
   "source": [
    "print(status_options)\n",
    "print(new_development_options)"
   ]
  },
  {
   "cell_type": "code",
   "execution_count": 20,
   "id": "c02cb0ab",
   "metadata": {},
   "outputs": [
    {
     "data": {
      "application/vnd.microsoft.datawrangler.viewer.v0+json": {
       "columns": [
        {
         "name": "('propertyType', 'floor')",
         "rawType": "object",
         "type": "unknown"
        },
        {
         "name": "count",
         "rawType": "int64",
         "type": "integer"
        }
       ],
       "ref": "950e0d0f-7a5f-4711-930f-b1d9cbcf10cd",
       "rows": [
        [
         "('chalet', np.float64(0.0))",
         "1228"
        ],
        [
         "('countryHouse', np.float64(0.0))",
         "38"
        ],
        [
         "('duplex', np.float64(3.0))",
         "69"
        ],
        [
         "('duplex', np.float64(2.0))",
         "43"
        ],
        [
         "('duplex', np.float64(1.0))",
         "35"
        ],
        [
         "('duplex', np.float64(0.0))",
         "34"
        ],
        [
         "('duplex', np.float64(4.0))",
         "20"
        ],
        [
         "('duplex', np.float64(5.0))",
         "12"
        ],
        [
         "('duplex', np.float64(-1.0))",
         "3"
        ],
        [
         "('duplex', np.float64(7.0))",
         "3"
        ],
        [
         "('duplex', np.float64(0.5))",
         "1"
        ],
        [
         "('duplex', np.float64(6.0))",
         "1"
        ],
        [
         "('duplex', np.float64(13.0))",
         "1"
        ],
        [
         "('flat', np.float64(1.0))",
         "1042"
        ],
        [
         "('flat', np.float64(0.0))",
         "629"
        ],
        [
         "('flat', np.float64(2.0))",
         "622"
        ],
        [
         "('flat', np.float64(3.0))",
         "414"
        ],
        [
         "('flat', np.float64(4.0))",
         "236"
        ],
        [
         "('flat', np.float64(5.0))",
         "152"
        ],
        [
         "('flat', np.float64(6.0))",
         "100"
        ],
        [
         "('flat', np.float64(7.0))",
         "67"
        ],
        [
         "('flat', np.float64(8.0))",
         "45"
        ],
        [
         "('flat', np.float64(0.5))",
         "41"
        ],
        [
         "('flat', np.float64(9.0))",
         "33"
        ],
        [
         "('flat', np.float64(10.0))",
         "32"
        ],
        [
         "('flat', np.float64(11.0))",
         "16"
        ],
        [
         "('flat', np.float64(18.0))",
         "8"
        ],
        [
         "('flat', np.float64(23.0))",
         "8"
        ],
        [
         "('flat', np.float64(24.0))",
         "7"
        ],
        [
         "('flat', np.float64(26.0))",
         "7"
        ],
        [
         "('flat', np.float64(27.0))",
         "7"
        ],
        [
         "('flat', np.float64(12.0))",
         "6"
        ],
        [
         "('flat', np.float64(22.0))",
         "5"
        ],
        [
         "('flat', np.float64(13.0))",
         "4"
        ],
        [
         "('flat', np.float64(14.0))",
         "4"
        ],
        [
         "('flat', np.float64(17.0))",
         "4"
        ],
        [
         "('flat', np.float64(19.0))",
         "4"
        ],
        [
         "('flat', np.float64(28.0))",
         "4"
        ],
        [
         "('flat', np.float64(16.0))",
         "3"
        ],
        [
         "('flat', np.float64(25.0))",
         "3"
        ],
        [
         "('flat', np.float64(15.0))",
         "2"
        ],
        [
         "('flat', np.float64(20.0))",
         "2"
        ],
        [
         "('garage', np.float64(-1.0))",
         "67"
        ],
        [
         "('garage', np.float64(0.0))",
         "10"
        ],
        [
         "('garage', np.float64(-2.0))",
         "7"
        ],
        [
         "('garage', np.float64(3.0))",
         "1"
        ],
        [
         "('office', np.float64(1.0))",
         "172"
        ],
        [
         "('office', np.float64(0.0))",
         "124"
        ],
        [
         "('office', np.float64(2.0))",
         "56"
        ],
        [
         "('office', np.float64(3.0))",
         "36"
        ]
       ],
       "shape": {
        "columns": 1,
        "rows": 93
       }
      },
      "text/plain": [
       "propertyType  floor\n",
       "chalet        0.0      1228\n",
       "countryHouse  0.0        38\n",
       "duplex        3.0        69\n",
       "              2.0        43\n",
       "              1.0        35\n",
       "                       ... \n",
       "studio        11.0        3\n",
       "              8.0         2\n",
       "              10.0        2\n",
       "              0.5         1\n",
       "              9.0         1\n",
       "Name: count, Length: 93, dtype: int64"
      ]
     },
     "execution_count": 20,
     "metadata": {},
     "output_type": "execute_result"
    }
   ],
   "source": [
    "df.groupby('propertyType')['floor'].value_counts()"
   ]
  },
  {
   "cell_type": "code",
   "execution_count": null,
   "id": "81c0f274",
   "metadata": {},
   "outputs": [
    {
     "data": {
      "application/vnd.microsoft.datawrangler.viewer.v0+json": {
       "columns": [
        {
         "name": "index",
         "rawType": "int64",
         "type": "integer"
        },
        {
         "name": "price",
         "rawType": "int64",
         "type": "integer"
        },
        {
         "name": "propertyType",
         "rawType": "object",
         "type": "string"
        },
        {
         "name": "operation",
         "rawType": "object",
         "type": "string"
        },
        {
         "name": "size",
         "rawType": "float64",
         "type": "float"
        },
        {
         "name": "rooms",
         "rawType": "float64",
         "type": "float"
        },
        {
         "name": "bathrooms",
         "rawType": "float64",
         "type": "float"
        },
        {
         "name": "municipality",
         "rawType": "object",
         "type": "string"
        },
        {
         "name": "district",
         "rawType": "object",
         "type": "string"
        },
        {
         "name": "neighborhood",
         "rawType": "object",
         "type": "string"
        },
        {
         "name": "latitude",
         "rawType": "float64",
         "type": "float"
        },
        {
         "name": "longitude",
         "rawType": "float64",
         "type": "float"
        },
        {
         "name": "status",
         "rawType": "object",
         "type": "string"
        },
        {
         "name": "newDevelopment",
         "rawType": "bool",
         "type": "boolean"
        },
        {
         "name": "priceByArea",
         "rawType": "float64",
         "type": "float"
        },
        {
         "name": "floor",
         "rawType": "float64",
         "type": "float"
        },
        {
         "name": "hasLift",
         "rawType": "float64",
         "type": "float"
        },
        {
         "name": "hasParkingSpace",
         "rawType": "bool",
         "type": "boolean"
        },
        {
         "name": "isParkingSpaceIncludedInPrice",
         "rawType": "bool",
         "type": "boolean"
        },
        {
         "name": "avg_price_area_by_type_size_neigh",
         "rawType": "float64",
         "type": "float"
        },
        {
         "name": "diff_vs_avg_by_type_size_neigh",
         "rawType": "float64",
         "type": "float"
        },
        {
         "name": "size_range",
         "rawType": "object",
         "type": "string"
        }
       ],
       "ref": "b95e25c2-af0d-4b04-9f4f-5323886cedc4",
       "rows": [
        [
         "0",
         "1500",
         "flat",
         "rent",
         "95.0",
         "2.0",
         "2.0",
         "Málaga",
         "Centro",
         "Perchel norte",
         "36.7214747",
         "-4.4302728",
         "good",
         "False",
         "16.0",
         "3.0",
         "1.0",
         "False",
         "False",
         "16.0",
         "0.0",
         "80-120"
        ],
        [
         "1",
         "1000",
         "flat",
         "rent",
         "30.0",
         "1.0",
         "1.0",
         "Málaga",
         "Centro",
         "Centro Histórico",
         "36.7202186",
         "-4.4223244",
         "good",
         "False",
         "33.0",
         "4.0",
         "1.0",
         "False",
         "False",
         "31.666666666666668",
         "1.3333333333333321",
         "0-50"
        ],
        [
         "2",
         "1200",
         "flat",
         "rent",
         "100.0",
         "3.0",
         "1.0",
         "Málaga",
         "Centro",
         "La Trinidad",
         "36.7227008",
         "-4.4314466",
         "good",
         "False",
         "12.0",
         "2.0",
         "1.0",
         "False",
         "False",
         "12.0",
         "0.0",
         "80-120"
        ],
        [
         "3",
         "2000",
         "flat",
         "rent",
         "140.0",
         "3.0",
         "2.0",
         "Málaga",
         "Centro",
         "Centro Histórico",
         "36.724211",
         "-4.4177122",
         "good",
         "False",
         "14.0",
         "2.0",
         "0.0",
         "False",
         "False",
         "13.5",
         "0.5",
         "120-180"
        ],
        [
         "4",
         "1300",
         "flat",
         "rent",
         "75.0",
         "2.0",
         "1.0",
         "Málaga",
         "Centro",
         "Cristo de la Epidemia",
         "36.7296432",
         "-4.4156045",
         "good",
         "False",
         "17.0",
         "3.0",
         "1.0",
         "False",
         "False",
         "17.0",
         "0.0",
         "50-80"
        ],
        [
         "5",
         "800",
         "flat",
         "rent",
         "40.0",
         "1.0",
         "1.0",
         "Málaga",
         "Centro",
         "La Trinidad",
         "36.7264046",
         "-4.4251835",
         "good",
         "False",
         "20.0",
         "1.0",
         "1.0",
         "False",
         "False",
         "20.0",
         "0.0",
         "0-50"
        ],
        [
         "6",
         "1900",
         "flat",
         "rent",
         "105.0",
         "3.0",
         "2.0",
         "Málaga",
         "Centro",
         "Perchel sur - El Bulto",
         "36.7137462",
         "-4.4297598",
         "good",
         "False",
         "18.0",
         "5.0",
         "1.0",
         "False",
         "False",
         "16.0",
         "2.0",
         "80-120"
        ],
        [
         "7",
         "1900",
         "penthouse",
         "rent",
         "133.0",
         "3.0",
         "1.0",
         "Málaga",
         "Centro",
         "Ensanche Centro - Soho",
         "36.714396",
         "-4.4251783",
         "good",
         "False",
         "14.0",
         "7.0",
         "1.0",
         "True",
         "False",
         "14.0",
         "0.0",
         "100-150"
        ],
        [
         "8",
         "1800",
         "flat",
         "rent",
         "92.0",
         "3.0",
         "2.0",
         "Málaga",
         "Puerto de la Torre",
         "Puertosol - Santa Isabel",
         "36.7367986",
         "-4.4908761",
         "good",
         "False",
         "20.0",
         "0.0",
         "1.0",
         "True",
         "True",
         "20.0",
         "0.0",
         "80-120"
        ],
        [
         "9",
         "1500",
         "flat",
         "rent",
         "105.0",
         "3.0",
         "2.0",
         "Málaga",
         "Este",
         "Malagueta - Monte Sancha",
         "36.7231429",
         "-4.4047734",
         "good",
         "False",
         "14.0",
         "1.0",
         "0.0",
         "True",
         "True",
         "14.0",
         "0.0",
         "80-120"
        ],
        [
         "10",
         "1250",
         "flat",
         "rent",
         "70.0",
         "2.0",
         "1.0",
         "Málaga",
         "Carretera de Cádiz",
         "Puerta Blanca - Almudena",
         "36.6841651",
         "-4.4515037",
         "good",
         "False",
         "18.0",
         "1.0",
         "1.0",
         "False",
         "False",
         "18.0",
         "0.0",
         "50-80"
        ],
        [
         "11",
         "1350",
         "flat",
         "rent",
         "100.0",
         "3.0",
         "2.0",
         "Málaga",
         "Centro",
         "Perchel sur - El Bulto",
         "36.7107638",
         "-4.4307721",
         "good",
         "False",
         "14.0",
         "1.0",
         "1.0",
         "False",
         "False",
         "16.5",
         "-2.5",
         "80-120"
        ],
        [
         "12",
         "1400",
         "flat",
         "rent",
         "50.0",
         "1.0",
         "1.0",
         "Málaga",
         "Este",
         "Malagueta - Monte Sancha",
         "36.7152894",
         "-4.4124919",
         "good",
         "False",
         "28.0",
         "12.0",
         "1.0",
         "False",
         "False",
         "29.0",
         "-1.0",
         "0-50"
        ],
        [
         "13",
         "2400",
         "flat",
         "rent",
         "115.0",
         "3.0",
         "2.0",
         "Málaga",
         "Centro",
         "Ensanche Centro - Soho",
         "36.7132555",
         "-4.422526",
         "good",
         "False",
         "21.0",
         "3.0",
         "1.0",
         "False",
         "False",
         "17.25",
         "3.75",
         "80-120"
        ],
        [
         "14",
         "1200",
         "flat",
         "rent",
         "85.0",
         "3.0",
         "2.0",
         "Málaga",
         "Cruz de Humilladero",
         "Polígonos - Recinto Ferial",
         "36.7092993",
         "-4.4898944",
         "good",
         "False",
         "14.0",
         "1.0",
         "0.0",
         "True",
         "True",
         "14.0",
         "0.0",
         "80-120"
        ],
        [
         "15",
         "1200",
         "flat",
         "rent",
         "100.0",
         "4.0",
         "1.0",
         "Málaga",
         "Centro",
         "La Trinidad",
         "36.7236365",
         "-4.4331265",
         "good",
         "False",
         "12.0",
         "1.0",
         "0.0",
         "False",
         "False",
         "12.0",
         "0.0",
         "80-120"
        ],
        [
         "16",
         "1300",
         "flat",
         "rent",
         "80.0",
         "2.0",
         "1.0",
         "Málaga",
         "Teatinos",
         "El Consul - El Romeral",
         "36.7240868",
         "-4.4827926",
         "good",
         "False",
         "16.0",
         "3.0",
         "1.0",
         "True",
         "True",
         "16.0",
         "0.0",
         "50-80"
        ],
        [
         "17",
         "1000",
         "flat",
         "rent",
         "49.0",
         "1.0",
         "1.0",
         "Málaga",
         "Cruz de Humilladero",
         "Carranque - Haza Cuevas",
         "36.7208929",
         "-4.441973",
         "good",
         "False",
         "20.0",
         "5.0",
         "1.0",
         "False",
         "False",
         "20.0",
         "0.0",
         "0-50"
        ],
        [
         "18",
         "1600",
         "flat",
         "rent",
         "90.0",
         "3.0",
         "2.0",
         "Málaga",
         "Centro",
         "Perchel sur - El Bulto",
         "36.70855",
         "-4.432787",
         "good",
         "False",
         "18.0",
         "5.0",
         "1.0",
         "True",
         "True",
         "16.666666666666668",
         "1.3333333333333321",
         "80-120"
        ],
        [
         "19",
         "1250",
         "flat",
         "rent",
         "78.0",
         "2.0",
         "2.0",
         "Málaga",
         "Carretera de Cádiz",
         "La Princesa",
         "36.70594",
         "-4.4363898",
         "good",
         "False",
         "16.0",
         "5.0",
         "1.0",
         "False",
         "False",
         "16.0",
         "0.0",
         "50-80"
        ],
        [
         "20",
         "1200",
         "flat",
         "rent",
         "70.0",
         "2.0",
         "1.0",
         "Málaga",
         "Centro",
         "La Goleta - San Felipe Neri",
         "36.7238007",
         "-4.4208605",
         "good",
         "False",
         "17.0",
         "1.0",
         "0.0",
         "False",
         "False",
         "17.0",
         "0.0",
         "50-80"
        ],
        [
         "21",
         "1500",
         "flat",
         "rent",
         "70.0",
         "3.0",
         "1.0",
         "Málaga",
         "Cruz de Humilladero",
         "Carranque - Haza Cuevas",
         "36.719443",
         "-4.4387734",
         "good",
         "False",
         "21.0",
         "2.0",
         "0.0",
         "False",
         "False",
         "21.0",
         "0.0",
         "50-80"
        ],
        [
         "22",
         "1190",
         "flat",
         "rent",
         "60.0",
         "2.0",
         "1.0",
         "Málaga",
         "Centro",
         "La Merced",
         "36.7238487",
         "-4.4199689",
         "good",
         "False",
         "20.0",
         "1.5",
         "0.0",
         "False",
         "False",
         "20.0",
         "0.0",
         "50-80"
        ],
        [
         "23",
         "1200",
         "flat",
         "rent",
         "60.0",
         "2.0",
         "1.0",
         "Málaga",
         "Centro",
         "La Victoria",
         "36.7240108",
         "-4.4128312",
         "good",
         "False",
         "20.0",
         "1.0",
         "1.0",
         "False",
         "False",
         "20.5",
         "-0.5",
         "50-80"
        ],
        [
         "24",
         "1200",
         "flat",
         "rent",
         "70.0",
         "2.0",
         "1.0",
         "Málaga",
         "Centro",
         "Centro Histórico",
         "36.723312",
         "-4.4194047",
         "good",
         "False",
         "17.0",
         "1.0",
         "1.0",
         "False",
         "False",
         "20.142857142857142",
         "-3.1428571428571423",
         "50-80"
        ],
        [
         "25",
         "1100",
         "flat",
         "rent",
         "82.0",
         "2.0",
         "2.0",
         "Málaga",
         "Bailén - Miraflores",
         "Victoria Eugenia",
         "36.7293789",
         "-4.4359482",
         "good",
         "False",
         "13.0",
         "1.0",
         "1.0",
         "True",
         "True",
         "13.0",
         "0.0",
         "80-120"
        ],
        [
         "26",
         "1400",
         "flat",
         "rent",
         "100.0",
         "3.0",
         "2.0",
         "Málaga",
         "Carretera de Cádiz",
         "Finca el Pato - Torre del Río",
         "36.6839526",
         "-4.4535382",
         "good",
         "False",
         "14.0",
         "5.0",
         "1.0",
         "True",
         "True",
         "14.0",
         "0.0",
         "80-120"
        ],
        [
         "27",
         "1200",
         "flat",
         "rent",
         "117.0",
         "2.0",
         "2.0",
         "Málaga",
         "Centro",
         "Perchel norte",
         "36.7206472",
         "-4.4315706",
         "good",
         "False",
         "10.0",
         "6.0",
         "1.0",
         "True",
         "True",
         "10.0",
         "0.0",
         "80-120"
        ],
        [
         "28",
         "900",
         "penthouse",
         "rent",
         "90.0",
         "1.0",
         "1.0",
         "Málaga",
         "Centro",
         "Perchel sur - El Bulto",
         "36.7166406",
         "-4.426262",
         "good",
         "False",
         "10.0",
         "6.0",
         "1.0",
         "False",
         "False",
         "10.0",
         "0.0",
         "60-100"
        ],
        [
         "29",
         "2300",
         "flat",
         "rent",
         "151.0",
         "3.0",
         "2.0",
         "Málaga",
         "Centro",
         "Ensanche Centro - Soho",
         "36.7168862",
         "-4.4234492",
         "good",
         "False",
         "15.0",
         "6.0",
         "1.0",
         "True",
         "True",
         "15.0",
         "0.0",
         "120-180"
        ],
        [
         "30",
         "1800",
         "studio",
         "rent",
         "31.0",
         "0.0",
         "1.0",
         "Málaga",
         "Centro",
         "Centro Histórico",
         "36.722657",
         "-4.4213505",
         "good",
         "False",
         "58.0",
         "0.0",
         "0.0",
         "False",
         "False",
         "58.0",
         "0.0",
         "30-50"
        ],
        [
         "31",
         "1600",
         "flat",
         "rent",
         "80.0",
         "3.0",
         "1.0",
         "Málaga",
         "Bailén - Miraflores",
         "Victoria Eugenia",
         "36.7307562",
         "-4.4413514",
         "good",
         "False",
         "20.0",
         "11.0",
         "0.0",
         "False",
         "False",
         "20.0",
         "0.0",
         "50-80"
        ],
        [
         "32",
         "950",
         "flat",
         "rent",
         "72.0",
         "3.0",
         "1.0",
         "Málaga",
         "Carretera de Cádiz",
         "Girón - Las Delicias - Pacífico",
         "36.6985499",
         "-4.4419718",
         "good",
         "False",
         "13.0",
         "1.0",
         "0.0",
         "False",
         "False",
         "13.0",
         "0.0",
         "50-80"
        ],
        [
         "33",
         "1500",
         "flat",
         "rent",
         "80.0",
         "2.0",
         "1.0",
         "Málaga",
         "Centro",
         "Centro Histórico",
         "36.7202152",
         "-4.4169137",
         "good",
         "False",
         "19.0",
         "2.0",
         "1.0",
         "False",
         "False",
         "18.25",
         "0.75",
         "50-80"
        ],
        [
         "34",
         "2000",
         "flat",
         "rent",
         "126.0",
         "2.0",
         "2.0",
         "Málaga",
         "Centro",
         "Centro Histórico",
         "36.7202522",
         "-4.4210491",
         "good",
         "False",
         "16.0",
         "5.0",
         "1.0",
         "False",
         "False",
         "16.0",
         "0.0",
         "120-180"
        ],
        [
         "35",
         "1500",
         "flat",
         "rent",
         "90.0",
         "3.0",
         "2.0",
         "Málaga",
         "Centro",
         "Perchel norte",
         "36.7186155",
         "-4.4304224",
         "good",
         "False",
         "17.0",
         "4.0",
         "1.0",
         "False",
         "False",
         "17.0",
         "0.0",
         "80-120"
        ],
        [
         "36",
         "1100",
         "flat",
         "rent",
         "81.0",
         "2.0",
         "2.0",
         "Málaga",
         "Centro",
         "Perchel norte",
         "36.7189969",
         "-4.4309092",
         "good",
         "False",
         "14.0",
         "2.0",
         "1.0",
         "False",
         "False",
         "14.0",
         "0.0",
         "80-120"
        ],
        [
         "37",
         "1300",
         "chalet",
         "rent",
         "143.0",
         "4.0",
         "2.0",
         "Málaga",
         "Bailén - Miraflores",
         "San Alberto - La Alcubilla - Florisol",
         "36.7293281",
         "-4.4514374",
         "good",
         "False",
         "9.0",
         "0.0",
         "0.0",
         "False",
         "False",
         "9.0",
         "0.0",
         "100-200"
        ],
        [
         "38",
         "1250",
         "flat",
         "rent",
         "78.0",
         "2.0",
         "2.0",
         "Málaga",
         "Carretera de Cádiz",
         "Huelin",
         "36.7060096",
         "-4.4377969",
         "good",
         "False",
         "16.0",
         "5.0",
         "1.0",
         "False",
         "False",
         "19.5",
         "-3.5",
         "50-80"
        ],
        [
         "39",
         "1200",
         "flat",
         "rent",
         "95.0",
         "3.0",
         "1.0",
         "Málaga",
         "Carretera de Cádiz",
         "La Luz",
         "36.6963085",
         "-4.4526127",
         "good",
         "False",
         "13.0",
         "6.0",
         "1.0",
         "False",
         "False",
         "13.0",
         "0.0",
         "80-120"
        ],
        [
         "40",
         "1200",
         "flat",
         "rent",
         "68.0",
         "3.0",
         "1.0",
         "Málaga",
         "Carretera de Cádiz",
         "Los Guindos - Parque Mediterráneo - Santa Paula",
         "36.6962355",
         "-4.4495801",
         "good",
         "False",
         "18.0",
         "5.0",
         "1.0",
         "False",
         "False",
         "18.0",
         "0.0",
         "50-80"
        ],
        [
         "41",
         "1260",
         "flat",
         "rent",
         "95.0",
         "3.0",
         "2.0",
         "Málaga",
         "Cruz de Humilladero",
         "Carranque - Haza Cuevas",
         "36.7203579",
         "-4.4450263",
         "good",
         "False",
         "13.0",
         "6.0",
         "1.0",
         "True",
         "True",
         "13.0",
         "0.0",
         "80-120"
        ],
        [
         "42",
         "900",
         "flat",
         "rent",
         "53.0",
         "1.0",
         "1.0",
         "Málaga",
         "Este",
         "Pedregalejo - Morlaco",
         "36.7218224",
         "-4.378737",
         "good",
         "False",
         "17.0",
         "1.0",
         "1.0",
         "False",
         "False",
         "17.0",
         "0.0",
         "50-80"
        ],
        [
         "43",
         "1850",
         "flat",
         "rent",
         "83.0",
         "3.0",
         "2.0",
         "Málaga",
         "Martiricos - La Roca",
         "Martiricos - La Roca",
         "36.7306187",
         "-4.4286936",
         "good",
         "False",
         "22.0",
         "19.0",
         "1.0",
         "True",
         "True",
         "22.0",
         "0.0",
         "80-120"
        ],
        [
         "44",
         "1500",
         "duplex",
         "rent",
         "54.0",
         "1.0",
         "1.0",
         "Málaga",
         "Centro",
         "La Goleta - San Felipe Neri",
         "36.7258386",
         "-4.4235303",
         "good",
         "False",
         "28.0",
         "2.0",
         "0.0",
         "False",
         "False",
         "26.5",
         "1.5",
         "0-60"
        ],
        [
         "45",
         "1900",
         "flat",
         "rent",
         "85.0",
         "2.0",
         "2.0",
         "Málaga",
         "Centro",
         "La Trinidad",
         "36.7285218",
         "-4.4301589",
         "good",
         "False",
         "22.0",
         "27.0",
         "1.0",
         "True",
         "True",
         "22.0",
         "0.0",
         "80-120"
        ],
        [
         "46",
         "3300",
         "flat",
         "rent",
         "120.0",
         "1.0",
         "2.0",
         "Málaga",
         "Carretera de Cádiz",
         "Pacífico",
         "36.6851392",
         "-4.4462154",
         "newdevelopment",
         "True",
         "28.0",
         "4.0",
         "1.0",
         "True",
         "True",
         "18.5",
         "9.5",
         "80-120"
        ],
        [
         "47",
         "1150",
         "flat",
         "rent",
         "67.0",
         "2.0",
         "1.0",
         "Málaga",
         "Bailén - Miraflores",
         "Los Castillejos - La Trinidad",
         "36.721496",
         "-4.4351365",
         "good",
         "False",
         "17.0",
         "3.0",
         "1.0",
         "True",
         "True",
         "17.0",
         "0.0",
         "50-80"
        ],
        [
         "48",
         "2300",
         "duplex",
         "rent",
         "35.0",
         "2.0",
         "1.0",
         "Málaga",
         "Este",
         "Pedregalejo - Morlaco",
         "36.7223739",
         "-4.3797799",
         "good",
         "False",
         "66.0",
         "2.0",
         "1.0",
         "False",
         "False",
         "66.0",
         "0.0",
         "0-60"
        ],
        [
         "49",
         "1400",
         "flat",
         "rent",
         "78.0",
         "2.0",
         "2.0",
         "Málaga",
         "Carretera de Cádiz",
         "Pacífico",
         "36.6995167",
         "-4.4393658",
         "good",
         "False",
         "18.0",
         "4.0",
         "1.0",
         "True",
         "True",
         "18.0",
         "0.0",
         "50-80"
        ]
       ],
       "shape": {
        "columns": 21,
        "rows": 5189
       }
      },
      "text/html": [
       "<div>\n",
       "<style scoped>\n",
       "    .dataframe tbody tr th:only-of-type {\n",
       "        vertical-align: middle;\n",
       "    }\n",
       "\n",
       "    .dataframe tbody tr th {\n",
       "        vertical-align: top;\n",
       "    }\n",
       "\n",
       "    .dataframe thead th {\n",
       "        text-align: right;\n",
       "    }\n",
       "</style>\n",
       "<table border=\"1\" class=\"dataframe\">\n",
       "  <thead>\n",
       "    <tr style=\"text-align: right;\">\n",
       "      <th></th>\n",
       "      <th>price</th>\n",
       "      <th>propertyType</th>\n",
       "      <th>operation</th>\n",
       "      <th>size</th>\n",
       "      <th>rooms</th>\n",
       "      <th>bathrooms</th>\n",
       "      <th>municipality</th>\n",
       "      <th>district</th>\n",
       "      <th>neighborhood</th>\n",
       "      <th>latitude</th>\n",
       "      <th>...</th>\n",
       "      <th>status</th>\n",
       "      <th>newDevelopment</th>\n",
       "      <th>priceByArea</th>\n",
       "      <th>floor</th>\n",
       "      <th>hasLift</th>\n",
       "      <th>hasParkingSpace</th>\n",
       "      <th>isParkingSpaceIncludedInPrice</th>\n",
       "      <th>avg_price_area_by_type_size_neigh</th>\n",
       "      <th>diff_vs_avg_by_type_size_neigh</th>\n",
       "      <th>size_range</th>\n",
       "    </tr>\n",
       "  </thead>\n",
       "  <tbody>\n",
       "    <tr>\n",
       "      <th>0</th>\n",
       "      <td>1500</td>\n",
       "      <td>flat</td>\n",
       "      <td>rent</td>\n",
       "      <td>95.0</td>\n",
       "      <td>2.0</td>\n",
       "      <td>2.0</td>\n",
       "      <td>Málaga</td>\n",
       "      <td>Centro</td>\n",
       "      <td>Perchel norte</td>\n",
       "      <td>36.721475</td>\n",
       "      <td>...</td>\n",
       "      <td>good</td>\n",
       "      <td>False</td>\n",
       "      <td>16.0</td>\n",
       "      <td>3.0</td>\n",
       "      <td>1.0</td>\n",
       "      <td>False</td>\n",
       "      <td>False</td>\n",
       "      <td>16.000000</td>\n",
       "      <td>0.000000</td>\n",
       "      <td>80-120</td>\n",
       "    </tr>\n",
       "    <tr>\n",
       "      <th>1</th>\n",
       "      <td>1000</td>\n",
       "      <td>flat</td>\n",
       "      <td>rent</td>\n",
       "      <td>30.0</td>\n",
       "      <td>1.0</td>\n",
       "      <td>1.0</td>\n",
       "      <td>Málaga</td>\n",
       "      <td>Centro</td>\n",
       "      <td>Centro Histórico</td>\n",
       "      <td>36.720219</td>\n",
       "      <td>...</td>\n",
       "      <td>good</td>\n",
       "      <td>False</td>\n",
       "      <td>33.0</td>\n",
       "      <td>4.0</td>\n",
       "      <td>1.0</td>\n",
       "      <td>False</td>\n",
       "      <td>False</td>\n",
       "      <td>31.666667</td>\n",
       "      <td>1.333333</td>\n",
       "      <td>0-50</td>\n",
       "    </tr>\n",
       "    <tr>\n",
       "      <th>2</th>\n",
       "      <td>1200</td>\n",
       "      <td>flat</td>\n",
       "      <td>rent</td>\n",
       "      <td>100.0</td>\n",
       "      <td>3.0</td>\n",
       "      <td>1.0</td>\n",
       "      <td>Málaga</td>\n",
       "      <td>Centro</td>\n",
       "      <td>La Trinidad</td>\n",
       "      <td>36.722701</td>\n",
       "      <td>...</td>\n",
       "      <td>good</td>\n",
       "      <td>False</td>\n",
       "      <td>12.0</td>\n",
       "      <td>2.0</td>\n",
       "      <td>1.0</td>\n",
       "      <td>False</td>\n",
       "      <td>False</td>\n",
       "      <td>12.000000</td>\n",
       "      <td>0.000000</td>\n",
       "      <td>80-120</td>\n",
       "    </tr>\n",
       "    <tr>\n",
       "      <th>3</th>\n",
       "      <td>2000</td>\n",
       "      <td>flat</td>\n",
       "      <td>rent</td>\n",
       "      <td>140.0</td>\n",
       "      <td>3.0</td>\n",
       "      <td>2.0</td>\n",
       "      <td>Málaga</td>\n",
       "      <td>Centro</td>\n",
       "      <td>Centro Histórico</td>\n",
       "      <td>36.724211</td>\n",
       "      <td>...</td>\n",
       "      <td>good</td>\n",
       "      <td>False</td>\n",
       "      <td>14.0</td>\n",
       "      <td>2.0</td>\n",
       "      <td>0.0</td>\n",
       "      <td>False</td>\n",
       "      <td>False</td>\n",
       "      <td>13.500000</td>\n",
       "      <td>0.500000</td>\n",
       "      <td>120-180</td>\n",
       "    </tr>\n",
       "    <tr>\n",
       "      <th>4</th>\n",
       "      <td>1300</td>\n",
       "      <td>flat</td>\n",
       "      <td>rent</td>\n",
       "      <td>75.0</td>\n",
       "      <td>2.0</td>\n",
       "      <td>1.0</td>\n",
       "      <td>Málaga</td>\n",
       "      <td>Centro</td>\n",
       "      <td>Cristo de la Epidemia</td>\n",
       "      <td>36.729643</td>\n",
       "      <td>...</td>\n",
       "      <td>good</td>\n",
       "      <td>False</td>\n",
       "      <td>17.0</td>\n",
       "      <td>3.0</td>\n",
       "      <td>1.0</td>\n",
       "      <td>False</td>\n",
       "      <td>False</td>\n",
       "      <td>17.000000</td>\n",
       "      <td>0.000000</td>\n",
       "      <td>50-80</td>\n",
       "    </tr>\n",
       "    <tr>\n",
       "      <th>...</th>\n",
       "      <td>...</td>\n",
       "      <td>...</td>\n",
       "      <td>...</td>\n",
       "      <td>...</td>\n",
       "      <td>...</td>\n",
       "      <td>...</td>\n",
       "      <td>...</td>\n",
       "      <td>...</td>\n",
       "      <td>...</td>\n",
       "      <td>...</td>\n",
       "      <td>...</td>\n",
       "      <td>...</td>\n",
       "      <td>...</td>\n",
       "      <td>...</td>\n",
       "      <td>...</td>\n",
       "      <td>...</td>\n",
       "      <td>...</td>\n",
       "      <td>...</td>\n",
       "      <td>...</td>\n",
       "      <td>...</td>\n",
       "      <td>...</td>\n",
       "    </tr>\n",
       "    <tr>\n",
       "      <th>5184</th>\n",
       "      <td>9000</td>\n",
       "      <td>garage</td>\n",
       "      <td>sale</td>\n",
       "      <td>12.5</td>\n",
       "      <td>0.0</td>\n",
       "      <td>0.0</td>\n",
       "      <td>Mijas</td>\n",
       "      <td>Sitio de Calahonda</td>\n",
       "      <td>Sitio de Calahonda</td>\n",
       "      <td>36.508218</td>\n",
       "      <td>...</td>\n",
       "      <td>unknown</td>\n",
       "      <td>False</td>\n",
       "      <td>300.0</td>\n",
       "      <td>-1.0</td>\n",
       "      <td>1.0</td>\n",
       "      <td>False</td>\n",
       "      <td>False</td>\n",
       "      <td>405.000000</td>\n",
       "      <td>-105.000000</td>\n",
       "      <td>0-20</td>\n",
       "    </tr>\n",
       "    <tr>\n",
       "      <th>5185</th>\n",
       "      <td>22000</td>\n",
       "      <td>garage</td>\n",
       "      <td>sale</td>\n",
       "      <td>12.5</td>\n",
       "      <td>0.0</td>\n",
       "      <td>0.0</td>\n",
       "      <td>Benalmádena</td>\n",
       "      <td>Parque de la Paloma</td>\n",
       "      <td>Parque de la Paloma</td>\n",
       "      <td>36.590990</td>\n",
       "      <td>...</td>\n",
       "      <td>unknown</td>\n",
       "      <td>False</td>\n",
       "      <td>815.0</td>\n",
       "      <td>0.0</td>\n",
       "      <td>0.0</td>\n",
       "      <td>False</td>\n",
       "      <td>False</td>\n",
       "      <td>1574.000000</td>\n",
       "      <td>-759.000000</td>\n",
       "      <td>0-20</td>\n",
       "    </tr>\n",
       "    <tr>\n",
       "      <th>5186</th>\n",
       "      <td>8000</td>\n",
       "      <td>garage</td>\n",
       "      <td>sale</td>\n",
       "      <td>12.5</td>\n",
       "      <td>0.0</td>\n",
       "      <td>0.0</td>\n",
       "      <td>Torremolinos</td>\n",
       "      <td>Centro</td>\n",
       "      <td>Manantiales - Estación de Autobuses</td>\n",
       "      <td>36.631383</td>\n",
       "      <td>...</td>\n",
       "      <td>unknown</td>\n",
       "      <td>False</td>\n",
       "      <td>276.0</td>\n",
       "      <td>-1.0</td>\n",
       "      <td>0.0</td>\n",
       "      <td>False</td>\n",
       "      <td>False</td>\n",
       "      <td>1137.333333</td>\n",
       "      <td>-861.333333</td>\n",
       "      <td>0-20</td>\n",
       "    </tr>\n",
       "    <tr>\n",
       "      <th>5187</th>\n",
       "      <td>9900</td>\n",
       "      <td>garage</td>\n",
       "      <td>sale</td>\n",
       "      <td>12.5</td>\n",
       "      <td>0.0</td>\n",
       "      <td>0.0</td>\n",
       "      <td>Benalmádena</td>\n",
       "      <td>Torrequebrada</td>\n",
       "      <td>Zona Centro Comercial Torrequebrada</td>\n",
       "      <td>36.581868</td>\n",
       "      <td>...</td>\n",
       "      <td>unknown</td>\n",
       "      <td>False</td>\n",
       "      <td>381.0</td>\n",
       "      <td>-1.0</td>\n",
       "      <td>1.0</td>\n",
       "      <td>False</td>\n",
       "      <td>False</td>\n",
       "      <td>428.500000</td>\n",
       "      <td>-47.500000</td>\n",
       "      <td>0-20</td>\n",
       "    </tr>\n",
       "    <tr>\n",
       "      <th>5188</th>\n",
       "      <td>29260</td>\n",
       "      <td>garage</td>\n",
       "      <td>sale</td>\n",
       "      <td>12.5</td>\n",
       "      <td>0.0</td>\n",
       "      <td>0.0</td>\n",
       "      <td>Marbella</td>\n",
       "      <td>Nueva Andalucía</td>\n",
       "      <td>Nueva Andalucía</td>\n",
       "      <td>36.495655</td>\n",
       "      <td>...</td>\n",
       "      <td>unknown</td>\n",
       "      <td>False</td>\n",
       "      <td>750.0</td>\n",
       "      <td>-1.0</td>\n",
       "      <td>1.0</td>\n",
       "      <td>False</td>\n",
       "      <td>False</td>\n",
       "      <td>1158.400000</td>\n",
       "      <td>-408.400000</td>\n",
       "      <td>0-20</td>\n",
       "    </tr>\n",
       "  </tbody>\n",
       "</table>\n",
       "<p>5189 rows × 21 columns</p>\n",
       "</div>"
      ],
      "text/plain": [
       "      price propertyType operation   size  rooms  bathrooms  municipality  \\\n",
       "0      1500         flat      rent   95.0    2.0        2.0        Málaga   \n",
       "1      1000         flat      rent   30.0    1.0        1.0        Málaga   \n",
       "2      1200         flat      rent  100.0    3.0        1.0        Málaga   \n",
       "3      2000         flat      rent  140.0    3.0        2.0        Málaga   \n",
       "4      1300         flat      rent   75.0    2.0        1.0        Málaga   \n",
       "...     ...          ...       ...    ...    ...        ...           ...   \n",
       "5184   9000       garage      sale   12.5    0.0        0.0         Mijas   \n",
       "5185  22000       garage      sale   12.5    0.0        0.0   Benalmádena   \n",
       "5186   8000       garage      sale   12.5    0.0        0.0  Torremolinos   \n",
       "5187   9900       garage      sale   12.5    0.0        0.0   Benalmádena   \n",
       "5188  29260       garage      sale   12.5    0.0        0.0      Marbella   \n",
       "\n",
       "                 district                         neighborhood   latitude  \\\n",
       "0                  Centro                        Perchel norte  36.721475   \n",
       "1                  Centro                     Centro Histórico  36.720219   \n",
       "2                  Centro                          La Trinidad  36.722701   \n",
       "3                  Centro                     Centro Histórico  36.724211   \n",
       "4                  Centro                Cristo de la Epidemia  36.729643   \n",
       "...                   ...                                  ...        ...   \n",
       "5184   Sitio de Calahonda                   Sitio de Calahonda  36.508218   \n",
       "5185  Parque de la Paloma                  Parque de la Paloma  36.590990   \n",
       "5186               Centro  Manantiales - Estación de Autobuses  36.631383   \n",
       "5187        Torrequebrada  Zona Centro Comercial Torrequebrada  36.581868   \n",
       "5188      Nueva Andalucía                      Nueva Andalucía  36.495655   \n",
       "\n",
       "      ...   status newDevelopment  priceByArea  floor  hasLift  \\\n",
       "0     ...     good          False         16.0    3.0      1.0   \n",
       "1     ...     good          False         33.0    4.0      1.0   \n",
       "2     ...     good          False         12.0    2.0      1.0   \n",
       "3     ...     good          False         14.0    2.0      0.0   \n",
       "4     ...     good          False         17.0    3.0      1.0   \n",
       "...   ...      ...            ...          ...    ...      ...   \n",
       "5184  ...  unknown          False        300.0   -1.0      1.0   \n",
       "5185  ...  unknown          False        815.0    0.0      0.0   \n",
       "5186  ...  unknown          False        276.0   -1.0      0.0   \n",
       "5187  ...  unknown          False        381.0   -1.0      1.0   \n",
       "5188  ...  unknown          False        750.0   -1.0      1.0   \n",
       "\n",
       "      hasParkingSpace  isParkingSpaceIncludedInPrice  \\\n",
       "0               False                          False   \n",
       "1               False                          False   \n",
       "2               False                          False   \n",
       "3               False                          False   \n",
       "4               False                          False   \n",
       "...               ...                            ...   \n",
       "5184            False                          False   \n",
       "5185            False                          False   \n",
       "5186            False                          False   \n",
       "5187            False                          False   \n",
       "5188            False                          False   \n",
       "\n",
       "      avg_price_area_by_type_size_neigh  diff_vs_avg_by_type_size_neigh  \\\n",
       "0                             16.000000                        0.000000   \n",
       "1                             31.666667                        1.333333   \n",
       "2                             12.000000                        0.000000   \n",
       "3                             13.500000                        0.500000   \n",
       "4                             17.000000                        0.000000   \n",
       "...                                 ...                             ...   \n",
       "5184                         405.000000                     -105.000000   \n",
       "5185                        1574.000000                     -759.000000   \n",
       "5186                        1137.333333                     -861.333333   \n",
       "5187                         428.500000                      -47.500000   \n",
       "5188                        1158.400000                     -408.400000   \n",
       "\n",
       "      size_range  \n",
       "0         80-120  \n",
       "1           0-50  \n",
       "2         80-120  \n",
       "3        120-180  \n",
       "4          50-80  \n",
       "...          ...  \n",
       "5184        0-20  \n",
       "5185        0-20  \n",
       "5186        0-20  \n",
       "5187        0-20  \n",
       "5188        0-20  \n",
       "\n",
       "[5189 rows x 21 columns]"
      ]
     },
     "execution_count": 52,
     "metadata": {},
     "output_type": "execute_result"
    }
   ],
   "source": [
    "df"
   ]
  },
  {
   "cell_type": "markdown",
   "id": "d68cb3b9",
   "metadata": {},
   "source": [
    "To fill our priceByArea column, we first grouped the dataframe by operation, status, propertyType, size_range, municipality, district, and neighborhood, and then computed the mean priceByArea. In the app, to compute the priceByArea value of the prediction we want to make, we will create a function that takes these column values along with the original dataframe. The function will compute the size_range for the input row, filter the dataframe using the input values, and calculate the mean priceByArea of the filtered dataframe. This resulting value will be the assigned priceByArea."
   ]
  },
  {
   "cell_type": "code",
   "execution_count": 28,
   "id": "dd09c7b6",
   "metadata": {},
   "outputs": [],
   "source": [
    "with open(\"../data/size_bins_by_detailedType.json\", 'r') as f:\n",
    "    size_bins_by_detailedType = json.load(f)"
   ]
  },
  {
   "cell_type": "code",
   "execution_count": 37,
   "id": "c8d660d3",
   "metadata": {},
   "outputs": [],
   "source": [
    "def assign_size_range(row):\n",
    "    detailed_type = row['detailedType']\n",
    "    size = row['size']\n",
    "    bins = size_bins_by_detailedType.get(detailed_type)\n",
    "\n",
    "    if bins is None:\n",
    "        return 'Unknown'\n",
    "\n",
    "    # Asegurar que sea una lista, ordenada y sin duplicados\n",
    "    bins = sorted(set(bins))\n",
    "    \n",
    "    # Asegurar que cubra todos los valores\n",
    "    if bins[-1] != float('inf'):\n",
    "        bins = bins + [float('inf')]\n",
    "\n",
    "    labels = [\n",
    "        f\"{int(bins[i])}-{int(bins[i+1])}\" if bins[i+1] != float('inf')\n",
    "        else f\"{int(bins[i])}+\"\n",
    "        for i in range(len(bins)-1)\n",
    "    ]\n",
    "\n",
    "    cat = pd.cut([size], bins=bins, labels=labels, include_lowest=True)\n",
    "\n",
    "    return cat[0] if not pd.isna(cat[0]) else 'Unknown'\n"
   ]
  },
  {
   "cell_type": "code",
   "execution_count": 38,
   "id": "89318589",
   "metadata": {},
   "outputs": [],
   "source": [
    "def estimate_price_by_area(df, operation, status, property_type, size, municipality, district, neighborhood):\n",
    "    df['size_range'] = df.apply(assign_size_range, axis=1)\n",
    "    bins = size_bins_by_detailedType.get(property_type)\n",
    "    if bins is None:\n",
    "        return None\n",
    "\n",
    "    labels = [f\"{int(bins[i])}-{int(bins[i+1])}\" if bins[i+1] != float('inf') else f\"{int(bins[i])}+\" for i in range(len(bins)-1)]\n",
    "    size_range = pd.cut([size], bins=bins, labels=labels)[0]\n",
    "\n",
    "    filtered_df = df[\n",
    "        (df['operation'] == operation) &\n",
    "        (df['status'] == status) &\n",
    "        (df['propertyType'] == property_type) &\n",
    "        (df['size_range'] == size_range) &\n",
    "        (df['municipality'] == municipality) &\n",
    "        (df['district'] == district) &\n",
    "        (df['neighborhood'] == neighborhood)\n",
    "    ]\n",
    "\n",
    "    return filtered_df['priceByArea'].mean()"
   ]
  },
  {
   "cell_type": "code",
   "execution_count": 39,
   "id": "c88c8ace",
   "metadata": {},
   "outputs": [
    {
     "name": "stdout",
     "output_type": "stream",
     "text": [
      "19.0\n"
     ]
    }
   ],
   "source": [
    "priceByArea = estimate_price_by_area(\n",
    "    df, 'rent', 'good', 'flat', 95, 'Málaga', 'Centro', 'Perchel norte')\n",
    "print(priceByArea)"
   ]
  },
  {
   "cell_type": "code",
   "execution_count": 41,
   "id": "65331483",
   "metadata": {},
   "outputs": [
    {
     "data": {
      "text/plain": [
       "103"
      ]
     },
     "execution_count": 41,
     "metadata": {},
     "output_type": "execute_result"
    }
   ],
   "source": [
    "with open(\"../data/app_data/municipios_20250824.geojson\", \"r\", encoding=\"utf-8\") as f:\n",
    "      malaga_geojson = json.load(f)\n",
    "\n",
    "len(malaga_geojson['features'])"
   ]
  },
  {
   "cell_type": "code",
   "execution_count": 43,
   "id": "8b2ae51e",
   "metadata": {},
   "outputs": [],
   "source": [
    "from shapely.geometry import shape\n",
    "from shapely.ops import unary_union\n",
    "\n",
    "polygons = [shape(feature['geometry']) for feature in malaga_geojson['features']]\n",
    "malaga_polygon = unary_union(polygons)"
   ]
  },
  {
   "cell_type": "code",
   "execution_count": 44,
   "id": "03883f0c",
   "metadata": {},
   "outputs": [],
   "source": [
    "import pickle\n",
    "with open(\"../data/app_data/malaga_polygon.pkl\", \"wb\") as f:\n",
    "    pickle.dump(malaga_polygon, f)"
   ]
  },
  {
   "cell_type": "code",
   "execution_count": 45,
   "id": "fa1f1389",
   "metadata": {},
   "outputs": [],
   "source": [
    "detailed_to_property = (\n",
    "    df[[\"detailedType\", \"propertyType\"]]\n",
    "    .dropna()\n",
    "    .drop_duplicates()\n",
    "    .set_index(\"detailedType\")[\"propertyType\"]\n",
    "    .to_dict()\n",
    ")"
   ]
  },
  {
   "cell_type": "code",
   "execution_count": 46,
   "id": "7cd57913",
   "metadata": {},
   "outputs": [],
   "source": [
    "with open(\"../data/app_data/detailed_to_property.json\", \"w\") as f:\n",
    "    json.dump(detailed_to_property, f)"
   ]
  },
  {
   "cell_type": "code",
   "execution_count": 47,
   "id": "6fb532cd",
   "metadata": {},
   "outputs": [],
   "source": [
    "property_to_detailed = {}\n",
    "for d, p in detailed_to_property.items():\n",
    "    property_to_detailed.setdefault(p, []).append(d)"
   ]
  },
  {
   "cell_type": "code",
   "execution_count": 48,
   "id": "84658a2d",
   "metadata": {},
   "outputs": [],
   "source": [
    "with open(\"../data/app_data/property_to_detailed.json\", \"w\") as f:\n",
    "    json.dump(property_to_detailed, f)"
   ]
  },
  {
   "cell_type": "code",
   "execution_count": 1,
   "id": "3bb9c385",
   "metadata": {},
   "outputs": [
    {
     "name": "stdout",
     "output_type": "stream",
     "text": [
      "Columns in input_df: ['propertyType', 'size', 'rooms', 'bathrooms', 'municipality', 'district', 'neighborhood', 'latitude', 'longitude', 'status', 'newDevelopment', 'priceByArea', 'detailedType', 'floor', 'hasLift', 'hasParkingSpace', 'isParkingSpaceIncludedInPrice']\n",
      "Expecting columns: ['propertyType', 'operation', 'municipality', 'district', 'neighborhood', 'status', 'detailedType']\n",
      "model input:  {'propertyType': 'studio', 'size': 40, 'rooms': 1, 'bathrooms': 1, 'municipality': 'Fuengirola', 'district': 'Los Boliches', 'neighborhood': 'Los Boliches', 'latitude': 36.55423, 'longitude': -4.61628, 'status': 'good', 'newDevelopment': False, 'priceByArea': nan, 'detailedType': 'studio', 'floor': 5, 'hasLift': True, 'hasParkingSpace': True, 'isParkingSpaceIncludedInPrice': True}\n",
      "Price prediction: 166215.1419252852\n"
     ]
    }
   ],
   "source": [
    "from dash_app.utils.app_utils import get_price_prediction\n",
    "\n",
    "prediction = get_price_prediction('studio', 'sale', 40, 1, 1, 'Fuengirola', 'Los Boliches', 'Los Boliches', 36.55423, -4.61628, 'good', 'studio', True, 5, True)"
   ]
  },
  {
   "cell_type": "code",
   "execution_count": null,
   "id": "fb90e1d2",
   "metadata": {},
   "outputs": [],
   "source": [
    "print(prediction)"
   ]
  },
  {
   "cell_type": "code",
   "execution_count": 6,
   "id": "9195d418",
   "metadata": {},
   "outputs": [
    {
     "name": "stdout",
     "output_type": "stream",
     "text": [
      "['carAndMotorcycle' 'casaDePueblo' 'casale' 'caseron' 'chalet'\n",
      " 'commercialProperty' 'compactCar' 'cortijo' 'countryHouse' 'duplex'\n",
      " 'flat' 'garage' 'independantHouse' 'industrialPremise' 'office'\n",
      " 'penthouse' 'premise' 'sedanCar' 'semidetachedHouse' 'studio'\n",
      " 'terracedHouse' 'twoCars']\n"
     ]
    }
   ],
   "source": [
    "import pickle\n",
    "with open(\"data/app_data/encoders.pkl\", 'rb') as f:\n",
    "    encoders = pickle.load(f)\n",
    "print(encoders[\"detailedType\"].classes_)\n"
   ]
  },
  {
   "cell_type": "code",
   "execution_count": 4,
   "id": "24c9d6b4",
   "metadata": {},
   "outputs": [
    {
     "data": {
      "application/vnd.plotly.v1+json": {
       "config": {
        "plotlyServerURL": "https://plot.ly"
       },
       "data": [
        {
         "alignmentgroup": "True",
         "hovertemplate": "operation=rent<br>propertyType=flat<br>floor=%{x}<br>price=%{y}<extra></extra>",
         "legendgroup": "rent",
         "marker": {
          "color": "#636efa"
         },
         "name": "rent",
         "notched": false,
         "offsetgroup": "rent",
         "orientation": "v",
         "showlegend": true,
         "type": "box",
         "x": {
          "bdata": "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",
          "dtype": "f8"
         },
         "x0": " ",
         "xaxis": "x",
         "y": {
          "bdata": "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",
          "dtype": "i2"
         },
         "y0": " ",
         "yaxis": "y"
        },
        {
         "alignmentgroup": "True",
         "hovertemplate": "operation=rent<br>propertyType=penthouse<br>floor=%{x}<br>price=%{y}<extra></extra>",
         "legendgroup": "rent",
         "marker": {
          "color": "#636efa"
         },
         "name": "rent",
         "notched": false,
         "offsetgroup": "rent",
         "orientation": "v",
         "showlegend": false,
         "type": "box",
         "x": {
          "bdata": "AAAAAAAAHEAAAAAAAAAYQAAAAAAAABBAAAAAAAAAJEAAAAAAAAAQQAAAAAAAABRAAAAAAAAAEEAAAAAAAAAQQAAAAAAAABxAAAAAAAAAHEAAAAAAAAAAQAAAAAAAACRAAAAAAAAAAEAAAAAAAAAAQAAAAAAAAABAAAAAAAAAEEAAAAAAAAAYQAAAAAAAAABAAAAAAAAAIEAAAAAAAAAIQAAAAAAAAAhAAAAAAAAAAEAAAAAAAADwPwAAAAAAAAhAAAAAAAAAAEAAAAAAAAAQQAAAAAAAAABAAAAAAAAAEEAAAAAAAAAAQAAAAAAAAAhAAAAAAAAAHEAAAAAAAAAIQAAAAAAAAABAAAAAAAAAAEAAAAAAAAAUQAAAAAAAAPA/AAAAAAAAAEAAAAAAAAAAQAAAAAAAAABAAAAAAAAAAEAAAAAAAAAcQAAAAAAAABhAAAAAAAAAHEAAAAAAAAAIQAAAAAAAAAhAAAAAAAAACEAAAAAAAAAAQAAAAAAAAABAAAAAAAAAAEAAAAAAAAAYQAAAAAAAAABAAAAAAAAAAEAAAAAAAAAAQAAAAAAAAPA/AAAAAAAAAEAAAAAAAAAAQAAAAAAAAPA/AAAAAAAACEAAAAAAAADwPwAAAAAAAPA/AAAAAAAACEAAAAAAAAAIQAAAAAAAAABAAAAAAAAAAEAAAAAAAAAIQAAAAAAAAABAAAAAAAAAEEAAAAAAAAAAQAAAAAAAAAhAAAAAAAAAAEAAAAAAAAAxQAAAAAAAAABAAAAAAAAACEAAAAAAAAAUQAAAAAAAAABAAAAAAAAAEEAAAAAAAAAUQAAAAAAAAAhAAAAAAAAAAEAAAAAAAAAIQAAAAAAAAAhAAAAAAAAAAEAAAAAAAAAQQAAAAAAAABBAAAAAAAAACEAAAAAAAAAYQAAAAAAAAABAAAAAAAAAAEAAAAAAAAAAQAAAAAAAACRAAAAAAAAAAEAAAAAAAAAQQAAAAAAAAABAAAAAAAAAAEAAAAAAAAAAQAAAAAAAABhAAAAAAAAAAEAAAAAAAAAYQAAAAAAAABRAAAAAAAAACEAAAAAAAAAUQAAAAAAAABBAAAAAAAAA8D8AAAAAAAAAQAAAAAAAAAhAAAAAAAAAEEAAAAAAAAAAQAAAAAAAAAhAAAAAAAAAGEAAAAAAAAAYQAAAAAAAAAhAAAAAAAAAAEAAAAAAAAAkQAAAAAAAAABAAAAAAAAAAEAAAAAAAAAYQAAAAAAAAABAAAAAAAAAAEAAAAAAAAAUQAAAAAAAABhAAAAAAAAAAEAAAAAAAAAAQAAAAAAAABxAAAAAAAAACEAAAAAAAAAQQAAAAAAAABBAAAAAAAAACEAAAAAAAAAAQAAAAAAAABRAAAAAAAAAAEAAAAAAAAAQQAAAAAAAAAhAAAAAAAAAAEAAAAAAAAAAQAAAAAAAAABAAAAAAAAAAEAAAAAAAAAUQAAAAAAAABRAAAAAAAAAAEAAAAAAAAAAQAAAAAAAABxAAAAAAAAAEEAAAAAAAAAIQAAAAAAAAABAAAAAAAAACEAAAAAAAAAYQAAAAAAAAAhAAAAAAAAAFEA=",
          "dtype": "f8"
         },
         "x0": " ",
         "xaxis": "x2",
         "y": {
          "bdata": "bAeEAwgHVAtrA8wQsAQUBdAHpAZABlQLsASYCEAG3AXQB8QJnwY8D1AUFgMIB5gIpAYOBpgIsAQIB3gFfgRyBqwN0AegCrgLTA58FXAXhAPeDPAK3AXAEtYGlBFkGbgLgAykBloK/Ai4C8wQzBCgDwgHdA6sDSILuAvMEMQJ0AckEyQTmAhWE8oImAjcBfwIQAbwCrgLcBcUBRQF3AV4BdQDAAXoAzoHIgsUBUAGrA2wBFQLiBN4BegDCAewBLgLWgq4CxQFcgZ4BdIFtgMoCpgIQAaIEwgH3AUUBVIDxAkuCcQJIgs6BxwMUgPQBz8GPA8cDGAJlBF4BUwETAQuBIgTcBdGBbAE5AzECYQDKAqwBCcG3AV8FUAGpg4nBsQJCAeqBbwCbAc=",
          "dtype": "i2"
         },
         "y0": " ",
         "yaxis": "y2"
        },
        {
         "alignmentgroup": "True",
         "hovertemplate": "operation=rent<br>propertyType=studio<br>floor=%{x}<br>price=%{y}<extra></extra>",
         "legendgroup": "rent",
         "marker": {
          "color": "#636efa"
         },
         "name": "rent",
         "notched": false,
         "offsetgroup": "rent",
         "orientation": "v",
         "showlegend": false,
         "type": "box",
         "x": {
          "bdata": "AAAAAAAAAAAAAAAAAAAUQAAAAAAAAPA/AAAAAAAAAEAAAAAAAAAAQAAAAAAAAAAAAAAAAAAA8D8AAAAAAAAAAAAAAAAAAAAAAAAAAAAA8D8AAAAAAAAYQAAAAAAAAAAAAAAAAAAA4D8AAAAAAADwPwAAAAAAABBAAAAAAAAAAAAAAAAAAAAQQAAAAAAAAPA/AAAAAAAAAAAAAAAAAAAAAAAAAAAAAAAAAAAAAAAA8D8AAAAAAAAAAAAAAAAAAABAAAAAAAAA8D8AAAAAAAAAQAAAAAAAAAAAAAAAAAAAAEAAAAAAAAAAAAAAAAAAACJAAAAAAAAAGEAAAAAAAAAAQAAAAAAAAABAAAAAAAAA8D8AAAAAAAAAQAAAAAAAAPA/AAAAAAAACEAAAAAAAAAUQAAAAAAAAAAAAAAAAAAACEAAAAAAAAAAAAAAAAAAAAAAAAAAAAAA8D8AAAAAAAAcQAAAAAAAAABAAAAAAAAAIEAAAAAAAAAAQAAAAAAAABhAAAAAAAAAGEAAAAAAAAAAQAAAAAAAAABAAAAAAAAAAAAAAAAAAAAYQAAAAAAAAAAAAAAAAAAAEEAAAAAAAAAmQAAAAAAAAAAAAAAAAAAAAEAAAAAAAAAkQAAAAAAAAPA/AAAAAAAAGEAAAAAAAAAAAAAAAAAAABhAAAAAAAAAAEAAAAAAAAAAAAAAAAAAABxAAAAAAAAA8D8AAAAAAADwPwAAAAAAAAhAAAAAAAAAHEAAAAAAAAAAAAAAAAAAAAAAAAAAAAAA8D8AAAAAAAAmQAAAAAAAABRAAAAAAAAAAEAAAAAAAAAAAAAAAAAAABxAAAAAAAAAAEAAAAAAAAAUQAAAAAAAABhAAAAAAAAAAAAAAAAAAAAQQAAAAAAAAAAAAAAAAAAAAAAAAAAAAADwPwAAAAAAAABAAAAAAAAAFEAAAAAAAAAAQAAAAAAAACZAAAAAAAAA8D8AAAAAAAAAAAAAAAAAABhAAAAAAAAAAAAAAAAAAAAYQAAAAAAAAPA/AAAAAAAAAAAAAAAAAAAIQAAAAAAAABxAAAAAAAAAFEAAAAAAAAAIQAAAAAAAAAAA",
          "dtype": "f8"
         },
         "x0": " ",
         "xaxis": "x3",
         "y": {
          "bdata": "CAd6A9oCRgUgA4QDTATPA7wC1QL8AyADUgMaBCADTARSA9oC3gMUBRYD0AIgAxQFogOdA7YDRgWwBLwCvALDBe4CeAWwBK8EnQNABoQDvAJrA6cDTASwBJ0DIANSA1IDhAPuArwCzwOwBEwE7gIgA8MFrwRSA9wFnQN4BYQDtgNSA1IDfgT4ArYDUgPeA7wCIAO2A2sDFAUgA4QD7gJSA+gDCAfuArYDhANMBEYFfwMaBN4DNAjuAlIDsARSA+4C4gR/A7AEtgNSA+cD",
          "dtype": "i2"
         },
         "y0": " ",
         "yaxis": "y3"
        },
        {
         "alignmentgroup": "True",
         "hovertemplate": "operation=rent<br>propertyType=chalet<br>floor=%{x}<br>price=%{y}<extra></extra>",
         "legendgroup": "rent",
         "marker": {
          "color": "#636efa"
         },
         "name": "rent",
         "notched": false,
         "offsetgroup": "rent",
         "orientation": "v",
         "showlegend": false,
         "type": "box",
         "x": {
          "bdata": "AAAAAAAAAAAAAAAAAAAAAAAAAAAAAAAAAAAAAAAAAAAAAAAAAAAAAAAAAAAAAAAAAAAAAAAAAAAAAAAAAAAAAAAAAAAAAAAAAAAAAAAAAAAAAAAAAAAAAAAAAAAAAAAAAAAAAAAAAAAAAAAAAAAAAAAAAAAAAAAAAAAAAAAAAAAAAAAAAAAAAAAAAAAAAAAAAAAAAAAAAAAAAAAAAAAAAAAAAAAAAAAAAAAAAAAAAAAAAAAAAAAAAAAAAAAAAAAAAAAAAAAAAAAAAAAAAAAAAAAAAAAAAAAAAAAAAAAAAAAAAAAAAAAAAAAAAAAAAAAAAAAAAAAAAAAAAAAAAAAAAAAAAAAAAAAAAAAAAAAAAAAAAAAAAAAAAAAAAAAAAAAAAAAAAAAAAAAAAAAAAAAAAAAAAAAAAAAAAAAAAAAAAAAAAAAAAAAAAAAAAAAAAAAAAAAAAAAAAAAAAAAAAAAAAAAAAAAAAAAAAAAAAAAAAAAAAAAAAAAAAAAAAAAAAAAAAAAAAAAAAAAAAAAAAAAAAAAAAAAAAAAAAAAAAAAAAAAAAAAAAAAAAAAAAAAAAAAAAAAAAAAAAAAAAAAAAAAAAAAAAAAAAAAAAAAAAAAAAAAAAAAAAAAAAAAAAAAAAAAAAAAAAAAAAAAAAAAAAAAAAAAAAAAAAAAAAAAAAAAAAAAAAAAAAAAAAAAAAAAAAAAAAAAAAAAAAAAAAAAAAAAAAAAAAAAAAAAAAAAAAAAAAAAAAAAAAAAAAAAAAAAAAAAAAAAAAAAAAAAAAAAAAAAAAAAAAAAAAAAAAAAAAAAAAAAAAAAAAAAAAAAAAAAAAAAAAAAAAAAAAAAAAAAAAAAAAAAAAAAAAAAAAAAAAAAAAAAAAAAAAAAAAAAAAAAAAAAAAAAAAAAAAAAAAAAAAAAAAAAAAAAAAAAAAAAAAAAAAAAAAAAAAAAAAAAAAAAAAAAAAAAAAAAAAAAAAAAAAAAAAAAAAAAAAAAAAAAAAAAAAAAAAAAAAAAAAAAAAAAAAAAAAAAAAAAAAAAAAAAAAAAAAAAAAAAAAAAAAAAAAAAAAAAAAAAAAAAAAAAAAAAAAAAAAAAAAAAAAAAAAAAAAAAAAAAAAAAAAAAAAAAAAAAAAAAAAAAAAAAAAAAAAAAAAAAAAAAAAAAAAAAAAAAAAAAAAAAAAAAAAAAAAAAAAAAAAAAAAAAAAAAAAAAAAAAAAAAAAAAAAAAAAAAAAAAAAAAAAAAAAAAAAAAAAAAAAAAAAAAAAAAAAAAAAAAAAAAAAAAAAAAAAAAAAAAAAAAAAAAAAAAAAAAAAAAAAAAAAAAAAAAAAAAAAAAAAAAAAAAAAAAAAAAAAAAAAAAAAAAAAAAAAAAAAAAAAAAAAAAAAAAAAAAAAAAAAAAAAAAAAAAAAAAAAAAAAAAAAAAAAAAAAAAAAAAAAAAAAAAAAAAAAAAAAAAAAAAAAAAAAAAAAAAAAAAAAAAAAAAAAAAAAAAAAAAAAAAAAAAAAAAAAAAAAAAAAAAAAAAAAAAAAAAAAAAAAAAAAAAAAAAAAAAAAAAAAAAAAAAAAAAAAAAAAAAAAAAAAAAAAAAAAAAAAAAAAAAAAAAAAAAAAAAAAAAAAAAAAAAAAAAAAAAAAAAAAAAAAAAAAAAAAAAAAAAAAAAAAAAAAAAAAAAAAAAAAAAAAAAAAAAAAAAAAAAAAAAAAAAAAAAAAAAAAAAAAAAAAAAAAAAAAAAAAAAAAAAAAAAAAAAAAAAAAAAAAAAAAAAAAAAAAAAAAAAAAAAAAAAAAAAAAAAAAAAAAAAAAAAAAAAAAAAAAAAAAAAAAAAAAAAAAAAAAAAAAAAAAAAAAAAAAAAAAAAAAAAAAAAAAAAAAAAAAAAAAAAAAAAAAAAAAAAAAAAAAAAAAAAAAAAAAAAAAAAAAAAAAAAAAAAAAAAAAAAAAAAAAAAAAAAAAAAAAAAAAAAAAAAAAAAAAAAAAAAAAAAAAAAAAAAAAAAAAAAAAAAAAAAAAAAAAAAAAAAAAAAAAAAAAAAAAAAAAAAAAAAAAAAAAAAAAAAAAAAAAAAAAAAAAAAAAAAAAAAAAAAAAAAAAAAAAAAAAAAAAAAAAAAAAAAAAAAAAAAAAAAAAAAAAAAAAAAAAAAAAAAAAAAAAAAAAAAAAAAAAAAAAAAAAAAAAAAAAAAAAAAAAAAAAAAAAAAAAAAAAAAAAAAAAAAAAAAAAAAAAAAAAAAAAAAAAAAAAAAAAAAAAAAAAAAAAAAAAAAAAAAAAAAAAAAAAAAAAAAAAAAAAAAAAAAAAAAAAAAAAAAAAAAAAAAAAAAAAAAAAAAAAAAAAAAAAAAAAAAAAAAAAAAAAAAAAAAAAAAAAAAAAAAAAAAAAAAAAAAAAAAAAAAAAAAAAAAAAAAAAAAAAAAAAAAAAAAAAAAAAAAAAAAAAAAAAAAAAAAAAAAAAAAAAAAAAAAAAAAAAAAAAAAAAAAAAAAAAAAAAAAAAAAAAAAAAAAAAAAAAAAAAAAAAAAAAAAAAAAAAAAAAAAAAAAAAAAAAAAAAAAAAAAAAAAAAAAAAAAAAAAAAAAAAAAAAAAAAAAAAAAAAAAAAAAAAAAAAAAAAAAAAAAAAAAAAAAAAAAAAAAAAAAAAAAAAAAAAAAAAAAAAAAAAAAAAAAAAAAAAAAAAAAAAAAAAAAAAAAAAAAAAAAAAAAAAAAAAAAAAAAAAAAAAAAAAAAAAAAAAAAAAAAAAAAAAAAAAAAAAAAAAAAAAAAAAAAAAAAAAAAAAAAAAAAAAAAAAAAAAAAAAAAAAAAAAAAAAAAAAAAAAAAAAAAAAAAAAAAAAAAAAAAAAAAAAAAAAAAAAAAAAAAAAAAAAAAAAAAAAAAAAAAAAAAAAAAAAAAAAAAAAAAAAAAAAAAAAAAAAAAAAAAAAAAAAAAAAAAAAAAAAAAAAAAAAAAAAAAAAAAAAAAAAAAAAAAAAAAAAAAAAAAAAAAAAAAAAAAAAAAAAAAAAAAAAAAAAAAAAAAAAAAAAAAAAAAAAAAAAAAAAAAAAAAAAAAAAAAAAAAAAAAAAAAAAAAAAAAAAAAAAAAAAAAAAAAAAAAAAAAAAAAAAAAAAAAAAAAAAAAAAAAAAAAAAAAAAAAAAAAAAAAAAAAAAAAAAAAAAAAAAAAAAAAAAAAAAAAAAAAAAAAAAAAAAAAAAAAAAAAAAAAAAAAAAAAAAAAAAAAAAAAAAAAAAAAAAAAAAAAAAAAAAAAAAAAAAAAAAAAAAAAAAAAAAAAAAAAAAAAAAAAAAAAAAAAAAAAAAAAAAAAAAAAAAAAAAAAAAAAAAAAAAAAAAAAAAAAAAAAAAAAAAAAAAAAAAAAAAAAAAAAAAAAAAAAAAAAAAAAAAAAAAAAAAAAAAAAAAAAAAAAAAAAAAAAAAAAAAAAAAAAAAAAAAAAAAAAAAAAAAAAAAAAAAAAAAAAAAAAAAAAAAAAAAAAAAAAAAAAAAAAAAAAAAAAAAAAAAAAAAAAAAAAAAAAAAAAAAAAAAAAAAAAAAAAAAAAAAAAAAAAAAAAAAAAAAAAAAAAAAAAAAAAAAAAAAAAAAAAAAAAAAAAAAAAAAAAAAAAAAAAAAAAA",
          "dtype": "f8"
         },
         "x0": " ",
         "xaxis": "x4",
         "y": {
          "bdata": "FAXcBQgHswusDcQJywcOBogTuAvcBawNrA30Gs8H6ANyBvgRpAbAEn8MmAhMBNYGcBcUBZ4HDBe4C5YPcBfECZgIxAnoA1gboA94BaAPrA00CPwIDgY8D7AEKAoaBOQM0AekBggHiBOsDbYD3g2sDZQRxAlwFygKpg7cBSgKkgl8FXwVcBdYG9gOpAbcBYgTQAbECdAHcBesDXAXfBW4C1gb5AzQB2AJcBd8FYgTCAesDdAHnBhwFwgHrA2gD7gLbxfECcgZrA3QB4QDmAjIGaAPWBtIDVgbKArIGdwFcBd4BRwMPA88D3wVoA9IDXwViBMEEAwXcBcQDvAKWBtkGawNiBOIE9gODBf8CGQZrA3ECWQZHAxkGTgYdA5wFyQTCAcAGcQJsAR8FVgbCAeSCZgIWBvkDGQZsATAEoQDsAQIB9gOrA24CygFiBNkGXwVPA+2AwQQ4gTcBdAHCAdgCbgLxAlkGYAMrA0QDqQG+BF8FeQMoA8KD9wFjAqwBNwF8ApABrgLEA6UEaAP8Ap8FRQFFAU8D3wVPA98FawNEA64C/IICAcPBawNHAymDgYYpg4sGjwPuAumDogTiBOUEXgFyBnIGVIDuAtwF4AMwBJ4BdAHZBnECZ4HcBeMCm4PxAm4C7IMsASUEVgbHAwkE7gLxAnQBzwPTAR4BSADFAUUBaQGuAuUEUAGxAmIE+QM0AewBJQRlBHkDMQJTARMBNgOoA+yDFgbQAZABg4GrA1uD0wElBFYGyQTsATECdwFZBlkGTgYDBdYGzQIJBNwFxwMGBV0DpQRxAmgDxwMmAhUC1gb0AfQB6wN8ArECTwP8AqUEbgLmAiIE3AXWBtYG24PpAYGGNAHlBHAEhQFfBWsDXQOlBGwBKQGZBmsDdAH",
          "dtype": "i2"
         },
         "y0": " ",
         "yaxis": "y4"
        },
        {
         "alignmentgroup": "True",
         "hovertemplate": "operation=rent<br>propertyType=duplex<br>floor=%{x}<br>price=%{y}<extra></extra>",
         "legendgroup": "rent",
         "marker": {
          "color": "#636efa"
         },
         "name": "rent",
         "notched": false,
         "offsetgroup": "rent",
         "orientation": "v",
         "showlegend": false,
         "type": "box",
         "x": {
          "bdata": "AAAAAAAAAEAAAAAAAAAAQAAAAAAAAABAAAAAAAAA8D8AAAAAAAAAAAAAAAAAAAhAAAAAAAAAAAAAAAAAAAAUQAAAAAAAABBAAAAAAAAAEEAAAAAAAAAAQAAAAAAAAAAAAAAAAAAAAEAAAAAAAAAIQAAAAAAAAAhAAAAAAAAACEAAAAAAAAAIQAAAAAAAAAhAAAAAAAAAAAAAAAAAAADwPwAAAAAAABRAAAAAAAAA8D8AAAAAAAAAAAAAAAAAAAAAAAAAAAAACEAAAAAAAAAIQAAAAAAAAAAAAAAAAAAAAAAAAAAAAAAQQAAAAAAAAAAAAAAAAAAAEEAAAAAAAAAAQAAAAAAAAAhAAAAAAAAACEAAAAAAAAAQQAAAAAAAAPA/AAAAAAAAEEAAAAAAAAAAQAAAAAAAAABAAAAAAAAAEEAAAAAAAAAIQAAAAAAAABRAAAAAAAAA8D8AAAAAAAAIQAAAAAAAAAhAAAAAAAAAAEAAAAAAAAAAQAAAAAAAAAAAAAAAAAAAAEAAAAAAAAAAAAAAAAAAAAhAAAAAAAAAAEAAAAAAAAAAAAAAAAAAAAhAAAAAAAAACEAAAAAAAAAAAAAAAAAAAAhAAAAAAAAA8D8AAAAAAAAAQAAAAAAAABBAAAAAAAAA8D8AAAAAAAAAAAAAAAAAAPA/AAAAAAAA8D8AAAAAAAAIQAAAAAAAAABAAAAAAAAAAAAAAAAAAAAAQAAAAAAAAABAAAAAAAAAAEAAAAAAAAAAQAAAAAAAAPA/AAAAAAAA8D8AAAAAAADwPwAAAAAAAAAAAAAAAAAACEAAAAAAAADgPwAAAAAAAAhAAAAAAAAAAEAAAAAAAADwPwAAAAAAAPA/AAAAAAAAFEAAAAAAAAAIQAAAAAAAAAhAAAAAAAAAAAAAAAAAAADwPwAAAAAAABRAAAAAAAAACEAAAAAAAAAIQAAAAAAAABBAAAAAAAAAAAAAAAAAAADwPwAAAAAAAAhAAAAAAAAACEAAAAAAAAAAAAAAAAAAAABAAAAAAAAAAEAAAAAAAADwPwAAAAAAAAhAAAAAAAAACEAAAAAAAAAIQAAAAAAAAAhAAAAAAAAAAEAAAAAAAAAAQAAAAAAAAAAAAAAAAAAACEA=",
          "dtype": "f8"
         },
         "x0": " ",
         "xaxis": "x5",
         "y": {
          "bdata": "3AX8CNAHrwTnA3gF3AWeB3gFeAUMF/AKDBeYCFoK8ApwF9AHxAkgA+YKzBCkBugDvgoIB6QGuAugD0AG0AdGBVgbfBWUEegDrA1wF9AH0AfAEvAKxAnECVgbxAmIE+cDfgTECQoPgAySCdwFuAsUBagWsAQoCqQGFAUUBbgLHAzAEsQJjArECX4EzBCYCLAErA2gDygK0AewBBoE+BGUETwPHgq4C8QJFAXcBdwFzBDECXwVqgXPAzQI+BGaEKYORBaIE8ASiBPcBZgIpAasDS4JIAM=",
          "dtype": "i2"
         },
         "y0": " ",
         "yaxis": "y5"
        },
        {
         "alignmentgroup": "True",
         "hovertemplate": "operation=rent<br>propertyType=office<br>floor=%{x}<br>price=%{y}<extra></extra>",
         "legendgroup": "rent",
         "marker": {
          "color": "#636efa"
         },
         "name": "rent",
         "notched": false,
         "offsetgroup": "rent",
         "orientation": "v",
         "showlegend": false,
         "type": "box",
         "x": {
          "bdata": "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",
          "dtype": "f8"
         },
         "x0": " ",
         "xaxis": "x6",
         "y": {
          "bdata": "ZgYzAwED8AjXBHcEcgk0BH4PGQQHB0sEKQXOCnoDegN4BSADIANMBNAH0AfuAkAGUgOkBmwHcBe4C+gDUgPcBYQDmAggHMQJ4gTcBWsD3AWSCT4DIBxUBu4CQAYgA+4CwwpMBPAK1gZABrgL4wJ1CfEDKQViA9oIpATGArwC0AeEA0QF0AcIB4QDQgRYG0wExAlYG8QJZgi4C7AECgWIE+gDiBNSA8oIUgPuAlIDsARSA7YDwBLQB3gFfgSEA7gLvAIgA9wFyAy0B+IEbAeYCPwIQAaYCEAG3AXTC50IvAeIE1QGjAqeB0gD0AcIB9AH3AW8ApgIeAXuAugDsAQIB+gDCgU6B34E0AegD9AHpAYgA5QR3gPuArAEhAPoA7wC/gLECa8E6AOkBsQJsARMBEAGPQd4Bd4DQAa+CpgI1gbWBowKhAO8Au4CvAKEA9AHtgPECegDbAfcBdwFhANSAxQF5QrcBYQDOAQgA9wFvALWBkwE3gOIE7YDhANYG7wHDAOwBCAcEARsB0wEIAPECTwPEATWAsQJlBG2A8QJvAKMCvAFkAtlBMQJLglGBRYDeAXcBYQDcBfECcQJ3AWUEegDbg8KFJgIwwrYDu4C+BHcBaQGQAZSA94DfgRwF5QRaBBgCWwHUgMIB0AGMgWMCtYG6AOMCrAE6AMuCdwF3AVsB7YDOgfRCw==",
          "dtype": "i2"
         },
         "y0": " ",
         "yaxis": "y6"
        },
        {
         "alignmentgroup": "True",
         "hovertemplate": "operation=rent<br>propertyType=premise<br>floor=%{x}<br>price=%{y}<extra></extra>",
         "legendgroup": "rent",
         "marker": {
          "color": "#636efa"
         },
         "name": "rent",
         "notched": false,
         "offsetgroup": "rent",
         "orientation": "v",
         "showlegend": false,
         "type": "box",
         "x": {
          "bdata": "AAAAAAAAAAAAAAAAAAAAAAAAAAAAAAAAAAAAAAAAAAAAAAAAAAAAAAAAAAAAAAAAAAAAAAAAAAAAAAAAAAAAAAAAAAAAAAAAAAAAAAAAAAAAAAAAAAAAAAAAAAAAAAAAAAAAAAAAAAAAAAAAAAAAAAAAAAAAAPC/AAAAAAAAAAAAAAAAAAAAQAAAAAAAAAAAAAAAAAAAAAAAAAAAAADwPwAAAAAAAAAAAAAAAAAAAAAAAAAAAAAAAAAAAAAAAAAAAAAAAAAAAAAAAAAAAAAAAAAAAAAAAAAAAAAAAAAAAAAAAAAAAAAAAAAAAAAAAAAAAAAAAAAAAAAAAAAAAAAAAAAAAAAAAAAAAAAAAAAAAAAAAAAAAAAAAAAAAAAAAAAAAAAAAAAAAAAAAAAAAAAAAAAAAAAAAAAAAAAAAAAAAAAAAAAAAAAAAAAAAAAAAAAAAAAAAAAAAAAAAAAAAAAAAAAAAAAAAAAAAAAAAAAAAAAAAAAAAAAAAAAAAAAAAAAAAAAAAAAAAAAAAAAAAADwPwAAAAAAAAAAAAAAAAAAAAAAAAAAAAAAAAAAAAAAAAAAAAAAAAAAAAAAAAAAAAAAAAAAAAAAAAAAAAAAAAAAAAAAAAAAAAAAAAAAAAAAAAAAAAAAAAAAAAAAAAAAAAAAAAAAAAAAAAAAAAAAAAAAAAAAAAAAAAAAAAAAAAAAAAAAAAAAAAAAAAAAAAAAAAAAAAAAAAAAAAAAAAAAAAAAAAAAAAAAAAAAAAAAAAAAAAAAAAAAAAAAAAAAAAAAAAAAAAAAAAAAAAAAAAAAAAAAAAAAAAAAAAAAAAAAAAAAAAAAAAAAAAAAAAAAAAAAAAAAAAAAAAAAAAAAAAAAAAAAAAAAAAAAAAAAAAAAAAAAAAAAAAAAAAAAAAAAAAAAAAAAAAAAAAAAAAAAAAAAAAAAAAAAAAAAAAAAAAAAAAAAAAAAAAAAAAAAAAAAAAAAAAAAAAAAAAAAAAAAAAAAAAAAAAAAAAAAAAAAAAAAAAAAAAAAAAAAAAAAAAAAAAAAAAAAAAAAAAAAAAAAAAAAAAAAAAAAAAAAAAAAAAAAAAAAAAAAAAAAAAAAAAAAAAAAAAAAAAAAAAAAAAAAAAAAAAAAAAAAAAAAAAAAAAAAAAAAAAAAAAAAAAAAAAAAAAAAAAAAAAAAAAAAAAAAAAAAAAAAAAAAAAAAAAAAAAAAAAAAAAAAAAAAAAAAAAAAAAAAAAAAAAAAAAAAAAAAAAAAAAAAAAAAAAAAAAAAAAAAAAAAAAAAAAAAAAAAAAAAAAAAAAAAAAAAAAAAAAAAAAAAAAAAAAAAAAAAAAAAAAAAAAAAAAAAAAAAAAAAAAAAAAAAAAAAAAAAAAAAAAAAAAAAAAAAAAAAAAAAAAAAAAAAAAAAAAAAAAAAAAAAAAAAAAAAAAAAAAAAAAAAAAAAAAAAAAAAAAAAAAAAAAAAAAAAAAAAAAAAAAAAAAAAAAAAAAAAAAAAAAAAAAAAAAAAAAAAAAAAAAAAAAAAAAAAAAAAAAAAAAAAAAAAAAAAAEAAAAAAAAAAAAAAAAAAAAAAAAAAAAAAAAAAAAAAAAAAAAAAAAAAAAAAAAAAAAAAAAAAAAAAAAAAAAAAAAAAAAAAAAAAAAAAAAAAAAAAAAAAAAAAAAAAAAAAAAAAAAAAAAAAAAAAAAAAAAAAAAAAAAAAAAAAAAAAAAAAAAAAAADwPwAAAAAAAAAAAAAAAAAAAAAAAAAAAAAAAAAAAAAAAAAAAAAAAAAAAAAAAAAAAAAAAAAAAAAAAAAAAAAAAAAAAAAAAAAAAAAAAAAAAAAAAAhAAAAAAAAAAAAAAAAAAAAAAAAAAAAAAAAAAAAAAAAAAAAAAAAAAAAAAAAAAAAAAAAAAAAAAAAAAAAAAAAAAAAAAAAAAAAAAAAAAAAAAAAAAAAAAAAAAAAAAAAAAAAAAAAAAAAAAAAAAAAAAAAAAAAAAAAAAAAAAAAAAAAAAAAAAAAAAAAAAAAAAAAAAAAAAAAAAAAAAAAAAAAAAAAAAAAAAAAAAAAAAAAAAAAAAAAAAAAAAAAAAAAAAAAAAAAAAAAAAAAAAAAAAAAAAAAAAAAAAAAAAAAAAAAAAAAAAAAAAAAAAAAAAAAAAAAAAAAAAAAAAAAAAAAAAAAAAAAAAAAAAAAAAAAAAAAAAAAAAAAAAAAAAAAAAAAAAAAAAAAAAAAAAAAAAAAAAAAAAAAAAAAAAAAAAAAAAAAAAAAAAAAAAAAAAAAAAAAAAAAAAAAAAAAAAAAAAAAAAAAAAAAAAAAAAAAAAAAAAAAAAAAAAAAAAAAAAAAAAAAAAAAAAAAAAAAAAAAAAAAAAAAAAAAAAAAAAAAAAAAAAAAAAAAAAAAAAAAAAAAAAAAAAAAAAAAAAAAAAAAAAAAAAAAAAAAAAAAAAAAAAAAAAAAAAAAAAAAAAAAAAAAAAAAAAAAAAAAAAAAAAAAAAAAAAAAAAAAAAAAAAAAAAAAAAPA/AAAAAAAAAAAAAAAAAAAAAAAAAAAAAAAAAAAAAAAAAAAAAAAAAAAAAAAAAAAAAAAAAAAAAAAAAAAAAAAAAAAAAAAAAAAAAAAAAAAAAAAAAAAAAAAAAAAAAAAAAAAAAAAAAAAAAAAAAAAAAAAAAAAAAAAAAAAAAAAAAAAAAAAAAAAAAAAAAAAAAAAAAAAAAAAAAAAAAAAAAAAAAAAAAADgPwAAAAAAAAAAAAAAAAAAAAAAAAAAAAAAAAAAAAAAAAAAAAAAAAAAAAAAAAAAAAAAAAAAAAAAAAAAAAAAAAAAAAAAAAAAAAAAAAAAAAAAAAAAAAAAAAAAAAAAAAAAAAAAAAAAAAAAAAAAAAAAAAAAAAAAAAAAAAAAAAAAAAAAAAAAAAAAAAAAAAAAAAAAAAAAAAAAAAAAAPA/AAAAAAAAAAAAAAAAAAAAAAAAAAAAAAAAAAAAAAAAAAAAAAAAAAAAAAAAAAAAAAAAAAAAAAAAAAAAAAAAAAAAAAAAAAAAAAAAAAAAAAAAAAAAAAAAAAAAAAAAAAAAAAAAAAAAAAAAAAAAAAAAAAAAAAAAAAAAAAAAAAAAAAAAAAAAAAAAAAAAAAAAAAAAAAAAAAAAAAAAAAAAAAAAAAAAAAAAAAAAAAAAAAAAAAAAAAAAAAAAAAAAAAAAAAAAAAAAAAAAAAAAAAAAAAAAAAAAAAAAAAAAAAAAAAAAAAAAAAAAAAAAAAAAAAAAAAAAAAAAAAAAAAAAAAAAAAAAAAAAAAAAAAAAAAAAAAAAAAAAAAAAAAAAAADwPwAAAAAAAAAAAAAAAAAAAAAAAAAAAAAAAAAAAAAAAAAAAAAAAAAAAAAAAAAAAAAAAAAAAAAAAAAAAAAAAAAAAAAAAAAAAAAAAAAAAAAAAAAAAAAAAAAAAAAAAAAAAAAAAAAAAAAAAAAAAAAAAAAAAAAAAAAAAAAAAAAAAAAAAAAAAAAAAAAAAAAAAAAAAAAAAAAAAAAAAAAAAAAAAAAAAAAAAAAAAAAAAAAAAAAAAAAAAAAAAAAAAAAAAAAAAAAAAAAAAAAAAAAAAAAAAAAAAAAAAAAAAAAAAAAAAAAAAAAAAAAAAAAAAAAAAAAAAAAAAAAAAAAAAAAAAAAAAAAAAAAAAAAAAAAAAAAAAAAAAAAAAAAAAAAAAAAAAAAAAAAAAAAAAAAAAAAAAAAAAAAAAAAAAAAAAAAAAAAAAAAAAAAAAAAAAAAAAAAAAAAAAAAAAAAAAAAAAAAAAAAAAAAAAAAAAAAAAAAAAAAAAAAAAPA/AAAAAAAAAAAAAAAAAAAAAAAAAAAAAAAAAAAAAAAAAAAAAAAAAAAAAAAAAAAAAAAAAAAAAAAAAAAAAAAAAAAAAAAAAAAAAAAAAAAAAAAAAAAAAAAAAAAAAAAAAAAAAAAAAAAAAAAAAAAAAAAAAAAAAAAAAAAAAAAAAAAAAAAAAAAAAAAAAAAAAAAAAAAAAAAAAAAAAAAAAAAAAAAAAAAAAAAAAAAAAAAAAAAAAAAAAAAAAAAAAAAAAAAAAAAAAAAAAAAAAAAAAAAAAAAAAAAAAAAAAAAAAAAAAAAAAAAAAAAAAAAAAAAAAAAAAAAAAAAAAAAAAAAAAAAAAAAAAAAAAAAAAAAAAAAAAAAAAAAAAAAAAAAAAAAAAAAAAAAAAAAAAAAAAAAAAAAAAAAAAAAAAAAAAAAAAAAAAAAAAAAAAAAAAAAAAAAAAAAAAAAAAAAAAAAAAAAAAAAAAAAAAAAAAAAAAAAAAAAAAAAAAAAAAAAAAAAAAAAAAAAAAAAAAAAAAAAAAAAAAAAAAAAAAAAAAAAAAAAAAAAAAAAAAAAAAAAAAAAAAAAAAAAAAAAAAAAAAAAAAAAAAAAAAAAAAAAAAAAAAAAAAAAAAAAAAAAAAAAAAAAAAAAAAAAAAAAAAAAAAAAAAAAA8D8AAAAAAAAAAAAAAAAAAAAAAAAAAAAAAAAAAAAAAAAAAAAAAAAAAAAAAAAAAAAAAAAAAAAAAAAAAAAAAAAAAAAAAAAAAAAAAAAAAAAAAAAAAAAAAAAAAAAAAAAAAAAAAAAAAAAAAAAAAAAAAAAAAAAAAAAAAAAAAAAAAAAAAAAAAAAAAAAAAAAAAAAAAAAAAAAAAAAAAAAAAAAAAAAAAAAAAAAAAAAAAAAAAAAAAAAAAAAAAAAAAAAAAAAAAAAAAAAAAAAAAAAAAAAAAAAAAAAAAAAAAAAAAAAAAAAAAAAAAAAAAAAAAAAAAAAAAAAAAAAAAAAAAAAAAAAAAAAAAAAAAAAAAAAAAAAAAAAAAAAAAAAAAAAAAAAAAAAAAAAAAAAAAAAAAAAAAAAAAAAAAAAAAAAAAAAAAAAAAAAAAAAAAAAAAAAAAAAAAAAAAAAAAAAAAAAAAAAAAAAAAAAAAAAAAAAAAAAAAAAAAAAAAAAIQAAAAAAAAAAAAAAAAAAAAAAAAAAAAAAAAAAAAAAAAAAAAAAAAAAAAAAAAAAAAAAAAAAAAAAAAAAAAAAAAAAAAAAAAAAAAAAAAAAAAAAAAAAAAAAAAAAAAAAAAAAAAAAAAAAAAAAAAAAAAAAAAAAAAAAAAAAAAAAAAAAAAAAAAAAAAAAAAAAAAAAAAAAAAAAAAAAAAAAAAAAAAAAAAAAAAAAAAAAAAAAAAAAAAAAAAAAAAAAAAAAAAAAAAAAAAAAAAAAAAAAAAAAAAAAAAAAAAAAAAAAAAAAAAAAAAAAAAAAAAAAAAAAAAAAAAAAAAAAAAAAAAAAAAAAAAAAAAAAAAAAAAAAAAAAAAAAAAAAAAAAAAAAAAAAAAAAAAAAAAAAAAAAAAAAAAAAAAAAAAAAAAAAAAAAAAAAAAAAAAAAAAAAAAAAAAAAAAAAAAAAAAAAAAAAAAAAAAAAAAAAAAAAAAAAAAAAAAAAAAAAAAAAAAAAAAAAAAAAAAAAAAAAAAAAAAAAAAAAAAAAAAAAAAAAAAAAAAAAAAAAAAAAAAAAAAAAAAAAAAAAAAAAAAAAAAAAAAAAAAAAAAAAAAAAAAAAAAAAAAAAAAAAAAAAAAAAAAAAAAAAAAAAAAAAAAAAAAADwPwAAAAAAAAAAAAAAAAAAAAAAAAAAAAAAAAAAAAAAAAAAAAAAAAAAAAAAAAAAAAAAAAAAAAAAAAAAAAAAAAAAAAAAAAAAAAAAAAAAAAAAAAAAAAAAAAAAAAAAAAAAAAAAAAAAAAAAAAAAAAAAAAAAAAAAAAAAAAAAAAAAAAAAAAAAAAAAAAAAAAAAAAAAAAAAAAAAAAAAAAAAAAAAAAAAAAAAAAAAAAAAAAAAAAAAAAAAAAAAAAAAAAAAAAAAAAAAAAAAAAAAAAAAAAAAAAAAAAAAAAAAAAAAAAAAAAAAAAAAAAAAAAAAAAAAAAAAAAAAAAAAAAAAAABAAAAAAAAAAAAAAAAAAAAAAAAAAAAAAAAAAAAAAAAAAAAAAAAAAAAAAAAAAAAAAAAAAAAAAAAAAAAAAAAAAAAAAAAAAAAAAAAAAAAAAAAAAAAAAAAAAAAAAAAAAAAAAAAAAAAAAAAAAEAAAAAAAAAAAAAAAAAAAAAAAAAAAAAAAAAAAAAAAAAAAAAAAAAAAAAAAAAAAAAAAAAAAAAAAAAAAAAAAAAAAAAAAAAAAAAAAAAAAAAAAAAAAAAAAAAAAAAAAAAAAAAAAAAAAAAAAAAAAAAAAAAAAAAAAAAAAAAAAAAAAAAAAAAAAAAAAAAAAAAAAAAAAAAAAAAAAAAAAAAAAAAAAAAAAAAAAAAAAAAAAAAAAAAAAAAAAAAAAAAAAAAAAAAAAAAAAAAAAAAAAAAAAAAAAAAAAAAAAAAAAAAAAAAAAAAAAAAAAAAAAAAAAAAAAAAAAAAAAAAAAAAAAAAAAAAAAAAAAAAAAAAAAAAAAAAAAAAAAAAAAAAAAAAAAAAAAAAAAAAAAAAAAAAAAAAAAAAAAAAAAAAAAAAAAAAAAAAAAAAAAAAAAAAAAAAAAAAAAAAAAAAAAAAAAAAAAAAAAAAAAAAAAAAAAAAAAAAAAAAAAAAAAAAAAAAAAAAAAAAAAAAAAAAAAAAAAAAAAAAAAAAAAAAAAAAAAAAAAAAAAAAAAAAAAAAAAAAAAAAAAAAAAAAAAAAAAAAAAAAAAAAAAAAAAAAAAAAAAAAAAAAAAAAAAAAAAAAAAAAAAAAAAAAAAAAAAAAAAAAAAAAAAAAAAAAAAAAAAAAAAAAAAAAAAAAAAAAAAAAAAAAAAAAAAAAAAAAAAAAAAAAAAAAAAAAAAAAAAAAAAAAAAAAAAAAAAAAAAAAAAAAAAAAAAAAAAAAAAAAAAAAAAAAAAAAAAAAAAAAAAAAAAAAAAAAAAAAAAAAAAAAAAAAAAAAAAAAAAAAAAAAAAAAAAAAAAAAAAAAAAAAAAAAAAAAAAAAAAAAAAAAAAAAAAAAAAAAAAAAAAAAAAAAAAAAAAAAAAAAAAAAAAAAAAAAAAAAAAAAAAAAAAAAAAAAAAAAAAAAAAAAAAAAAAAAAAAAAAAAAAAAAAAAAAAAAAAAAAAAAAAAAAAAAAAAAAAAAAAAAAAAAAAAAAAAAAAAAAAAAAAAAAAAAAAAAAAAAAAAAAAAAAAAAAAAAAAAAAAAAAAAAAAAAAAAAAAAAAAAAAAAAAAAAAAAAAAAAAAAAAAAAAAAAAAAAAAAAAAAAAAAAAAAAAAAAAAAAAAAAAAAAAAAAAAAAAAAAAAAAAAAAAAAAAAAAAAAAAAAAAAAAAAAAAAAAAAAAAAAAAAAAAAAAAAAAAAAAAAAAAAAAAAAAAAAAAAAAAAAAAAAAAAAAAAAAAAAAAAAAAAAAAPA/AAAAAAAAAAAAAAAAAAAAAAAAAAAAAAAAAAAAAAAAAAAAAAAAAAAAAAAAAAAAAAAAAAAAAAAAAAAAAAAAAAAAAAAAAAAAAAAAAAAAAAAAAAAAAAAAAAAAAAAAAAAAAAAAAAAAAAAAAAAAAAAAAAAAAAAAAAAAAAAAAAAAAAAAAAAAAAAAAAAAAAAAAAAAAAAAAAAAAAAAAAAAAAAAAAAAAAAAAAAAAAAAAAAAAAAAAAAAAAAAAAAAAAAAAAAAAAAAAAAAAAAAAAAAAAAAAAAAAAAAAAAAAAAAAAAAAAAAAAAAAAAAAAAAAAAAAAAAAABAAAAAAAAAAAAAAAAAAAAAAAAAAAAAAPA/AAAAAAAAAAAAAAAAAAAAAAAAAAAAAAAAAAAAAAAAAAAAAAAAAAAAAAAAAAAAAAAAAAAAAAAAAAAAAAAAAAAAAAAAAAAAAAAAAAAAAAAAAAAAAAAAAAAAAAAAAAAAAAAAAAAAAAAAAAAAAAAAAAAAAAAAAAAAAAAAAAAAAAAAAAAAAAAAAAAAAAAAAAAAAAAAAAAAAAAAAAAAAAAAAAAAAAAAAAAAAAAAAAAAAAAAAAAAAAAAAAAAAAAAAAAAAAAAAAAAAAAAAAAAAAAAAAAAAAAAAAAAAAAAAAAAAAAAAAAAAAAAAAAAAAAAAAAAAAAAAAAAAAAAAAAAAAAAAAAAAAAAAAAAAAAAAAAAAAAAAAAAAAAAAAAAAAAAAAAAAAAAAAAAAAAAAAAAAAAAAAAAAAAAAAAAAAAAAAAAAAAAAEAAAAAAAAAAAAAAAAAAAAAA",
          "dtype": "f8"
         },
         "x0": " ",
         "xaxis": "x7",
         "y": {
          "bdata": "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",
          "dtype": "i2"
         },
         "y0": " ",
         "yaxis": "y7"
        },
        {
         "alignmentgroup": "True",
         "hovertemplate": "operation=rent<br>propertyType=countryHouse<br>floor=%{x}<br>price=%{y}<extra></extra>",
         "legendgroup": "rent",
         "marker": {
          "color": "#636efa"
         },
         "name": "rent",
         "notched": false,
         "offsetgroup": "rent",
         "orientation": "v",
         "showlegend": false,
         "type": "box",
         "x": {
          "bdata": "AAAAAAAAAAAAAAAAAAAAAAAAAAAAAAAAAAAAAAAAAAAAAAAAAAAAAAAAAAAAAAAAAAAAAAAAAAAAAAAAAAAAAAAAAAAAAAAAAAAAAAAAAAAAAAAAAAAAAAAAAAAAAAAAAAAAAAAAAAA=",
          "dtype": "f8"
         },
         "x0": " ",
         "xaxis": "x8",
         "y": {
          "bdata": "wBIUBTwP7gLcBUYF7ASgBdwF3AWsDVIDOAQ=",
          "dtype": "i2"
         },
         "y0": " ",
         "yaxis": "y8"
        },
        {
         "alignmentgroup": "True",
         "hovertemplate": "operation=sale<br>propertyType=flat<br>floor=%{x}<br>price=%{y}<extra></extra>",
         "legendgroup": "sale",
         "marker": {
          "color": "#EF553B"
         },
         "name": "sale",
         "notched": false,
         "offsetgroup": "sale",
         "orientation": "v",
         "showlegend": true,
         "type": "box",
         "x": {
          "bdata": "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",
          "dtype": "f8"
         },
         "x0": " ",
         "xaxis": "x",
         "y": {
          "bdata": "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",
          "dtype": "i4"
         },
         "y0": " ",
         "yaxis": "y"
        },
        {
         "alignmentgroup": "True",
         "hovertemplate": "operation=sale<br>propertyType=penthouse<br>floor=%{x}<br>price=%{y}<extra></extra>",
         "legendgroup": "sale",
         "marker": {
          "color": "#EF553B"
         },
         "name": "sale",
         "notched": false,
         "offsetgroup": "sale",
         "orientation": "v",
         "showlegend": false,
         "type": "box",
         "x": {
          "bdata": "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",
          "dtype": "f8"
         },
         "x0": " ",
         "xaxis": "x2",
         "y": {
          "bdata": "8H4OAMj8CABAfgUAkJQNAKC7DQA4SRUAsHELAB/0DgCg0wkAqMgMAOjZBgD/XRoAgKIZADgUCQDwrgYACL0DABi6CgAOfgUAMBsPAKBoBgDwfg4A4MgQAODIEAB4IQwAyFQLAJD+JQCwcQsACL0DALBxCwDgdQkA8H4OAHghDADYIwkAuPkCAMj8CAAApg4AfOYLAHCZFAAYVQYACHsOAPgGBgD4BgYAMMIIADgUCQCQyRkA2JoKAKDHCwBoiQkAYBkOAFD4DAA4owYAMKQNAOAWBAAQkgMA0L8LAADcBQDYmgoAEAkFAEB+BQAoCwQAULwMAGLhBwDCbQcAMBsPABjkAwDYIh4A2JoKAIhmBwC42wcAwDMHAICLCADYuAUAeKoKAKC7DQCI9QQA0N0GABAgFgDc2wYAkCMLAHB2BQCAwBQAeLAJANgpCADYuAUAmBYGAKhDBQD4OxIAUPgMAFhiCQBYegUAgKkDAHj9EQCwcQsAmOAOAIAOCABGNAMAwOsSAFA0AwDQ3QYAUGIlAODmCwCY2g8AsHELACjtCAAQ6wkAaPQMABjGCAB4IQwAAKYOAIhmBwD4cB4AaIkJAChdIAAwGw8AKOcJABAgFgBPFggAoLsNABhVBgDAyAMAgKkDALjbBwAA1gYA0N0GAGj0DACYFgYAoEoLAPANDAB4PwcAAMQJAIhgCABwKBIA6FAIAODIEABQ+AwAWAgYAMC2BgDYzxYASFMFALwvBQC41QgA2M8WAMCRIQC4Lg8AZKUKAKBoBgDQ3QYAPPcDAIBtDQCAbQ0AYD0IAFjHDQDYQQQA0BITALB3CgDYmgoAsB4EAHC3DwCQlA0AMBsPAFD4DACQlA0A+AYGALCPBgDYsgYAOBQJALBxCwB4zgQAoDIPAFAtGQDYuAUAEAkFABAgFgCwjwYAkLIIAJgcBQAAUwcAkJQNANiaCgCAiwgAUPgMAIgqEQBQ+AwALNADAPgABwCwcQsA+DsSANBOCQC4TAoA2JoKADhnEAAY3RkA6G4DAEB+BQCQlA0AsAAJAOAEBwDwfg4ANkIPAJAFEABovhUA+DsSAMBcFQDAtgYAOIULAEjKBgDwQhgA8LoEACChBwD46AoAYLQJAPB+DgDWkwQAmI0HAMiRBQB4IQwAiGYHAFD4DAAQegcAOIULAIhmBwAwjBEAaKAaAHg5CAA=",
          "dtype": "i4"
         },
         "y0": " ",
         "yaxis": "y2"
        },
        {
         "alignmentgroup": "True",
         "hovertemplate": "operation=sale<br>propertyType=studio<br>floor=%{x}<br>price=%{y}<extra></extra>",
         "legendgroup": "sale",
         "marker": {
          "color": "#EF553B"
         },
         "name": "sale",
         "notched": false,
         "offsetgroup": "sale",
         "orientation": "v",
         "showlegend": false,
         "type": "box",
         "x": {
          "bdata": "AAAAAAAAAAAAAAAAAAAAAAAAAAAAAAAAAAAAAAAAAAAAAAAAAAAAAAAAAAAAAAAAAAAAAAAAAEAAAAAAAAAAQAAAAAAAABBAAAAAAAAA8D8AAAAAAAAAQAAAAAAAAABAAAAAAAAACEAAAAAAAAAcQAAAAAAAAAhAAAAAAAAAAAAAAAAAAAAAAAAAAAAAACRAAAAAAAAACEAAAAAAAAAIQAAAAAAAAABAAAAAAAAAEEAAAAAAAAAAAAAAAAAAAABAAAAAAAAAIEAAAAAAAAAAAAAAAAAAAAAAAAAAAAAAAAAAAAAAAAAAQAAAAAAAAAAAAAAAAAAAAAAAAAAAAAAAAAAAAAAAAAAAAAAAAAAA8D8=",
          "dtype": "f8"
         },
         "x0": " ",
         "xaxis": "x3",
         "y": {
          "bdata": "nvsBAEjoAQCYqwIAmKsCAEjiAgD8LgIAeFcDAFgPAgC4+QIASGUCADDmAgAolAIAKAsEADDmAgDwSQIAMOYCABCYAgAQmAIAEJgCACiUAgBI4gIAoHoDAHg1BwDoaAQAnM4DAFiABADwSQIAiIQCADDmAgAw5gIAiIQCAIiEAgAQmAIA5FgEAA==",
          "dtype": "i4"
         },
         "y0": " ",
         "yaxis": "y3"
        },
        {
         "alignmentgroup": "True",
         "hovertemplate": "operation=sale<br>propertyType=chalet<br>floor=%{x}<br>price=%{y}<extra></extra>",
         "legendgroup": "sale",
         "marker": {
          "color": "#EF553B"
         },
         "name": "sale",
         "notched": false,
         "offsetgroup": "sale",
         "orientation": "v",
         "showlegend": false,
         "type": "box",
         "x": {
          "bdata": "AAAAAAAAAAAAAAAAAAAAAAAAAAAAAAAAAAAAAAAAAAAAAAAAAAAAAAAAAAAAAAAAAAAAAAAAAAAAAAAAAAAAAAAAAAAAAAAAAAAAAAAAAAAAAAAAAAAAAAAAAAAAAAAAAAAAAAAAAAAAAAAAAAAAAAAAAAAAAAAAAAAAAAAAAAAAAAAAAAAAAAAAAAAAAAAAAAAAAAAAAAAAAAAAAAAAAAAAAAAAAAAAAAAAAAAAAAAAAAAAAAAAAAAAAAAAAAAAAAAAAAAAAAAAAAAAAAAAAAAAAAAAAAAAAAAAAAAAAAAAAAAAAAAAAAAAAAAAAAAAAAAAAAAAAAAAAAAAAAAAAAAAAAAAAAAAAAAAAAAAAAAAAAAAAAAAAAAAAAAAAAAAAAAAAAAAAAAAAAAAAAAAAAAAAAAAAAAAAAAAAAAAAAAAAAAAAAAAAAAAAAAAAAAAAAAAAAAAAAAAAAAAAAAAAAAAAAAAAAAAAAAAAAAAAAAAAAAAAAAAAAAAAAAAAAAAAAAAAAAAAAAAAAAAAAAAAAAAAAAAAAAAAAAAAAAAAAAAAAAAAAAAAAAAAAAAAAAAAAAAAAAAAAAAAAAAAAAAAAAAAAAAAAAAAAAAAAAAAAAAAAAAAAAAAAAAAAAAAAAAAAAAAAAAAAAAAAAAAAAAAAAAAAAAAAAAAAAAAAAAAAAAAAAAAAAAAAAAAAAAAAAAAAAAAAAAAAAAAAAAAAAAAAAAAAAAAAAAAAAAAAAAAAAAAAAAAAAAAAAAAAAAAAAAAAAAAAAAAAAAAAAAAAAAAAAAAAAAAAAAAAAAAAAAAAAAAAAAAAAAAAAAAAAAAAAAAAAAAAAAAAAAAAAAAAAAAAAAAAAAAAAAAAAAAAAAAAAAAAAAAAAAAAAAAAAAAAAAAAAAAAAAAAAAAAAAAAAAAAAAAAAAAAAAAAAAAAAAAAAAAAAAAAAAAAAAAAAAAAAAAAAAAAAAAAAAAAAAAAAAAAAAAAAAAAAAAAAAAAAAAAAAAAAAAAAAAAAAAAAAAAAAAAAAAAAAAAAAAAAAAAAAAAAAAAAAAAAAAAAAAAAAAAAAAAAAAAAAAAAAAAAAAAAAAAAAAAAAAAAAAAAAAAAAAAAAAAAAAAAAAAAAAAAAAAAAAAAAAAAAAAAAAAAAAAAAAAAAAAAAAAAAAAAAAAAAAAAAAAAAAAAAAAAAAAAAAAAAAAAAAAAAAAAAAAAAAAAAAAAAAAAAAAAAAAAAAAAAAAAAAAAAAAAAAAAAAAAAAAAAAAAAAAAAAAAAAAAAAAAAAAAAAAAAAAAAAAAAAAAAAAAAAAAAAAAAAAAAAAAAAAAAAAAAAAAAAAAAAAAAAAAAAAAAAAAAAAAAAAAAAAAAAAAAAAAAAAAAAAAAAAAAAAAAAAAAAAAAAAAAAAAAAAAAAAAAAAAAAAAAAAAAAAAAAAAAAAAAAAAAAAAAAAAAAAAAAAAAAAAAAAAAAAAAAAAAAAAAAAAAAAAAAAAAAAAAAAAAAAAAAAAAAAAAAAAAAAAAAAAAAAAAAAAAAAAAAAAAAAAAAAAAAAAAAAAAAAAAAAAAAAAAAAAAAAAAAAAAAAAAAAAAAAAAAAAAAAAAAAAAAAAAAAAAAAAAAAAAAAAAAAAAAAAAAAAAAAAAAAAAAAAAAAAAAAAAAAAAAAAAAAAAAAAAAAAAAAAAAAAAAAAAAAAAAAAAAAAAAAAAAAAAAAAAAAAAAAAAAAAAAAAAAAAAAAAAAAAAAAAAAAAAAAAAAAAAAAAAAAAAAAAAAAAAAAAAAAAAAAAAAAAAAAAAAAAAAAAAAAAAAAAAAAAAAAAAAAAAAAAAAAAAAAAAAAAAAAAAAAAAAAAAAAAAAAAAAAAAAAAAAAAAAAAAAAAAAAAAAAAAAAAAAAAAAAAAAAAAAAAAAAAAAAAAAAAAAAAAAAAAAAAAAAAAAAAAAAAAAAAAAAAAAAAAAAAAAAAAAAAAAAAAAAAAAAAAAAAAAAAAAAAAAAAAAAAAAAAAAAAAAAAAAAAAAAAAAAAAAAAAAAAAAAAAAAAAAAAAAAAAAAAAAAAAAAAAAAAAAAAAAAAAAAAAAAAAAAAAAAAAAAAAAAAAAAAAAAAAAAAAAAAAAAAAAAAAAAAAAAAAAAAAAAAAAAAAAAAAAAAAAAAAAAAAAAAAAAAAAAAAAAAAAAAAAAAAAAAAAAAAAAAAAAAAAAAAAAAAAAAAAAAAAAAAAAAAAAAAAAAAAAAAAAAAAAAAAAAAAAAAAAAAAAAAAAAAAAAAAAAAAAAAAAAAAAAAAAAAAAAAAAAAAAAAAAAAAAAAAAAAAAAAAAAAAAAAAAAAAAAAAAAAAAAAAAAAAAAAAAAAAAAAAAAAAAAAAAAAAAAAAAAAAAAAAAAAAAAAAAAAAAAAAAAAAAAAAAAAAAAAAAAAAAAAAAAAAAAAAAAAAAAAAAAAAAAAAAAAAAAAAAAAAAAAAAAAAAAAAAAAAAAAAAAAAAAAAAAAAAAAAAAAAAAAAAAAAAAAAAAAAAAAAAAAAAAAAAAAAAAAAAAAAAAAAAAAAAAAAAAAAAAAAAAAAAAAAAAAAAAAAAAAAAAAAAAAAAAAAAAAAAAAAAAAAAAAAAAAAAAAAAAAAAAAAAAAAAAAAAAAAAAAAAAAAAAAAAAAAAAAAAAAAAAAAAAAAAAAAAAAAAAAAAAAAAAAAAAAAAAAAAAAAAAAAAAAAAAAAAAAAAAAAAAAAAAAAAAAAAAAAAAAAAAAAAAAAAAAAAAAAAAAAAAAAAAAAAAAAAAAAAAAAAAAAAAAAAAAAAAAAAAAAAAAAAAAAAAAAAAAAAAAAAAAAAAAAAAAAAAAAAAAAAAAAAAAAAAAAAAAAAAAAAAAAAAAAAAAAAAAAAAAAAAAAAAAAAAAAAAAAAAAAAAAAAAAAAAAAAAAAAAAAAAAAAAAAAAAAAAAAAAAAAAAAAAAAAAAAAAAAAAAAAAAAAAAAAAAAAAAAAAAAAAAAAAAAAAAAAAAAAAAAAAAAAAAAAAAAAAAAAAAAAAAAAAAAAAAAAAAAAAAAAAAAAAAAAAAAAAAAAAAAAAAAAAAAAAAAAAAAAAAAAAAAAAAAAAAAAAAAAAAAAAAAAAAAAAAAAAAAAAAAAAAAAAAAAAAAAAAAAAAAAAAAAAAAAAAAAAAAAAAAAAAAAAAAAAAAAAAAAAAAAAAAAAAAAAAAAAAAAAAAAAAAAAAAAAAAAAAAAAAAAAAAAAAAAAAAAAAAAAAAAAAAAAAAAAAAAAAAAAAAAAAAAAAAAAAAAAAAAAAAAAAAAAAAAAAAAAAAAAAAAAAAAAAAAAAAAAAAAAAAAAAAAAAAAAAAAAAAAAAAAAAAAAAAAAAAAAAAAAAAAAAAAAAAAAAAAAAAAAAAAAAAAAAAAAAAAAAAAAAAAAAAAAAAAAAAAAAAAAAAAAAAAAAAAAAAAAAAAAAAAAAAAAAAAAAAAAAAAAAAAAAAAAAAAAAAAAAAAAAAAAAAAAAAAAAAAAAAAAAAAAAAAAAAAAAAAAAAAAAAAAAAAAAAAAAAAAAAAAAAAAAAAAAAAAAAAAAAAAAAAAAAAAAAAAAAAAAAAAAAAAAAAAAAAAAAAAAAAAAAAAAAAAAAAAAAAAAAAAAAAAAAAAAAAAAAAAAAAAAAAAAAAAAAAAAAAAAAAAAAAAAAAAAAAAAAAAAAAAAAAAAAAAAAAAAAAAAAAAAAAAAAAAAAAAAAAAAAAAAAAAAAAAAAAAAAAAAAAAAAAAAAAAAAAAAAAAAAAAAAAAAAAAAAAAAAAAAAAAAAAAAAAAAAAAAAAAAAAAAAAAAAAAAAAAAAAAAAAAAAAAAAAAAAAAAAAAAAAAAAAAAAAAAAAAAAAAAAAAAAAAAAAAAAAAAAAAAAAAAAAAAAAAAAAAAAAAAAAAAAAAAAAAAAAAAAAAAAAAAAAAAAAAAAAAAAAAAAAAAAAAAAAAAAAAAAAAAAAAAAAAAAAAAAAAAAAAAAAAAAAAAAAAAAAAAAAAAAAAAAAAAAAAAAAAAAAAAAAAAAAAAAAAAAAAAAAAAAAAAAAAAAAAAAAAAAAAAAAAAAAAAAAAAAAAAAAAAAAAAAAAAAAAAAAAAAAAAAAAAAAAAAAAAAAAAAAAAAAAAAAAAAAAAAAAAAAAAAAAAAAAAAAAAAAAAAAAAAAAAAAAAAAAAAAAAAAAAAAAAAAAAAAAAAAAAAAAAAAAAAAAAAAAAAAAAAAAAAAAAAAAAAAAAAAAAAAAAAAAAAAAAAAAAAAAAAAAAAAAAAAAAAAAAAAAAAAAAAAAAAAAAAAAAAAAAAAAAAAAAAAAAAAAAAAAAAAAAAAAAAAAAAAAAAAAAAAAAAAAAAAAAAAAAAAAAAAAAAAAAAAAAAAAAAAAAAAAAAAAAAAAAAAAAAAAAAAAAAAAAAAAAAAAAAAAAAAAAAAAAAAAAAAAAAAAAAAAAAAAAAAAAAAAAAAAAAAAAAAAAAAAAAAAAAAAAAAAAAAAAAAAAAAAAAAAAAAAAAAAAAAAAAAAAAAAAAAAAAAAAAAAAAAAAAAAAAAAAAAAAAAAAAAAAAAAAAAAAAAAAAAAAAAAAAAAAAAAAAAAAAAAAAAAAAAAAAAAAAAAAAAAAAAAAAAAAAAAAAAAAAAAAAAAAAAAAAAAAAAAAAAAAAAAAAAAAAAAAAAAAAAAAAAAAAAAAAAAAAAAAAAAAAAAAAAAAAAAAAAAAAAAAAAAAAAAAAAAAAAAAAAAAAAAAAAAAAAAAAAAAAAAAAAAAAAAAAAAAAAAAAAAAAAAAAAAAAAAAAAAAAAAAAAAAAAAAAAAAAAAAAAAAAAAAAAAAAAAAAAAAAAAAAAAAAAAAAAAAAAAAAAAAAAAAAAAAAAAAAAAAAAAAAAAAAAAAAAAAAAAAAAAAAAAAAAAAAAAAAAAAAAAAAAAAAAAAAAAAAAAAAAAAAAAAAAAAAAAAAAAAAAAAAAAAAAAAAAAAAAAAAAAAAAAAAAAAAAAAAAAAAAAAAAAAAAAAAAAAAAAAAAAAAAAAAAAAAAAAAAAAAAAAAAAAAAAAAAAAAAAAAAAAAAAAAAAAAAAAAAAAAAAAAAAAAAAAAAAAAAAAAAAAAAAAAAAAAAAAAAAAAAAAAAAAAAAAAAAAAAAAAAAAAAAAAAAAAAAAAAAAAAAAAAAAAAAAAAAAAAAAAAAAAAAAAAAAAAAAAAAAAAAAAAAAAAAAAAAAAAAAAAAAAAAAAAAAAAAAAAAAAAAAAAAAAAAAAAAAAAAAAAAAAAAAAAAAAAAAAAAAAAAAAAAAAAAAAAAAAAAAAAAAAAAAAAAAAAAAAAAAAAAAAAAAAAAAAAAAAAAAAAAAAAAAAAAAAAAAAAAAAAAAAAAAAAAAAAAAAAAAAAAAAAAAAAAAAAAAAAAAAAAAAAAAAAAAAAAAAAAAAAAAAAAAAAAAAAAAAAAAAAAAAAAAAAAAAAAAAAAAAAAAAAAAAAAAAAAAAAAAAAAAAAAAAAAAAAAAAAAAAAAAAAAAAAAAAAAAAAAAAAAAAAAAAAAAAAAAAAAAAAAAAAAAAAAAAAAAAAAAAAAAAAAAAAAAAAAAAAAAAAAAAAAAAAAAAAAAAAAAAAAAAAAAAAAAAAAAAAAAAAAAAAAAAAAAAAAAAAAAAAAAAAAAAAAAAAAAAAAAAAAAAAAAAAAAAAAAAAAAAAAAAAAAAAAAAAAAAAAAAAAAAAAAAAAAAAAAAAAAAAAAAAAAAAAAAAAAAAAAAAAAAAAAAAAAAAAAAAAAAAAAAAAAAAAAAAAAAAAAAAAAAAAAAAAAAAAAAAAAAAAAAAAAAAAAAAAAAAAAAAAAAAAAAAAAAAAAAAAAAAAAAAAAAAAAAAAAAAAAAAAAAAAAAAAAAAAAAAAAAAAAAAAAAAAAAAAAAAAAAAAAAAAAAAAAAAAAAAAAAAAAAAAAAAAAAAAAAAAAAAAAAAAAAAAAAAAAAAAAAAAAAAAAAAAAAAAAAAAAAAAAAAAAAAAAAAAAAAAAAAAAAAAAAAAAAAAAAAAAAAAAAAAAAAAAAAAAAAAAAAAAAAAAAAAAAAAAAAAAAAAAAAAAAAAAAAAAAAAAAAAAAAAAAAAAAAAAAAAAAAAAAAAAAAAAAAAAAAAAAAAAAAAAAAAAAAAAAAAAAAAAAAAAAAAAAAAAAAAAAAAAAAAAAAAAAAAAAAAAAAAAAAAAAAAAAAAAAAAAAAAAAAAAAAAAAAAAAAAAAAAAAAAAAAAAAAAAAAAAAAAAAAAAAAAAAAAAAAAAAAAAAAAAAAAAAAAAAAAAAAAAAAAAAAAAAAAAAAAAAAAAAAAAAAAAAAAAAAAAAAAAAAAAAAAAAAAAAAAAAAAAAAAAAAAAAAAAAAAAAAAAAAAAAAAAAAAAAAAAAAAAAAAAAAAAAAAAAAAAAAAAAAAAAAAAAAAAAAAAAAAAAAAAAAAAAAAAAAAAAAAAAAAAAAAAAAAAAAAAAAAAAAAAAAAAAAAAAAAAAAAAAAAAAAAAAAAAAAAAAAAAAAAAAAAAAAAAAAAAAAAAAAAAAAAAAAAAAAAAAAAAAAAAAAAAAAAAAAAAAAAAAAAAAAAAAAAAAAAAAAAAAAAAAAAAAAAAAAAAAAAAAAAAAAAAAAAAAAAAAAAAAAAAAAAAAAAAAAAAAAAAAAAAAAAAAAAAAAAAAAAAAAAAAAAAAAAAAAAAAAAAAAAAAAAAAAAAAAAAAAAAAAAAAAAAAAAAAAAAAAAAAAAAAAAAAAAAAAAAAAAAAAAAAAAAAAAAAAAAAAAAAAAAAAAAAAAAAAAAAAAAAAAAAAAAAAAAAAAAAAAAAAAAAAAAAAAAAAAAAAAAAAAAAAAAAAAAAAAAAAAAAAAAAAAAAAAAAAAAAAAAAAAAAAAAAAAAAAAAAAAAAAAAAAAAAAAAAAAAAAAAAAAAAAAAAAAAAAAAAAAAAAAAAAAAAAAAAAAAAAAAAAAAAAAAAAAAAAAAAAAAAAAAAAAAAAAAAAAAAAAAAAAAAAAAAAAAAAAAAAAAAAAAAAAAAAAAAAAAAAAAAAAAAAAAAAAAAAAAAAAAAAAAAAAAAAAAAAAAAAAAAAAAAAAAAAAAAAAAAAAAAAAAAAAAAAAAAAAAAAAAAAAAAAAAAAAAAAAAAAAAAAAAAAAAAAAAAAAAAAAAAAAAAAAAAAAAAAAAAAAAAAAAAAAAAAAAAAAAAAAAAAAAAAAAAAAAAAAAAAAAAAAAAAAAAAAAAAAAAAAAAAAAAAAAAAAAAAAAAAAAAAAAAAAAAAAAAAAAAAAAAAAAAAAAAAAAAAAAAAAAAAAAAAAAAAAAAAAAAAAAAAAAAAAAAAAAAAAAAAAAAAAAAAAAAAAAAAAAAAAAAAAAAAAAAAAAAAAAAAAAAAAAAAAAAAAAAAAAAAAAAAAAAAAAAAAAAAAAAAAAAAAAAAAAAAAAAAAAAAAAAAAAAAAAAAAAAAAAAAAAAAAAAAAAAAAAAAAAAAAAAAAAAAAAAAAAAAAAAAAAAAAAAAAAAAAAAAAAAAAAAAAAAAAAAAAAAAAAAAAAAAAAAAAAAAAAAAAAAAAAAAAAAAAAAAAAAAAAAAAAAAAAAAAAAAAAAAAAAAAAAAAAAAAAAAAAAAAAAAAAAAAAAAAAAAAAAAAAAAAAAAAAAAAAAAAAAAAAAAAAAAAAAAAAAAAAAAAAAAAAAAAAAAAAAAAAAAAAAAAAAAAAAAAAAAAAAAAAAAAAAAAAAAAAAAAAAAAAAAAAAAAAAAAAAAAAAAAAAAAAAAAAAAAAAAAAAAAAAAAAAAAAAAAAAAAAAAAAAAAAAAAAAAAAAAAAAAAAAAAAAAAAAAAAAAAAAAAAAAAAAAAAAAAAAAAAAAAAAAAAAAAAAAAAAAAAAAAAAAAAAAAAAAAAAAAAAAAAAAAAAAAAAAAAAAAAAAAAAAAAAAAAAAAAAAAAAAAAAAAAAAAAAAAAAAAAAAAAAAAAAAAAAAAAAAAAAAAAAAAAAAAAAAAAAAAAAAAAAAAAAAAAAAAAAAAAAAAAAAAAAAAAAAAAAAAAAAAAAAAAAAAAAAAAAAAAAAAAAAAAAAAAAAAAAAAAAAAAAAAAAAAAAAAAAAAAAAAAAAAAAAAAAAAAAAAAAAAAAAAAAAAAAAAAAAAAAAAAAAAAAAAAAAAAAAAAAAAAAAAAAAAAAAAAAAAAAAAAAAAAAAAAAAAAAAAAAAAAAAAAAAAAAAAAAAAAAAAAAAAAAAAAAAAAAAAAAAAAAAAAAAAAAAAAAAAAAAAAAAAAAAAAAAAAAAAAAAAAAAAAAAAAAAAAAAAAAAAAAAAAAAAAAAAAAAAAAAAAAAAAAAAAAAAAAAAAAAAAAAAAAAAAAAAAAAAAAAAAAAAAAAAAAAAAAAAAAAAAAAAAAAAAAAAAAAAAAAAAAAAAAAAAAAAAAAAAAAAAAAAAAAAAAAAAAAAAAAAAAAAAAAAAAAAAAAAAAAAAAAAAAAAAAAAAAAAAAAAAAAAAAAAAAAAAAAAAAAAAAAAAAAAAAAAAAAAAAAAAAAAAAAAAAAAAAAAAAAAAAAAAAAAAAAAAAAAAAAAAAAAAAAAAAAAAAAAAAAAAAAAAAAAAAAAAAAAAAAAAAAAAAAAAAAAAAAAAAAAAAAAAAAAAAAAAAAAAAAAAAAAAAAAAAAAAAAAAAAAAAAAAAAAAAAAAAAAAAAAAAAAAAAAAAAAAAAAAAAAAAAAAAAAAAAAAAAAAAAAAAAAAAAAAAAAAAAAAAAAAAAAAAAAAAAAAAAAAAAAAAAAAAAAAAAAAAAAAAAAAAAAAAAAAAAAAAAAAAAAAAAAAAAAAAAAAAAAAAAAAAAAAAAAAAAAAAAAAAAAAAAAAAAAAAAAAAAAAAAAAAAAAAAAAAAAAAAAAAAAAAAAAAAAAAAAAAAAAAAAAAAAAAAAAAAAAAAAAAAAAAAAAAAAAAAAAAAAAAAAAAAAAAAAAAAAAAAAAAAAAAAAAAAAAAAAAAAAAAAAAAAAAAAAAAAAAAAAAAAAAAAAAAAAAAAAAAAAAAAAAAAAAAAAAAAAAAAAAAAAAAAAAAAAAAAAAAAAAAAAAAAAAAAAAAAAAAAAAAAAAAAAAAAAAAAAAAAAAAAAAAAAAAAAAAAAAAAAAAAAAAAAAAAAAAAAAAAAAAAAAAAAAAAAAAAAAAAAAAAAAAAAAAAAAAAAAAAAAAAAAAAAAAAAAAAAAAAAAAAAAAAAAAAAAAAAAAAAAAAAAAAAAAAAAAAAAAAAAAAAAAAAAAAAAAAAAAAAAAAAAAAAAAAAAAAAAAAAAAAAAAAAAAAAAAAAAAAAAAAAAAAAAAAAAAAAAAAAAAAAAAAAAAAAAAAAAAAAAAAAAAAAAAAAAAAAAAAAAAAAAAAAAAAAAAAAAAAAAAAAAAAAAAAAAAAAAAAAAAAAAAAAAAAAAAAAAAAAAAAAAAAAAAAAAAAAAAAAAAAAAAAAAAAAAAAAAAAAAAAAAAAAAAAAAAAAAAAAAAAAAAAAAAAAAAAAAAAAAAAAAAAAAAAAAAAAAAAAAAAAAAAAAAAAAAAAAAAAAAAAAAAAAAAAAAAAAAAAAAAAAAAAAAAAAAAA=",
          "dtype": "f8"
         },
         "x0": " ",
         "xaxis": "x4",
         "y": {
          "bdata": "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",
          "dtype": "i4"
         },
         "y0": " ",
         "yaxis": "y4"
        },
        {
         "alignmentgroup": "True",
         "hovertemplate": "operation=sale<br>propertyType=duplex<br>floor=%{x}<br>price=%{y}<extra></extra>",
         "legendgroup": "sale",
         "marker": {
          "color": "#EF553B"
         },
         "name": "sale",
         "notched": false,
         "offsetgroup": "sale",
         "orientation": "v",
         "showlegend": false,
         "type": "box",
         "x": {
          "bdata": "AAAAAAAA8D8AAAAAAAAqQAAAAAAAABxAAAAAAAAACEAAAAAAAAAIQAAAAAAAAPA/AAAAAAAAAAAAAAAAAADwPwAAAAAAAPA/AAAAAAAA8D8AAAAAAADwPwAAAAAAAABAAAAAAAAAAAAAAAAAAAAAAAAAAAAAAAhAAAAAAAAAAEAAAAAAAAAQQAAAAAAAAAhAAAAAAAAACEAAAAAAAAAIQAAAAAAAABBAAAAAAAAACEAAAAAAAAAIQAAAAAAAABBAAAAAAAAAFEAAAAAAAAAUQAAAAAAAAABAAAAAAAAAAEAAAAAAAADwvwAAAAAAAPA/AAAAAAAAAEAAAAAAAAAAAAAAAAAAAABAAAAAAAAA8D8AAAAAAAAIQAAAAAAAAAAAAAAAAAAAAEAAAAAAAAAAQAAAAAAAABBAAAAAAAAACEAAAAAAAAAIQAAAAAAAAAAAAAAAAAAAGEAAAAAAAAAIQAAAAAAAAPA/AAAAAAAAAEAAAAAAAAAAQAAAAAAAABRAAAAAAAAAAEAAAAAAAAAAQAAAAAAAAAAAAAAAAAAAAEAAAAAAAAAIQAAAAAAAAABAAAAAAAAACEAAAAAAAAAAAAAAAAAAABRAAAAAAAAA8L8AAAAAAAAIQAAAAAAAABBAAAAAAAAACEAAAAAAAAAIQAAAAAAAAAhAAAAAAAAAHEAAAAAAAADwPwAAAAAAAAhAAAAAAAAACEAAAAAAAADwPwAAAAAAABRAAAAAAAAACEAAAAAAAAAcQAAAAAAAAAhAAAAAAAAAAEAAAAAAAAAIQAAAAAAAABBAAAAAAAAACEAAAAAAAAAQQAAAAAAAAAhAAAAAAAAAEEAAAAAAAAAAQAAAAAAAAAAAAAAAAAAACEAAAAAAAAAUQAAAAAAAAABAAAAAAAAAFEAAAAAAAAAAAAAAAAAAAABAAAAAAAAA8D8AAAAAAAAAQAAAAAAAABBAAAAAAAAACEAAAAAAAAAIQAAAAAAAAAhAAAAAAAAAAAAAAAAAAAAIQAAAAAAAAAAAAAAAAAAAAEAAAAAAAAAAAAAAAAAAAPA/AAAAAAAAAAAAAAAAAADwPwAAAAAAAAhAAAAAAAAACEAAAAAAAADwvwAAAAAAAAhAAAAAAAAAEEAAAAAAAAAIQAAAAAAAAAhAAAAAAAAA8D8AAAAAAAAIQAAAAAAAAAhAAAAAAAAACEAAAAAAAADwPwAAAAAAAPA/AAAAAAAA8D8AAAAAAAAQQA==",
          "dtype": "f8"
         },
         "x0": " ",
         "xaxis": "x5",
         "y": {
          "bdata": "SEYDAODIEAD4xBAAuEwKAAgQCwCQOgMAiPUEAKB/FwBsDgMAAFIDAEhGAwB4SwUAqEMFAFh6BQDQbAQAIBgJAHh0EwDYIwkA6LogAAgQCwDAmAsA2AsNANiaCgAwVwUAnGQEAKhDBQAoCwQAMKoMAKBoBgBIuAkAsKcCADDBHQAwVwUAGOQDAGAYIwCAbQ0AoGgGAPCcCQBYtRAAaBIIANgEIwAIEAsAcJkUAGDjFgA4owYAUIcKAFAWCABgrgoA8H4OAIhgCACCswoAMIwRAPCcCQBgPQgAuC4PAMggAwB4VhgAkEEGAEDpCAA4FAkACJkJAIBtDQD4BgYA2HYQAOzoAgCATxIA2AQjACA2BAB4VhgACLAaADAbDwDwKwcA0DAOANiaCgCwcQsAQGAKAMAJDgD4cB4AMFcFAGA9CABYegUApJ4IAADiBAAQCQUAULwWAIBtDQCYFgYAEJIDABioDQBYtRAA2AQjAOhQCADwKwcAwJEhADBQGwAofAYA2JoKAPArBwB8kwQAuGQGAOD9HAB4IQwA0N0GAJgWBgAIsBoA2JoKAOjYGwBIWQQA7OgCAAifCADQ3QYAKO0IACjtCADYuAUACL0DALDbIwA=",
          "dtype": "i4"
         },
         "y0": " ",
         "yaxis": "y5"
        },
        {
         "alignmentgroup": "True",
         "hovertemplate": "operation=sale<br>propertyType=office<br>floor=%{x}<br>price=%{y}<extra></extra>",
         "legendgroup": "sale",
         "marker": {
          "color": "#EF553B"
         },
         "name": "sale",
         "notched": false,
         "offsetgroup": "sale",
         "orientation": "v",
         "showlegend": false,
         "type": "box",
         "x": {
          "bdata": "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",
          "dtype": "f8"
         },
         "x0": " ",
         "xaxis": "x6",
         "y": {
          "bdata": "4JMEAMhtCwDARQQAwFwVAFD4DABgWwMAMFcFABjqAgCI0QoAAHECAJgcBQDIIAMAWNkKAOB1CQAolAIAQA0DAECcAACIYAgAkOIAAEANAwDQAQEAyHMKAGThAACo9wAAMDkKABB6BwDo3wUAqMwDAAhMAQCwAAkAWIYDAABTBwDYmgoAMFcFAIhgCACwrQEAwLYGAAgQCwCAOAEAMFcFANDdBgCQ0AMAqNICAJgoAwAgMAUA2JoKAGDMBQCQ0AMAEBUDALiCAQAofAYASMoGAABTBwAg9A4AfCICAGDjFgDAmAsAWG4HACAwBQBAfgUA0N0GAKD3AwDA1AEAiPUEAHDzBQCQBRAAuPkCAOj9AAAAnyQAsHcKABAJBQDQ+wEAiH4DAPy3AACQ0AMA8EkCAICpAwAA4gQAMOYCANhHAwC4TAoAgBoGABgxDACo0gIAeCEMABDQAQAwjBEAsAAJAKB6AwDQMA4AsB4EALj5AgAgMAUAEAkFAEB+BQCwrQEA4JMEAFC8FgAAahgAuLcNALAACQAgvwIA2EcDANi4BQA4uwIAYMwFAPiVAwDgkwQA2NABAKCGAQDQ3QYAKJQCABADBgAwjBEA8CsHAKDZCACf3AUA0PsBAFgPAgBMHgQAaDYCAKB6AwAolAIAeI8CACh8BgDWcQMAYK4KAPB+DgAIvQMAMFcFAMDUAQBoNgIAIDAFAECQAgAwVwUAiNEKALjzAwAgvwIAQJwAANDdBgBQ+AwAIL8CAEA/AwDQ+wEAYFsDAAA1DABgzAUAIDAFAJgcBQDAxxEA2JoKAOCTBADAtgYA4HUJAABxAgA81wAAiH4DAJDQAwAITAEACKsGAOhuAwCATxIAmKsCABB6BwCQ0AMAIDAFAKD3AwDwKwcAMFcFAPgGBgCQ0AMASOgBAEjKBgAANQwAiPUEAKD3AwAQzQ4AKJoBAGg2AgDY0AEAkF8BAKCGAQBgrgoAkNADAAgKDACYHAUAMFcFAFC8FgAAahgAMDkKAKD3AwBgzAUAAHcBAPArBwCwMAEAgE8SAHg/BwBQNAMA0PsBAIjRCgBAPwMAwH0DAA==",
          "dtype": "i4"
         },
         "y0": " ",
         "yaxis": "y6"
        },
        {
         "alignmentgroup": "True",
         "hovertemplate": "operation=sale<br>propertyType=premise<br>floor=%{x}<br>price=%{y}<extra></extra>",
         "legendgroup": "sale",
         "marker": {
          "color": "#EF553B"
         },
         "name": "sale",
         "notched": false,
         "offsetgroup": "sale",
         "orientation": "v",
         "showlegend": false,
         "type": "box",
         "x": {
          "bdata": "AAAAAAAA4L8AAAAAAADgvwAAAAAAAAAAAAAAAAAAAAAAAAAAAAAAAAAAAAAAAAAAAAAAAAAAAAAAAAAAAAAAAAAAAAAAAAAAAAAAAAAAAAAAAAAAAAAAAAAAAAAAAAAAAAAAAAAAAAAAAAAAAAAAAAAAAAAAAAAAAAAAAAAAAAAAAAAAAAAAAAAAAAAAAAAAAAAAAAAAAAAAAAAAAAAAAAAAAAAAAAAAAAAAAAAAAAAAAAAAAAAAAAAAAAAAAAAAAAAAAAAAAAAAAAAAAAAAAAAAAAAAAAAAAAAAAAAAAAAAAAAAAAAAAAAAAAAAAAAAAAAAAAAAAAAAAAAAAAAAAAAAAAAAAAAAAAAAAAAAAAAAAAAAAAAAAAAAAAAAAAAAAAAAAAAAAAAAAAAAAAAAAAAAAAAAAAAAAAAAAAAAAAAAAAAAAAAAAAAAAAAAAAAAAAAAAAAAAAAAAAAAAAAAAAAAAAAAAAAAAAAAAAAAAAAAAAAAAAAAAAAAAAAAAAAAAAAAAAAAAAAAAAAAAAAAAAAAAAAAAAAAAAAAAAAAAAAAAAAAAAAAAAAAAAAAAAAAAAAAAAAAAAAAAAAAAAAAAAAAAAAAAAAAAAAAAAAA8L8AAAAAAAAAAAAAAAAAAAAAAAAAAAAAAAAAAAAAAAAAAAAAAAAAAAAAAAAAAAAAAAAAAAAAAAAAAAAAAAAAAAAAAAAAAAAAAAAAAAAAAAAAAAAAAAAAAAAAAAAAAAAAAAAAAAAAAAAAAAAAAAAAAAAAAAAAAAAAAAAAAAAAAAAAAAAAAAAAAAAAAAAAAAAAAAAAAAAAAAAAAAAAAAAAAAAAAAAAAAAAAAAAAAAAAAAAAAAAAAAAAAAAAAAAAAAAAAAAAAAAAAAAAAAAAAAAAAAAAAAAAAAA4D8AAAAAAAAAAAAAAAAAAAAAAAAAAAAAAAAAAAAAAAAAAAAAAAAAAAAAAAAAAAAA4L8AAAAAAAAAAAAAAAAAAAAAAAAAAAAAAAAAAAAAAAAAAAAAAAAAAAAAAAAAAAAAAAAAAAAAAAAAAAAAAAAAAAAAAAAAAAAAAAAAAAAAAAAAAAAAAAAAAAAAAAAAAAAAAAAAAAAAAAAAAAAAAAAAAAAAAAAAAAAAAAAAAAAAAAAAAAAAAAAAAAAAAAAAAAAAAAAAAAAAAAAAAAAAAAAAAPA/AAAAAAAAAAAAAAAAAAAAAAAAAAAAAAAAAAAAAAAAAAAAAAAAAAAAAAAAAAAAAAAAAAAAAAAAAAAAAAAAAAAAAAAAAAAAAAAAAAAAAAAAAAAAAAAAAAAAAAAAAAAAAAAAAAAAAAAAAAAAAAAAAAAAAAAAAAAAAAAAAAAAAAAAAAAAAAAAAAAAAAAAAAAAAAAAAAAAAAAAAAAAAAAAAAAAAAAAAAAAAAAAAAAAAAAAAAAAAAAAAAAAAAAAAAAAAAAAAAAAAAAAAAAAAAAAAAAAAAAAAAAAAAAAAAAAAAAAAAAAAAAAAAAAAAAAAAAAAPA/AAAAAAAAAAAAAAAAAAAAAAAAAAAAAAAAAAAAAAAAAAAAAAAAAAAAAAAAAAAAAAAAAAAAAAAAAAAAAAAAAAAAAAAAAAAAAAAAAAAAAAAAAAAAAAAAAAAAAAAAAAAAAPC/AAAAAAAAAAAAAAAAAAAAAAAAAAAAAAAAAAAAAAAAAAAAAAAAAAAAQAAAAAAAAAAAAAAAAAAAAAAAAAAAAAAAAAAAAAAAAAAAAAAAAAAAAAAAAAAAAAAAAAAAAAAAAAAAAAAAAAAAAAAAAAAAAAAAAAAAAAAAAAAAAAAAAAAAAAAAAAAAAAAAAAAAAAAAAAAAAAAAAAAAAAAAAAAAAAAAAAAAAAAAAAAAAAAAAAAAAAAAAAAAAAAAAAAAAAAAAAAAAAAAAAAAAAAAAAAAAAAAAAAAAAAAAAAAAAAAAAAAAAAAAAAAAAAAAAAAAAAAAAAAAAAAAAAAAAAAAAAAAAAAAAAAAAAAAAAAAAAAAAAAAAAAAAAAAAAAAAAAAAAAAAAAAAAAAAAAAAAAAAAAAAAAAAAAAAAAAAAAAAAAAAAAAAAAAAAAAAAAAAAAAAAAAAAAAAAAAAAAAAAAAAAAAAAAAAAAAAAAAAAAAAAAAAAAAAAAAAAAAADwvwAAAAAAAAAAAAAAAAAAAAAAAAAAAAAAAAAAAAAAAAAAAAAAAAAAAAAAAAAAAAAAAAAAAAAAAAAAAAAAAAAAAAAAAAAAAAAAAAAAAAAAAAAAAAAAAAAAAAAAAAAAAAAAAAAAAAAAAAAAAAAAAAAAAAAAAAAAAAAAAAAAAAAAAAAAAAAAAAAAAAAAAAAAAAAAAAAAAAAAAAAAAAAAAAAAAAAAAAAAAAAAAAAAAAAAAAAAAAAAAAAAAAAAAAAAAAAAAAAAAAAAAAAAAAAAAAAAAAAAAAAAAAAAAAAAAAAAAAAAAAAAAAAAAAAAAAAAAAAAAAAAAAAAAAAAAAAAAAAAAAAAAAAAAAAAAAAAAAAAAAAAAAAAAAAAAAAAAAAAAAAAAAAAAAAAAAAAAAAAAAAAAAAAAAAAAAAAAAAAAAAAAAAAAAAAAAAAAAAAAAAAAADgPwAAAAAAAAAAAAAAAAAAAAAAAAAAAAAAAAAAAAAAAAAAAAAAAAAAAAAAAAAAAAAAAAAAAAAAAPA/AAAAAAAAAAAAAAAAAAAAAAAAAAAAAAAAAAAAAAAAAAAAAAAAAAAAAAAAAAAAAAAAAAAAAAAAAAAAAAAAAAAAAAAAAAAAAAAAAAAAAAAAAAAAAAAAAAAAAAAAAAAAAAAAAAAAAAAAAAAAAAAAAAAAAAAAAAAAAAAAAAAAAAAAAAAAAAAAAADwPwAAAAAAAAAAAAAAAAAAAAAAAAAAAAAAAAAAAAAAAAAAAAAAAAAAAAAAAAAAAAAAAAAAAAAAAPC/AAAAAAAAAAAAAAAAAAAAAAAAAAAAAAAAAAAAAAAAAAAAAAAAAAAAAAAAAAAAAAAAAAAAAAAAAAAAAAAAAAAAAAAAAAAAAAAAAAAAAAAAAAAAAAAAAAAAAAAAAAAAAAAAAAAAAAAAAAAAAAAAAAAAAAAAAAAAAAAAAAAAAAAAAAAAAAAAAAAAAAAAAAAAAAAAAAAAAAAAAAAAAAAAAAAAAAAAAAAAAAAAAAAAAAAAAAAAAAAAAAAAAAAAAAAAAAAAAAAAAAAAAAAAAAAAAAAAAAAAAAAAAAAAAAAAAAAAAAAAAAAAAAAAAAAAAAAAAPA/AAAAAAAAAAAAAAAAAAAAAAAAAAAAAAAAAAAAAAAAAAAAAAAAAAAAAAAAAAAAAAAAAAAAAAAAAAAAAAAAAAAAAAAAAAAAAPA/AAAAAAAAAAAAAAAAAADgPwAAAAAAAAAAAAAAAAAAAAAAAAAAAAAAAAAAAAAAAAAAAAAAAAAAAAAAAAAAAAAAAAAAAAAAAAAAAAAAAAAAAAAAAAAAAAAAAAAAAAAAAAAAAAAAAAAAAAAAAAAAAAAAAAAAAAAAAAAAAAAAAAAAAAAAAAAAAAAAAAAAAAAAAAAAAAAAAAAAAAAAAAAAAAAAAAAAAAAAAAAAAAAAAAAAAAAAAAAAAAAAAAAAAAAAAAAAAAAAAAAAAAAAAAAAAAAAAAAAAAAAAAAAAAAAAAAAAAAAAAAAAAAAAAAAAAAAAAAAAAAAAAAA8D8AAAAAAAAAAAAAAAAAAAAAAAAAAAAAAAAAAAAAAAAAAAAAAAAAAAAAAAAAAAAAAAAAAAAAAAAAAAAAAAAAAAAAAAAAAAAAAAAAAAAAAAAAAAAAAAAAAAAAAAAAAAAAAAAAAAAAAAAAAAAAAAAAAAAAAAAAAAAAAAAAAAAAAAAAAAAAAAAAAAAAAAAAAAAAAAAAAAAAAAAAAAAAAAAAAAAAAAAAAAAA4D8AAAAAAAAAAAAAAAAAAAAAAAAAAAAAAAAAAAAAAAAAAAAAAAAAAPA/AAAAAAAAAAAAAAAAAAAAAAAAAAAAAAAAAAAAAAAAAAAAAAAAAAAAAAAAAAAAAAAAAAAAAAAAAAAAAAAAAAAAAAAAAAAAAAAAAAAAAAAA8D8AAAAAAAAAAAAAAAAAAAAAAAAAAAAAAAAAAAAAAAAAAAAAAAAAAPC/AAAAAAAA8L8AAAAAAAAAAAAAAAAAAAAAAAAAAAAAAAAAAAAAAAAAAAAAAAAAAAAAAAAAAAAAAAAAAAAAAAAAAAAAAAAAAAAAAAAAAAAAAAAAAAAAAAAAAAAAAAAAAAAAAAAAAAAAAAAAAAAAAAAAAAAAAAAAAAAAAAAAAAAAAAAAAAAAAAAAAAAAAAAAAAAAAAAAAAAAAAAAAAAAAAAAAAAAAAAAAPC/AAAAAAAAAAAAAAAAAADwvwAAAAAAAOC/AAAAAAAAAAAAAAAAAAAAAAAAAAAAAAAAAAAAAAAA4L8AAAAAAADwPwAAAAAAAAAAAAAAAAAA4L8AAAAAAAAAQAAAAAAAAAAAAAAAAAAAAAAAAAAAAAAAAAAAAAAAAAAAAAAAAAAAAAAAAAAAAAAAAAAAAAAAAAAAAAAAAAAAAAAAAAAAAAAAAAAAAAAAAAAAAAAAAAAAAAAAAAAAAAAAAAAAAAAAAAAAAAAAAAAAAAAAAAAAAAAAAAAAAAAAAAAAAAAAAAAAAAAAAAAAAAAAAAAAAAAAAAAAAAAAAAAAAAAAAAAAAAAAAAAAAAAAAAAAAAAAAAAA8D8AAAAAAAAAAAAAAAAAAAAAAAAAAAAAAAAAAAAAAAAAAAAAAAAAAPA/AAAAAAAAAAAAAAAAAAAAAAAAAAAAAPA/AAAAAAAAAAAAAAAAAAAAAAAAAAAAAAAAAAAAAAAAAAAAAAAAAAAAAAAAAAAAAAAAAAAAAAAAAAAAAAAAAAAAAAAAAAAAAAAAAAAAAAAAAAAAAAAAAAAAAAAAAAAAAAAAAAAAAAAAAAAAAAAAAAAAAAAAAAAAAAAAAAAAAAAA8D8AAAAAAAAAAAAAAAAAAAAAAAAAAAAAAAAAAAAAAAAAAAAAAAAAAAAAAAAAAAAA8L8AAAAAAAAAAAAAAAAAAAAAAAAAAAAAAAAAAAAAAAAAAAAAAAAAAAAAAAAAAAAAAAAAAAAAAAAAAAAAAAAAAAAAAAAAAAAAAAAAAAAAAAAAAAAAAAAAAPA/AAAAAAAAAAAAAAAAAAAAAAAAAAAAAAAAAAAAAAAAAAAAAAAAAAAAAAAAAAAAAAAAAAAAAAAAAAAAAAAAAAAAAAAAAAAAAAAAAAAAAAAAAAAAAAAAAAAAAAAAAAAAAAAAAAAAAAAAAAAAAAAAAAAAAAAAAAAAAAAAAAAAAAAAAAAAAAAAAAAAAAAAAAAAAAAAAAAAAAAAAAAAAAAAAAAAAAAAAAAAAAAAAAAAAAAAAAAAAAAAAADwPwAAAAAAAAAAAAAAAAAAAAAAAAAAAAAAAAAAAAAAAAAAAAAAAAAAAAAAAAAAAAAAAAAAAAAAAAAAAAAAAAAAAAAAAAAAAAAAAAAAAAAAAAAAAAAAAAAAAAAAAAAAAAAAAAAAAAAAAAAAAAAAAAAAAAAAAAAAAAAAAAAAAAAAAAAAAAAAAAAAAAAAAAAAAAAAAAAAAAAAAAAAAAAAAAAAAAAAAAAAAAAAAAAAAAAAAAAAAAAAAAAAAAAAAAAAAAAAAAAAAAAAAAAAAAAAAAAAAAAAAAAAAAAAAAAAAAAAAAAAAAAAAAAAAAAAAAAAAAAAAAAAAAAAAAAAAAAAAAAAAAAAAAAAAAAAAAAAAAAAAAAAAAAAAAAAAAAAAAAAAAAAAAAAAAAAAAAAAAAAAAAAAAAAAAAAAAAAAAAAAAAAAAAAAAAAAAAAAAAAAAAAAAAAAAAAAAAAAAAAAAAAAAAAAAAAAAAAAAAAAAAAAAAAAAAAAAAAAAAA4L8AAAAAAAAAAAAAAAAAAAAAAAAAAAAAAAAAAAAAAAAAAAAAAAAAAAAAAAAAAAAA8D8AAAAAAAAAAAAAAAAAAAAAAAAAAAAAAAAAAAAAAAAAAAAAAAAAAAAAAAAAAAAA8D8AAAAAAAAAAAAAAAAAAAAAAAAAAAAAAAAAAAAAAAAAAAAAAAAAAAAAAAAAAAAAAAAAAAAAAAAAAAAAAAAAAAAAAAAAAAAAAAAAAAAAAAAAAAAAAAAAAAAAAAAAAAAAAAAAAAAAAAAAAAAAAAAAAAAAAAAAAAAAAAAAAAAAAAAAAAAAAAAAAAAAAAAAAAAAAAAAAAAAAAAAAAAAAAAAAAAAAAAAAAAAAAAAAAAAAAAAAAAAAAAAAAAAAAAAAAAAAAAAAAAAAAAAAAAAAAAAAAAAAAAAAAAAAAAAAAAAAAAAAAAAAAAAAAAAAAAAAAAAAAAAAAAAAAAAAAAAAAAAAAAAAAAAAAAAAAAAAAAAAAAAAAAAAAAAAAAAAAAAAAAAAAAAAAAAAAAAAAAAAAAAAAAAAAAAAAAA8D8AAAAAAAAAAAAAAAAAAOC/AAAAAAAAAAAAAAAAAAAAAAAAAAAAAPA/AAAAAAAAAAAAAAAAAAAAAAAAAAAAAAAAAAAAAAAAAAAAAAAAAAAAAAAAAAAAAAAAAAAAAAAAAAAAAAAAAAAAAAAAAAAAAOC/AAAAAAAAAAAAAAAAAAAAAAAAAAAAAAAAAAAAAAAAAAAAAAAAAAAAAAAAAAAAAAAAAAAAAAAAAAAAAAAAAAAAAAAAAAAAAAAAAAAAAAAAAAAAAAAAAADwPwAAAAAAAAAAAAAAAAAAAAAAAAAAAAAAAAAAAAAAAAAAAAAAAAAA4L8AAAAAAAAAAAAAAAAAAAAAAAAAAAAAAAAAAAAAAAAAAAAAAAAAAAAAAAAAAAAAAAAAAAAAAAAAAAAAAAAAAAAAAAAAAAAAAAAAAAAAAAAAAAAAAAAAAAAAAAAAAAAA8D8AAAAAAAAAAAAAAAAAAAAAAAAAAAAA8L8AAAAAAADgvwAAAAAAAAAAAAAAAAAA8L8AAAAAAAAAAAAAAAAAAAAAAAAAAAAAAAAAAAAAAAAAAAAAAAAAAAAAAAAAAAAA4D8AAAAAAAAAAAAAAAAAAABAAAAAAAAAAAAAAAAAAAAAAAAAAAAAAAAAAAAAAAAAAAAAAAAAAAAAAAAAAAAAAAAAAAAAAAAAAAAAAAAAAAAAAAAAAAAAAAAAAAAAAAAAAAAAAAAAAAAAAAAAAAAAAAAAAAAAAAAAAAAAAAAAAAAAAAAAAAAAAAAAAAAAAAAA8D8AAAAAAAAAAAAAAAAAAAAAAAAAAAAAAAAAAAAAAAAAAAAAAAAAAAAAAAAAAAAAAAAAAAAAAADwPwAAAAAAAAAAAAAAAAAAAAAAAAAAAAAAAAAAAAAAAAAAAAAAAAAAAAAAAAAAAAAAAAAAAAAAAAAAAAAAAAAAAAAAAAAAAAAAAAAAAAAAAAAAAAAAAAAAAAAAAAAAAAAAAAAAAAAAAAAAAAAAAAAAAAAAAAAAAAAAAAAAAAAAAAAAAAAAAAAAAAAAAAAAAAAAAAAAAAAAAAAAAAAAAAAAAAAAAAAAAAAAAAAAAAAAAAAAAAAAAAAAAAAAAAAAAAAAAAAAAAAAAAAAAAAAAAAAAAAAAAAAAAAAAAAAAAAAAAAAAAAAAAAAAAAAAAAAAAAAAAAAAAAAAAAAAAAAAAAAAAAAAAAAAAAAAAAAAAAAAAAAAAAAAAAAAAAAAAAAAAAAAAAAAAAAAAAA",
          "dtype": "f8"
         },
         "x0": " ",
         "xaxis": "x7",
         "y": {
          "bdata": "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",
          "dtype": "i4"
         },
         "y0": " ",
         "yaxis": "y7"
        },
        {
         "alignmentgroup": "True",
         "hovertemplate": "operation=sale<br>propertyType=countryHouse<br>floor=%{x}<br>price=%{y}<extra></extra>",
         "legendgroup": "sale",
         "marker": {
          "color": "#EF553B"
         },
         "name": "sale",
         "notched": false,
         "offsetgroup": "sale",
         "orientation": "v",
         "showlegend": false,
         "type": "box",
         "x": {
          "bdata": "AAAAAAAAAAAAAAAAAAAAAAAAAAAAAAAAAAAAAAAAAAAAAAAAAAAAAAAAAAAAAAAAAAAAAAAAAAAAAAAAAAAAAAAAAAAAAAAAAAAAAAAAAAAAAAAAAAAAAAAAAAAAAAAAAAAAAAAAAAAAAAAAAAAAAAAAAAAAAAAAAAAAAAAAAAAAAAAAAAAAAAAAAAAAAAAAAAAAAAAAAAAAAAAAAAAAAAAAAAAAAAAAAAAAAAAAAAAAAAAAAAAAAAAAAAAAAAAAAAAAAAAAAAA=",
          "dtype": "f8"
         },
         "x0": " ",
         "xaxis": "x8",
         "y": {
          "bdata": "CJkJAJDQAwCYaQ0AgCAFAEhZBAB8BAcAaIMKAJiNBwBYgAQAMBsPAFD4DADoUAgA4GkLAOhQCADQ3QYAMEsHAMzlAgCozAMAKHwGABioDQDAkSEAgBoGAIj1BAAQegcAmOAOAA==",
          "dtype": "i4"
         },
         "y0": " ",
         "yaxis": "y8"
        },
        {
         "alignmentgroup": "True",
         "hovertemplate": "operation=sale<br>propertyType=garage<br>floor=%{x}<br>price=%{y}<extra></extra>",
         "legendgroup": "sale",
         "marker": {
          "color": "#EF553B"
         },
         "name": "sale",
         "notched": false,
         "offsetgroup": "sale",
         "orientation": "v",
         "showlegend": false,
         "type": "box",
         "x": {
          "bdata": "AAAAAAAA8L8AAAAAAADwvwAAAAAAAPC/AAAAAAAA8L8AAAAAAADwvwAAAAAAAPC/AAAAAAAA8L8AAAAAAAAAAAAAAAAAAPC/AAAAAAAAAAAAAAAAAADwvwAAAAAAAPC/AAAAAAAAAAAAAAAAAADwvwAAAAAAAPC/AAAAAAAA8L8AAAAAAADwvwAAAAAAAPC/AAAAAAAA8L8AAAAAAADwvwAAAAAAAPC/AAAAAAAA8L8AAAAAAADwvwAAAAAAAPC/AAAAAAAA8L8AAAAAAADwvwAAAAAAAPC/AAAAAAAA8L8AAAAAAAAAwAAAAAAAAPC/AAAAAAAAAMAAAAAAAADwvwAAAAAAAPC/AAAAAAAA8L8AAAAAAADwvwAAAAAAAPC/AAAAAAAACEAAAAAAAADwvwAAAAAAAPC/AAAAAAAA8L8AAAAAAADwvwAAAAAAAPC/AAAAAAAA8L8AAAAAAADwvwAAAAAAAPC/AAAAAAAA8L8AAAAAAADwvwAAAAAAAADAAAAAAAAAAMAAAAAAAAAAwAAAAAAAAPC/AAAAAAAA8L8AAAAAAADwvwAAAAAAAPC/AAAAAAAA8L8AAAAAAAAAAAAAAAAAAAAAAAAAAAAA8L8AAAAAAAAAwAAAAAAAAPC/AAAAAAAA8L8AAAAAAAAAAAAAAAAAAAAAAAAAAAAA8L8AAAAAAADwvwAAAAAAAPC/AAAAAAAA8L8AAAAAAADwvwAAAAAAAPC/AAAAAAAA8L8AAAAAAAAAAAAAAAAAAPC/AAAAAAAA8L8AAAAAAADwvwAAAAAAAADAAAAAAAAA8L8AAAAAAAAAAAAAAAAAAPC/AAAAAAAA8L8AAAAAAADwvwAAAAAAAAAAAAAAAAAA8L8AAAAAAADwvwAAAAAAAPC/AAAAAAAA8L8=",
          "dtype": "f8"
         },
         "x0": " ",
         "xaxis": "x9",
         "y": {
          "bdata": "uIgAALiIAABwlAAAeJsAAFiYAAAQpAAA+KcAANjQAQC4iAAAgIsIAOCrAADgqwAAhJkAAKCMAACAiwgAeJsAABSbAAAUmwAAsJoAAOiZAADomQAAsJoAAICiAAAUmwAAhJkAAIiQAABAnAAAaL8AAIiQAACAiwgAuIgAAHCUAAAY5AMACM8AAMivAAAGpAAAcJQAAGi/AADIrwAAuIgAAJSOAACUjgAAuIgAALTWAQC4iAAAuIgAAFiYAABwlAAAECAWAMivAABkDQIA4KsAAHCUAABovwAArIoAAPgkAQBYmAAAEKQAAECcAADIrwAAcJQAAICLCABwlAAA0AEBAKCMAAAQpAAAuIgAANDdBgAomgEAeJsAANjWAADIlgAA0H4BAKyKAABwlAAAgLsAAFAWCACIkAAA4KsAAEyaAABYmAAAuIgAANStAAC4iAAAyK8AAA==",
          "dtype": "i4"
         },
         "y0": " ",
         "yaxis": "y9"
        }
       ],
       "layout": {
        "annotations": [
         {
          "font": {},
          "showarrow": false,
          "text": "propertyType=flat",
          "x": 0.04666666666666666,
          "xanchor": "center",
          "xref": "paper",
          "y": 1,
          "yanchor": "bottom",
          "yref": "paper"
         },
         {
          "font": {},
          "showarrow": false,
          "text": "propertyType=penthouse",
          "x": 0.16,
          "xanchor": "center",
          "xref": "paper",
          "y": 1,
          "yanchor": "bottom",
          "yref": "paper"
         },
         {
          "font": {},
          "showarrow": false,
          "text": "propertyType=studio",
          "x": 0.2733333333333333,
          "xanchor": "center",
          "xref": "paper",
          "y": 1,
          "yanchor": "bottom",
          "yref": "paper"
         },
         {
          "font": {},
          "showarrow": false,
          "text": "propertyType=chalet",
          "x": 0.3866666666666666,
          "xanchor": "center",
          "xref": "paper",
          "y": 1,
          "yanchor": "bottom",
          "yref": "paper"
         },
         {
          "font": {},
          "showarrow": false,
          "text": "propertyType=duplex",
          "x": 0.5,
          "xanchor": "center",
          "xref": "paper",
          "y": 1,
          "yanchor": "bottom",
          "yref": "paper"
         },
         {
          "font": {},
          "showarrow": false,
          "text": "propertyType=office",
          "x": 0.6133333333333333,
          "xanchor": "center",
          "xref": "paper",
          "y": 1,
          "yanchor": "bottom",
          "yref": "paper"
         },
         {
          "font": {},
          "showarrow": false,
          "text": "propertyType=premise",
          "x": 0.7266666666666666,
          "xanchor": "center",
          "xref": "paper",
          "y": 1,
          "yanchor": "bottom",
          "yref": "paper"
         },
         {
          "font": {},
          "showarrow": false,
          "text": "propertyType=countryHouse",
          "x": 0.8400000000000001,
          "xanchor": "center",
          "xref": "paper",
          "y": 1,
          "yanchor": "bottom",
          "yref": "paper"
         },
         {
          "font": {},
          "showarrow": false,
          "text": "propertyType=garage",
          "x": 0.9533333333333334,
          "xanchor": "center",
          "xref": "paper",
          "y": 1,
          "yanchor": "bottom",
          "yref": "paper"
         }
        ],
        "boxmode": "group",
        "legend": {
         "title": {
          "text": "operation"
         },
         "tracegroupgap": 0
        },
        "template": {
         "data": {
          "bar": [
           {
            "error_x": {
             "color": "#2a3f5f"
            },
            "error_y": {
             "color": "#2a3f5f"
            },
            "marker": {
             "line": {
              "color": "#E5ECF6",
              "width": 0.5
             },
             "pattern": {
              "fillmode": "overlay",
              "size": 10,
              "solidity": 0.2
             }
            },
            "type": "bar"
           }
          ],
          "barpolar": [
           {
            "marker": {
             "line": {
              "color": "#E5ECF6",
              "width": 0.5
             },
             "pattern": {
              "fillmode": "overlay",
              "size": 10,
              "solidity": 0.2
             }
            },
            "type": "barpolar"
           }
          ],
          "carpet": [
           {
            "aaxis": {
             "endlinecolor": "#2a3f5f",
             "gridcolor": "white",
             "linecolor": "white",
             "minorgridcolor": "white",
             "startlinecolor": "#2a3f5f"
            },
            "baxis": {
             "endlinecolor": "#2a3f5f",
             "gridcolor": "white",
             "linecolor": "white",
             "minorgridcolor": "white",
             "startlinecolor": "#2a3f5f"
            },
            "type": "carpet"
           }
          ],
          "choropleth": [
           {
            "colorbar": {
             "outlinewidth": 0,
             "ticks": ""
            },
            "type": "choropleth"
           }
          ],
          "contour": [
           {
            "colorbar": {
             "outlinewidth": 0,
             "ticks": ""
            },
            "colorscale": [
             [
              0,
              "#0d0887"
             ],
             [
              0.1111111111111111,
              "#46039f"
             ],
             [
              0.2222222222222222,
              "#7201a8"
             ],
             [
              0.3333333333333333,
              "#9c179e"
             ],
             [
              0.4444444444444444,
              "#bd3786"
             ],
             [
              0.5555555555555556,
              "#d8576b"
             ],
             [
              0.6666666666666666,
              "#ed7953"
             ],
             [
              0.7777777777777778,
              "#fb9f3a"
             ],
             [
              0.8888888888888888,
              "#fdca26"
             ],
             [
              1,
              "#f0f921"
             ]
            ],
            "type": "contour"
           }
          ],
          "contourcarpet": [
           {
            "colorbar": {
             "outlinewidth": 0,
             "ticks": ""
            },
            "type": "contourcarpet"
           }
          ],
          "heatmap": [
           {
            "colorbar": {
             "outlinewidth": 0,
             "ticks": ""
            },
            "colorscale": [
             [
              0,
              "#0d0887"
             ],
             [
              0.1111111111111111,
              "#46039f"
             ],
             [
              0.2222222222222222,
              "#7201a8"
             ],
             [
              0.3333333333333333,
              "#9c179e"
             ],
             [
              0.4444444444444444,
              "#bd3786"
             ],
             [
              0.5555555555555556,
              "#d8576b"
             ],
             [
              0.6666666666666666,
              "#ed7953"
             ],
             [
              0.7777777777777778,
              "#fb9f3a"
             ],
             [
              0.8888888888888888,
              "#fdca26"
             ],
             [
              1,
              "#f0f921"
             ]
            ],
            "type": "heatmap"
           }
          ],
          "histogram": [
           {
            "marker": {
             "pattern": {
              "fillmode": "overlay",
              "size": 10,
              "solidity": 0.2
             }
            },
            "type": "histogram"
           }
          ],
          "histogram2d": [
           {
            "colorbar": {
             "outlinewidth": 0,
             "ticks": ""
            },
            "colorscale": [
             [
              0,
              "#0d0887"
             ],
             [
              0.1111111111111111,
              "#46039f"
             ],
             [
              0.2222222222222222,
              "#7201a8"
             ],
             [
              0.3333333333333333,
              "#9c179e"
             ],
             [
              0.4444444444444444,
              "#bd3786"
             ],
             [
              0.5555555555555556,
              "#d8576b"
             ],
             [
              0.6666666666666666,
              "#ed7953"
             ],
             [
              0.7777777777777778,
              "#fb9f3a"
             ],
             [
              0.8888888888888888,
              "#fdca26"
             ],
             [
              1,
              "#f0f921"
             ]
            ],
            "type": "histogram2d"
           }
          ],
          "histogram2dcontour": [
           {
            "colorbar": {
             "outlinewidth": 0,
             "ticks": ""
            },
            "colorscale": [
             [
              0,
              "#0d0887"
             ],
             [
              0.1111111111111111,
              "#46039f"
             ],
             [
              0.2222222222222222,
              "#7201a8"
             ],
             [
              0.3333333333333333,
              "#9c179e"
             ],
             [
              0.4444444444444444,
              "#bd3786"
             ],
             [
              0.5555555555555556,
              "#d8576b"
             ],
             [
              0.6666666666666666,
              "#ed7953"
             ],
             [
              0.7777777777777778,
              "#fb9f3a"
             ],
             [
              0.8888888888888888,
              "#fdca26"
             ],
             [
              1,
              "#f0f921"
             ]
            ],
            "type": "histogram2dcontour"
           }
          ],
          "mesh3d": [
           {
            "colorbar": {
             "outlinewidth": 0,
             "ticks": ""
            },
            "type": "mesh3d"
           }
          ],
          "parcoords": [
           {
            "line": {
             "colorbar": {
              "outlinewidth": 0,
              "ticks": ""
             }
            },
            "type": "parcoords"
           }
          ],
          "pie": [
           {
            "automargin": true,
            "type": "pie"
           }
          ],
          "scatter": [
           {
            "fillpattern": {
             "fillmode": "overlay",
             "size": 10,
             "solidity": 0.2
            },
            "type": "scatter"
           }
          ],
          "scatter3d": [
           {
            "line": {
             "colorbar": {
              "outlinewidth": 0,
              "ticks": ""
             }
            },
            "marker": {
             "colorbar": {
              "outlinewidth": 0,
              "ticks": ""
             }
            },
            "type": "scatter3d"
           }
          ],
          "scattercarpet": [
           {
            "marker": {
             "colorbar": {
              "outlinewidth": 0,
              "ticks": ""
             }
            },
            "type": "scattercarpet"
           }
          ],
          "scattergeo": [
           {
            "marker": {
             "colorbar": {
              "outlinewidth": 0,
              "ticks": ""
             }
            },
            "type": "scattergeo"
           }
          ],
          "scattergl": [
           {
            "marker": {
             "colorbar": {
              "outlinewidth": 0,
              "ticks": ""
             }
            },
            "type": "scattergl"
           }
          ],
          "scattermap": [
           {
            "marker": {
             "colorbar": {
              "outlinewidth": 0,
              "ticks": ""
             }
            },
            "type": "scattermap"
           }
          ],
          "scattermapbox": [
           {
            "marker": {
             "colorbar": {
              "outlinewidth": 0,
              "ticks": ""
             }
            },
            "type": "scattermapbox"
           }
          ],
          "scatterpolar": [
           {
            "marker": {
             "colorbar": {
              "outlinewidth": 0,
              "ticks": ""
             }
            },
            "type": "scatterpolar"
           }
          ],
          "scatterpolargl": [
           {
            "marker": {
             "colorbar": {
              "outlinewidth": 0,
              "ticks": ""
             }
            },
            "type": "scatterpolargl"
           }
          ],
          "scatterternary": [
           {
            "marker": {
             "colorbar": {
              "outlinewidth": 0,
              "ticks": ""
             }
            },
            "type": "scatterternary"
           }
          ],
          "surface": [
           {
            "colorbar": {
             "outlinewidth": 0,
             "ticks": ""
            },
            "colorscale": [
             [
              0,
              "#0d0887"
             ],
             [
              0.1111111111111111,
              "#46039f"
             ],
             [
              0.2222222222222222,
              "#7201a8"
             ],
             [
              0.3333333333333333,
              "#9c179e"
             ],
             [
              0.4444444444444444,
              "#bd3786"
             ],
             [
              0.5555555555555556,
              "#d8576b"
             ],
             [
              0.6666666666666666,
              "#ed7953"
             ],
             [
              0.7777777777777778,
              "#fb9f3a"
             ],
             [
              0.8888888888888888,
              "#fdca26"
             ],
             [
              1,
              "#f0f921"
             ]
            ],
            "type": "surface"
           }
          ],
          "table": [
           {
            "cells": {
             "fill": {
              "color": "#EBF0F8"
             },
             "line": {
              "color": "white"
             }
            },
            "header": {
             "fill": {
              "color": "#C8D4E3"
             },
             "line": {
              "color": "white"
             }
            },
            "type": "table"
           }
          ]
         },
         "layout": {
          "annotationdefaults": {
           "arrowcolor": "#2a3f5f",
           "arrowhead": 0,
           "arrowwidth": 1
          },
          "autotypenumbers": "strict",
          "coloraxis": {
           "colorbar": {
            "outlinewidth": 0,
            "ticks": ""
           }
          },
          "colorscale": {
           "diverging": [
            [
             0,
             "#8e0152"
            ],
            [
             0.1,
             "#c51b7d"
            ],
            [
             0.2,
             "#de77ae"
            ],
            [
             0.3,
             "#f1b6da"
            ],
            [
             0.4,
             "#fde0ef"
            ],
            [
             0.5,
             "#f7f7f7"
            ],
            [
             0.6,
             "#e6f5d0"
            ],
            [
             0.7,
             "#b8e186"
            ],
            [
             0.8,
             "#7fbc41"
            ],
            [
             0.9,
             "#4d9221"
            ],
            [
             1,
             "#276419"
            ]
           ],
           "sequential": [
            [
             0,
             "#0d0887"
            ],
            [
             0.1111111111111111,
             "#46039f"
            ],
            [
             0.2222222222222222,
             "#7201a8"
            ],
            [
             0.3333333333333333,
             "#9c179e"
            ],
            [
             0.4444444444444444,
             "#bd3786"
            ],
            [
             0.5555555555555556,
             "#d8576b"
            ],
            [
             0.6666666666666666,
             "#ed7953"
            ],
            [
             0.7777777777777778,
             "#fb9f3a"
            ],
            [
             0.8888888888888888,
             "#fdca26"
            ],
            [
             1,
             "#f0f921"
            ]
           ],
           "sequentialminus": [
            [
             0,
             "#0d0887"
            ],
            [
             0.1111111111111111,
             "#46039f"
            ],
            [
             0.2222222222222222,
             "#7201a8"
            ],
            [
             0.3333333333333333,
             "#9c179e"
            ],
            [
             0.4444444444444444,
             "#bd3786"
            ],
            [
             0.5555555555555556,
             "#d8576b"
            ],
            [
             0.6666666666666666,
             "#ed7953"
            ],
            [
             0.7777777777777778,
             "#fb9f3a"
            ],
            [
             0.8888888888888888,
             "#fdca26"
            ],
            [
             1,
             "#f0f921"
            ]
           ]
          },
          "colorway": [
           "#636efa",
           "#EF553B",
           "#00cc96",
           "#ab63fa",
           "#FFA15A",
           "#19d3f3",
           "#FF6692",
           "#B6E880",
           "#FF97FF",
           "#FECB52"
          ],
          "font": {
           "color": "#2a3f5f"
          },
          "geo": {
           "bgcolor": "white",
           "lakecolor": "white",
           "landcolor": "#E5ECF6",
           "showlakes": true,
           "showland": true,
           "subunitcolor": "white"
          },
          "hoverlabel": {
           "align": "left"
          },
          "hovermode": "closest",
          "mapbox": {
           "style": "light"
          },
          "paper_bgcolor": "white",
          "plot_bgcolor": "#E5ECF6",
          "polar": {
           "angularaxis": {
            "gridcolor": "white",
            "linecolor": "white",
            "ticks": ""
           },
           "bgcolor": "#E5ECF6",
           "radialaxis": {
            "gridcolor": "white",
            "linecolor": "white",
            "ticks": ""
           }
          },
          "scene": {
           "xaxis": {
            "backgroundcolor": "#E5ECF6",
            "gridcolor": "white",
            "gridwidth": 2,
            "linecolor": "white",
            "showbackground": true,
            "ticks": "",
            "zerolinecolor": "white"
           },
           "yaxis": {
            "backgroundcolor": "#E5ECF6",
            "gridcolor": "white",
            "gridwidth": 2,
            "linecolor": "white",
            "showbackground": true,
            "ticks": "",
            "zerolinecolor": "white"
           },
           "zaxis": {
            "backgroundcolor": "#E5ECF6",
            "gridcolor": "white",
            "gridwidth": 2,
            "linecolor": "white",
            "showbackground": true,
            "ticks": "",
            "zerolinecolor": "white"
           }
          },
          "shapedefaults": {
           "line": {
            "color": "#2a3f5f"
           }
          },
          "ternary": {
           "aaxis": {
            "gridcolor": "white",
            "linecolor": "white",
            "ticks": ""
           },
           "baxis": {
            "gridcolor": "white",
            "linecolor": "white",
            "ticks": ""
           },
           "bgcolor": "#E5ECF6",
           "caxis": {
            "gridcolor": "white",
            "linecolor": "white",
            "ticks": ""
           }
          },
          "title": {
           "x": 0.05
          },
          "xaxis": {
           "automargin": true,
           "gridcolor": "white",
           "linecolor": "white",
           "ticks": "",
           "title": {
            "standoff": 15
           },
           "zerolinecolor": "white",
           "zerolinewidth": 2
          },
          "yaxis": {
           "automargin": true,
           "gridcolor": "white",
           "linecolor": "white",
           "ticks": "",
           "title": {
            "standoff": 15
           },
           "zerolinecolor": "white",
           "zerolinewidth": 2
          }
         }
        },
        "title": {
         "text": "Price per Area by Floor across Property Types"
        },
        "xaxis": {
         "anchor": "y",
         "domain": [
          0,
          0.09333333333333332
         ],
         "title": {
          "text": "floor"
         }
        },
        "xaxis2": {
         "anchor": "y2",
         "domain": [
          0.11333333333333333,
          0.20666666666666667
         ],
         "matches": "x",
         "title": {
          "text": "floor"
         }
        },
        "xaxis3": {
         "anchor": "y3",
         "domain": [
          0.22666666666666666,
          0.31999999999999995
         ],
         "matches": "x",
         "title": {
          "text": "floor"
         }
        },
        "xaxis4": {
         "anchor": "y4",
         "domain": [
          0.33999999999999997,
          0.4333333333333333
         ],
         "matches": "x",
         "title": {
          "text": "floor"
         }
        },
        "xaxis5": {
         "anchor": "y5",
         "domain": [
          0.4533333333333333,
          0.5466666666666666
         ],
         "matches": "x",
         "title": {
          "text": "floor"
         }
        },
        "xaxis6": {
         "anchor": "y6",
         "domain": [
          0.5666666666666667,
          0.6599999999999999
         ],
         "matches": "x",
         "title": {
          "text": "floor"
         }
        },
        "xaxis7": {
         "anchor": "y7",
         "domain": [
          0.6799999999999999,
          0.7733333333333332
         ],
         "matches": "x",
         "title": {
          "text": "floor"
         }
        },
        "xaxis8": {
         "anchor": "y8",
         "domain": [
          0.7933333333333333,
          0.8866666666666667
         ],
         "matches": "x",
         "title": {
          "text": "floor"
         }
        },
        "xaxis9": {
         "anchor": "y9",
         "domain": [
          0.9066666666666666,
          1
         ],
         "matches": "x",
         "title": {
          "text": "floor"
         }
        },
        "yaxis": {
         "anchor": "x",
         "domain": [
          0,
          1
         ],
         "title": {
          "text": "price"
         }
        },
        "yaxis2": {
         "anchor": "x2",
         "domain": [
          0,
          1
         ],
         "matches": "y",
         "showticklabels": false
        },
        "yaxis3": {
         "anchor": "x3",
         "domain": [
          0,
          1
         ],
         "matches": "y",
         "showticklabels": false
        },
        "yaxis4": {
         "anchor": "x4",
         "domain": [
          0,
          1
         ],
         "matches": "y",
         "showticklabels": false
        },
        "yaxis5": {
         "anchor": "x5",
         "domain": [
          0,
          1
         ],
         "matches": "y",
         "showticklabels": false
        },
        "yaxis6": {
         "anchor": "x6",
         "domain": [
          0,
          1
         ],
         "matches": "y",
         "showticklabels": false
        },
        "yaxis7": {
         "anchor": "x7",
         "domain": [
          0,
          1
         ],
         "matches": "y",
         "showticklabels": false
        },
        "yaxis8": {
         "anchor": "x8",
         "domain": [
          0,
          1
         ],
         "matches": "y",
         "showticklabels": false
        },
        "yaxis9": {
         "anchor": "x9",
         "domain": [
          0,
          1
         ],
         "matches": "y",
         "showticklabels": false
        }
       }
      }
     },
     "metadata": {},
     "output_type": "display_data"
    }
   ],
   "source": [
    "import plotly.express as px\n",
    "fig = px.box(\n",
    "    df,\n",
    "    x=\"floor\",\n",
    "    y=\"price\",\n",
    "    color=\"operation\",\n",
    "    facet_col=\"propertyType\",\n",
    "    title=\"Price per Area by Floor across Property Types\"\n",
    ")\n",
    "fig.show()"
   ]
  },
  {
   "cell_type": "code",
   "execution_count": null,
   "id": "28ecbf1e",
   "metadata": {},
   "outputs": [
    {
     "data": {
      "application/vnd.plotly.v1+json": {
       "config": {
        "plotlyServerURL": "https://plot.ly"
       },
       "data": [
        {
         "alignmentgroup": "True",
         "hovertemplate": "operation=rent<br>Floor=%{x}<br>=%{y}<extra></extra>",
         "legendgroup": "rent",
         "marker": {
          "color": "#636efa"
         },
         "name": "rent",
         "notched": false,
         "offsetgroup": "rent",
         "orientation": "v",
         "showlegend": true,
         "type": "box",
         "x": {
          "bdata": "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",
          "dtype": "f8"
         },
         "x0": " ",
         "xaxis": "x",
         "y": {
          "bdata": "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",
          "dtype": "i2"
         },
         "y0": " ",
         "yaxis": "y"
        },
        {
         "alignmentgroup": "True",
         "hovertemplate": "operation=sale<br>Floor=%{x}<br>=%{y}<extra></extra>",
         "legendgroup": "sale",
         "marker": {
          "color": "#EF553B"
         },
         "name": "sale",
         "notched": false,
         "offsetgroup": "sale",
         "orientation": "v",
         "showlegend": true,
         "type": "box",
         "x": {
          "bdata": "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",
          "dtype": "f8"
         },
         "x0": " ",
         "xaxis": "x",
         "y": {
          "bdata": "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",
          "dtype": "i4"
         },
         "y0": " ",
         "yaxis": "y"
        }
       ],
       "layout": {
        "boxmode": "group",
        "legend": {
         "title": {
          "text": "operation"
         },
         "tracegroupgap": 0
        },
        "template": {
         "data": {
          "bar": [
           {
            "error_x": {
             "color": "#2a3f5f"
            },
            "error_y": {
             "color": "#2a3f5f"
            },
            "marker": {
             "line": {
              "color": "#E5ECF6",
              "width": 0.5
             },
             "pattern": {
              "fillmode": "overlay",
              "size": 10,
              "solidity": 0.2
             }
            },
            "type": "bar"
           }
          ],
          "barpolar": [
           {
            "marker": {
             "line": {
              "color": "#E5ECF6",
              "width": 0.5
             },
             "pattern": {
              "fillmode": "overlay",
              "size": 10,
              "solidity": 0.2
             }
            },
            "type": "barpolar"
           }
          ],
          "carpet": [
           {
            "aaxis": {
             "endlinecolor": "#2a3f5f",
             "gridcolor": "white",
             "linecolor": "white",
             "minorgridcolor": "white",
             "startlinecolor": "#2a3f5f"
            },
            "baxis": {
             "endlinecolor": "#2a3f5f",
             "gridcolor": "white",
             "linecolor": "white",
             "minorgridcolor": "white",
             "startlinecolor": "#2a3f5f"
            },
            "type": "carpet"
           }
          ],
          "choropleth": [
           {
            "colorbar": {
             "outlinewidth": 0,
             "ticks": ""
            },
            "type": "choropleth"
           }
          ],
          "contour": [
           {
            "colorbar": {
             "outlinewidth": 0,
             "ticks": ""
            },
            "colorscale": [
             [
              0,
              "#0d0887"
             ],
             [
              0.1111111111111111,
              "#46039f"
             ],
             [
              0.2222222222222222,
              "#7201a8"
             ],
             [
              0.3333333333333333,
              "#9c179e"
             ],
             [
              0.4444444444444444,
              "#bd3786"
             ],
             [
              0.5555555555555556,
              "#d8576b"
             ],
             [
              0.6666666666666666,
              "#ed7953"
             ],
             [
              0.7777777777777778,
              "#fb9f3a"
             ],
             [
              0.8888888888888888,
              "#fdca26"
             ],
             [
              1,
              "#f0f921"
             ]
            ],
            "type": "contour"
           }
          ],
          "contourcarpet": [
           {
            "colorbar": {
             "outlinewidth": 0,
             "ticks": ""
            },
            "type": "contourcarpet"
           }
          ],
          "heatmap": [
           {
            "colorbar": {
             "outlinewidth": 0,
             "ticks": ""
            },
            "colorscale": [
             [
              0,
              "#0d0887"
             ],
             [
              0.1111111111111111,
              "#46039f"
             ],
             [
              0.2222222222222222,
              "#7201a8"
             ],
             [
              0.3333333333333333,
              "#9c179e"
             ],
             [
              0.4444444444444444,
              "#bd3786"
             ],
             [
              0.5555555555555556,
              "#d8576b"
             ],
             [
              0.6666666666666666,
              "#ed7953"
             ],
             [
              0.7777777777777778,
              "#fb9f3a"
             ],
             [
              0.8888888888888888,
              "#fdca26"
             ],
             [
              1,
              "#f0f921"
             ]
            ],
            "type": "heatmap"
           }
          ],
          "histogram": [
           {
            "marker": {
             "pattern": {
              "fillmode": "overlay",
              "size": 10,
              "solidity": 0.2
             }
            },
            "type": "histogram"
           }
          ],
          "histogram2d": [
           {
            "colorbar": {
             "outlinewidth": 0,
             "ticks": ""
            },
            "colorscale": [
             [
              0,
              "#0d0887"
             ],
             [
              0.1111111111111111,
              "#46039f"
             ],
             [
              0.2222222222222222,
              "#7201a8"
             ],
             [
              0.3333333333333333,
              "#9c179e"
             ],
             [
              0.4444444444444444,
              "#bd3786"
             ],
             [
              0.5555555555555556,
              "#d8576b"
             ],
             [
              0.6666666666666666,
              "#ed7953"
             ],
             [
              0.7777777777777778,
              "#fb9f3a"
             ],
             [
              0.8888888888888888,
              "#fdca26"
             ],
             [
              1,
              "#f0f921"
             ]
            ],
            "type": "histogram2d"
           }
          ],
          "histogram2dcontour": [
           {
            "colorbar": {
             "outlinewidth": 0,
             "ticks": ""
            },
            "colorscale": [
             [
              0,
              "#0d0887"
             ],
             [
              0.1111111111111111,
              "#46039f"
             ],
             [
              0.2222222222222222,
              "#7201a8"
             ],
             [
              0.3333333333333333,
              "#9c179e"
             ],
             [
              0.4444444444444444,
              "#bd3786"
             ],
             [
              0.5555555555555556,
              "#d8576b"
             ],
             [
              0.6666666666666666,
              "#ed7953"
             ],
             [
              0.7777777777777778,
              "#fb9f3a"
             ],
             [
              0.8888888888888888,
              "#fdca26"
             ],
             [
              1,
              "#f0f921"
             ]
            ],
            "type": "histogram2dcontour"
           }
          ],
          "mesh3d": [
           {
            "colorbar": {
             "outlinewidth": 0,
             "ticks": ""
            },
            "type": "mesh3d"
           }
          ],
          "parcoords": [
           {
            "line": {
             "colorbar": {
              "outlinewidth": 0,
              "ticks": ""
             }
            },
            "type": "parcoords"
           }
          ],
          "pie": [
           {
            "automargin": true,
            "type": "pie"
           }
          ],
          "scatter": [
           {
            "fillpattern": {
             "fillmode": "overlay",
             "size": 10,
             "solidity": 0.2
            },
            "type": "scatter"
           }
          ],
          "scatter3d": [
           {
            "line": {
             "colorbar": {
              "outlinewidth": 0,
              "ticks": ""
             }
            },
            "marker": {
             "colorbar": {
              "outlinewidth": 0,
              "ticks": ""
             }
            },
            "type": "scatter3d"
           }
          ],
          "scattercarpet": [
           {
            "marker": {
             "colorbar": {
              "outlinewidth": 0,
              "ticks": ""
             }
            },
            "type": "scattercarpet"
           }
          ],
          "scattergeo": [
           {
            "marker": {
             "colorbar": {
              "outlinewidth": 0,
              "ticks": ""
             }
            },
            "type": "scattergeo"
           }
          ],
          "scattergl": [
           {
            "marker": {
             "colorbar": {
              "outlinewidth": 0,
              "ticks": ""
             }
            },
            "type": "scattergl"
           }
          ],
          "scattermap": [
           {
            "marker": {
             "colorbar": {
              "outlinewidth": 0,
              "ticks": ""
             }
            },
            "type": "scattermap"
           }
          ],
          "scattermapbox": [
           {
            "marker": {
             "colorbar": {
              "outlinewidth": 0,
              "ticks": ""
             }
            },
            "type": "scattermapbox"
           }
          ],
          "scatterpolar": [
           {
            "marker": {
             "colorbar": {
              "outlinewidth": 0,
              "ticks": ""
             }
            },
            "type": "scatterpolar"
           }
          ],
          "scatterpolargl": [
           {
            "marker": {
             "colorbar": {
              "outlinewidth": 0,
              "ticks": ""
             }
            },
            "type": "scatterpolargl"
           }
          ],
          "scatterternary": [
           {
            "marker": {
             "colorbar": {
              "outlinewidth": 0,
              "ticks": ""
             }
            },
            "type": "scatterternary"
           }
          ],
          "surface": [
           {
            "colorbar": {
             "outlinewidth": 0,
             "ticks": ""
            },
            "colorscale": [
             [
              0,
              "#0d0887"
             ],
             [
              0.1111111111111111,
              "#46039f"
             ],
             [
              0.2222222222222222,
              "#7201a8"
             ],
             [
              0.3333333333333333,
              "#9c179e"
             ],
             [
              0.4444444444444444,
              "#bd3786"
             ],
             [
              0.5555555555555556,
              "#d8576b"
             ],
             [
              0.6666666666666666,
              "#ed7953"
             ],
             [
              0.7777777777777778,
              "#fb9f3a"
             ],
             [
              0.8888888888888888,
              "#fdca26"
             ],
             [
              1,
              "#f0f921"
             ]
            ],
            "type": "surface"
           }
          ],
          "table": [
           {
            "cells": {
             "fill": {
              "color": "#EBF0F8"
             },
             "line": {
              "color": "white"
             }
            },
            "header": {
             "fill": {
              "color": "#C8D4E3"
             },
             "line": {
              "color": "white"
             }
            },
            "type": "table"
           }
          ]
         },
         "layout": {
          "annotationdefaults": {
           "arrowcolor": "#2a3f5f",
           "arrowhead": 0,
           "arrowwidth": 1
          },
          "autotypenumbers": "strict",
          "coloraxis": {
           "colorbar": {
            "outlinewidth": 0,
            "ticks": ""
           }
          },
          "colorscale": {
           "diverging": [
            [
             0,
             "#8e0152"
            ],
            [
             0.1,
             "#c51b7d"
            ],
            [
             0.2,
             "#de77ae"
            ],
            [
             0.3,
             "#f1b6da"
            ],
            [
             0.4,
             "#fde0ef"
            ],
            [
             0.5,
             "#f7f7f7"
            ],
            [
             0.6,
             "#e6f5d0"
            ],
            [
             0.7,
             "#b8e186"
            ],
            [
             0.8,
             "#7fbc41"
            ],
            [
             0.9,
             "#4d9221"
            ],
            [
             1,
             "#276419"
            ]
           ],
           "sequential": [
            [
             0,
             "#0d0887"
            ],
            [
             0.1111111111111111,
             "#46039f"
            ],
            [
             0.2222222222222222,
             "#7201a8"
            ],
            [
             0.3333333333333333,
             "#9c179e"
            ],
            [
             0.4444444444444444,
             "#bd3786"
            ],
            [
             0.5555555555555556,
             "#d8576b"
            ],
            [
             0.6666666666666666,
             "#ed7953"
            ],
            [
             0.7777777777777778,
             "#fb9f3a"
            ],
            [
             0.8888888888888888,
             "#fdca26"
            ],
            [
             1,
             "#f0f921"
            ]
           ],
           "sequentialminus": [
            [
             0,
             "#0d0887"
            ],
            [
             0.1111111111111111,
             "#46039f"
            ],
            [
             0.2222222222222222,
             "#7201a8"
            ],
            [
             0.3333333333333333,
             "#9c179e"
            ],
            [
             0.4444444444444444,
             "#bd3786"
            ],
            [
             0.5555555555555556,
             "#d8576b"
            ],
            [
             0.6666666666666666,
             "#ed7953"
            ],
            [
             0.7777777777777778,
             "#fb9f3a"
            ],
            [
             0.8888888888888888,
             "#fdca26"
            ],
            [
             1,
             "#f0f921"
            ]
           ]
          },
          "colorway": [
           "#636efa",
           "#EF553B",
           "#00cc96",
           "#ab63fa",
           "#FFA15A",
           "#19d3f3",
           "#FF6692",
           "#B6E880",
           "#FF97FF",
           "#FECB52"
          ],
          "font": {
           "color": "#2a3f5f"
          },
          "geo": {
           "bgcolor": "white",
           "lakecolor": "white",
           "landcolor": "#E5ECF6",
           "showlakes": true,
           "showland": true,
           "subunitcolor": "white"
          },
          "hoverlabel": {
           "align": "left"
          },
          "hovermode": "closest",
          "mapbox": {
           "style": "light"
          },
          "paper_bgcolor": "white",
          "plot_bgcolor": "#E5ECF6",
          "polar": {
           "angularaxis": {
            "gridcolor": "white",
            "linecolor": "white",
            "ticks": ""
           },
           "bgcolor": "#E5ECF6",
           "radialaxis": {
            "gridcolor": "white",
            "linecolor": "white",
            "ticks": ""
           }
          },
          "scene": {
           "xaxis": {
            "backgroundcolor": "#E5ECF6",
            "gridcolor": "white",
            "gridwidth": 2,
            "linecolor": "white",
            "showbackground": true,
            "ticks": "",
            "zerolinecolor": "white"
           },
           "yaxis": {
            "backgroundcolor": "#E5ECF6",
            "gridcolor": "white",
            "gridwidth": 2,
            "linecolor": "white",
            "showbackground": true,
            "ticks": "",
            "zerolinecolor": "white"
           },
           "zaxis": {
            "backgroundcolor": "#E5ECF6",
            "gridcolor": "white",
            "gridwidth": 2,
            "linecolor": "white",
            "showbackground": true,
            "ticks": "",
            "zerolinecolor": "white"
           }
          },
          "shapedefaults": {
           "line": {
            "color": "#2a3f5f"
           }
          },
          "ternary": {
           "aaxis": {
            "gridcolor": "white",
            "linecolor": "white",
            "ticks": ""
           },
           "baxis": {
            "gridcolor": "white",
            "linecolor": "white",
            "ticks": ""
           },
           "bgcolor": "#E5ECF6",
           "caxis": {
            "gridcolor": "white",
            "linecolor": "white",
            "ticks": ""
           }
          },
          "title": {
           "x": 0.05
          },
          "xaxis": {
           "automargin": true,
           "gridcolor": "white",
           "linecolor": "white",
           "ticks": "",
           "title": {
            "standoff": 15
           },
           "zerolinecolor": "white",
           "zerolinewidth": 2
          },
          "yaxis": {
           "automargin": true,
           "gridcolor": "white",
           "linecolor": "white",
           "ticks": "",
           "title": {
            "standoff": 15
           },
           "zerolinecolor": "white",
           "zerolinewidth": 2
          }
         }
        },
        "title": {
         "text": "Price per Area by Floor and Operation"
        },
        "xaxis": {
         "anchor": "y",
         "domain": [
          0,
          1
         ],
         "title": {
          "text": "Floor"
         }
        },
        "yaxis": {
         "anchor": "x",
         "domain": [
          0,
          1
         ],
         "title": {
          "text": ""
         }
        }
       }
      }
     },
     "metadata": {},
     "output_type": "display_data"
    }
   ],
   "source": [
    "fig = px.box(\n",
    "    df,\n",
    "    x=\"floor\",\n",
    "    y=\"price\",\n",
    "    color=\"operation\",\n",
    "    title=\"Price per Area by Floor and Operation\",\n",
    "    labels={\"price\": \"Price\", \"floor\": \"Floor\"}\n",
    ")\n",
    "fig.show()"
   ]
  },
  {
   "cell_type": "code",
   "execution_count": 12,
   "id": "b948a1ed",
   "metadata": {},
   "outputs": [
    {
     "data": {
      "application/vnd.plotly.v1+json": {
       "config": {
        "plotlyServerURL": "https://plot.ly"
       },
       "data": [
        {
         "hovertemplate": "floor=%{x}<br>price=%{y}<br>rooms=%{marker.color}<extra></extra>",
         "legendgroup": "",
         "marker": {
          "color": {
           "bdata": "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",
           "dtype": "f8"
          },
          "coloraxis": "coloraxis",
          "symbol": "circle"
         },
         "mode": "markers",
         "name": "",
         "orientation": "v",
         "showlegend": false,
         "type": "scatter",
         "x": {
          "bdata": "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",
          "dtype": "f8"
         },
         "xaxis": "x",
         "y": {
          "bdata": "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",
          "dtype": "i4"
         },
         "yaxis": "y"
        }
       ],
       "layout": {
        "coloraxis": {
         "colorbar": {
          "title": {
           "text": "rooms"
          }
         },
         "colorscale": [
          [
           0,
           "#0d0887"
          ],
          [
           0.1111111111111111,
           "#46039f"
          ],
          [
           0.2222222222222222,
           "#7201a8"
          ],
          [
           0.3333333333333333,
           "#9c179e"
          ],
          [
           0.4444444444444444,
           "#bd3786"
          ],
          [
           0.5555555555555556,
           "#d8576b"
          ],
          [
           0.6666666666666666,
           "#ed7953"
          ],
          [
           0.7777777777777778,
           "#fb9f3a"
          ],
          [
           0.8888888888888888,
           "#fdca26"
          ],
          [
           1,
           "#f0f921"
          ]
         ]
        },
        "legend": {
         "tracegroupgap": 0
        },
        "template": {
         "data": {
          "bar": [
           {
            "error_x": {
             "color": "#2a3f5f"
            },
            "error_y": {
             "color": "#2a3f5f"
            },
            "marker": {
             "line": {
              "color": "#E5ECF6",
              "width": 0.5
             },
             "pattern": {
              "fillmode": "overlay",
              "size": 10,
              "solidity": 0.2
             }
            },
            "type": "bar"
           }
          ],
          "barpolar": [
           {
            "marker": {
             "line": {
              "color": "#E5ECF6",
              "width": 0.5
             },
             "pattern": {
              "fillmode": "overlay",
              "size": 10,
              "solidity": 0.2
             }
            },
            "type": "barpolar"
           }
          ],
          "carpet": [
           {
            "aaxis": {
             "endlinecolor": "#2a3f5f",
             "gridcolor": "white",
             "linecolor": "white",
             "minorgridcolor": "white",
             "startlinecolor": "#2a3f5f"
            },
            "baxis": {
             "endlinecolor": "#2a3f5f",
             "gridcolor": "white",
             "linecolor": "white",
             "minorgridcolor": "white",
             "startlinecolor": "#2a3f5f"
            },
            "type": "carpet"
           }
          ],
          "choropleth": [
           {
            "colorbar": {
             "outlinewidth": 0,
             "ticks": ""
            },
            "type": "choropleth"
           }
          ],
          "contour": [
           {
            "colorbar": {
             "outlinewidth": 0,
             "ticks": ""
            },
            "colorscale": [
             [
              0,
              "#0d0887"
             ],
             [
              0.1111111111111111,
              "#46039f"
             ],
             [
              0.2222222222222222,
              "#7201a8"
             ],
             [
              0.3333333333333333,
              "#9c179e"
             ],
             [
              0.4444444444444444,
              "#bd3786"
             ],
             [
              0.5555555555555556,
              "#d8576b"
             ],
             [
              0.6666666666666666,
              "#ed7953"
             ],
             [
              0.7777777777777778,
              "#fb9f3a"
             ],
             [
              0.8888888888888888,
              "#fdca26"
             ],
             [
              1,
              "#f0f921"
             ]
            ],
            "type": "contour"
           }
          ],
          "contourcarpet": [
           {
            "colorbar": {
             "outlinewidth": 0,
             "ticks": ""
            },
            "type": "contourcarpet"
           }
          ],
          "heatmap": [
           {
            "colorbar": {
             "outlinewidth": 0,
             "ticks": ""
            },
            "colorscale": [
             [
              0,
              "#0d0887"
             ],
             [
              0.1111111111111111,
              "#46039f"
             ],
             [
              0.2222222222222222,
              "#7201a8"
             ],
             [
              0.3333333333333333,
              "#9c179e"
             ],
             [
              0.4444444444444444,
              "#bd3786"
             ],
             [
              0.5555555555555556,
              "#d8576b"
             ],
             [
              0.6666666666666666,
              "#ed7953"
             ],
             [
              0.7777777777777778,
              "#fb9f3a"
             ],
             [
              0.8888888888888888,
              "#fdca26"
             ],
             [
              1,
              "#f0f921"
             ]
            ],
            "type": "heatmap"
           }
          ],
          "histogram": [
           {
            "marker": {
             "pattern": {
              "fillmode": "overlay",
              "size": 10,
              "solidity": 0.2
             }
            },
            "type": "histogram"
           }
          ],
          "histogram2d": [
           {
            "colorbar": {
             "outlinewidth": 0,
             "ticks": ""
            },
            "colorscale": [
             [
              0,
              "#0d0887"
             ],
             [
              0.1111111111111111,
              "#46039f"
             ],
             [
              0.2222222222222222,
              "#7201a8"
             ],
             [
              0.3333333333333333,
              "#9c179e"
             ],
             [
              0.4444444444444444,
              "#bd3786"
             ],
             [
              0.5555555555555556,
              "#d8576b"
             ],
             [
              0.6666666666666666,
              "#ed7953"
             ],
             [
              0.7777777777777778,
              "#fb9f3a"
             ],
             [
              0.8888888888888888,
              "#fdca26"
             ],
             [
              1,
              "#f0f921"
             ]
            ],
            "type": "histogram2d"
           }
          ],
          "histogram2dcontour": [
           {
            "colorbar": {
             "outlinewidth": 0,
             "ticks": ""
            },
            "colorscale": [
             [
              0,
              "#0d0887"
             ],
             [
              0.1111111111111111,
              "#46039f"
             ],
             [
              0.2222222222222222,
              "#7201a8"
             ],
             [
              0.3333333333333333,
              "#9c179e"
             ],
             [
              0.4444444444444444,
              "#bd3786"
             ],
             [
              0.5555555555555556,
              "#d8576b"
             ],
             [
              0.6666666666666666,
              "#ed7953"
             ],
             [
              0.7777777777777778,
              "#fb9f3a"
             ],
             [
              0.8888888888888888,
              "#fdca26"
             ],
             [
              1,
              "#f0f921"
             ]
            ],
            "type": "histogram2dcontour"
           }
          ],
          "mesh3d": [
           {
            "colorbar": {
             "outlinewidth": 0,
             "ticks": ""
            },
            "type": "mesh3d"
           }
          ],
          "parcoords": [
           {
            "line": {
             "colorbar": {
              "outlinewidth": 0,
              "ticks": ""
             }
            },
            "type": "parcoords"
           }
          ],
          "pie": [
           {
            "automargin": true,
            "type": "pie"
           }
          ],
          "scatter": [
           {
            "fillpattern": {
             "fillmode": "overlay",
             "size": 10,
             "solidity": 0.2
            },
            "type": "scatter"
           }
          ],
          "scatter3d": [
           {
            "line": {
             "colorbar": {
              "outlinewidth": 0,
              "ticks": ""
             }
            },
            "marker": {
             "colorbar": {
              "outlinewidth": 0,
              "ticks": ""
             }
            },
            "type": "scatter3d"
           }
          ],
          "scattercarpet": [
           {
            "marker": {
             "colorbar": {
              "outlinewidth": 0,
              "ticks": ""
             }
            },
            "type": "scattercarpet"
           }
          ],
          "scattergeo": [
           {
            "marker": {
             "colorbar": {
              "outlinewidth": 0,
              "ticks": ""
             }
            },
            "type": "scattergeo"
           }
          ],
          "scattergl": [
           {
            "marker": {
             "colorbar": {
              "outlinewidth": 0,
              "ticks": ""
             }
            },
            "type": "scattergl"
           }
          ],
          "scattermap": [
           {
            "marker": {
             "colorbar": {
              "outlinewidth": 0,
              "ticks": ""
             }
            },
            "type": "scattermap"
           }
          ],
          "scattermapbox": [
           {
            "marker": {
             "colorbar": {
              "outlinewidth": 0,
              "ticks": ""
             }
            },
            "type": "scattermapbox"
           }
          ],
          "scatterpolar": [
           {
            "marker": {
             "colorbar": {
              "outlinewidth": 0,
              "ticks": ""
             }
            },
            "type": "scatterpolar"
           }
          ],
          "scatterpolargl": [
           {
            "marker": {
             "colorbar": {
              "outlinewidth": 0,
              "ticks": ""
             }
            },
            "type": "scatterpolargl"
           }
          ],
          "scatterternary": [
           {
            "marker": {
             "colorbar": {
              "outlinewidth": 0,
              "ticks": ""
             }
            },
            "type": "scatterternary"
           }
          ],
          "surface": [
           {
            "colorbar": {
             "outlinewidth": 0,
             "ticks": ""
            },
            "colorscale": [
             [
              0,
              "#0d0887"
             ],
             [
              0.1111111111111111,
              "#46039f"
             ],
             [
              0.2222222222222222,
              "#7201a8"
             ],
             [
              0.3333333333333333,
              "#9c179e"
             ],
             [
              0.4444444444444444,
              "#bd3786"
             ],
             [
              0.5555555555555556,
              "#d8576b"
             ],
             [
              0.6666666666666666,
              "#ed7953"
             ],
             [
              0.7777777777777778,
              "#fb9f3a"
             ],
             [
              0.8888888888888888,
              "#fdca26"
             ],
             [
              1,
              "#f0f921"
             ]
            ],
            "type": "surface"
           }
          ],
          "table": [
           {
            "cells": {
             "fill": {
              "color": "#EBF0F8"
             },
             "line": {
              "color": "white"
             }
            },
            "header": {
             "fill": {
              "color": "#C8D4E3"
             },
             "line": {
              "color": "white"
             }
            },
            "type": "table"
           }
          ]
         },
         "layout": {
          "annotationdefaults": {
           "arrowcolor": "#2a3f5f",
           "arrowhead": 0,
           "arrowwidth": 1
          },
          "autotypenumbers": "strict",
          "coloraxis": {
           "colorbar": {
            "outlinewidth": 0,
            "ticks": ""
           }
          },
          "colorscale": {
           "diverging": [
            [
             0,
             "#8e0152"
            ],
            [
             0.1,
             "#c51b7d"
            ],
            [
             0.2,
             "#de77ae"
            ],
            [
             0.3,
             "#f1b6da"
            ],
            [
             0.4,
             "#fde0ef"
            ],
            [
             0.5,
             "#f7f7f7"
            ],
            [
             0.6,
             "#e6f5d0"
            ],
            [
             0.7,
             "#b8e186"
            ],
            [
             0.8,
             "#7fbc41"
            ],
            [
             0.9,
             "#4d9221"
            ],
            [
             1,
             "#276419"
            ]
           ],
           "sequential": [
            [
             0,
             "#0d0887"
            ],
            [
             0.1111111111111111,
             "#46039f"
            ],
            [
             0.2222222222222222,
             "#7201a8"
            ],
            [
             0.3333333333333333,
             "#9c179e"
            ],
            [
             0.4444444444444444,
             "#bd3786"
            ],
            [
             0.5555555555555556,
             "#d8576b"
            ],
            [
             0.6666666666666666,
             "#ed7953"
            ],
            [
             0.7777777777777778,
             "#fb9f3a"
            ],
            [
             0.8888888888888888,
             "#fdca26"
            ],
            [
             1,
             "#f0f921"
            ]
           ],
           "sequentialminus": [
            [
             0,
             "#0d0887"
            ],
            [
             0.1111111111111111,
             "#46039f"
            ],
            [
             0.2222222222222222,
             "#7201a8"
            ],
            [
             0.3333333333333333,
             "#9c179e"
            ],
            [
             0.4444444444444444,
             "#bd3786"
            ],
            [
             0.5555555555555556,
             "#d8576b"
            ],
            [
             0.6666666666666666,
             "#ed7953"
            ],
            [
             0.7777777777777778,
             "#fb9f3a"
            ],
            [
             0.8888888888888888,
             "#fdca26"
            ],
            [
             1,
             "#f0f921"
            ]
           ]
          },
          "colorway": [
           "#636efa",
           "#EF553B",
           "#00cc96",
           "#ab63fa",
           "#FFA15A",
           "#19d3f3",
           "#FF6692",
           "#B6E880",
           "#FF97FF",
           "#FECB52"
          ],
          "font": {
           "color": "#2a3f5f"
          },
          "geo": {
           "bgcolor": "white",
           "lakecolor": "white",
           "landcolor": "#E5ECF6",
           "showlakes": true,
           "showland": true,
           "subunitcolor": "white"
          },
          "hoverlabel": {
           "align": "left"
          },
          "hovermode": "closest",
          "mapbox": {
           "style": "light"
          },
          "paper_bgcolor": "white",
          "plot_bgcolor": "#E5ECF6",
          "polar": {
           "angularaxis": {
            "gridcolor": "white",
            "linecolor": "white",
            "ticks": ""
           },
           "bgcolor": "#E5ECF6",
           "radialaxis": {
            "gridcolor": "white",
            "linecolor": "white",
            "ticks": ""
           }
          },
          "scene": {
           "xaxis": {
            "backgroundcolor": "#E5ECF6",
            "gridcolor": "white",
            "gridwidth": 2,
            "linecolor": "white",
            "showbackground": true,
            "ticks": "",
            "zerolinecolor": "white"
           },
           "yaxis": {
            "backgroundcolor": "#E5ECF6",
            "gridcolor": "white",
            "gridwidth": 2,
            "linecolor": "white",
            "showbackground": true,
            "ticks": "",
            "zerolinecolor": "white"
           },
           "zaxis": {
            "backgroundcolor": "#E5ECF6",
            "gridcolor": "white",
            "gridwidth": 2,
            "linecolor": "white",
            "showbackground": true,
            "ticks": "",
            "zerolinecolor": "white"
           }
          },
          "shapedefaults": {
           "line": {
            "color": "#2a3f5f"
           }
          },
          "ternary": {
           "aaxis": {
            "gridcolor": "white",
            "linecolor": "white",
            "ticks": ""
           },
           "baxis": {
            "gridcolor": "white",
            "linecolor": "white",
            "ticks": ""
           },
           "bgcolor": "#E5ECF6",
           "caxis": {
            "gridcolor": "white",
            "linecolor": "white",
            "ticks": ""
           }
          },
          "title": {
           "x": 0.05
          },
          "xaxis": {
           "automargin": true,
           "gridcolor": "white",
           "linecolor": "white",
           "ticks": "",
           "title": {
            "standoff": 15
           },
           "zerolinecolor": "white",
           "zerolinewidth": 2
          },
          "yaxis": {
           "automargin": true,
           "gridcolor": "white",
           "linecolor": "white",
           "ticks": "",
           "title": {
            "standoff": 15
           },
           "zerolinecolor": "white",
           "zerolinewidth": 2
          }
         }
        },
        "title": {
         "text": "Relation between Size and Price by Property Type"
        },
        "xaxis": {
         "anchor": "y",
         "domain": [
          0,
          1
         ],
         "title": {
          "text": "floor"
         }
        },
        "yaxis": {
         "anchor": "x",
         "domain": [
          0,
          1
         ],
         "title": {
          "text": "price"
         }
        }
       }
      }
     },
     "metadata": {},
     "output_type": "display_data"
    }
   ],
   "source": [
    "df_plot = df[(df['propertyType'].isin(['flat']))&(df['operation']=='rent')]\n",
    "df_plot = df.sample(frac=0.1, random_state=42)\n",
    "\n",
    "fig = px.scatter(\n",
    "    df_plot,\n",
    "    x=\"floor\",\n",
    "    y=\"price\",\n",
    "    color=\"rooms\",\n",
    "    title=\"Relation between Size and Price by Property Type\"\n",
    ")\n",
    "fig.show()"
   ]
  }
 ],
 "metadata": {
  "kernelspec": {
   "display_name": "rental-prices-predicction",
   "language": "python",
   "name": "python3"
  },
  "language_info": {
   "codemirror_mode": {
    "name": "ipython",
    "version": 3
   },
   "file_extension": ".py",
   "mimetype": "text/x-python",
   "name": "python",
   "nbconvert_exporter": "python",
   "pygments_lexer": "ipython3",
   "version": "3.13.1"
  }
 },
 "nbformat": 4,
 "nbformat_minor": 5
}
