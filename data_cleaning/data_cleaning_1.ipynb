{
 "cells": [
  {
   "cell_type": "markdown",
   "id": "6b26173b",
   "metadata": {},
   "source": [
    "Este primer dataframe se lleva cabo la union de todos los achivos descargados y la eleccion de las columnas con las que vamos a trabajar."
   ]
  },
  {
   "cell_type": "code",
   "execution_count": 46,
   "id": "771bb846",
   "metadata": {},
   "outputs": [],
   "source": [
    "import os\n",
    "import json\n",
    "from pathlib import Path\n",
    "import pandas as pd\n",
    "import json"
   ]
  },
  {
   "cell_type": "code",
   "execution_count": 47,
   "id": "e6485069",
   "metadata": {},
   "outputs": [],
   "source": [
    "from data_cleaning import merge_json_files"
   ]
  },
  {
   "cell_type": "code",
   "execution_count": 48,
   "id": "e6d2fb02",
   "metadata": {},
   "outputs": [],
   "source": [
    "pd.set_option('display.max_colwidth', None)"
   ]
  },
  {
   "cell_type": "code",
   "execution_count": 49,
   "id": "d8aeb404",
   "metadata": {},
   "outputs": [],
   "source": [
    "extracted_data_path = \"../data/extracted_data\"\n",
    "working_data_path = \"../data/working_data\""
   ]
  },
  {
   "cell_type": "code",
   "execution_count": 50,
   "id": "1b747c22",
   "metadata": {},
   "outputs": [],
   "source": [
    "data = merge_json_files(extracted_data_path, working_data_path)"
   ]
  },
  {
   "cell_type": "code",
   "execution_count": 51,
   "id": "0e1edd94",
   "metadata": {},
   "outputs": [],
   "source": [
    "# # Con un concat de lineas es como tengo que unir los archivos\n",
    "# filepath = \"../data/idealista-data-2025-06-09_17-48-34.json\"\n",
    "# filepath2 = \"../data/idealista-data-2025-05-07_20-01-24.json\"\n",
    "# file = json.load(open(filepath, \"r\", encoding=\"utf-8\"))\n",
    "# file2 = json.load(open(filepath2, \"r\", encoding=\"utf-8\"))\n",
    "# result = file[\"elementList\"] + file2[\"elementList\"]\n",
    "# with open(\"../data/result.json\", \"w\", encoding=\"utf-8\") as f:\n",
    "#     json.dump(result, f, ensure_ascii=False, indent=2)\n"
   ]
  },
  {
   "cell_type": "code",
   "execution_count": 52,
   "id": "3aa5cbd5",
   "metadata": {},
   "outputs": [
    {
     "data": {
      "text/html": [
       "<div>\n",
       "<style scoped>\n",
       "    .dataframe tbody tr th:only-of-type {\n",
       "        vertical-align: middle;\n",
       "    }\n",
       "\n",
       "    .dataframe tbody tr th {\n",
       "        vertical-align: top;\n",
       "    }\n",
       "\n",
       "    .dataframe thead th {\n",
       "        text-align: right;\n",
       "    }\n",
       "</style>\n",
       "<table border=\"1\" class=\"dataframe\">\n",
       "  <thead>\n",
       "    <tr style=\"text-align: right;\">\n",
       "      <th></th>\n",
       "      <th>propertyCode</th>\n",
       "      <th>thumbnail</th>\n",
       "      <th>externalReference</th>\n",
       "      <th>numPhotos</th>\n",
       "      <th>price</th>\n",
       "      <th>priceInfo</th>\n",
       "      <th>propertyType</th>\n",
       "      <th>operation</th>\n",
       "      <th>size</th>\n",
       "      <th>rooms</th>\n",
       "      <th>...</th>\n",
       "      <th>highlight</th>\n",
       "      <th>savedAd</th>\n",
       "      <th>notes</th>\n",
       "      <th>topNewDevelopment</th>\n",
       "      <th>topPlus</th>\n",
       "      <th>floor</th>\n",
       "      <th>exterior</th>\n",
       "      <th>hasLift</th>\n",
       "      <th>newDevelopmentFinished</th>\n",
       "      <th>ubicationInfo</th>\n",
       "    </tr>\n",
       "  </thead>\n",
       "  <tbody>\n",
       "    <tr>\n",
       "      <th>0</th>\n",
       "      <td>107634575</td>\n",
       "      <td>https://img4.idealista.com/blur/480_360_mq/0/id.pro.es.image.master/7a/ed/13/1333852019.webp</td>\n",
       "      <td>jn206265</td>\n",
       "      <td>72</td>\n",
       "      <td>985000</td>\n",
       "      <td>{'price': {'amount': 985000.0, 'currencySuffix': '€'}}</td>\n",
       "      <td>chalet</td>\n",
       "      <td>sale</td>\n",
       "      <td>245.0</td>\n",
       "      <td>4.0</td>\n",
       "      <td>...</td>\n",
       "      <td>{'groupDescription': 'Top+'}</td>\n",
       "      <td>{}</td>\n",
       "      <td>[]</td>\n",
       "      <td>False</td>\n",
       "      <td>True</td>\n",
       "      <td>NaN</td>\n",
       "      <td>NaN</td>\n",
       "      <td>NaN</td>\n",
       "      <td>NaN</td>\n",
       "      <td>NaN</td>\n",
       "    </tr>\n",
       "    <tr>\n",
       "      <th>1</th>\n",
       "      <td>106393537</td>\n",
       "      <td>https://img4.idealista.com/blur/480_360_mq/0/id.pro.es.image.master/63/aa/59/1314693219.webp</td>\n",
       "      <td>CLK00/4460</td>\n",
       "      <td>27</td>\n",
       "      <td>265000</td>\n",
       "      <td>{'price': {'amount': 265000.0, 'currencySuffix': '€', 'priceDropInfo': {'formerPrice': 280000.0, 'priceDropValue': 15000, 'priceDropPercentage': 5}}}</td>\n",
       "      <td>flat</td>\n",
       "      <td>sale</td>\n",
       "      <td>66.0</td>\n",
       "      <td>2.0</td>\n",
       "      <td>...</td>\n",
       "      <td>{'groupDescription': 'Top+'}</td>\n",
       "      <td>{}</td>\n",
       "      <td>[]</td>\n",
       "      <td>False</td>\n",
       "      <td>True</td>\n",
       "      <td>8</td>\n",
       "      <td>1.0</td>\n",
       "      <td>1.0</td>\n",
       "      <td>NaN</td>\n",
       "      <td>NaN</td>\n",
       "    </tr>\n",
       "    <tr>\n",
       "      <th>2</th>\n",
       "      <td>106281335</td>\n",
       "      <td>https://img4.idealista.com/blur/480_360_mq/0/id.pro.es.image.master/2c/af/01/1310230736.webp</td>\n",
       "      <td>CLK00/4433</td>\n",
       "      <td>36</td>\n",
       "      <td>275000</td>\n",
       "      <td>{'price': {'amount': 275000.0, 'currencySuffix': '€', 'priceDropInfo': {'formerPrice': 280000.0, 'priceDropValue': 5000, 'priceDropPercentage': 2}}}</td>\n",
       "      <td>flat</td>\n",
       "      <td>sale</td>\n",
       "      <td>82.0</td>\n",
       "      <td>2.0</td>\n",
       "      <td>...</td>\n",
       "      <td>{'groupDescription': 'Top+'}</td>\n",
       "      <td>{}</td>\n",
       "      <td>[]</td>\n",
       "      <td>False</td>\n",
       "      <td>True</td>\n",
       "      <td>1</td>\n",
       "      <td>1.0</td>\n",
       "      <td>1.0</td>\n",
       "      <td>NaN</td>\n",
       "      <td>NaN</td>\n",
       "    </tr>\n",
       "    <tr>\n",
       "      <th>3</th>\n",
       "      <td>107840913</td>\n",
       "      <td>https://img4.idealista.com/blur/480_360_mq/0/id.pro.es.image.master/02/46/50/1325936811.webp</td>\n",
       "      <td>vo207622</td>\n",
       "      <td>43</td>\n",
       "      <td>1600000</td>\n",
       "      <td>{'price': {'amount': 1600000.0, 'currencySuffix': '€'}}</td>\n",
       "      <td>flat</td>\n",
       "      <td>sale</td>\n",
       "      <td>174.0</td>\n",
       "      <td>3.0</td>\n",
       "      <td>...</td>\n",
       "      <td>{'groupDescription': 'Top+'}</td>\n",
       "      <td>{}</td>\n",
       "      <td>[]</td>\n",
       "      <td>False</td>\n",
       "      <td>True</td>\n",
       "      <td>1</td>\n",
       "      <td>1.0</td>\n",
       "      <td>1.0</td>\n",
       "      <td>NaN</td>\n",
       "      <td>NaN</td>\n",
       "    </tr>\n",
       "    <tr>\n",
       "      <th>4</th>\n",
       "      <td>97484253</td>\n",
       "      <td>https://img4.idealista.com/blur/480_360_mq/0/id.pro.es.image.master/11/33/42/1301595388.webp</td>\n",
       "      <td>007--13906</td>\n",
       "      <td>28</td>\n",
       "      <td>550000</td>\n",
       "      <td>{'price': {'amount': 550000.0, 'currencySuffix': '€', 'priceDropInfo': {'formerPrice': 590000.0, 'priceDropValue': 40000, 'priceDropPercentage': 7}}}</td>\n",
       "      <td>flat</td>\n",
       "      <td>sale</td>\n",
       "      <td>143.0</td>\n",
       "      <td>3.0</td>\n",
       "      <td>...</td>\n",
       "      <td>{'groupDescription': 'Top+'}</td>\n",
       "      <td>{}</td>\n",
       "      <td>[]</td>\n",
       "      <td>False</td>\n",
       "      <td>True</td>\n",
       "      <td>3</td>\n",
       "      <td>1.0</td>\n",
       "      <td>0.0</td>\n",
       "      <td>NaN</td>\n",
       "      <td>NaN</td>\n",
       "    </tr>\n",
       "    <tr>\n",
       "      <th>...</th>\n",
       "      <td>...</td>\n",
       "      <td>...</td>\n",
       "      <td>...</td>\n",
       "      <td>...</td>\n",
       "      <td>...</td>\n",
       "      <td>...</td>\n",
       "      <td>...</td>\n",
       "      <td>...</td>\n",
       "      <td>...</td>\n",
       "      <td>...</td>\n",
       "      <td>...</td>\n",
       "      <td>...</td>\n",
       "      <td>...</td>\n",
       "      <td>...</td>\n",
       "      <td>...</td>\n",
       "      <td>...</td>\n",
       "      <td>...</td>\n",
       "      <td>...</td>\n",
       "      <td>...</td>\n",
       "      <td>...</td>\n",
       "      <td>...</td>\n",
       "    </tr>\n",
       "    <tr>\n",
       "      <th>8087</th>\n",
       "      <td>103725086</td>\n",
       "      <td>https://img4.idealista.com/blur/480_360_mq/0/id.pro.es.image.master/11/3e/a2/1198229324.webp</td>\n",
       "      <td>QONB241-2852M3</td>\n",
       "      <td>15</td>\n",
       "      <td>9000</td>\n",
       "      <td>{'price': {'amount': 9000.0, 'currencySuffix': '€'}}</td>\n",
       "      <td>garage</td>\n",
       "      <td>sale</td>\n",
       "      <td>NaN</td>\n",
       "      <td>NaN</td>\n",
       "      <td>...</td>\n",
       "      <td>NaN</td>\n",
       "      <td>{}</td>\n",
       "      <td>[]</td>\n",
       "      <td>False</td>\n",
       "      <td>False</td>\n",
       "      <td>st</td>\n",
       "      <td>NaN</td>\n",
       "      <td>1.0</td>\n",
       "      <td>NaN</td>\n",
       "      <td>NaN</td>\n",
       "    </tr>\n",
       "    <tr>\n",
       "      <th>8088</th>\n",
       "      <td>108599387</td>\n",
       "      <td>https://img4.idealista.com/blur/480_360_mq/0/id.pro.es.image.master/bd/52/58/1349596569.webp</td>\n",
       "      <td>2383</td>\n",
       "      <td>7</td>\n",
       "      <td>22000</td>\n",
       "      <td>{'price': {'amount': 22000.0, 'currencySuffix': '€'}}</td>\n",
       "      <td>garage</td>\n",
       "      <td>sale</td>\n",
       "      <td>NaN</td>\n",
       "      <td>NaN</td>\n",
       "      <td>...</td>\n",
       "      <td>NaN</td>\n",
       "      <td>{}</td>\n",
       "      <td>[]</td>\n",
       "      <td>False</td>\n",
       "      <td>False</td>\n",
       "      <td>bj</td>\n",
       "      <td>NaN</td>\n",
       "      <td>0.0</td>\n",
       "      <td>NaN</td>\n",
       "      <td>NaN</td>\n",
       "    </tr>\n",
       "    <tr>\n",
       "      <th>8089</th>\n",
       "      <td>103380778</td>\n",
       "      <td>https://img4.idealista.com/blur/480_360_mq/0/id.pro.es.image.master/22/55/7d/1187692719.webp</td>\n",
       "      <td>QRB1671NCM2</td>\n",
       "      <td>5</td>\n",
       "      <td>8000</td>\n",
       "      <td>{'price': {'amount': 8000.0, 'currencySuffix': '€'}}</td>\n",
       "      <td>garage</td>\n",
       "      <td>sale</td>\n",
       "      <td>NaN</td>\n",
       "      <td>NaN</td>\n",
       "      <td>...</td>\n",
       "      <td>NaN</td>\n",
       "      <td>{}</td>\n",
       "      <td>[]</td>\n",
       "      <td>False</td>\n",
       "      <td>False</td>\n",
       "      <td>st</td>\n",
       "      <td>NaN</td>\n",
       "      <td>0.0</td>\n",
       "      <td>NaN</td>\n",
       "      <td>NaN</td>\n",
       "    </tr>\n",
       "    <tr>\n",
       "      <th>8090</th>\n",
       "      <td>103724424</td>\n",
       "      <td>https://img4.idealista.com/blur/480_360_mq/0/id.pro.es.image.master/9b/e1/43/1198212398.webp</td>\n",
       "      <td>QRB1693NCM3</td>\n",
       "      <td>15</td>\n",
       "      <td>9900</td>\n",
       "      <td>{'price': {'amount': 9900.0, 'currencySuffix': '€'}}</td>\n",
       "      <td>garage</td>\n",
       "      <td>sale</td>\n",
       "      <td>NaN</td>\n",
       "      <td>NaN</td>\n",
       "      <td>...</td>\n",
       "      <td>NaN</td>\n",
       "      <td>{}</td>\n",
       "      <td>[]</td>\n",
       "      <td>False</td>\n",
       "      <td>False</td>\n",
       "      <td>st</td>\n",
       "      <td>NaN</td>\n",
       "      <td>1.0</td>\n",
       "      <td>NaN</td>\n",
       "      <td>NaN</td>\n",
       "    </tr>\n",
       "    <tr>\n",
       "      <th>8091</th>\n",
       "      <td>106625760</td>\n",
       "      <td>https://img4.idealista.com/blur/480_360_mq/0/id.pro.es.image.master/de/4f/99/1289116459.webp</td>\n",
       "      <td>QONB284-32513M2</td>\n",
       "      <td>18</td>\n",
       "      <td>29260</td>\n",
       "      <td>{'price': {'amount': 29260.0, 'currencySuffix': '€'}}</td>\n",
       "      <td>garage</td>\n",
       "      <td>sale</td>\n",
       "      <td>NaN</td>\n",
       "      <td>NaN</td>\n",
       "      <td>...</td>\n",
       "      <td>NaN</td>\n",
       "      <td>{}</td>\n",
       "      <td>[]</td>\n",
       "      <td>False</td>\n",
       "      <td>False</td>\n",
       "      <td>st</td>\n",
       "      <td>NaN</td>\n",
       "      <td>1.0</td>\n",
       "      <td>NaN</td>\n",
       "      <td>NaN</td>\n",
       "    </tr>\n",
       "  </tbody>\n",
       "</table>\n",
       "<p>8092 rows × 45 columns</p>\n",
       "</div>"
      ],
      "text/plain": [
       "      propertyCode  \\\n",
       "0        107634575   \n",
       "1        106393537   \n",
       "2        106281335   \n",
       "3        107840913   \n",
       "4         97484253   \n",
       "...            ...   \n",
       "8087     103725086   \n",
       "8088     108599387   \n",
       "8089     103380778   \n",
       "8090     103724424   \n",
       "8091     106625760   \n",
       "\n",
       "                                                                                         thumbnail  \\\n",
       "0     https://img4.idealista.com/blur/480_360_mq/0/id.pro.es.image.master/7a/ed/13/1333852019.webp   \n",
       "1     https://img4.idealista.com/blur/480_360_mq/0/id.pro.es.image.master/63/aa/59/1314693219.webp   \n",
       "2     https://img4.idealista.com/blur/480_360_mq/0/id.pro.es.image.master/2c/af/01/1310230736.webp   \n",
       "3     https://img4.idealista.com/blur/480_360_mq/0/id.pro.es.image.master/02/46/50/1325936811.webp   \n",
       "4     https://img4.idealista.com/blur/480_360_mq/0/id.pro.es.image.master/11/33/42/1301595388.webp   \n",
       "...                                                                                            ...   \n",
       "8087  https://img4.idealista.com/blur/480_360_mq/0/id.pro.es.image.master/11/3e/a2/1198229324.webp   \n",
       "8088  https://img4.idealista.com/blur/480_360_mq/0/id.pro.es.image.master/bd/52/58/1349596569.webp   \n",
       "8089  https://img4.idealista.com/blur/480_360_mq/0/id.pro.es.image.master/22/55/7d/1187692719.webp   \n",
       "8090  https://img4.idealista.com/blur/480_360_mq/0/id.pro.es.image.master/9b/e1/43/1198212398.webp   \n",
       "8091  https://img4.idealista.com/blur/480_360_mq/0/id.pro.es.image.master/de/4f/99/1289116459.webp   \n",
       "\n",
       "     externalReference  numPhotos    price  \\\n",
       "0             jn206265         72   985000   \n",
       "1           CLK00/4460         27   265000   \n",
       "2           CLK00/4433         36   275000   \n",
       "3             vo207622         43  1600000   \n",
       "4           007--13906         28   550000   \n",
       "...                ...        ...      ...   \n",
       "8087    QONB241-2852M3         15     9000   \n",
       "8088              2383          7    22000   \n",
       "8089       QRB1671NCM2          5     8000   \n",
       "8090       QRB1693NCM3         15     9900   \n",
       "8091   QONB284-32513M2         18    29260   \n",
       "\n",
       "                                                                                                                                                  priceInfo  \\\n",
       "0                                                                                                    {'price': {'amount': 985000.0, 'currencySuffix': '€'}}   \n",
       "1     {'price': {'amount': 265000.0, 'currencySuffix': '€', 'priceDropInfo': {'formerPrice': 280000.0, 'priceDropValue': 15000, 'priceDropPercentage': 5}}}   \n",
       "2      {'price': {'amount': 275000.0, 'currencySuffix': '€', 'priceDropInfo': {'formerPrice': 280000.0, 'priceDropValue': 5000, 'priceDropPercentage': 2}}}   \n",
       "3                                                                                                   {'price': {'amount': 1600000.0, 'currencySuffix': '€'}}   \n",
       "4     {'price': {'amount': 550000.0, 'currencySuffix': '€', 'priceDropInfo': {'formerPrice': 590000.0, 'priceDropValue': 40000, 'priceDropPercentage': 7}}}   \n",
       "...                                                                                                                                                     ...   \n",
       "8087                                                                                                   {'price': {'amount': 9000.0, 'currencySuffix': '€'}}   \n",
       "8088                                                                                                  {'price': {'amount': 22000.0, 'currencySuffix': '€'}}   \n",
       "8089                                                                                                   {'price': {'amount': 8000.0, 'currencySuffix': '€'}}   \n",
       "8090                                                                                                   {'price': {'amount': 9900.0, 'currencySuffix': '€'}}   \n",
       "8091                                                                                                  {'price': {'amount': 29260.0, 'currencySuffix': '€'}}   \n",
       "\n",
       "     propertyType operation   size  rooms  ...                     highlight  \\\n",
       "0          chalet      sale  245.0    4.0  ...  {'groupDescription': 'Top+'}   \n",
       "1            flat      sale   66.0    2.0  ...  {'groupDescription': 'Top+'}   \n",
       "2            flat      sale   82.0    2.0  ...  {'groupDescription': 'Top+'}   \n",
       "3            flat      sale  174.0    3.0  ...  {'groupDescription': 'Top+'}   \n",
       "4            flat      sale  143.0    3.0  ...  {'groupDescription': 'Top+'}   \n",
       "...           ...       ...    ...    ...  ...                           ...   \n",
       "8087       garage      sale    NaN    NaN  ...                           NaN   \n",
       "8088       garage      sale    NaN    NaN  ...                           NaN   \n",
       "8089       garage      sale    NaN    NaN  ...                           NaN   \n",
       "8090       garage      sale    NaN    NaN  ...                           NaN   \n",
       "8091       garage      sale    NaN    NaN  ...                           NaN   \n",
       "\n",
       "     savedAd notes topNewDevelopment topPlus floor exterior  hasLift  \\\n",
       "0         {}    []             False    True   NaN      NaN      NaN   \n",
       "1         {}    []             False    True     8      1.0      1.0   \n",
       "2         {}    []             False    True     1      1.0      1.0   \n",
       "3         {}    []             False    True     1      1.0      1.0   \n",
       "4         {}    []             False    True     3      1.0      0.0   \n",
       "...      ...   ...               ...     ...   ...      ...      ...   \n",
       "8087      {}    []             False   False    st      NaN      1.0   \n",
       "8088      {}    []             False   False    bj      NaN      0.0   \n",
       "8089      {}    []             False   False    st      NaN      0.0   \n",
       "8090      {}    []             False   False    st      NaN      1.0   \n",
       "8091      {}    []             False   False    st      NaN      1.0   \n",
       "\n",
       "      newDevelopmentFinished  ubicationInfo  \n",
       "0                        NaN            NaN  \n",
       "1                        NaN            NaN  \n",
       "2                        NaN            NaN  \n",
       "3                        NaN            NaN  \n",
       "4                        NaN            NaN  \n",
       "...                      ...            ...  \n",
       "8087                     NaN            NaN  \n",
       "8088                     NaN            NaN  \n",
       "8089                     NaN            NaN  \n",
       "8090                     NaN            NaN  \n",
       "8091                     NaN            NaN  \n",
       "\n",
       "[8092 rows x 45 columns]"
      ]
     },
     "execution_count": 52,
     "metadata": {},
     "output_type": "execute_result"
    }
   ],
   "source": [
    "df = pd.read_json(\"../data/working_data/merged_data.json\")\n",
    "df"
   ]
  },
  {
   "cell_type": "code",
   "execution_count": 53,
   "id": "452a1610",
   "metadata": {},
   "outputs": [
    {
     "name": "stdout",
     "output_type": "stream",
     "text": [
      "<class 'pandas.core.frame.DataFrame'>\n",
      "RangeIndex: 8092 entries, 0 to 8091\n",
      "Data columns (total 45 columns):\n",
      " #   Column                  Non-Null Count  Dtype  \n",
      "---  ------                  --------------  -----  \n",
      " 0   propertyCode            8092 non-null   int64  \n",
      " 1   thumbnail               8075 non-null   object \n",
      " 2   externalReference       6335 non-null   object \n",
      " 3   numPhotos               8092 non-null   int64  \n",
      " 4   price                   8092 non-null   int64  \n",
      " 5   priceInfo               8092 non-null   object \n",
      " 6   propertyType            8092 non-null   object \n",
      " 7   operation               8092 non-null   object \n",
      " 8   size                    7434 non-null   float64\n",
      " 9   rooms                   5350 non-null   float64\n",
      " 10  bathrooms               7434 non-null   float64\n",
      " 11  address                 8092 non-null   object \n",
      " 12  province                8092 non-null   object \n",
      " 13  municipality            8092 non-null   object \n",
      " 14  district                7950 non-null   object \n",
      " 15  country                 8092 non-null   object \n",
      " 16  neighborhood            5927 non-null   object \n",
      " 17  latitude                8092 non-null   float64\n",
      " 18  longitude               8092 non-null   float64\n",
      " 19  showAddress             8092 non-null   bool   \n",
      " 20  url                     8092 non-null   object \n",
      " 21  distance                1449 non-null   float64\n",
      " 22  description             8081 non-null   object \n",
      " 23  hasVideo                8092 non-null   bool   \n",
      " 24  status                  7407 non-null   object \n",
      " 25  newDevelopment          8092 non-null   bool   \n",
      " 26  parkingSpace            4000 non-null   object \n",
      " 27  priceByArea             7962 non-null   float64\n",
      " 28  change                  8092 non-null   object \n",
      " 29  detailedType            8092 non-null   object \n",
      " 30  suggestedTexts          8092 non-null   object \n",
      " 31  hasPlan                 8092 non-null   bool   \n",
      " 32  has3DTour               8092 non-null   bool   \n",
      " 33  has360                  8092 non-null   bool   \n",
      " 34  hasStaging              8092 non-null   bool   \n",
      " 35  highlight               3339 non-null   object \n",
      " 36  savedAd                 8092 non-null   object \n",
      " 37  notes                   8092 non-null   object \n",
      " 38  topNewDevelopment       8092 non-null   bool   \n",
      " 39  topPlus                 8092 non-null   bool   \n",
      " 40  floor                   5462 non-null   object \n",
      " 41  exterior                4228 non-null   float64\n",
      " 42  hasLift                 4816 non-null   float64\n",
      " 43  newDevelopmentFinished  365 non-null    float64\n",
      " 44  ubicationInfo           1248 non-null   object \n",
      "dtypes: bool(9), float64(10), int64(3), object(23)\n",
      "memory usage: 2.3+ MB\n"
     ]
    }
   ],
   "source": [
    "df.info()"
   ]
  },
  {
   "cell_type": "markdown",
   "id": "82988ec3",
   "metadata": {},
   "source": [
    "Para analizar con que características nos queremos quedar vamos a profundizar en algunas de las columnas para saber exactamente que datos tenemos.\n",
    "Por ejemplo hay algunas columnas que directamente si podemos eliminar que no nos van a servir para nuestro modelo como: [thumbnail, externalReference, numPhotos, showAddress, address, url, hasVideo, has3DTour, has360, savedAd, notes]\n",
    "[province, municipality, district, country, neighborhood] estas características veremos si las podemos quitar o no, vamos a hacer dos datasets, uno con ellas y otro sin para ver cual de los dos modelos da mejores resultados. Principalmente lo que necesitamos para entrenar el modelo es la latitud y la longitud para poder pintar un mapa y elegir un punto. Además ya sabemos que todos los datos son de la provincia de malaga."
   ]
  },
  {
   "cell_type": "code",
   "execution_count": 54,
   "id": "4c56eab9",
   "metadata": {},
   "outputs": [],
   "source": [
    "drop_columns = [\"thumbnail\", \"externalReference\", \"numPhotos\", \"showAddress\", \"address\", \"url\", \"hasVideo\", \"has3DTour\", \"has360\", \"savedAd\", \"notes\"]\n",
    "df_ubi = df.drop(columns=drop_columns)\n",
    "\n",
    "ubi_columns = [\"province\", \"municipality\", \"district\", \"country\", \"neighborhood\"]\n",
    "df_no_ubi = df_ubi.drop(columns=ubi_columns)"
   ]
  },
  {
   "cell_type": "code",
   "execution_count": 55,
   "id": "6642de02",
   "metadata": {},
   "outputs": [
    {
     "name": "stdout",
     "output_type": "stream",
     "text": [
      "<class 'pandas.core.frame.DataFrame'>\n",
      "RangeIndex: 8092 entries, 0 to 8091\n",
      "Data columns (total 34 columns):\n",
      " #   Column                  Non-Null Count  Dtype  \n",
      "---  ------                  --------------  -----  \n",
      " 0   propertyCode            8092 non-null   int64  \n",
      " 1   price                   8092 non-null   int64  \n",
      " 2   priceInfo               8092 non-null   object \n",
      " 3   propertyType            8092 non-null   object \n",
      " 4   operation               8092 non-null   object \n",
      " 5   size                    7434 non-null   float64\n",
      " 6   rooms                   5350 non-null   float64\n",
      " 7   bathrooms               7434 non-null   float64\n",
      " 8   province                8092 non-null   object \n",
      " 9   municipality            8092 non-null   object \n",
      " 10  district                7950 non-null   object \n",
      " 11  country                 8092 non-null   object \n",
      " 12  neighborhood            5927 non-null   object \n",
      " 13  latitude                8092 non-null   float64\n",
      " 14  longitude               8092 non-null   float64\n",
      " 15  distance                1449 non-null   float64\n",
      " 16  description             8081 non-null   object \n",
      " 17  status                  7407 non-null   object \n",
      " 18  newDevelopment          8092 non-null   bool   \n",
      " 19  parkingSpace            4000 non-null   object \n",
      " 20  priceByArea             7962 non-null   float64\n",
      " 21  change                  8092 non-null   object \n",
      " 22  detailedType            8092 non-null   object \n",
      " 23  suggestedTexts          8092 non-null   object \n",
      " 24  hasPlan                 8092 non-null   bool   \n",
      " 25  hasStaging              8092 non-null   bool   \n",
      " 26  highlight               3339 non-null   object \n",
      " 27  topNewDevelopment       8092 non-null   bool   \n",
      " 28  topPlus                 8092 non-null   bool   \n",
      " 29  floor                   5462 non-null   object \n",
      " 30  exterior                4228 non-null   float64\n",
      " 31  hasLift                 4816 non-null   float64\n",
      " 32  newDevelopmentFinished  365 non-null    float64\n",
      " 33  ubicationInfo           1248 non-null   object \n",
      "dtypes: bool(5), float64(10), int64(2), object(17)\n",
      "memory usage: 1.8+ MB\n"
     ]
    }
   ],
   "source": [
    "df_ubi.info()"
   ]
  },
  {
   "cell_type": "markdown",
   "id": "6bcdb4e4",
   "metadata": {},
   "source": [
    "Para saber si otras columnas no son útiles vamos a profundizar en las columnas: \n",
    "    priceInfo,\n",
    "    description,\n",
    "    status,\n",
    "    priceByArea,\n",
    "    change,\n",
    "    detailedType,\n",
    "    suggestedTexts,\n",
    "    hasPlan,\n",
    "    hasStaging,\n",
    "    highlight,\n",
    "    topNewDevelopment,\n",
    "    topPlus,\n",
    "    exterior,\n",
    "    newDevelopmentFinished,\n",
    "    ubicationInfo,"
   ]
  },
  {
   "cell_type": "code",
   "execution_count": 56,
   "id": "ca850031",
   "metadata": {},
   "outputs": [],
   "source": [
    "drop_columns = []"
   ]
  },
  {
   "cell_type": "code",
   "execution_count": 57,
   "id": "be3c4f73",
   "metadata": {},
   "outputs": [
    {
     "data": {
      "text/plain": [
       "0                                                                                                      {'price': {'amount': 985000.0, 'currencySuffix': '€'}}\n",
       "1       {'price': {'amount': 265000.0, 'currencySuffix': '€', 'priceDropInfo': {'formerPrice': 280000.0, 'priceDropValue': 15000, 'priceDropPercentage': 5}}}\n",
       "2        {'price': {'amount': 275000.0, 'currencySuffix': '€', 'priceDropInfo': {'formerPrice': 280000.0, 'priceDropValue': 5000, 'priceDropPercentage': 2}}}\n",
       "3                                                                                                     {'price': {'amount': 1600000.0, 'currencySuffix': '€'}}\n",
       "4       {'price': {'amount': 550000.0, 'currencySuffix': '€', 'priceDropInfo': {'formerPrice': 590000.0, 'priceDropValue': 40000, 'priceDropPercentage': 7}}}\n",
       "                                                                                ...                                                                          \n",
       "8087                                                                                                     {'price': {'amount': 9000.0, 'currencySuffix': '€'}}\n",
       "8088                                                                                                    {'price': {'amount': 22000.0, 'currencySuffix': '€'}}\n",
       "8089                                                                                                     {'price': {'amount': 8000.0, 'currencySuffix': '€'}}\n",
       "8090                                                                                                     {'price': {'amount': 9900.0, 'currencySuffix': '€'}}\n",
       "8091                                                                                                    {'price': {'amount': 29260.0, 'currencySuffix': '€'}}\n",
       "Name: priceInfo, Length: 8092, dtype: object"
      ]
     },
     "execution_count": 57,
     "metadata": {},
     "output_type": "execute_result"
    }
   ],
   "source": [
    "df_ubi[\"priceInfo\"]"
   ]
  },
  {
   "cell_type": "markdown",
   "id": "b8a73eda",
   "metadata": {},
   "source": [
    "si que estaría bien coger el currencySuffix, el amount es el mismo valor que la columna price pero nos podría ser util el saber el sufijo, o quizá no, pues se puede entender que es así pues los que son de €/mes serán los que se alquilan."
   ]
  },
  {
   "cell_type": "code",
   "execution_count": 58,
   "id": "2d75bc5f",
   "metadata": {},
   "outputs": [
    {
     "data": {
      "text/plain": [
       "0        985000\n",
       "1        265000\n",
       "2        275000\n",
       "3       1600000\n",
       "4        550000\n",
       "         ...   \n",
       "8087       9000\n",
       "8088      22000\n",
       "8089       8000\n",
       "8090       9900\n",
       "8091      29260\n",
       "Name: price, Length: 8092, dtype: int64"
      ]
     },
     "execution_count": 58,
     "metadata": {},
     "output_type": "execute_result"
    }
   ],
   "source": [
    "df_ubi[\"price\"]"
   ]
  },
  {
   "cell_type": "markdown",
   "id": "f8d7ba16",
   "metadata": {},
   "source": [
    "Vamos a cambiar la columna de priceInfo para que contenga solamente el contenido del diccionario de price: {currencySuffix:}"
   ]
  },
  {
   "cell_type": "code",
   "execution_count": 59,
   "id": "de40983e",
   "metadata": {},
   "outputs": [],
   "source": [
    "df_ubi[\"priceInfo\"] = df_ubi[\"priceInfo\"].apply(lambda x: x[\"price\"][\"currencySuffix\"] if pd.notna(x) else None)"
   ]
  },
  {
   "cell_type": "code",
   "execution_count": 60,
   "id": "91629354",
   "metadata": {},
   "outputs": [
    {
     "data": {
      "text/plain": [
       "0                                                                                                                                                                                                                          Gilmar Consulting Inmobiliario vende, en el exclusivo barrio de Cerrado de Calderón, ubicado en la prestigiosa zona de Málaga Este, en la Urbanización Parque Clavero, este impresionante chalé adosado que redefine el concepto de elegancia y confort. Con una extensión de 245 m² construidos, esta propiedad es una joya inmobiliaria que no puedes dejar pasar. Distribuido en tres plantas, este chalé cuenta con espacios amplios y luminosos que garantizan una experiencia de vida inigualable. La planta inferior nivel jardín, la planta baja o a nivel de calle y la planta alta, comunicadas interiormente por una amplia escalera. En la planta inferior encontramos tres dormitorios, uno de ellos con baño en suite y los otros dos con armarios empotrados, otra habitación, cuarto de baño, pasillo y escalera de acceso a plantas superiores. La planta baja, o a nivel de calle, consta de hall con armario empotrado, cuarto de aseo, cocina con lavadero, salón comedor con chimenea, amplia terraza y escaleras. Y en la planta alta se distribuye en un dormitorio con gran vestidor y amplio baño en suite, pasillo distribuidor y gran terraza con vistas despejadas al frondoso jardín privado que circunda la urbanización. Este chalé adosado está equipado con características de alta calidad, como carpintería interior de madera barnizada y ventanas con protección térmica que aseguran aislamiento y confort. La calefacción central y la alarma garantizan un ambiente seguro y acogedor durante todo el año. Así como cerramientos en terrazas con cristal aislante y blindado. Para esos días soleados, la piscina privada de la urbanización es el lugar perfecto para relajarse y disfrutar del clima mediterráneo. La ubicación es inmejorable. Cerrado de Calderón es conocido por su tranquilidad y exclusividad, con fácil acceso a todos los servicios necesarios. Cerca del Colegio Cerrado de Calderón, reconocido por su excelencia académica. Además, las líneas de autobuses 33 y 35 conectan este barrio con el resto de la ciudad, facilitando el desplazamiento. Málaga Este es una zona que combina la tranquilidad residencial con la proximidad a la vibrante vida urbana de Málaga Capital. Sus calles están adornadas con elegantes casas y zonas verdes, creando un entorno ideal para familias y quienes buscan un estilo de vida sofisticado. La alta demanda de viviendas en el Limonar hace que este adosado sea una oportunidad para visitar hoy mismo. Seguro que te enamora. Desde 1983, GILMAR se ha dedicado a ayudar a sus clientes a encontrar la casa de sus sueños, ofreciendo un servicio profesional y personalizado que garantiza la satisfacción y tranquilidad en cada transacción inmobiliaria.  Para más información sobre este inmueble, no dudes en contactar con nuestro equipo en la oficina de Málaga, ubicada en Calle Cortina del Muelle 13, o llamando al teléfono También puedes escribirnos al correo electrónico. Por favor, facilita la referencia 206265 para que podamos atenderte de manera más eficiente.\n",
       "1                                                                                                                                                                                                                                                                                                                                                                                                                                                                                                                                                                                                                                                                                                                                                                                                                                                                                                                                                                                                                                                                                                                                                                                                                                                                                                                                                                                                                                                                                                                                                                                                                                                                                                                                                                                                                                                                                                                                                                                                        ¡SOMOS PROPIETARIOS! Disfruta de todas las ventajas de comprar directamente a la propiedad. Exclusivo piso ubicado en el barrio de Huelin, en Málaga. La vivienda está ubicada en la planta 8 exterior con ascensor. Dispone de una superficie total de 66 m², distribuidos en salón y comedor, cocina abierta equipada, 2 dormitorios y 1 baño. Además, cuenta con ascensor, cocina amueblada, armarios empotrados y aire acondicionado. Situado en el barrio Huelin, en la Calle Mendoza, cuenta con una ubicación que te permitirá estar cerca de la laya de Huelin, del Parque del Huelin y del Puerto de Málaga. A su vez, está próximo a paradas de metro como La Isla (L2). Agenda tu visita presencial, te acompañamos en todo el proceso. Llámanos de lunes a viernes de 9.00h a 20.00h En cumplimiento del decreto de la Junta de Andalucía 218-2005 del 11 de octubre, se informa a los clientes que los gastos notariales, registrales y I. T. P. no están incluidos en el precio. Le recordamos que como consumidor tiene derecho a que se le informe y entregue la documentación informativa que corresponda, según el caso, en base a lo dispuesto en el Decreto 218/05 de 11 de octubre que regula el Reglamento de Información al Consumidor en la compra-venta y arrendamiento de viviendas en Andalucía.\n",
       "2                                                                                                                                                                                                                                                                                                                                                                                                                                                                                                                                                                                                                                                                                                                                                                                                                                                                                                                                                                                                                                                                                                                                                                                                                                                                                                                                                                                                                                                                                     ¡SOMOS PROPIETARIOS! Disfruta de todas las ventajas de comprar directamente a la propiedad. Exclusivo piso ubicado en Málaga. La vivienda está ubicada en la planta 1 exterior con ascensor. Dispone de una superficie total de 82 m², distribuidos en salón y comedor, cocina independiente equipada, 2 dormitorios y 2 baños. Además, cuenta con ascensor, terraza, cocina amueblada, armarios empotrados, aire acondicionado y balcón. Situado en la Alameda de Capuchinos, cuenta con una ubicación que te permitirá estar cerca de todo lo que necesitas como la Facultad de Ciencias Económicas y Empresariales. A unos minutos en coche encontramos el Hospital Materno-Infantil, el Centro Comercial Rosaleda y el Estadio La Rosaleda. A su vez, está próximo a supermercados, restaurantes, colegios, gimnasios, paradas de autobús y a la estación de tren Málaga-Centro-Alameda a unos minutos en coche. Agenda tu visita y te acompañamos en todo el proceso. Llámanos de lunes a viernes de 9.00h a 20.00h La vivienda ha sido completamente reformada y está representada por imágenes reales tras la finalización de la obra. El mobiliario no está incluido en el precio, es representativo para visualizar las dimensiones reales de la estancia y un ejemplo de cómo queda la vivienda decorada. En cumplimiento del decreto de la Junta de Andalucía 218-2005 del 11 de octubre, se informa a los clientes que los gastos notariales, registrales y I. T. P. no están incluidos en el precio. Le recordamos que como consumidor tiene derecho a que se le informe y entregue la documentación informativa que corresponda, según el caso, en base a lo dispuesto en el Decreto 218/05 de 11 de octubre que regula el Reglamento de Información al Consumidor en la compra-venta y arrendamiento de viviendas en Andalucía.\n",
       "3       Gilmar Consulting Inmobiliario vende esta exclusiva vivienda en venta en el Paseo de Sancha: historia, elegancia y mar en la ubicación más privilegiada de Málaga Presentar una propiedad verdaderamente única, situada en lo que, sin lugar a dudas, es la arteria residencial más prestigiosa y reconocida de Málaga: el Paseo de Sancha. Esta majestuosa avenida, que conecta los distinguidos barrios de La Malagueta y El Limonar, se alza como un escaparate arquitectónico sin igual en la ciudad, donde la historia, la belleza y el urbanismo más refinado se dan la mano. Vivir en el Paseo de Sancha es recorrer la huella del esplendor burgués malagueño, una época en la que las familias más influyentes apostaron por construir sus residencias junto al mar, encargando sus proyectos a los arquitectos más brillantes del momento. Nombres como Joaquín de Rucoba, Gerónimo Cuervo, Julio O’Brien, José María de Sancha o Fernando Guerrero Strachan dejaron su impronta en cada esquina de esta avenida, creando edificaciones señoriales que hoy son auténticas joyas patrimoniales y una referencia del buen gusto y la distinción. En este contexto de máxima categoría, se encuentra la vivienda que hoy ofrecemos: un exclusivo piso de 174 metros cuadrados construidos que combina amplitud, luminosidad, estilo y una ubicación inmejorable. Situado en una finca cuidada y representativa, con ascensor y plaza de garaje en el propio edificio, esta propiedad reúne todos los requisitos para convertirse en el hogar ideal para quienes buscan calidad de vida y exclusividad. La vivienda se distribuye en tres dormitorios, dos baños completos, una cocina independiente y un imponente salón principal, al que se ha incorporado uno de los dormitorios originales antes mencionados para ganar en espacio y funcionalidad. Este gran salón, dividido en diferentes ambientes —zona de estar, comedor y rincón de lectura o tertulia—, se convierte en el corazón de la vivienda, perfecto tanto para la vida cotidiana como para reuniones con familia y amigos. Pero el elemento que marca la diferencia, es sin duda su espectacular terraza perimetral. Con generosas dimensiones y acceso desde distintas estancias, esta terraza envuelve la vivienda y la llena de luz, creando múltiples rincones en los que disfrutar del clima malagueño, del sol y de las vistas al mar, este espacio exterior convierte esta propiedad en una oportunidad realmente especial y difícil de encontrar. Con una orientación sureste, la vivienda disfruta de sol durante buena parte del día, lo que unido a sus grandes ventanales y su impecable estado de conservación, la convierte en un hogar listo para entrar a vivir sin necesidad de reformas. GILMAR es una reconocida empresa inmobiliaria que lleva desde 1983 ayudando a sus clientes a encontrar la casa de sus sueños. Con una amplia experiencia en el mercado inmobiliario, GILMAR se ha ganado la confianza de sus clientes gracias a su profesionalidad y excelencia en el servicio. Si está interesado en obtener más información sobre esta propiedad, no dude en ponerse en contacto con nuestro equipo en la oficina de Málaga, situada en Calle Cortina del Muelle 13, o llamando al Estaremos encantados de atenderle.\n",
       "4                                                                                                                                                                                                                                                                                                                                                                                                                                                                                                                                                                                                                                                                                                                                                                                                                                                                                                                                                                                                                                                                                                                                                                                                                                                                                                                                                                                                                                                                                                                                                                                                                                                                                                                                                                                                                                                                                                                                                                                                                                                                                                                                                                                                                                                                                                                                                                                                                                                                                                                                                                                       Vivienda en exclusiva situada en pleno centro histórico de Málaga. Encantador y original piso cerca de calle Larios y próxima a todo tipo de servicios, museos, restaurantes, comercios, bus, metro, etc. A escasos minutos andando a calle Larios y Alameda Principal. La vivienda consta de 143 m2 construidos, distribuidos en salón comedor, cocina independiente, tres dormitorios y dos baños. Muy luminosa gracias a sus grandes balcones. PIDE MÁS INFORMACIÓN Y VISITA NUESTRA WEB WWW. UNICASA. ES. En cumplimiento del Decreto de la Junta de Andalucía 218/2005 del 11 de Octubre, se informa al cliente que los gastos notariales, registrales, ITP y otros gastos inherentes a la compraventa no están incluidos en el precio.\n",
       "                                                                                                                                                                                                                                                                                                                                                                                                                                                                                                                                                                                                                                                                                                                                                                                                                                                                                                                                                                                                                                                                                                                                                                                                                                                                                                                                                                                                                                                                                                                                                                                                                                                                    ...                                                                                                                                                                                                                                                                                                                                                                                                                                                                                                                                                                                                                                                                                                                                                                                                                                                                                                                                                                                                                                                                                                                                                                                                                                                                                                                                                                                                                                                                                                                                                                                                                                                             \n",
       "8087                                                                                                                                                                                                                                                                                                                                                                                                                                                                                                                                                                                                                                                                                                                                                                                                                                                                                                                                                                                                                                                                                                                                                                                                                                                                                                                                                                                                                                                                                                                                             OPORTUNIDAD- PARKING EN CALLE TORCAL, MIJAS. A la venta plaza de parking en Urbanización Bellavista Hills en Calahonda se encuentra los bajos del edificio residencial que consta de 30 m2 con fácil acceso y entradas desde la calle. En sus alrededores podrá encontrar todo lo necesario para el día a día. **Tenemos varias plazas disponibles en la Urbanización** No incluidos en el precio gastos relacionados a la compra: registro, gastos de notaría e impuestos sujetos a la transmisión (ITP, IVA, AJD).  Disponibilidad y precios sujetos a posibles variaciones, errores, reservas, etc. pendientes de actualización. Los datos expuestos no tienen valor contractual y son meramente informativos.  No cobramos comisión a nuestros clientes. Si desea más información o visitar el inmueble, consulte sin compromiso con nuestro Departamento Comercial. QUIEROUNPISO. COM ********************** OPPORTUNITY- PARKING IN TORCAL STREET, MIJAS. For sale parking space in Urbanization Bellavista Hills in Calahonda is located on the first floor of the residential building consisting of 30 sqm with easy access and entrances from the street. In its surroundings you can find everything you need for day to day.  **We have several vacancies available in the urbanization** Not included in the price are expenses related to the purchase: registration, notary fees and transfer taxes (ITP, IVA, AJD).  Availability and prices subject to possible variations, errors, reservations, etc. pending update. The data shown have no contractual value and are merely informative.  We do not charge commission to our clients. For more information or to visit the property, please contact our Sales Department without obligation. QUIEROUNPISO. COM.\n",
       "8088                                                                                                                                                                                                                                                                                                                                                                                                                                                                                                                                                                                                                                                                                                                                                                                                                                                                                                                                                                                                                                                                                                                                                                                                                                                                                                                                                                                                                                                                                                                                                                                                                                                                                                                                                                                                                                                                                                                                                                                                                                                                                                                                                                                                                                                                                                                                                                                                                                                                                                                                                                                                              PLAZA DE GARAJE A 300M DE LA PLAYA! Plaza de garaje subterránea, amplia, de unos 27m2 situada en Avenida Las Palmeras a un paso de la playa y de todos los servicios, en una de las zonas más demandadas de la Costa del Sol! No dudes en contactarnos para agendar su visita. Los datos expuestos son meramente informativos y no tienen valor contractual. La oferta se sujeta a errores, cambios de precio, omisión, disponibilidad y/o retirada del mercado sin aviso previo. En el precio indicado no están incluidos los gastos inherentes a la compra de inmuebles según las leyes vigentes (ITP ó IVA, gastos notariales, gastos registrales, gestoría…). Honorarios de la agencia incluidos en el precio!\n",
       "8089                                                                                                                                                                                                                                                                                                                                                                                                                                                                                                                                                                                                                                                                                                                                                                                                                                                                                                                                                                                                                                                                                                                                                                                                                                                                                                                                                                                                                                                                                                                                                                                                                                                                                                                                                                  OPORTUNIDAD - PLAZA DE PARKING-CALLE FERNADO TRAPERO BLAZQUEZ - TORREMOLINOS. A la venta plaza de parking en la calle Fernando Trapero Blázquez se encuentra en los bajos del edificio residencial que consta de 29 m2 con fácil acceso y entradas desde la calle. No incluidos en el precio gastos relacionados a la compra: registro, gastos de notaría e impuestos sujetos a la transmisión (ITP, IVA, AJD).  Disponibilidad y precios sujetos a posibles variaciones, errores, reservas, etc. pendientes de actualización. Los datos expuestos no tienen valor contractual y son meramente informativos.  No cobramos comisión a nuestros clientes. Si desea más información o visitar el inmueble, consulte sin compromiso con nuestro Departamento Comercial. QUIEROUNPISO. COM ****************** OPPORTUNITY - PARKING SPACE - FERNADO TRAPERO BLAZQUEZ STREET - TORREMOLINOS. For sale parking space in Fernando Trapero Blázquez street is located on the first floor of the residential building consisting of 29 sqm with easy access and entrances from the street. Not included in the price are expenses related to the purchase: registration, notary fees and transfer taxes (ITP, IVA, AJD).  Availability and prices subject to possible variations, errors, reservations, etc. pending update. The data shown have no contractual value and are merely informative.  We do not charge commission to our clients. For more information or to visit the property, please contact our Sales Department without obligation. QUIEROUNPISO. COM.\n",
       "8090                                                                                                                                                                                                                                                                                                                                                                                                                                                                                                                                                                                                                                                                                                                                                                                                                                                                                                                                                                                                                                                                                                                                                                                                                                                                                                                                                                                                                                                                                                                                                                                                                                                        OPORTUNIDAD- PARKING EN CALLE ALMUÑECAR, BENALMADENA. A la venta plaza de parking en la Urbanización Brisas De Torrequebrada se encuentra los bajos del edificio residencial que consta de 26 m2 con fácil acceso y entradas desde la calle. En sus alrededores podrá encontrar todo lo necesario para el día a día. No incluidos en el precio gastos relacionados a la compra: registro, gastos de notaría e impuestos sujetos a la transmisión (ITP, IVA, AJD).  Disponibilidad y precios sujetos a posibles variaciones, errores, reservas, etc. pendientes de actualización. Los datos expuestos no tienen valor contractual y son meramente informativos.  No cobramos comisión a nuestros clientes. Si desea más información o visitar el inmueble, consulte sin compromiso con nuestro Departamento Comercial. QUIEROUNPISO. COM ******************** OPPORTUNITY- PARKING IN ALMUÑECAR STREET, BENALMADENA. For sale parking space in the Urbanization Brisas De Torrequebrada is located on the first floor of the residential building consisting of 26 sqm with easy access and entrances from the street. In its surroundings you can find everything you need for day to day. Not included in the price are expenses related to the purchase: registration, notary fees and transfer taxes (ITP, IVA, AJD).  Availability and prices subject to possible variations, errors, reservations, etc. pending update. The data shown have no contractual value and are merely informative.  We do not charge commission to our clients. For more information or to visit the property, please contact our Sales Department without obligation. QUIEROUNPISO. COM.\n",
       "8091                                                                                                                                                                                                                                                                                                                                                                                                                                                                                                                                                                                                                                                                                                                                                                                                                                                                                                                                                                                                                                                                                                                                                                                                                                                                                                                                                                        ¡OPORTUNIDAD! GARAJE EN EL CONJUNTO RESIDENCIAL EL DORADO, MARBELLA. A la venta plaza de garaje en Complejo Residencial El Dorado, en pleno centro de Puerto Banús, en Avda. José Banús, Marbella. La plaza dispone de 39 m2, con espacio suficiente y fácil maniobrabilidad. Se encuentra en la planta sótano del edificio con ascensor. Residencial con excepcionales calidades constructivas, con espectaculares zonas comunes con jardín y piscina. Excelente ubicación.  No incluidos en el precio gastos relacionados a la compra: registro, gastos de notaría e impuestos sujetos a la transmisión (ITP, IVA, AJD). Disponibilidad y precios sujetos a posibles variaciones, errores, reservas, etc. pendientes de actualización. Los datos expuestos no tienen valor contractual y son meramente informativos. No cobramos comisión a nuestros clientes. Si desea más información o visitar el inmueble, consulte sin compromiso con nuestro Departamento Comercial. QUIEROUNPISO. COM **** OPPORTUNITY! GARAGE IN THE RESIDENTIAL COMPLEX EL DORADO, MARBELLA. For sale garage space in El Dorado Residential Complex, in the heart of Puerto Banus, in Avenida Jose Banus, Marbella. The parking space has 39 sqm, with enough space and easy maneuverability. It is located in the basement of the building with elevator. Residential with exceptional construction qualities, with spectacular common areas with garden and swimming pool. Excellent location.  Not included in the price are expenses related to the purchase: registration, notary fees and transfer taxes (ITP, IVA, AJD). Availability and prices subject to possible variations, errors, reservations, etc. pending update. The data shown have no contractual value and are merely informative. We do not charge commission to our clients. For more information or to visit the property, please contact our Sales Department without obligation. QUIEROUNPISO. COM.\n",
       "Name: description, Length: 8092, dtype: object"
      ]
     },
     "execution_count": 60,
     "metadata": {},
     "output_type": "execute_result"
    }
   ],
   "source": [
    "df_ubi[\"description\"]   #no"
   ]
  },
  {
   "cell_type": "code",
   "execution_count": 61,
   "id": "c9531498",
   "metadata": {},
   "outputs": [],
   "source": [
    "drop_columns.append(\"description\")"
   ]
  },
  {
   "cell_type": "code",
   "execution_count": 62,
   "id": "195d8c56",
   "metadata": {},
   "outputs": [
    {
     "data": {
      "text/plain": [
       "array(['good', 'renew', 'newdevelopment', nan], dtype=object)"
      ]
     },
     "execution_count": 62,
     "metadata": {},
     "output_type": "execute_result"
    }
   ],
   "source": [
    "df_ubi[\"status\"].unique()  #si"
   ]
  },
  {
   "cell_type": "code",
   "execution_count": 63,
   "id": "254ef0fc",
   "metadata": {},
   "outputs": [
    {
     "data": {
      "text/plain": [
       "0       {}\n",
       "1       {}\n",
       "2       {}\n",
       "3       {}\n",
       "4       {}\n",
       "        ..\n",
       "8087    {}\n",
       "8088    {}\n",
       "8089    {}\n",
       "8090    {}\n",
       "8091    {}\n",
       "Name: change, Length: 8092, dtype: object"
      ]
     },
     "execution_count": 63,
     "metadata": {},
     "output_type": "execute_result"
    }
   ],
   "source": [
    "df_ubi[\"change\"] #no"
   ]
  },
  {
   "cell_type": "code",
   "execution_count": 64,
   "id": "bdc12484",
   "metadata": {},
   "outputs": [],
   "source": [
    "drop_columns.append(\"change\")"
   ]
  },
  {
   "cell_type": "code",
   "execution_count": 65,
   "id": "d2d23da1",
   "metadata": {},
   "outputs": [
    {
     "data": {
      "text/plain": [
       "0       {'typology': 'chalet', 'subTypology': 'terracedHouse'}\n",
       "1                                         {'typology': 'flat'}\n",
       "2                                         {'typology': 'flat'}\n",
       "3                                         {'typology': 'flat'}\n",
       "4                                         {'typology': 'flat'}\n",
       "                                 ...                          \n",
       "8087                                    {'typology': 'garage'}\n",
       "8088          {'typology': 'garage', 'subTypology': 'twoCars'}\n",
       "8089                                    {'typology': 'garage'}\n",
       "8090                                    {'typology': 'garage'}\n",
       "8091                                    {'typology': 'garage'}\n",
       "Name: detailedType, Length: 8092, dtype: object"
      ]
     },
     "execution_count": 65,
     "metadata": {},
     "output_type": "execute_result"
    }
   ],
   "source": [
    "df_ubi[\"detailedType\"]"
   ]
  },
  {
   "cell_type": "markdown",
   "id": "37546627",
   "metadata": {},
   "source": [
    "Vamos a quedarnos solamente con el tipo de vivienda más general, sin este tipo detallado."
   ]
  },
  {
   "cell_type": "code",
   "execution_count": 66,
   "id": "ae745a70",
   "metadata": {},
   "outputs": [],
   "source": [
    "drop_columns.append(\"detailedType\")"
   ]
  },
  {
   "cell_type": "code",
   "execution_count": 67,
   "id": "3a4ab19a",
   "metadata": {},
   "outputs": [
    {
     "data": {
      "text/plain": [
       "0                                  {'subtitle': 'Parque Clavero, Málaga', 'title': 'Chalet adosado en calle Juan de la Cierva'}\n",
       "1                                                              {'subtitle': 'Huelin, Málaga', 'title': 'Piso en calle Mendoza'}\n",
       "2                                 {'subtitle': 'Olletas - Sierra Blanquilla, Málaga', 'title': 'Piso en alameda de Capuchinos'}\n",
       "3                                          {'subtitle': 'Malagueta - Monte Sancha, Málaga', 'title': 'Piso en paseo de Sancha'}\n",
       "4                                                                     {'subtitle': 'Centro Histórico, Málaga', 'title': 'Piso'}\n",
       "                                                                 ...                                                           \n",
       "8087                                               {'subtitle': 'Sitio de Calahonda, Mijas', 'title': 'Garaje en calle Torcal'}\n",
       "8088                            {'subtitle': 'Parque de la Paloma, Benalmádena', 'title': 'Garaje en avenida las Palmeras, 33'}\n",
       "8089    {'subtitle': 'Manantiales - Estación de Autobuses, Torremolinos', 'title': 'Garaje en calle Fernando Trapero Blazquez'}\n",
       "8090                     {'subtitle': 'Zona Centro Comercial Torrequebrada, Benalmádena', 'title': 'Garaje en calle Almuñécar'}\n",
       "8091                                       {'subtitle': 'Nueva Andalucía, Marbella', 'title': 'Garaje en calle de las Adelfas'}\n",
       "Name: suggestedTexts, Length: 8092, dtype: object"
      ]
     },
     "execution_count": 67,
     "metadata": {},
     "output_type": "execute_result"
    }
   ],
   "source": [
    "df_ubi[\"suggestedTexts\"] #no es necesario para nuestro modelo"
   ]
  },
  {
   "cell_type": "code",
   "execution_count": 68,
   "id": "202c1394",
   "metadata": {},
   "outputs": [],
   "source": [
    "drop_columns.append(\"suggestedTexts\")"
   ]
  },
  {
   "cell_type": "code",
   "execution_count": 69,
   "id": "65f7795a",
   "metadata": {},
   "outputs": [
    {
     "data": {
      "text/plain": [
       "0        True\n",
       "1        True\n",
       "2        True\n",
       "3        True\n",
       "4        True\n",
       "        ...  \n",
       "8087    False\n",
       "8088    False\n",
       "8089    False\n",
       "8090    False\n",
       "8091    False\n",
       "Name: hasPlan, Length: 8092, dtype: bool"
      ]
     },
     "execution_count": 69,
     "metadata": {},
     "output_type": "execute_result"
    }
   ],
   "source": [
    "df_ubi[\"hasPlan\"] #no se que significa así que lo quitamos"
   ]
  },
  {
   "cell_type": "code",
   "execution_count": 70,
   "id": "5fd6a6f3",
   "metadata": {},
   "outputs": [],
   "source": [
    "drop_columns.append(\"hasPlan\")"
   ]
  },
  {
   "cell_type": "code",
   "execution_count": 71,
   "id": "736b171f",
   "metadata": {},
   "outputs": [
    {
     "data": {
      "text/plain": [
       "0       False\n",
       "1       False\n",
       "2       False\n",
       "3       False\n",
       "4        True\n",
       "        ...  \n",
       "8087    False\n",
       "8088    False\n",
       "8089    False\n",
       "8090    False\n",
       "8091    False\n",
       "Name: hasStaging, Length: 8092, dtype: bool"
      ]
     },
     "execution_count": 71,
     "metadata": {},
     "output_type": "execute_result"
    }
   ],
   "source": [
    "df_ubi[\"hasStaging\"] #no se que significa así que lo quitamos"
   ]
  },
  {
   "cell_type": "code",
   "execution_count": 72,
   "id": "436612d9",
   "metadata": {},
   "outputs": [],
   "source": [
    "drop_columns.append(\"hasStaging\")"
   ]
  },
  {
   "cell_type": "code",
   "execution_count": 73,
   "id": "2a291548",
   "metadata": {},
   "outputs": [
    {
     "data": {
      "text/plain": [
       "0            {'groupDescription': 'Top+'}\n",
       "1            {'groupDescription': 'Top+'}\n",
       "2            {'groupDescription': 'Top+'}\n",
       "3            {'groupDescription': 'Top+'}\n",
       "4            {'groupDescription': 'Top+'}\n",
       "                      ...                \n",
       "8037    {'groupDescription': 'Destacado'}\n",
       "8038    {'groupDescription': 'Destacado'}\n",
       "8039    {'groupDescription': 'Destacado'}\n",
       "8040    {'groupDescription': 'Destacado'}\n",
       "8041    {'groupDescription': 'Destacado'}\n",
       "Name: highlight, Length: 3339, dtype: object"
      ]
     },
     "execution_count": 73,
     "metadata": {},
     "output_type": "execute_result"
    }
   ],
   "source": [
    "df_ubi[\"highlight\"].dropna() #tiene muchos valores nulos, mas de la mitad"
   ]
  },
  {
   "cell_type": "code",
   "execution_count": 74,
   "id": "1e46af39",
   "metadata": {},
   "outputs": [
    {
     "data": {
      "text/plain": [
       "array(['Top+', 'Top', 'Destacado'], dtype=object)"
      ]
     },
     "execution_count": 74,
     "metadata": {},
     "output_type": "execute_result"
    }
   ],
   "source": [
    "df_ubi[\"highlight\"].dropna().apply(lambda x: x.get(\"groupDescription\")).unique() "
   ]
  },
  {
   "cell_type": "markdown",
   "id": "4a014d25",
   "metadata": {},
   "source": [
    "Esta columna parece que tiene mas sentido por la popularidad de la vivienda, debido a esto y a que tenemos muchos valores nulos, vamos a eliminarla también."
   ]
  },
  {
   "cell_type": "code",
   "execution_count": 75,
   "id": "dd0431ed",
   "metadata": {},
   "outputs": [],
   "source": [
    "drop_columns.append(\"highlight\")"
   ]
  },
  {
   "cell_type": "code",
   "execution_count": 76,
   "id": "97c8f8e5",
   "metadata": {},
   "outputs": [
    {
     "data": {
      "text/plain": [
       "array([False])"
      ]
     },
     "execution_count": 76,
     "metadata": {},
     "output_type": "execute_result"
    }
   ],
   "source": [
    "df_ubi[\"topNewDevelopment\"].unique()"
   ]
  },
  {
   "cell_type": "markdown",
   "id": "76c06b25",
   "metadata": {},
   "source": [
    "Son todos falsos entonces vamos a eliminarla"
   ]
  },
  {
   "cell_type": "code",
   "execution_count": 77,
   "id": "08721770",
   "metadata": {},
   "outputs": [],
   "source": [
    "drop_columns.append(\"topNewDevelopment\")"
   ]
  },
  {
   "cell_type": "code",
   "execution_count": 78,
   "id": "47afa320",
   "metadata": {},
   "outputs": [
    {
     "data": {
      "text/plain": [
       "topPlus\n",
       "False    7989\n",
       "True      103\n",
       "Name: count, dtype: int64"
      ]
     },
     "execution_count": 78,
     "metadata": {},
     "output_type": "execute_result"
    }
   ],
   "source": [
    "df_ubi[\"topPlus\"].value_counts() #no la voy a considerar tampoco"
   ]
  },
  {
   "cell_type": "code",
   "execution_count": 79,
   "id": "090f5121",
   "metadata": {},
   "outputs": [],
   "source": [
    "drop_columns.append(\"topPlus\")"
   ]
  },
  {
   "cell_type": "code",
   "execution_count": 80,
   "id": "6a828a04",
   "metadata": {},
   "outputs": [
    {
     "data": {
      "text/plain": [
       "exterior\n",
       "1.0    3609\n",
       "0.0     619\n",
       "Name: count, dtype: int64"
      ]
     },
     "execution_count": 80,
     "metadata": {},
     "output_type": "execute_result"
    }
   ],
   "source": [
    "df_ubi[\"exterior\"].value_counts() #Tiene bastantes valores nulos y no se muy bien que significa asi que la elimino"
   ]
  },
  {
   "cell_type": "code",
   "execution_count": 81,
   "id": "837375f6",
   "metadata": {},
   "outputs": [],
   "source": [
    "drop_columns.append(\"exterior\")"
   ]
  },
  {
   "cell_type": "code",
   "execution_count": 82,
   "id": "f3afe657",
   "metadata": {},
   "outputs": [
    {
     "data": {
      "text/plain": [
       "56      0.0\n",
       "57      0.0\n",
       "69      0.0\n",
       "71      0.0\n",
       "72      0.0\n",
       "       ... \n",
       "7674    0.0\n",
       "7971    1.0\n",
       "7972    1.0\n",
       "7973    1.0\n",
       "8055    0.0\n",
       "Name: newDevelopmentFinished, Length: 365, dtype: float64"
      ]
     },
     "execution_count": 82,
     "metadata": {},
     "output_type": "execute_result"
    }
   ],
   "source": [
    "df_ubi[\"newDevelopmentFinished\"].dropna() #tiene demasiados valores nulos"
   ]
  },
  {
   "cell_type": "code",
   "execution_count": 83,
   "id": "10b71b7e",
   "metadata": {},
   "outputs": [],
   "source": [
    "drop_columns.append(\"newDevelopmentFinished\")"
   ]
  },
  {
   "cell_type": "code",
   "execution_count": 84,
   "id": "503d2d99",
   "metadata": {},
   "outputs": [
    {
     "data": {
      "text/plain": [
       "867             {'key': 'underground', 'text': 'Sótano'}\n",
       "868     {'key': 'onTheStreet', 'text': 'A pie de calle'}\n",
       "869     {'key': 'onTheStreet', 'text': 'A pie de calle'}\n",
       "871     {'key': 'onTheStreet', 'text': 'A pie de calle'}\n",
       "872     {'key': 'onTheStreet', 'text': 'A pie de calle'}\n",
       "                              ...                       \n",
       "7937    {'key': 'onTheStreet', 'text': 'A pie de calle'}\n",
       "7938    {'key': 'onTheStreet', 'text': 'A pie de calle'}\n",
       "7939    {'key': 'onTheStreet', 'text': 'A pie de calle'}\n",
       "7940    {'key': 'onTheStreet', 'text': 'A pie de calle'}\n",
       "7941    {'key': 'onTheStreet', 'text': 'A pie de calle'}\n",
       "Name: ubicationInfo, Length: 1248, dtype: object"
      ]
     },
     "execution_count": 84,
     "metadata": {},
     "output_type": "execute_result"
    }
   ],
   "source": [
    "df_ubi[\"ubicationInfo\"].dropna() "
   ]
  },
  {
   "cell_type": "code",
   "execution_count": 85,
   "id": "353ca063",
   "metadata": {},
   "outputs": [],
   "source": [
    "drop_columns.append(\"ubicationInfo\")"
   ]
  },
  {
   "cell_type": "code",
   "execution_count": 86,
   "id": "8a52d17a",
   "metadata": {},
   "outputs": [],
   "source": [
    "# La columna distance lo que contiene es la distancia a la que se encuentra el inmueble del centro de la ciudad, pero tiene demasiados valores nulos y tenemos además los valores de longitud y latitud que nos da las ubicaciones exactas\n",
    "drop_columns.append(\"distance\")"
   ]
  },
  {
   "cell_type": "markdown",
   "id": "f596e61d",
   "metadata": {},
   "source": [
    "Verificamos que en drop_columns estan todas las columnas que queremos eliminar y las eliminamos de ambos dataframes"
   ]
  },
  {
   "cell_type": "code",
   "execution_count": 87,
   "id": "8c1e41ee",
   "metadata": {},
   "outputs": [
    {
     "data": {
      "text/plain": [
       "['description',\n",
       " 'change',\n",
       " 'detailedType',\n",
       " 'suggestedTexts',\n",
       " 'hasPlan',\n",
       " 'hasStaging',\n",
       " 'highlight',\n",
       " 'topNewDevelopment',\n",
       " 'topPlus',\n",
       " 'exterior',\n",
       " 'newDevelopmentFinished',\n",
       " 'ubicationInfo',\n",
       " 'distance']"
      ]
     },
     "execution_count": 87,
     "metadata": {},
     "output_type": "execute_result"
    }
   ],
   "source": [
    "drop_columns"
   ]
  },
  {
   "cell_type": "code",
   "execution_count": 88,
   "id": "28937fb3",
   "metadata": {},
   "outputs": [
    {
     "name": "stdout",
     "output_type": "stream",
     "text": [
      "<class 'pandas.core.frame.DataFrame'>\n",
      "RangeIndex: 8092 entries, 0 to 8091\n",
      "Data columns (total 21 columns):\n",
      " #   Column          Non-Null Count  Dtype  \n",
      "---  ------          --------------  -----  \n",
      " 0   propertyCode    8092 non-null   int64  \n",
      " 1   price           8092 non-null   int64  \n",
      " 2   priceInfo       8092 non-null   object \n",
      " 3   propertyType    8092 non-null   object \n",
      " 4   operation       8092 non-null   object \n",
      " 5   size            7434 non-null   float64\n",
      " 6   rooms           5350 non-null   float64\n",
      " 7   bathrooms       7434 non-null   float64\n",
      " 8   province        8092 non-null   object \n",
      " 9   municipality    8092 non-null   object \n",
      " 10  district        7950 non-null   object \n",
      " 11  country         8092 non-null   object \n",
      " 12  neighborhood    5927 non-null   object \n",
      " 13  latitude        8092 non-null   float64\n",
      " 14  longitude       8092 non-null   float64\n",
      " 15  status          7407 non-null   object \n",
      " 16  newDevelopment  8092 non-null   bool   \n",
      " 17  parkingSpace    4000 non-null   object \n",
      " 18  priceByArea     7962 non-null   float64\n",
      " 19  floor           5462 non-null   object \n",
      " 20  hasLift         4816 non-null   float64\n",
      "dtypes: bool(1), float64(7), int64(2), object(11)\n",
      "memory usage: 1.2+ MB\n"
     ]
    }
   ],
   "source": [
    "df_ubi = df_ubi.drop(columns=drop_columns)\n",
    "df_ubi.info()"
   ]
  },
  {
   "cell_type": "code",
   "execution_count": 89,
   "id": "32d6b2a1",
   "metadata": {},
   "outputs": [
    {
     "name": "stdout",
     "output_type": "stream",
     "text": [
      "<class 'pandas.core.frame.DataFrame'>\n",
      "RangeIndex: 8092 entries, 0 to 8091\n",
      "Data columns (total 16 columns):\n",
      " #   Column          Non-Null Count  Dtype  \n",
      "---  ------          --------------  -----  \n",
      " 0   propertyCode    8092 non-null   int64  \n",
      " 1   price           8092 non-null   int64  \n",
      " 2   priceInfo       8092 non-null   object \n",
      " 3   propertyType    8092 non-null   object \n",
      " 4   operation       8092 non-null   object \n",
      " 5   size            7434 non-null   float64\n",
      " 6   rooms           5350 non-null   float64\n",
      " 7   bathrooms       7434 non-null   float64\n",
      " 8   latitude        8092 non-null   float64\n",
      " 9   longitude       8092 non-null   float64\n",
      " 10  status          7407 non-null   object \n",
      " 11  newDevelopment  8092 non-null   bool   \n",
      " 12  parkingSpace    4000 non-null   object \n",
      " 13  priceByArea     7962 non-null   float64\n",
      " 14  floor           5462 non-null   object \n",
      " 15  hasLift         4816 non-null   float64\n",
      "dtypes: bool(1), float64(7), int64(2), object(6)\n",
      "memory usage: 956.3+ KB\n"
     ]
    }
   ],
   "source": [
    "df_no_ubi = df_no_ubi.drop(columns=drop_columns)\n",
    "df_no_ubi.info()"
   ]
  },
  {
   "cell_type": "markdown",
   "id": "733f3f78",
   "metadata": {},
   "source": [
    "Ahora para finalizar con esta primera parte de la limpieza de los dataframes vamos a eliminar si tenemos duplicados"
   ]
  },
  {
   "cell_type": "markdown",
   "id": "f3233f1d",
   "metadata": {},
   "source": [
    "Guardamos el dataframe"
   ]
  },
  {
   "cell_type": "code",
   "execution_count": 90,
   "id": "eae22ad7",
   "metadata": {},
   "outputs": [],
   "source": [
    "df_ubi.to_csv(\"../data/working_data/idealista_data_cleaned_1.csv\", index=False)\n"
   ]
  }
 ],
 "metadata": {
  "kernelspec": {
   "display_name": ".venv",
   "language": "python",
   "name": "python3"
  },
  "language_info": {
   "codemirror_mode": {
    "name": "ipython",
    "version": 3
   },
   "file_extension": ".py",
   "mimetype": "text/x-python",
   "name": "python",
   "nbconvert_exporter": "python",
   "pygments_lexer": "ipython3",
   "version": "3.13.1"
  }
 },
 "nbformat": 4,
 "nbformat_minor": 5
}
