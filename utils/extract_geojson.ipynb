{
 "cells": [
  {
   "cell_type": "code",
   "execution_count": 2,
   "id": "e0820531",
   "metadata": {},
   "outputs": [
    {
     "name": "stdout",
     "output_type": "stream",
     "text": [
      "Index(['cod_prov', 'name', 'cod_ccaa', 'cartodb_id', 'created_at',\n",
      "       'updated_at', 'geometry'],\n",
      "      dtype='object')\n",
      "  cod_prov           name cod_ccaa  cartodb_id                created_at  \\\n",
      "0       07  Illes Balears       03           7 2014-09-30 00:00:00+00:00   \n",
      "1       33       Asturias       18          33 2014-09-30 00:00:00+00:00   \n",
      "2       15       A Coruña       11          15 2014-09-30 00:00:00+00:00   \n",
      "3       17         Girona       08          17 2014-09-30 00:00:00+00:00   \n",
      "4       35     Las Palmas       04          35 2014-09-30 00:00:00+00:00   \n",
      "\n",
      "                 updated_at                                           geometry  \n",
      "0 2014-12-25 01:56:10+00:00  MULTIPOLYGON (((3.21364 39.95751, 3.1544 39.92...  \n",
      "1 2014-12-25 01:56:10+00:00  MULTIPOLYGON (((-5.84083 43.66062, -5.83002 43...  \n",
      "2 2014-12-25 01:56:10+00:00  MULTIPOLYGON (((-7.6803 43.78714, -7.66231 43....  \n",
      "3 2014-12-25 01:56:10+00:00  MULTIPOLYGON (((1.74871 42.49482, 1.82355 42.4...  \n",
      "4 2014-12-25 01:56:10+00:00  MULTIPOLYGON (((-13.89051 28.75685, -13.83632 ...  \n",
      "✅ Archivo malaga_province.geojson guardado correctamente\n"
     ]
    }
   ],
   "source": [
    "import geopandas as gpd\n",
    "\n",
    "# Carga el GeoJSON completo\n",
    "gdf = gpd.read_file(\"../data/spain-provinces.geojson\")\n",
    "\n",
    "# Explora los nombres de la columna con provincias para ver cómo se llama\n",
    "print(gdf.columns)\n",
    "print(gdf.head())\n",
    "\n",
    "# Suponiendo que la columna que tiene el nombre es 'name' o algo similar:\n",
    "# Filtramos solo Málaga (ajusta si el campo es diferente o el nombre exacto es 'Málaga')\n",
    "gdf_malaga = gdf[gdf['name'] == 'Málaga']\n",
    "\n",
    "# Guardamos el nuevo geojson solo con Málaga\n",
    "gdf_malaga.to_file(\"malaga_province.geojson\", driver='GeoJSON')\n",
    "\n",
    "print(\"✅ Archivo malaga_province.geojson guardado correctamente\")\n"
   ]
  },
  {
   "cell_type": "code",
   "execution_count": 3,
   "id": "23bc7cb2",
   "metadata": {},
   "outputs": [],
   "source": [
    "# elimina triangulitos del mapa\n",
    "import json\n",
    "\n",
    "with open(\"../data/distritos-malaga.geojson\", \"r\", encoding=\"utf-8\") as f:\n",
    "    data = json.load(f)\n",
    "\n",
    "# Filtramos solo las features de tipo Polygon o MultiPolygon\n",
    "filtered_features = [\n",
    "    feat for feat in data[\"features\"]\n",
    "    if feat[\"geometry\"][\"type\"] in [\"Polygon\", \"MultiPolygon\"]\n",
    "]\n",
    "\n",
    "# Creamos nuevo GeoJSON solo con polígonos\n",
    "new_geojson = {\n",
    "    \"type\": \"FeatureCollection\",\n",
    "    \"features\": filtered_features\n",
    "}\n",
    "\n",
    "# Guardamos\n",
    "with open(\"../data/distritos-malaga.geojson\", \"w\", encoding=\"utf-8\") as f:\n",
    "    json.dump(new_geojson, f, ensure_ascii=False)\n"
   ]
  }
 ],
 "metadata": {
  "kernelspec": {
   "display_name": "rental-prices-predicction",
   "language": "python",
   "name": "python3"
  },
  "language_info": {
   "codemirror_mode": {
    "name": "ipython",
    "version": 3
   },
   "file_extension": ".py",
   "mimetype": "text/x-python",
   "name": "python",
   "nbconvert_exporter": "python",
   "pygments_lexer": "ipython3",
   "version": "3.13.1"
  }
 },
 "nbformat": 4,
 "nbformat_minor": 5
}
