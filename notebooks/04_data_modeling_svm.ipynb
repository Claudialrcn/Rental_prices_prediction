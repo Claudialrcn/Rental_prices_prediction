{
 "cells": [
  {
   "cell_type": "markdown",
   "id": "64148a4c",
   "metadata": {},
   "source": [
    "# 🤖 Data Modeling with Support Vector Machine"
   ]
  },
  {
   "cell_type": "code",
   "execution_count": 1,
   "id": "4c24aa8c",
   "metadata": {},
   "outputs": [],
   "source": [
    "import pandas as pd\n",
    "from sklearn.svm import SVR\n",
    "from sklearn.model_selection import GridSearchCV, KFold\n",
    "from sklearn.metrics import make_scorer, mean_absolute_error, accuracy_score, r2_score\n",
    "from sklearn.model_selection import train_test_split\n",
    "from sklearn.preprocessing import MinMaxScaler\n",
    "import numpy as np\n",
    "import sys\n",
    "import os\n",
    "\n",
    "# Añadir la carpeta raíz del proyecto al PATH (ajústalo según donde esté tu notebook)\n",
    "sys.path.append(os.path.abspath('..'))  # '..' significa que sube un nivel desde donde está el notebook\n",
    "\n",
    "from utils.data_training_utils import train_test_model_with_hyperparameter_tuning"
   ]
  },
  {
   "cell_type": "code",
   "execution_count": 2,
   "id": "bf57df74",
   "metadata": {},
   "outputs": [],
   "source": [
    "df = pd.read_csv(\"../data/working_data/data_cleaned_20250901.csv\")"
   ]
  },
  {
   "cell_type": "code",
   "execution_count": 3,
   "id": "292efb11",
   "metadata": {},
   "outputs": [],
   "source": [
    "for col in df.select_dtypes(include=\"object\").columns:\n",
    "    df[col] = df[col].astype(\"category\")\n",
    "\n",
    "from sklearn.preprocessing import LabelEncoder\n",
    "\n",
    "df_numeric = df.copy()\n",
    "encoders = {}\n",
    "\n",
    "for col in df_numeric.select_dtypes(include=\"category\").columns:\n",
    "    le = LabelEncoder()\n",
    "    df_numeric[col] = le.fit_transform(df_numeric[col].astype(str))\n",
    "    encoders[col] = le"
   ]
  },
  {
   "cell_type": "code",
   "execution_count": 4,
   "id": "a87e8bfc",
   "metadata": {},
   "outputs": [],
   "source": [
    "param_grid = {\n",
    "    'kernel': ['rbf', 'linear', 'poly'],\n",
    "    'C': [0.01, 0.1, 1, 10, 100],\n",
    "    'epsilon': [0.001, 0.01, 0.1, 0.2, 0.5],\n",
    "    'gamma': ['scale', 'auto']\n",
    "}\n",
    "\n",
    "\n",
    "# Modelo base\n",
    "model = SVR()"
   ]
  },
  {
   "cell_type": "markdown",
   "id": "925d621b",
   "metadata": {},
   "source": [
    "### SVM Model for rental prices"
   ]
  },
  {
   "cell_type": "code",
   "execution_count": null,
   "id": "47e80b82",
   "metadata": {},
   "outputs": [
    {
     "name": "stdout",
     "output_type": "stream",
     "text": [
      "Fitting 5 folds for each of 150 candidates, totalling 750 fits\n"
     ]
    }
   ],
   "source": [
    "df_numeric_rent = df_numeric[df_numeric['operation'] == 0]\n",
    "\n",
    "best_rent_num_model, best_rent_num_params, mae_train, r2_train, mae_test, r2_test = train_test_model_with_hyperparameter_tuning(\n",
    "    model, param_grid, df_numeric_rent, drop_features=['operation'])"
   ]
  },
  {
   "cell_type": "code",
   "execution_count": null,
   "id": "7e74aefb",
   "metadata": {},
   "outputs": [
    {
     "name": "stdout",
     "output_type": "stream",
     "text": [
      "Fitting 5 folds for each of 36 candidates, totalling 180 fits\n",
      "Best model found: SVR(C=0.1, epsilon=0.01)\n",
      "Best hyperparameters: {'C': 0.1, 'epsilon': 0.01, 'gamma': 'scale', 'kernel': 'rbf'}\n",
      "Best training MAE: 993.2746602763855\n",
      "Best training R2: -0.10309051743728528\n",
      "·········································\n",
      "MAE test: 905.4214829285932\n",
      "R2 test: -0.06809740107571449\n"
     ]
    }
   ],
   "source": [
    "# Scale the data\n",
    "best_rent_num_model, best_rent_num_params, mae_train, r2_train, mae_test, r2_test = train_test_model_with_hyperparameter_tuning(\n",
    "    model, param_grid, df_numeric_rent, drop_features=['operation'], scale_data=True)"
   ]
  },
  {
   "cell_type": "markdown",
   "id": "d92c5c4d",
   "metadata": {},
   "source": [
    "### Linear Regression Model for sales prices"
   ]
  },
  {
   "cell_type": "code",
   "execution_count": null,
   "id": "a9eb003e",
   "metadata": {},
   "outputs": [
    {
     "name": "stdout",
     "output_type": "stream",
     "text": [
      "Fitting 5 folds for each of 36 candidates, totalling 180 fits\n",
      "Best model found: SVR(C=0.1, epsilon=0.01, gamma='auto')\n",
      "Best hyperparameters: {'C': 0.1, 'epsilon': 0.01, 'gamma': 'auto', 'kernel': 'rbf'}\n",
      "Best training MAE: 385970.948106062\n",
      "Best training R2: -0.11253651022827\n",
      "·········································\n",
      "MAE test: 385528.39053111343\n",
      "R2 test: -0.10721745824359163\n"
     ]
    }
   ],
   "source": [
    "df_numeric_sale = df_numeric[df_numeric['operation'] == 1]\n",
    "\n",
    "best_sale_num_model, best_sale_num_params, mae_train, r2_train, mae_test, r2_test = train_test_model_with_hyperparameter_tuning(\n",
    "    model, param_grid, df_numeric_sale, drop_features=['operation'])"
   ]
  },
  {
   "cell_type": "code",
   "execution_count": null,
   "id": "0612d57b",
   "metadata": {},
   "outputs": [
    {
     "name": "stdout",
     "output_type": "stream",
     "text": [
      "Fitting 5 folds for each of 36 candidates, totalling 180 fits\n",
      "Best model found: SVR(C=0.1, epsilon=0.01)\n",
      "Best hyperparameters: {'C': 0.1, 'epsilon': 0.01, 'gamma': 'scale', 'kernel': 'rbf'}\n",
      "Best training MAE: 385965.2036682187\n",
      "Best training R2: -0.11251340270902684\n",
      "·········································\n",
      "MAE test: 385521.1458263802\n",
      "R2 test: -0.10718799802442414\n"
     ]
    }
   ],
   "source": [
    "df_numeric_sale = df_numeric[df_numeric['operation'] == 1]\n",
    "\n",
    "#Scale the data\n",
    "best_sale_num_model, best_sale_num_params, mae_train, r2_train, mae_test, r2_test = train_test_model_with_hyperparameter_tuning(\n",
    "    model, param_grid, df_numeric_sale, drop_features=['operation'], scale_data=True)"
   ]
  }
 ],
 "metadata": {
  "kernelspec": {
   "display_name": "rental-prices-predicction",
   "language": "python",
   "name": "python3"
  },
  "language_info": {
   "codemirror_mode": {
    "name": "ipython",
    "version": 3
   },
   "file_extension": ".py",
   "mimetype": "text/x-python",
   "name": "python",
   "nbconvert_exporter": "python",
   "pygments_lexer": "ipython3",
   "version": "3.13.1"
  }
 },
 "nbformat": 4,
 "nbformat_minor": 5
}
