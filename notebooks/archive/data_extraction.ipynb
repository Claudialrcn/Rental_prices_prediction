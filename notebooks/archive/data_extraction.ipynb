{
 "cells": [
  {
   "cell_type": "code",
   "execution_count": 1,
   "id": "bbed3508",
   "metadata": {},
   "outputs": [],
   "source": [
    "import base64\n",
    "import requests\n",
    "import json\n",
    "from datetime import datetime\n",
    "import numpy as np\n",
    "\n",
    "from api_access import API_KEY, SECRET"
   ]
  },
  {
   "cell_type": "code",
   "execution_count": 2,
   "id": "f9295299",
   "metadata": {},
   "outputs": [],
   "source": [
    "def get_oauth_token():\n",
    "    \"\"\"\n",
    "    This function retrieves the OAuth token from the Idealista API.\n",
    "    It uses the API_KEY and SECRET to authenticate and obtain the token.\n",
    "    \"\"\"\n",
    "    # Encode the API_KEY and SECRET\n",
    "    message = API_KEY + \":\" + SECRET\n",
    "\n",
    "    # Base64 encode the message\n",
    "    auth = base64.b64encode(message.encode(\"ascii\")).decode(\"ascii\")\n",
    "\n",
    "    # Set up headers for the request\n",
    "    headers_dic = {'Authorization': 'Basic ' + auth,\n",
    "                   'Content-Type': 'application/x-www-form-urlencoded;charset=UTF-8'\n",
    "}\n",
    "\n",
    "    # Set up parameters for the request\n",
    "    params_dic = {'grant_type': 'client_credentials',\n",
    "                  'scope': 'read'}\n",
    "\n",
    "    # Make the request to get the token\n",
    "    request_call = requests.post(\n",
    "        \"https://api.idealista.com/oauth/token\",\n",
    "        headers=headers_dic,\n",
    "        data=params_dic\n",
    "    )\n",
    "\n",
    "    # Parse the response to get the token\n",
    "    token = json.loads(request_call.text)['access_token']\n",
    "    \n",
    "    return token"
   ]
  },
  {
   "cell_type": "code",
   "execution_count": 3,
   "id": "b0ac8826",
   "metadata": {},
   "outputs": [],
   "source": [
    "# Search parameters filtering\n",
    "\n",
    "BASE_URL = \"https://api.idealista.com/3.5/es\" # Base URL to search in Spain\n",
    "# CENTER = '36.7213,-4.4214' # Malaga Center coordinates (latitude, longitude) for the search\n",
    "# DISTANCE = 9000.0 # Search radius in meters \n",
    "LOCATION = \"0-EU-ES-29\"\n",
    "MAX_ITEMS = 50 # Maximum number of items to retrieve in one request 50\n",
    "#since_date = 'M' # W:last week, M: last month, T:last day (for rent except rooms), Y: last 2 days (sale and rooms)\n",
    "SORT = 'desc'\n",
    "#operation =  Operation type: sale or rent\n",
    "#property_type = Property type: homes, garages, offices, land, new_development\n"
   ]
  },
  {
   "cell_type": "code",
   "execution_count": 4,
   "id": "793c99f7",
   "metadata": {},
   "outputs": [],
   "source": [
    "# Function to get the url for the search request\n",
    "\n",
    "def get_search_url(operation: str, property_type: str) -> str:\n",
    "    url = (\n",
    "        f\"{BASE_URL}/search?\"\n",
    "        f\"operation={operation}&\"\n",
    "        f\"maxItems={MAX_ITEMS}&\"\n",
    "        f\"locationId={LOCATION}&\"\n",
    "        f\"propertyType={property_type}&\"\n",
    "        f\"sort={SORT}&\"\n",
    "        f\"language=es&\"\n",
    "        f\"numPage=%s\"\n",
    "    )\n",
    "    return url\n"
   ]
  },
  {
   "cell_type": "code",
   "execution_count": 5,
   "id": "f8065c16",
   "metadata": {},
   "outputs": [],
   "source": [
    "def get_data_from_api(url, pagination):\n",
    "    \"\"\"\n",
    "    This function retrieves data from the Idealista API.\n",
    "    It uses the provided URL to make a request to the API and get the data.\n",
    "    \"\"\"\n",
    "    # Get the OAuth token\n",
    "    token = get_oauth_token()\n",
    "\n",
    "    # Set up headers for the request\n",
    "    headers_dic = {'Content-Type': 'application/x-www-form-urlencoded',\n",
    "                   'Authorization': 'Bearer ' + token,\n",
    "                   }\n",
    "\n",
    "    # Make the request to get the data\n",
    "    request_call = requests.post(url, headers=headers_dic)\n",
    "\n",
    "    # Parse the response\n",
    "    try:\n",
    "        data = request_call.json()\n",
    "    except json.JSONDecodeError:\n",
    "        print(\"Error: la respuesta no es JSON válida.\")\n",
    "        print(\"Texto recibido:\", request_call.text)\n",
    "        return None\n",
    "\n",
    "    # File name with timestamp\n",
    "    timestamp = datetime.now().strftime(\"%Y-%m-%d_%H-%M-%S\")\n",
    "    filename = f\"../data/extracted_data/idealista-data-{timestamp}-{pagination}.json\"\n",
    "\n",
    "    # Save as  JSON file\n",
    "    with open(filename, \"w\", encoding=\"utf-8\") as f:\n",
    "        json.dump(data, f, indent=2, ensure_ascii=False)\n",
    "\n",
    "    print(f\"JSON guardado en {filename}\")\n",
    "\n",
    "    return data"
   ]
  },
  {
   "cell_type": "code",
   "execution_count": null,
   "id": "47451843",
   "metadata": {},
   "outputs": [
    {
     "name": "stdout",
     "output_type": "stream",
     "text": [
      "JSON guardado en ../data/extracted_data/idealista-data-2025-08-15_13-28-32-1.json\n",
      "JSON guardado en ../data/extracted_data/idealista-data-2025-08-15_13-28-33-2.json\n"
     ]
    },
    {
     "ename": "AttributeError",
     "evalue": "'dict' object has no attribute 'concat'",
     "output_type": "error",
     "traceback": [
      "\u001b[31m---------------------------------------------------------------------------\u001b[39m",
      "\u001b[31mAttributeError\u001b[39m                            Traceback (most recent call last)",
      "\u001b[36mCell\u001b[39m\u001b[36m \u001b[39m\u001b[32mIn[6]\u001b[39m\u001b[32m, line 9\u001b[39m\n\u001b[32m      6\u001b[39m results2 = get_data_from_api(url, \u001b[32m2\u001b[39m)\n\u001b[32m      8\u001b[39m results = {}\n\u001b[32m----> \u001b[39m\u001b[32m9\u001b[39m results = \u001b[43mresults\u001b[49m\u001b[43m.\u001b[49m\u001b[43mconcat\u001b[49m(results1)\n\u001b[32m     10\u001b[39m results = results.concat(results2)\n\u001b[32m     12\u001b[39m \u001b[38;5;28mprint\u001b[39m(results)\n",
      "\u001b[31mAttributeError\u001b[39m: 'dict' object has no attribute 'concat'"
     ]
    }
   ],
   "source": [
    "url_homes_sale = get_search_url(\"sale\", \"homes\")\n",
    "url = url_homes_sale % 1\n",
    "results1 = get_data_from_api(url, 1)\n",
    "\n",
    "url = url_homes_sale % 2\n",
    "results2 = get_data_from_api(url, 2)"
   ]
  },
  {
   "cell_type": "code",
   "execution_count": 12,
   "id": "52da23df",
   "metadata": {},
   "outputs": [
    {
     "data": {
      "text/plain": [
       "751"
      ]
     },
     "execution_count": 12,
     "metadata": {},
     "output_type": "execute_result"
    }
   ],
   "source": [
    "results1[\"totalPages\"]"
   ]
  },
  {
   "cell_type": "code",
   "execution_count": 11,
   "id": "80be0d97",
   "metadata": {},
   "outputs": [
    {
     "name": "stdout",
     "output_type": "stream",
     "text": [
      "50\n",
      "50\n",
      "Total elements: 100\n"
     ]
    }
   ],
   "source": [
    "print(len(results1['elementList']))\n",
    "print(len(results2['elementList']))\n",
    "print(\"Total elements:\", len(results1['elementList']) + len(results2['elementList']))\n"
   ]
  },
  {
   "cell_type": "code",
   "execution_count": 29,
   "id": "40171eb8",
   "metadata": {},
   "outputs": [
    {
     "name": "stdout",
     "output_type": "stream",
     "text": [
      "Error: la respuesta no es JSON válida.\n",
      "Texto recibido: \n",
      "Error: la respuesta no es JSON válida.\n",
      "Texto recibido: \n"
     ]
    },
    {
     "ename": "KeyboardInterrupt",
     "evalue": "",
     "output_type": "error",
     "traceback": [
      "\u001b[31m---------------------------------------------------------------------------\u001b[39m",
      "\u001b[31mKeyboardInterrupt\u001b[39m                         Traceback (most recent call last)",
      "\u001b[36mCell\u001b[39m\u001b[36m \u001b[39m\u001b[32mIn[29]\u001b[39m\u001b[32m, line 5\u001b[39m\n\u001b[32m      3\u001b[39m \u001b[38;5;28;01mfor\u001b[39;00m pagination \u001b[38;5;129;01min\u001b[39;00m \u001b[38;5;28mrange\u001b[39m(\u001b[32m1\u001b[39m, \u001b[32m31\u001b[39m):\n\u001b[32m      4\u001b[39m     url = url_homes_sale % (pagination)\n\u001b[32m----> \u001b[39m\u001b[32m5\u001b[39m     results = \u001b[43mget_data_from_api\u001b[49m\u001b[43m(\u001b[49m\u001b[43murl\u001b[49m\u001b[43m,\u001b[49m\u001b[43m \u001b[49m\u001b[43mpagination\u001b[49m\u001b[43m)\u001b[49m\n",
      "\u001b[36mCell\u001b[39m\u001b[36m \u001b[39m\u001b[32mIn[28]\u001b[39m\u001b[32m, line 15\u001b[39m, in \u001b[36mget_data_from_api\u001b[39m\u001b[34m(url, pagination)\u001b[39m\n\u001b[32m     10\u001b[39m headers_dic = {\u001b[33m'\u001b[39m\u001b[33mContent-Type\u001b[39m\u001b[33m'\u001b[39m: \u001b[33m'\u001b[39m\u001b[33mapplication/x-www-form-urlencoded\u001b[39m\u001b[33m'\u001b[39m,\n\u001b[32m     11\u001b[39m                \u001b[33m'\u001b[39m\u001b[33mAuthorization\u001b[39m\u001b[33m'\u001b[39m: \u001b[33m'\u001b[39m\u001b[33mBearer \u001b[39m\u001b[33m'\u001b[39m + token,\n\u001b[32m     12\u001b[39m                }\n\u001b[32m     14\u001b[39m \u001b[38;5;66;03m# Make the request to get the data\u001b[39;00m\n\u001b[32m---> \u001b[39m\u001b[32m15\u001b[39m request_call = \u001b[43mrequests\u001b[49m\u001b[43m.\u001b[49m\u001b[43mpost\u001b[49m\u001b[43m(\u001b[49m\u001b[43murl\u001b[49m\u001b[43m,\u001b[49m\u001b[43m \u001b[49m\u001b[43mheaders\u001b[49m\u001b[43m=\u001b[49m\u001b[43mheaders_dic\u001b[49m\u001b[43m)\u001b[49m\n\u001b[32m     17\u001b[39m \u001b[38;5;66;03m# Parse the response\u001b[39;00m\n\u001b[32m     18\u001b[39m \u001b[38;5;28;01mtry\u001b[39;00m:\n",
      "\u001b[36mFile \u001b[39m\u001b[32mc:\\Users\\Claudia\\MasterBigData\\TFM\\Rental-prices-predicction\\.venv\\Lib\\site-packages\\requests\\api.py:115\u001b[39m, in \u001b[36mpost\u001b[39m\u001b[34m(url, data, json, **kwargs)\u001b[39m\n\u001b[32m    103\u001b[39m \u001b[38;5;28;01mdef\u001b[39;00m\u001b[38;5;250m \u001b[39m\u001b[34mpost\u001b[39m(url, data=\u001b[38;5;28;01mNone\u001b[39;00m, json=\u001b[38;5;28;01mNone\u001b[39;00m, **kwargs):\n\u001b[32m    104\u001b[39m \u001b[38;5;250m    \u001b[39m\u001b[33mr\u001b[39m\u001b[33;03m\"\"\"Sends a POST request.\u001b[39;00m\n\u001b[32m    105\u001b[39m \n\u001b[32m    106\u001b[39m \u001b[33;03m    :param url: URL for the new :class:`Request` object.\u001b[39;00m\n\u001b[32m   (...)\u001b[39m\u001b[32m    112\u001b[39m \u001b[33;03m    :rtype: requests.Response\u001b[39;00m\n\u001b[32m    113\u001b[39m \u001b[33;03m    \"\"\"\u001b[39;00m\n\u001b[32m--> \u001b[39m\u001b[32m115\u001b[39m     \u001b[38;5;28;01mreturn\u001b[39;00m \u001b[43mrequest\u001b[49m\u001b[43m(\u001b[49m\u001b[33;43m\"\u001b[39;49m\u001b[33;43mpost\u001b[39;49m\u001b[33;43m\"\u001b[39;49m\u001b[43m,\u001b[49m\u001b[43m \u001b[49m\u001b[43murl\u001b[49m\u001b[43m,\u001b[49m\u001b[43m \u001b[49m\u001b[43mdata\u001b[49m\u001b[43m=\u001b[49m\u001b[43mdata\u001b[49m\u001b[43m,\u001b[49m\u001b[43m \u001b[49m\u001b[43mjson\u001b[49m\u001b[43m=\u001b[49m\u001b[43mjson\u001b[49m\u001b[43m,\u001b[49m\u001b[43m \u001b[49m\u001b[43m*\u001b[49m\u001b[43m*\u001b[49m\u001b[43mkwargs\u001b[49m\u001b[43m)\u001b[49m\n",
      "\u001b[36mFile \u001b[39m\u001b[32mc:\\Users\\Claudia\\MasterBigData\\TFM\\Rental-prices-predicction\\.venv\\Lib\\site-packages\\requests\\api.py:59\u001b[39m, in \u001b[36mrequest\u001b[39m\u001b[34m(method, url, **kwargs)\u001b[39m\n\u001b[32m     55\u001b[39m \u001b[38;5;66;03m# By using the 'with' statement we are sure the session is closed, thus we\u001b[39;00m\n\u001b[32m     56\u001b[39m \u001b[38;5;66;03m# avoid leaving sockets open which can trigger a ResourceWarning in some\u001b[39;00m\n\u001b[32m     57\u001b[39m \u001b[38;5;66;03m# cases, and look like a memory leak in others.\u001b[39;00m\n\u001b[32m     58\u001b[39m \u001b[38;5;28;01mwith\u001b[39;00m sessions.Session() \u001b[38;5;28;01mas\u001b[39;00m session:\n\u001b[32m---> \u001b[39m\u001b[32m59\u001b[39m     \u001b[38;5;28;01mreturn\u001b[39;00m \u001b[43msession\u001b[49m\u001b[43m.\u001b[49m\u001b[43mrequest\u001b[49m\u001b[43m(\u001b[49m\u001b[43mmethod\u001b[49m\u001b[43m=\u001b[49m\u001b[43mmethod\u001b[49m\u001b[43m,\u001b[49m\u001b[43m \u001b[49m\u001b[43murl\u001b[49m\u001b[43m=\u001b[49m\u001b[43murl\u001b[49m\u001b[43m,\u001b[49m\u001b[43m \u001b[49m\u001b[43m*\u001b[49m\u001b[43m*\u001b[49m\u001b[43mkwargs\u001b[49m\u001b[43m)\u001b[49m\n",
      "\u001b[36mFile \u001b[39m\u001b[32mc:\\Users\\Claudia\\MasterBigData\\TFM\\Rental-prices-predicction\\.venv\\Lib\\site-packages\\requests\\sessions.py:589\u001b[39m, in \u001b[36mSession.request\u001b[39m\u001b[34m(self, method, url, params, data, headers, cookies, files, auth, timeout, allow_redirects, proxies, hooks, stream, verify, cert, json)\u001b[39m\n\u001b[32m    584\u001b[39m send_kwargs = {\n\u001b[32m    585\u001b[39m     \u001b[33m\"\u001b[39m\u001b[33mtimeout\u001b[39m\u001b[33m\"\u001b[39m: timeout,\n\u001b[32m    586\u001b[39m     \u001b[33m\"\u001b[39m\u001b[33mallow_redirects\u001b[39m\u001b[33m\"\u001b[39m: allow_redirects,\n\u001b[32m    587\u001b[39m }\n\u001b[32m    588\u001b[39m send_kwargs.update(settings)\n\u001b[32m--> \u001b[39m\u001b[32m589\u001b[39m resp = \u001b[38;5;28;43mself\u001b[39;49m\u001b[43m.\u001b[49m\u001b[43msend\u001b[49m\u001b[43m(\u001b[49m\u001b[43mprep\u001b[49m\u001b[43m,\u001b[49m\u001b[43m \u001b[49m\u001b[43m*\u001b[49m\u001b[43m*\u001b[49m\u001b[43msend_kwargs\u001b[49m\u001b[43m)\u001b[49m\n\u001b[32m    591\u001b[39m \u001b[38;5;28;01mreturn\u001b[39;00m resp\n",
      "\u001b[36mFile \u001b[39m\u001b[32mc:\\Users\\Claudia\\MasterBigData\\TFM\\Rental-prices-predicction\\.venv\\Lib\\site-packages\\requests\\sessions.py:703\u001b[39m, in \u001b[36mSession.send\u001b[39m\u001b[34m(self, request, **kwargs)\u001b[39m\n\u001b[32m    700\u001b[39m start = preferred_clock()\n\u001b[32m    702\u001b[39m \u001b[38;5;66;03m# Send the request\u001b[39;00m\n\u001b[32m--> \u001b[39m\u001b[32m703\u001b[39m r = \u001b[43madapter\u001b[49m\u001b[43m.\u001b[49m\u001b[43msend\u001b[49m\u001b[43m(\u001b[49m\u001b[43mrequest\u001b[49m\u001b[43m,\u001b[49m\u001b[43m \u001b[49m\u001b[43m*\u001b[49m\u001b[43m*\u001b[49m\u001b[43mkwargs\u001b[49m\u001b[43m)\u001b[49m\n\u001b[32m    705\u001b[39m \u001b[38;5;66;03m# Total elapsed time of the request (approximately)\u001b[39;00m\n\u001b[32m    706\u001b[39m elapsed = preferred_clock() - start\n",
      "\u001b[36mFile \u001b[39m\u001b[32mc:\\Users\\Claudia\\MasterBigData\\TFM\\Rental-prices-predicction\\.venv\\Lib\\site-packages\\requests\\adapters.py:667\u001b[39m, in \u001b[36mHTTPAdapter.send\u001b[39m\u001b[34m(self, request, stream, timeout, verify, cert, proxies)\u001b[39m\n\u001b[32m    664\u001b[39m     timeout = TimeoutSauce(connect=timeout, read=timeout)\n\u001b[32m    666\u001b[39m \u001b[38;5;28;01mtry\u001b[39;00m:\n\u001b[32m--> \u001b[39m\u001b[32m667\u001b[39m     resp = \u001b[43mconn\u001b[49m\u001b[43m.\u001b[49m\u001b[43murlopen\u001b[49m\u001b[43m(\u001b[49m\n\u001b[32m    668\u001b[39m \u001b[43m        \u001b[49m\u001b[43mmethod\u001b[49m\u001b[43m=\u001b[49m\u001b[43mrequest\u001b[49m\u001b[43m.\u001b[49m\u001b[43mmethod\u001b[49m\u001b[43m,\u001b[49m\n\u001b[32m    669\u001b[39m \u001b[43m        \u001b[49m\u001b[43murl\u001b[49m\u001b[43m=\u001b[49m\u001b[43murl\u001b[49m\u001b[43m,\u001b[49m\n\u001b[32m    670\u001b[39m \u001b[43m        \u001b[49m\u001b[43mbody\u001b[49m\u001b[43m=\u001b[49m\u001b[43mrequest\u001b[49m\u001b[43m.\u001b[49m\u001b[43mbody\u001b[49m\u001b[43m,\u001b[49m\n\u001b[32m    671\u001b[39m \u001b[43m        \u001b[49m\u001b[43mheaders\u001b[49m\u001b[43m=\u001b[49m\u001b[43mrequest\u001b[49m\u001b[43m.\u001b[49m\u001b[43mheaders\u001b[49m\u001b[43m,\u001b[49m\n\u001b[32m    672\u001b[39m \u001b[43m        \u001b[49m\u001b[43mredirect\u001b[49m\u001b[43m=\u001b[49m\u001b[38;5;28;43;01mFalse\u001b[39;49;00m\u001b[43m,\u001b[49m\n\u001b[32m    673\u001b[39m \u001b[43m        \u001b[49m\u001b[43massert_same_host\u001b[49m\u001b[43m=\u001b[49m\u001b[38;5;28;43;01mFalse\u001b[39;49;00m\u001b[43m,\u001b[49m\n\u001b[32m    674\u001b[39m \u001b[43m        \u001b[49m\u001b[43mpreload_content\u001b[49m\u001b[43m=\u001b[49m\u001b[38;5;28;43;01mFalse\u001b[39;49;00m\u001b[43m,\u001b[49m\n\u001b[32m    675\u001b[39m \u001b[43m        \u001b[49m\u001b[43mdecode_content\u001b[49m\u001b[43m=\u001b[49m\u001b[38;5;28;43;01mFalse\u001b[39;49;00m\u001b[43m,\u001b[49m\n\u001b[32m    676\u001b[39m \u001b[43m        \u001b[49m\u001b[43mretries\u001b[49m\u001b[43m=\u001b[49m\u001b[38;5;28;43mself\u001b[39;49m\u001b[43m.\u001b[49m\u001b[43mmax_retries\u001b[49m\u001b[43m,\u001b[49m\n\u001b[32m    677\u001b[39m \u001b[43m        \u001b[49m\u001b[43mtimeout\u001b[49m\u001b[43m=\u001b[49m\u001b[43mtimeout\u001b[49m\u001b[43m,\u001b[49m\n\u001b[32m    678\u001b[39m \u001b[43m        \u001b[49m\u001b[43mchunked\u001b[49m\u001b[43m=\u001b[49m\u001b[43mchunked\u001b[49m\u001b[43m,\u001b[49m\n\u001b[32m    679\u001b[39m \u001b[43m    \u001b[49m\u001b[43m)\u001b[49m\n\u001b[32m    681\u001b[39m \u001b[38;5;28;01mexcept\u001b[39;00m (ProtocolError, \u001b[38;5;167;01mOSError\u001b[39;00m) \u001b[38;5;28;01mas\u001b[39;00m err:\n\u001b[32m    682\u001b[39m     \u001b[38;5;28;01mraise\u001b[39;00m \u001b[38;5;167;01mConnectionError\u001b[39;00m(err, request=request)\n",
      "\u001b[36mFile \u001b[39m\u001b[32mc:\\Users\\Claudia\\MasterBigData\\TFM\\Rental-prices-predicction\\.venv\\Lib\\site-packages\\urllib3\\connectionpool.py:787\u001b[39m, in \u001b[36mHTTPConnectionPool.urlopen\u001b[39m\u001b[34m(self, method, url, body, headers, retries, redirect, assert_same_host, timeout, pool_timeout, release_conn, chunked, body_pos, preload_content, decode_content, **response_kw)\u001b[39m\n\u001b[32m    784\u001b[39m response_conn = conn \u001b[38;5;28;01mif\u001b[39;00m \u001b[38;5;129;01mnot\u001b[39;00m release_conn \u001b[38;5;28;01melse\u001b[39;00m \u001b[38;5;28;01mNone\u001b[39;00m\n\u001b[32m    786\u001b[39m \u001b[38;5;66;03m# Make the request on the HTTPConnection object\u001b[39;00m\n\u001b[32m--> \u001b[39m\u001b[32m787\u001b[39m response = \u001b[38;5;28;43mself\u001b[39;49m\u001b[43m.\u001b[49m\u001b[43m_make_request\u001b[49m\u001b[43m(\u001b[49m\n\u001b[32m    788\u001b[39m \u001b[43m    \u001b[49m\u001b[43mconn\u001b[49m\u001b[43m,\u001b[49m\n\u001b[32m    789\u001b[39m \u001b[43m    \u001b[49m\u001b[43mmethod\u001b[49m\u001b[43m,\u001b[49m\n\u001b[32m    790\u001b[39m \u001b[43m    \u001b[49m\u001b[43murl\u001b[49m\u001b[43m,\u001b[49m\n\u001b[32m    791\u001b[39m \u001b[43m    \u001b[49m\u001b[43mtimeout\u001b[49m\u001b[43m=\u001b[49m\u001b[43mtimeout_obj\u001b[49m\u001b[43m,\u001b[49m\n\u001b[32m    792\u001b[39m \u001b[43m    \u001b[49m\u001b[43mbody\u001b[49m\u001b[43m=\u001b[49m\u001b[43mbody\u001b[49m\u001b[43m,\u001b[49m\n\u001b[32m    793\u001b[39m \u001b[43m    \u001b[49m\u001b[43mheaders\u001b[49m\u001b[43m=\u001b[49m\u001b[43mheaders\u001b[49m\u001b[43m,\u001b[49m\n\u001b[32m    794\u001b[39m \u001b[43m    \u001b[49m\u001b[43mchunked\u001b[49m\u001b[43m=\u001b[49m\u001b[43mchunked\u001b[49m\u001b[43m,\u001b[49m\n\u001b[32m    795\u001b[39m \u001b[43m    \u001b[49m\u001b[43mretries\u001b[49m\u001b[43m=\u001b[49m\u001b[43mretries\u001b[49m\u001b[43m,\u001b[49m\n\u001b[32m    796\u001b[39m \u001b[43m    \u001b[49m\u001b[43mresponse_conn\u001b[49m\u001b[43m=\u001b[49m\u001b[43mresponse_conn\u001b[49m\u001b[43m,\u001b[49m\n\u001b[32m    797\u001b[39m \u001b[43m    \u001b[49m\u001b[43mpreload_content\u001b[49m\u001b[43m=\u001b[49m\u001b[43mpreload_content\u001b[49m\u001b[43m,\u001b[49m\n\u001b[32m    798\u001b[39m \u001b[43m    \u001b[49m\u001b[43mdecode_content\u001b[49m\u001b[43m=\u001b[49m\u001b[43mdecode_content\u001b[49m\u001b[43m,\u001b[49m\n\u001b[32m    799\u001b[39m \u001b[43m    \u001b[49m\u001b[43m*\u001b[49m\u001b[43m*\u001b[49m\u001b[43mresponse_kw\u001b[49m\u001b[43m,\u001b[49m\n\u001b[32m    800\u001b[39m \u001b[43m\u001b[49m\u001b[43m)\u001b[49m\n\u001b[32m    802\u001b[39m \u001b[38;5;66;03m# Everything went great!\u001b[39;00m\n\u001b[32m    803\u001b[39m clean_exit = \u001b[38;5;28;01mTrue\u001b[39;00m\n",
      "\u001b[36mFile \u001b[39m\u001b[32mc:\\Users\\Claudia\\MasterBigData\\TFM\\Rental-prices-predicction\\.venv\\Lib\\site-packages\\urllib3\\connectionpool.py:534\u001b[39m, in \u001b[36mHTTPConnectionPool._make_request\u001b[39m\u001b[34m(self, conn, method, url, body, headers, retries, timeout, chunked, response_conn, preload_content, decode_content, enforce_content_length)\u001b[39m\n\u001b[32m    532\u001b[39m \u001b[38;5;66;03m# Receive the response from the server\u001b[39;00m\n\u001b[32m    533\u001b[39m \u001b[38;5;28;01mtry\u001b[39;00m:\n\u001b[32m--> \u001b[39m\u001b[32m534\u001b[39m     response = \u001b[43mconn\u001b[49m\u001b[43m.\u001b[49m\u001b[43mgetresponse\u001b[49m\u001b[43m(\u001b[49m\u001b[43m)\u001b[49m\n\u001b[32m    535\u001b[39m \u001b[38;5;28;01mexcept\u001b[39;00m (BaseSSLError, \u001b[38;5;167;01mOSError\u001b[39;00m) \u001b[38;5;28;01mas\u001b[39;00m e:\n\u001b[32m    536\u001b[39m     \u001b[38;5;28mself\u001b[39m._raise_timeout(err=e, url=url, timeout_value=read_timeout)\n",
      "\u001b[36mFile \u001b[39m\u001b[32mc:\\Users\\Claudia\\MasterBigData\\TFM\\Rental-prices-predicction\\.venv\\Lib\\site-packages\\urllib3\\connection.py:516\u001b[39m, in \u001b[36mHTTPConnection.getresponse\u001b[39m\u001b[34m(self)\u001b[39m\n\u001b[32m    513\u001b[39m _shutdown = \u001b[38;5;28mgetattr\u001b[39m(\u001b[38;5;28mself\u001b[39m.sock, \u001b[33m\"\u001b[39m\u001b[33mshutdown\u001b[39m\u001b[33m\"\u001b[39m, \u001b[38;5;28;01mNone\u001b[39;00m)\n\u001b[32m    515\u001b[39m \u001b[38;5;66;03m# Get the response from http.client.HTTPConnection\u001b[39;00m\n\u001b[32m--> \u001b[39m\u001b[32m516\u001b[39m httplib_response = \u001b[38;5;28;43msuper\u001b[39;49m\u001b[43m(\u001b[49m\u001b[43m)\u001b[49m\u001b[43m.\u001b[49m\u001b[43mgetresponse\u001b[49m\u001b[43m(\u001b[49m\u001b[43m)\u001b[49m\n\u001b[32m    518\u001b[39m \u001b[38;5;28;01mtry\u001b[39;00m:\n\u001b[32m    519\u001b[39m     assert_header_parsing(httplib_response.msg)\n",
      "\u001b[36mFile \u001b[39m\u001b[32mC:\\Users\\Claudia\\Lib\\http\\client.py:1428\u001b[39m, in \u001b[36mHTTPConnection.getresponse\u001b[39m\u001b[34m(self)\u001b[39m\n\u001b[32m   1426\u001b[39m \u001b[38;5;28;01mtry\u001b[39;00m:\n\u001b[32m   1427\u001b[39m     \u001b[38;5;28;01mtry\u001b[39;00m:\n\u001b[32m-> \u001b[39m\u001b[32m1428\u001b[39m         \u001b[43mresponse\u001b[49m\u001b[43m.\u001b[49m\u001b[43mbegin\u001b[49m\u001b[43m(\u001b[49m\u001b[43m)\u001b[49m\n\u001b[32m   1429\u001b[39m     \u001b[38;5;28;01mexcept\u001b[39;00m \u001b[38;5;167;01mConnectionError\u001b[39;00m:\n\u001b[32m   1430\u001b[39m         \u001b[38;5;28mself\u001b[39m.close()\n",
      "\u001b[36mFile \u001b[39m\u001b[32mC:\\Users\\Claudia\\Lib\\http\\client.py:331\u001b[39m, in \u001b[36mHTTPResponse.begin\u001b[39m\u001b[34m(self)\u001b[39m\n\u001b[32m    329\u001b[39m \u001b[38;5;66;03m# read until we get a non-100 response\u001b[39;00m\n\u001b[32m    330\u001b[39m \u001b[38;5;28;01mwhile\u001b[39;00m \u001b[38;5;28;01mTrue\u001b[39;00m:\n\u001b[32m--> \u001b[39m\u001b[32m331\u001b[39m     version, status, reason = \u001b[38;5;28;43mself\u001b[39;49m\u001b[43m.\u001b[49m\u001b[43m_read_status\u001b[49m\u001b[43m(\u001b[49m\u001b[43m)\u001b[49m\n\u001b[32m    332\u001b[39m     \u001b[38;5;28;01mif\u001b[39;00m status != CONTINUE:\n\u001b[32m    333\u001b[39m         \u001b[38;5;28;01mbreak\u001b[39;00m\n",
      "\u001b[36mFile \u001b[39m\u001b[32mC:\\Users\\Claudia\\Lib\\http\\client.py:292\u001b[39m, in \u001b[36mHTTPResponse._read_status\u001b[39m\u001b[34m(self)\u001b[39m\n\u001b[32m    291\u001b[39m \u001b[38;5;28;01mdef\u001b[39;00m\u001b[38;5;250m \u001b[39m\u001b[34m_read_status\u001b[39m(\u001b[38;5;28mself\u001b[39m):\n\u001b[32m--> \u001b[39m\u001b[32m292\u001b[39m     line = \u001b[38;5;28mstr\u001b[39m(\u001b[38;5;28;43mself\u001b[39;49m\u001b[43m.\u001b[49m\u001b[43mfp\u001b[49m\u001b[43m.\u001b[49m\u001b[43mreadline\u001b[49m\u001b[43m(\u001b[49m\u001b[43m_MAXLINE\u001b[49m\u001b[43m \u001b[49m\u001b[43m+\u001b[49m\u001b[43m \u001b[49m\u001b[32;43m1\u001b[39;49m\u001b[43m)\u001b[49m, \u001b[33m\"\u001b[39m\u001b[33miso-8859-1\u001b[39m\u001b[33m\"\u001b[39m)\n\u001b[32m    293\u001b[39m     \u001b[38;5;28;01mif\u001b[39;00m \u001b[38;5;28mlen\u001b[39m(line) > _MAXLINE:\n\u001b[32m    294\u001b[39m         \u001b[38;5;28;01mraise\u001b[39;00m LineTooLong(\u001b[33m\"\u001b[39m\u001b[33mstatus line\u001b[39m\u001b[33m\"\u001b[39m)\n",
      "\u001b[36mFile \u001b[39m\u001b[32mC:\\Users\\Claudia\\Lib\\socket.py:719\u001b[39m, in \u001b[36mSocketIO.readinto\u001b[39m\u001b[34m(self, b)\u001b[39m\n\u001b[32m    717\u001b[39m     \u001b[38;5;28;01mraise\u001b[39;00m \u001b[38;5;167;01mOSError\u001b[39;00m(\u001b[33m\"\u001b[39m\u001b[33mcannot read from timed out object\u001b[39m\u001b[33m\"\u001b[39m)\n\u001b[32m    718\u001b[39m \u001b[38;5;28;01mtry\u001b[39;00m:\n\u001b[32m--> \u001b[39m\u001b[32m719\u001b[39m     \u001b[38;5;28;01mreturn\u001b[39;00m \u001b[38;5;28;43mself\u001b[39;49m\u001b[43m.\u001b[49m\u001b[43m_sock\u001b[49m\u001b[43m.\u001b[49m\u001b[43mrecv_into\u001b[49m\u001b[43m(\u001b[49m\u001b[43mb\u001b[49m\u001b[43m)\u001b[49m\n\u001b[32m    720\u001b[39m \u001b[38;5;28;01mexcept\u001b[39;00m timeout:\n\u001b[32m    721\u001b[39m     \u001b[38;5;28mself\u001b[39m._timeout_occurred = \u001b[38;5;28;01mTrue\u001b[39;00m\n",
      "\u001b[36mFile \u001b[39m\u001b[32mC:\\Users\\Claudia\\Lib\\ssl.py:1304\u001b[39m, in \u001b[36mSSLSocket.recv_into\u001b[39m\u001b[34m(self, buffer, nbytes, flags)\u001b[39m\n\u001b[32m   1300\u001b[39m     \u001b[38;5;28;01mif\u001b[39;00m flags != \u001b[32m0\u001b[39m:\n\u001b[32m   1301\u001b[39m         \u001b[38;5;28;01mraise\u001b[39;00m \u001b[38;5;167;01mValueError\u001b[39;00m(\n\u001b[32m   1302\u001b[39m           \u001b[33m\"\u001b[39m\u001b[33mnon-zero flags not allowed in calls to recv_into() on \u001b[39m\u001b[38;5;132;01m%s\u001b[39;00m\u001b[33m\"\u001b[39m %\n\u001b[32m   1303\u001b[39m           \u001b[38;5;28mself\u001b[39m.\u001b[34m__class__\u001b[39m)\n\u001b[32m-> \u001b[39m\u001b[32m1304\u001b[39m     \u001b[38;5;28;01mreturn\u001b[39;00m \u001b[38;5;28;43mself\u001b[39;49m\u001b[43m.\u001b[49m\u001b[43mread\u001b[49m\u001b[43m(\u001b[49m\u001b[43mnbytes\u001b[49m\u001b[43m,\u001b[49m\u001b[43m \u001b[49m\u001b[43mbuffer\u001b[49m\u001b[43m)\u001b[49m\n\u001b[32m   1305\u001b[39m \u001b[38;5;28;01melse\u001b[39;00m:\n\u001b[32m   1306\u001b[39m     \u001b[38;5;28;01mreturn\u001b[39;00m \u001b[38;5;28msuper\u001b[39m().recv_into(buffer, nbytes, flags)\n",
      "\u001b[36mFile \u001b[39m\u001b[32mC:\\Users\\Claudia\\Lib\\ssl.py:1138\u001b[39m, in \u001b[36mSSLSocket.read\u001b[39m\u001b[34m(self, len, buffer)\u001b[39m\n\u001b[32m   1136\u001b[39m \u001b[38;5;28;01mtry\u001b[39;00m:\n\u001b[32m   1137\u001b[39m     \u001b[38;5;28;01mif\u001b[39;00m buffer \u001b[38;5;129;01mis\u001b[39;00m \u001b[38;5;129;01mnot\u001b[39;00m \u001b[38;5;28;01mNone\u001b[39;00m:\n\u001b[32m-> \u001b[39m\u001b[32m1138\u001b[39m         \u001b[38;5;28;01mreturn\u001b[39;00m \u001b[38;5;28;43mself\u001b[39;49m\u001b[43m.\u001b[49m\u001b[43m_sslobj\u001b[49m\u001b[43m.\u001b[49m\u001b[43mread\u001b[49m\u001b[43m(\u001b[49m\u001b[38;5;28;43mlen\u001b[39;49m\u001b[43m,\u001b[49m\u001b[43m \u001b[49m\u001b[43mbuffer\u001b[49m\u001b[43m)\u001b[49m\n\u001b[32m   1139\u001b[39m     \u001b[38;5;28;01melse\u001b[39;00m:\n\u001b[32m   1140\u001b[39m         \u001b[38;5;28;01mreturn\u001b[39;00m \u001b[38;5;28mself\u001b[39m._sslobj.read(\u001b[38;5;28mlen\u001b[39m)\n",
      "\u001b[31mKeyboardInterrupt\u001b[39m: "
     ]
    }
   ],
   "source": [
    "#Homes for sale\n",
    "url_homes_sale = get_search_url(\"sale\", \"homes\")\n",
    "for pagination in range(1, 31):\n",
    "    url = url_homes_sale % (pagination)\n",
    "    results = get_data_from_api(url, pagination)"
   ]
  },
  {
   "cell_type": "code",
   "execution_count": 20,
   "id": "94d1c247",
   "metadata": {},
   "outputs": [
    {
     "name": "stdout",
     "output_type": "stream",
     "text": [
      "JSON guardado en ../data/extracted_data/idealista-data-2025-07-01_19-41-29.json\n",
      "JSON guardado en ../data/extracted_data/idealista-data-2025-07-01_19-41-29.json\n",
      "JSON guardado en ../data/extracted_data/idealista-data-2025-07-01_19-41-30.json\n",
      "JSON guardado en ../data/extracted_data/idealista-data-2025-07-01_19-41-30.json\n",
      "JSON guardado en ../data/extracted_data/idealista-data-2025-07-01_19-41-31.json\n",
      "JSON guardado en ../data/extracted_data/idealista-data-2025-07-01_19-41-31.json\n",
      "JSON guardado en ../data/extracted_data/idealista-data-2025-07-01_19-41-31.json\n",
      "JSON guardado en ../data/extracted_data/idealista-data-2025-07-01_19-41-32.json\n",
      "JSON guardado en ../data/extracted_data/idealista-data-2025-07-01_19-41-32.json\n",
      "JSON guardado en ../data/extracted_data/idealista-data-2025-07-01_19-41-33.json\n",
      "JSON guardado en ../data/extracted_data/idealista-data-2025-07-01_19-41-33.json\n",
      "JSON guardado en ../data/extracted_data/idealista-data-2025-07-01_19-41-34.json\n",
      "JSON guardado en ../data/extracted_data/idealista-data-2025-07-01_19-41-34.json\n",
      "JSON guardado en ../data/extracted_data/idealista-data-2025-07-01_19-41-35.json\n",
      "JSON guardado en ../data/extracted_data/idealista-data-2025-07-01_19-41-35.json\n",
      "JSON guardado en ../data/extracted_data/idealista-data-2025-07-01_19-41-36.json\n",
      "JSON guardado en ../data/extracted_data/idealista-data-2025-07-01_19-41-36.json\n",
      "JSON guardado en ../data/extracted_data/idealista-data-2025-07-01_19-41-37.json\n",
      "JSON guardado en ../data/extracted_data/idealista-data-2025-07-01_19-41-37.json\n",
      "JSON guardado en ../data/extracted_data/idealista-data-2025-07-01_19-41-38.json\n",
      "JSON guardado en ../data/extracted_data/idealista-data-2025-07-01_19-41-38.json\n",
      "JSON guardado en ../data/extracted_data/idealista-data-2025-07-01_19-41-38.json\n",
      "JSON guardado en ../data/extracted_data/idealista-data-2025-07-01_19-41-39.json\n",
      "JSON guardado en ../data/extracted_data/idealista-data-2025-07-01_19-41-39.json\n",
      "JSON guardado en ../data/extracted_data/idealista-data-2025-07-01_19-41-40.json\n",
      "JSON guardado en ../data/extracted_data/idealista-data-2025-07-01_19-41-41.json\n",
      "JSON guardado en ../data/extracted_data/idealista-data-2025-07-01_19-41-41.json\n",
      "JSON guardado en ../data/extracted_data/idealista-data-2025-07-01_19-41-42.json\n",
      "JSON guardado en ../data/extracted_data/idealista-data-2025-07-01_19-41-42.json\n",
      "JSON guardado en ../data/extracted_data/idealista-data-2025-07-01_19-41-43.json\n"
     ]
    }
   ],
   "source": [
    "#Homes for rent\n",
    "url_homes_rent = get_search_url(\"rent\", \"homes\")\n",
    "for pagination in range(1, 31):\n",
    "    url = url_homes_rent % (pagination)\n",
    "    results = get_data_from_api(url)"
   ]
  },
  {
   "cell_type": "code",
   "execution_count": 21,
   "id": "d206dea1",
   "metadata": {},
   "outputs": [
    {
     "name": "stdout",
     "output_type": "stream",
     "text": [
      "JSON guardado en ../data/extracted_data/idealista-data-2025-07-01_19-41-43.json\n",
      "JSON guardado en ../data/extracted_data/idealista-data-2025-07-01_19-41-44.json\n",
      "JSON guardado en ../data/extracted_data/idealista-data-2025-07-01_19-41-44.json\n",
      "JSON guardado en ../data/extracted_data/idealista-data-2025-07-01_19-41-44.json\n",
      "JSON guardado en ../data/extracted_data/idealista-data-2025-07-01_19-41-44.json\n"
     ]
    }
   ],
   "source": [
    "#Offices for sale\n",
    "url_offices_sale = get_search_url(\"sale\", \"offices\")\n",
    "for pagination in range(1, 6):\n",
    "    url = url_offices_sale % (pagination)\n",
    "    results = get_data_from_api(url)"
   ]
  },
  {
   "cell_type": "code",
   "execution_count": 22,
   "id": "b4919b20",
   "metadata": {},
   "outputs": [
    {
     "name": "stdout",
     "output_type": "stream",
     "text": [
      "JSON guardado en ../data/extracted_data/idealista-data-2025-07-01_19-41-45.json\n",
      "JSON guardado en ../data/extracted_data/idealista-data-2025-07-01_19-41-46.json\n",
      "JSON guardado en ../data/extracted_data/idealista-data-2025-07-01_19-41-47.json\n",
      "JSON guardado en ../data/extracted_data/idealista-data-2025-07-01_19-41-47.json\n",
      "JSON guardado en ../data/extracted_data/idealista-data-2025-07-01_19-41-47.json\n"
     ]
    }
   ],
   "source": [
    "#Offices for rent\n",
    "url_offices_rent = get_search_url(\"rent\", \"offices\")\n",
    "for pagination in range(1, 6):\n",
    "    url = url_offices_rent % (pagination)\n",
    "    results = get_data_from_api(url)"
   ]
  },
  {
   "cell_type": "code",
   "execution_count": 23,
   "id": "02260626",
   "metadata": {},
   "outputs": [
    {
     "name": "stdout",
     "output_type": "stream",
     "text": [
      "JSON guardado en ../data/extracted_data/idealista-data-2025-07-01_19-41-48.json\n",
      "JSON guardado en ../data/extracted_data/idealista-data-2025-07-01_19-41-48.json\n",
      "JSON guardado en ../data/extracted_data/idealista-data-2025-07-01_19-41-49.json\n",
      "JSON guardado en ../data/extracted_data/idealista-data-2025-07-01_19-41-49.json\n",
      "JSON guardado en ../data/extracted_data/idealista-data-2025-07-01_19-41-50.json\n",
      "JSON guardado en ../data/extracted_data/idealista-data-2025-07-01_19-41-50.json\n",
      "JSON guardado en ../data/extracted_data/idealista-data-2025-07-01_19-41-50.json\n",
      "JSON guardado en ../data/extracted_data/idealista-data-2025-07-01_19-41-51.json\n"
     ]
    }
   ],
   "source": [
    "#Premises for sale\n",
    "url_premises_sale = get_search_url(\"sale\", \"premises\")\n",
    "for pagination in range(1, 9):\n",
    "    url = url_premises_sale % (pagination)\n",
    "    results = get_data_from_api(url)"
   ]
  },
  {
   "cell_type": "code",
   "execution_count": 24,
   "id": "a2c8a941",
   "metadata": {},
   "outputs": [
    {
     "name": "stdout",
     "output_type": "stream",
     "text": [
      "JSON guardado en ../data/extracted_data/idealista-data-2025-07-01_19-41-51.json\n",
      "JSON guardado en ../data/extracted_data/idealista-data-2025-07-01_19-41-51.json\n",
      "JSON guardado en ../data/extracted_data/idealista-data-2025-07-01_19-41-52.json\n",
      "JSON guardado en ../data/extracted_data/idealista-data-2025-07-01_19-41-52.json\n",
      "JSON guardado en ../data/extracted_data/idealista-data-2025-07-01_19-41-53.json\n",
      "JSON guardado en ../data/extracted_data/idealista-data-2025-07-01_19-41-53.json\n",
      "JSON guardado en ../data/extracted_data/idealista-data-2025-07-01_19-41-53.json\n",
      "JSON guardado en ../data/extracted_data/idealista-data-2025-07-01_19-41-54.json\n"
     ]
    }
   ],
   "source": [
    "#Premises for rent\n",
    "url_premises_rent = get_search_url(\"rent\", \"premises\")\n",
    "for pagination in range(1, 9):\n",
    "    url = url_premises_rent % (pagination)\n",
    "    results = get_data_from_api(url)"
   ]
  },
  {
   "cell_type": "code",
   "execution_count": 25,
   "id": "200007a3",
   "metadata": {},
   "outputs": [
    {
     "name": "stdout",
     "output_type": "stream",
     "text": [
      "JSON guardado en ../data/extracted_data/idealista-data-2025-07-01_19-41-54.json\n",
      "JSON guardado en ../data/extracted_data/idealista-data-2025-07-01_19-41-55.json\n",
      "JSON guardado en ../data/extracted_data/idealista-data-2025-07-01_19-41-55.json\n",
      "JSON guardado en ../data/extracted_data/idealista-data-2025-07-01_19-41-55.json\n",
      "JSON guardado en ../data/extracted_data/idealista-data-2025-07-01_19-41-56.json\n",
      "JSON guardado en ../data/extracted_data/idealista-data-2025-07-01_19-41-56.json\n",
      "JSON guardado en ../data/extracted_data/idealista-data-2025-07-01_19-41-56.json\n"
     ]
    }
   ],
   "source": [
    "#Garages for sale\n",
    "url_garages_sale = get_search_url(\"sale\", \"garages\")\n",
    "for pagination in range(1, 8):\n",
    "    url = url_garages_sale % (pagination)\n",
    "    results = get_data_from_api(url)"
   ]
  },
  {
   "cell_type": "code",
   "execution_count": 26,
   "id": "67fe3eeb",
   "metadata": {},
   "outputs": [
    {
     "name": "stdout",
     "output_type": "stream",
     "text": [
      "JSON guardado en ../data/extracted_data/idealista-data-2025-07-01_19-41-57.json\n",
      "JSON guardado en ../data/extracted_data/idealista-data-2025-07-01_19-41-57.json\n",
      "JSON guardado en ../data/extracted_data/idealista-data-2025-07-01_19-41-57.json\n",
      "JSON guardado en ../data/extracted_data/idealista-data-2025-07-01_19-41-57.json\n",
      "JSON guardado en ../data/extracted_data/idealista-data-2025-07-01_19-41-58.json\n",
      "JSON guardado en ../data/extracted_data/idealista-data-2025-07-01_19-41-58.json\n",
      "JSON guardado en ../data/extracted_data/idealista-data-2025-07-01_19-41-58.json\n"
     ]
    }
   ],
   "source": [
    "#Garages for rent\n",
    "url_garages_rent = get_search_url(\"rent\", \"garages\")\n",
    "for pagination in range(1, 8):\n",
    "    url = url_garages_rent % (pagination)\n",
    "    results = get_data_from_api(url)"
   ]
  }
 ],
 "metadata": {
  "kernelspec": {
   "display_name": "rental-prices-predicction",
   "language": "python",
   "name": "python3"
  },
  "language_info": {
   "codemirror_mode": {
    "name": "ipython",
    "version": 3
   },
   "file_extension": ".py",
   "mimetype": "text/x-python",
   "name": "python",
   "nbconvert_exporter": "python",
   "pygments_lexer": "ipython3",
   "version": "3.13.1"
  }
 },
 "nbformat": 4,
 "nbformat_minor": 5
}
