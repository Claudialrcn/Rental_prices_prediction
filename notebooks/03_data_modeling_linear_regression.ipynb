{
 "cells": [
  {
   "cell_type": "markdown",
   "id": "71c2f6a2",
   "metadata": {},
   "source": [
    "# 🤖 Data Modeling with Linear Regression"
   ]
  },
  {
   "cell_type": "code",
   "execution_count": 6,
   "id": "4c24aa8c",
   "metadata": {},
   "outputs": [],
   "source": [
    "import pandas as pd\n",
    "from sklearn.linear_model import LinearRegression\n",
    "from sklearn.model_selection import GridSearchCV, KFold\n",
    "from sklearn.metrics import make_scorer, mean_absolute_error, r2_score\n",
    "from sklearn.model_selection import train_test_split\n",
    "from sklearn.preprocessing import MinMaxScaler\n",
    "import numpy as np\n",
    "import sys\n",
    "import os\n",
    "\n",
    "# Añadir la carpeta raíz del proyecto al PATH (ajústalo según donde esté tu notebook)\n",
    "sys.path.append(os.path.abspath('..'))  # '..' significa que sube un nivel desde donde está el notebook\n",
    "\n",
    "from utils.data_training_utils import train_test_model_with_hyperparameter_tuning"
   ]
  },
  {
   "cell_type": "code",
   "execution_count": 7,
   "id": "0881bc26",
   "metadata": {},
   "outputs": [],
   "source": [
    "df = pd.read_csv(\"../data/working_data/data_cleaned_20250901.csv\")"
   ]
  },
  {
   "cell_type": "code",
   "execution_count": 8,
   "id": "ae1ee230",
   "metadata": {},
   "outputs": [],
   "source": [
    "for col in df.select_dtypes(include=\"object\").columns:\n",
    "    df[col] = df[col].astype(\"category\")\n",
    "\n",
    "from sklearn.preprocessing import LabelEncoder\n",
    "\n",
    "df_numeric = df.copy()\n",
    "encoders = {}\n",
    "\n",
    "for col in df_numeric.select_dtypes(include=\"category\").columns:\n",
    "    le = LabelEncoder()\n",
    "    df_numeric[col] = le.fit_transform(df_numeric[col].astype(str))\n",
    "    encoders[col] = le"
   ]
  },
  {
   "cell_type": "code",
   "execution_count": 9,
   "id": "407ea222",
   "metadata": {},
   "outputs": [],
   "source": [
    "param_grid = {\n",
    "    'fit_intercept': [True, False],\n",
    "    'positive': [True, False]  # Desde scikit-learn 0.24: obliga a que los coef sean positivos\n",
    "}\n",
    "\n",
    "\n",
    "model = LinearRegression()"
   ]
  },
  {
   "cell_type": "markdown",
   "id": "925d621b",
   "metadata": {},
   "source": [
    "### Linear Regression Model for rental prices"
   ]
  },
  {
   "cell_type": "markdown",
   "id": "b5f2c827",
   "metadata": {},
   "source": [
    "The model was first trained using the raw data, and then the experiment was repeated with scaled data to evaluate whether scaling actually improves the predictive performance."
   ]
  },
  {
   "cell_type": "code",
   "execution_count": 10,
   "id": "cbc85d44",
   "metadata": {},
   "outputs": [
    {
     "name": "stdout",
     "output_type": "stream",
     "text": [
      "Fitting 5 folds for each of 4 candidates, totalling 20 fits\n"
     ]
    },
    {
     "name": "stdout",
     "output_type": "stream",
     "text": [
      "Best model found: LinearRegression(fit_intercept=False, positive=True)\n",
      "Best hyperparameters: {'fit_intercept': False, 'positive': True}\n",
      "Best training MAE: 597.4172602092046\n",
      "Best training R2: 0.5597123682627917\n",
      "·········································\n",
      "MAE test: 558.4104755834879\n",
      "R2 test: 0.6062971819201288\n"
     ]
    }
   ],
   "source": [
    "df_numeric_rent = df_numeric[df_numeric['operation'] == 0]\n",
    "\n",
    "best_rent_num_model, best_rent_num_params, mae_train, r2_train, mae_test, r2_test = train_test_model_with_hyperparameter_tuning(\n",
    "    model, param_grid, df_numeric_rent, drop_features=['operation'])"
   ]
  },
  {
   "cell_type": "code",
   "execution_count": 11,
   "id": "afb37757",
   "metadata": {},
   "outputs": [
    {
     "name": "stdout",
     "output_type": "stream",
     "text": [
      "Mean price rent data: 2188.078862660944\n"
     ]
    }
   ],
   "source": [
    "price_mean = df_numeric_rent['price'].mean()\n",
    "print(f\"Mean price rent data: {price_mean}\")"
   ]
  },
  {
   "cell_type": "code",
   "execution_count": 12,
   "id": "2d6fcc7b",
   "metadata": {},
   "outputs": [
    {
     "name": "stdout",
     "output_type": "stream",
     "text": [
      "Fitting 5 folds for each of 4 candidates, totalling 20 fits\n",
      "Best model found: LinearRegression(fit_intercept=False, positive=True)\n",
      "Best hyperparameters: {'fit_intercept': False, 'positive': True}\n",
      "Best training MAE: 1436.3349932155245\n",
      "Best training R2: -0.564065811629076\n",
      "·········································\n",
      "MAE test: 1409.841337342733\n",
      "R2 test: -0.801136096172161\n"
     ]
    }
   ],
   "source": [
    "df_numeric_rent = df_numeric[df_numeric['operation'] == 0]\n",
    "\n",
    "best_rent_num_model, best_rent_num_params, mae_train, r2_train, mae_test, r2_test = train_test_model_with_hyperparameter_tuning(\n",
    "    model, param_grid, df_numeric_rent, drop_features=['operation'], scale_data=True)"
   ]
  },
  {
   "cell_type": "markdown",
   "id": "34b5f93c",
   "metadata": {},
   "source": [
    "### Linear Regression Model for sales prices"
   ]
  },
  {
   "cell_type": "code",
   "execution_count": 13,
   "id": "378f92f6",
   "metadata": {},
   "outputs": [
    {
     "name": "stdout",
     "output_type": "stream",
     "text": [
      "Fitting 5 folds for each of 4 candidates, totalling 20 fits\n",
      "Best model found: LinearRegression(fit_intercept=False, positive=True)\n",
      "Best hyperparameters: {'fit_intercept': False, 'positive': True}\n",
      "Best training MAE: 249209.59525448224\n",
      "Best training R2: 0.12768408709478968\n",
      "·········································\n",
      "MAE test: 242504.40860235918\n",
      "R2 test: 0.6444374908819035\n"
     ]
    }
   ],
   "source": [
    "df_numeric_sale = df_numeric[df_numeric['operation'] == 1]\n",
    "\n",
    "best_sale_num_model, best_sale_num_params, mae_train, r2_train, mae_test, r2_test = train_test_model_with_hyperparameter_tuning(\n",
    "    model, param_grid, df_numeric_sale, drop_features=['operation'])"
   ]
  },
  {
   "cell_type": "code",
   "execution_count": 14,
   "id": "65422615",
   "metadata": {},
   "outputs": [
    {
     "name": "stdout",
     "output_type": "stream",
     "text": [
      "Mean price sale data: 661293.86940495\n"
     ]
    }
   ],
   "source": [
    "price_mean = df_numeric_sale['price'].mean()\n",
    "print(f\"Mean price sale data: {price_mean}\")"
   ]
  },
  {
   "cell_type": "code",
   "execution_count": 15,
   "id": "ceb16f8e",
   "metadata": {},
   "outputs": [
    {
     "name": "stdout",
     "output_type": "stream",
     "text": [
      "Fitting 5 folds for each of 4 candidates, totalling 20 fits\n",
      "Best model found: LinearRegression(fit_intercept=False, positive=True)\n",
      "Best hyperparameters: {'fit_intercept': False, 'positive': True}\n",
      "Best training MAE: 471334.7179674739\n",
      "Best training R2: -0.5444034350570609\n",
      "·········································\n",
      "MAE test: 456551.31784538255\n",
      "R2 test: -0.0203691276524407\n"
     ]
    }
   ],
   "source": [
    "df_numeric_sale = df_numeric[df_numeric['operation'] == 1]\n",
    "\n",
    "best_sale_num_model, best_sale_num_params, mae_train, r2_train, mae_test, r2_test = train_test_model_with_hyperparameter_tuning(\n",
    "    model, param_grid, df_numeric_sale, drop_features=['operation'], scale_data=True)"
   ]
  }
 ],
 "metadata": {
  "kernelspec": {
   "display_name": "rental-prices-predicction",
   "language": "python",
   "name": "python3"
  },
  "language_info": {
   "codemirror_mode": {
    "name": "ipython",
    "version": 3
   },
   "file_extension": ".py",
   "mimetype": "text/x-python",
   "name": "python",
   "nbconvert_exporter": "python",
   "pygments_lexer": "ipython3",
   "version": "3.13.1"
  }
 },
 "nbformat": 4,
 "nbformat_minor": 5
}
