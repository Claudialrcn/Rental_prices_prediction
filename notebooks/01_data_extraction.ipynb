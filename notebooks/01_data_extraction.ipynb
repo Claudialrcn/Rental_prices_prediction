{
 "cells": [
  {
   "cell_type": "markdown",
   "id": "ad8047e5",
   "metadata": {},
   "source": [
    "# 🏠 Data Extraction for Málaga Real Estate Market"
   ]
  },
  {
   "cell_type": "code",
   "execution_count": 1,
   "id": "5ca0e9d2",
   "metadata": {},
   "outputs": [],
   "source": [
    "import sys\n",
    "import os\n",
    "\n",
    "sys.path.append(os.path.abspath('..'))\n",
    "\n",
    "from utils.data_extraction_utils import get_complete_data_json, merge_json_files\n"
   ]
  },
  {
   "cell_type": "code",
   "execution_count": null,
   "id": "f6596861",
   "metadata": {},
   "outputs": [],
   "source": [
    "results = get_complete_data_json(with_old_data=True)"
   ]
  },
  {
   "cell_type": "code",
   "execution_count": 2,
   "id": "fc33d0fc",
   "metadata": {},
   "outputs": [],
   "source": [
    "extracted_data_path = \"../data/extracted_data\"\n",
    "working_data_path = \"../data/working_data\""
   ]
  },
  {
   "cell_type": "code",
   "execution_count": 3,
   "id": "6084e5f4",
   "metadata": {},
   "outputs": [
    {
     "name": "stdout",
     "output_type": "stream",
     "text": [
      "✅ Files combined in ../data/working_data\\merged_data_2025-09-09_23-41-57.json. Total number of properties: 18022\n"
     ]
    }
   ],
   "source": [
    "data = merge_json_files(extracted_data_path, working_data_path)"
   ]
  }
 ],
 "metadata": {
  "kernelspec": {
   "display_name": "rental-prices-predicction",
   "language": "python",
   "name": "python3"
  },
  "language_info": {
   "codemirror_mode": {
    "name": "ipython",
    "version": 3
   },
   "file_extension": ".py",
   "mimetype": "text/x-python",
   "name": "python",
   "nbconvert_exporter": "python",
   "pygments_lexer": "ipython3",
   "version": "3.13.1"
  }
 },
 "nbformat": 4,
 "nbformat_minor": 5
}
