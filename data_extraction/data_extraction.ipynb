{
 "cells": [
  {
   "cell_type": "code",
   "execution_count": 71,
   "id": "bbed3508",
   "metadata": {},
   "outputs": [],
   "source": [
    "import base64\n",
    "import requests\n",
    "import json\n",
    "from datetime import datetime\n",
    "import numpy as np\n",
    "\n",
    "from api_access import API_KEY, SECRET"
   ]
  },
  {
   "cell_type": "code",
   "execution_count": 63,
   "id": "f9295299",
   "metadata": {},
   "outputs": [],
   "source": [
    "def get_oauth_token():\n",
    "    \"\"\"\n",
    "    This function retrieves the OAuth token from the Idealista API.\n",
    "    It uses the API_KEY and SECRET to authenticate and obtain the token.\n",
    "    \"\"\"\n",
    "    # Encode the API_KEY and SECRET\n",
    "    message = API_KEY + \":\" + SECRET\n",
    "\n",
    "    # Base64 encode the message\n",
    "    auth = base64.b64encode(message.encode(\"ascii\")).decode(\"ascii\")\n",
    "\n",
    "    # Set up headers for the request\n",
    "    headers_dic = {'Authorization': 'Basic ' + auth,\n",
    "                   'Content-Type': 'application/x-www-form-urlencoded;charset=UTF-8'\n",
    "}\n",
    "\n",
    "    # Set up parameters for the request\n",
    "    params_dic = {'grant_type': 'client_credentials',\n",
    "                  'scope': 'read'}\n",
    "\n",
    "    # Make the request to get the token\n",
    "    request_call = requests.post(\n",
    "        \"https://api.idealista.com/oauth/token\",\n",
    "        headers=headers_dic,\n",
    "        data=params_dic\n",
    "    )\n",
    "\n",
    "    # Parse the response to get the token\n",
    "    token = json.loads(request_call.text)['access_token']\n",
    "    \n",
    "    return token"
   ]
  },
  {
   "cell_type": "code",
   "execution_count": 64,
   "id": "b0ac8826",
   "metadata": {},
   "outputs": [],
   "source": [
    "# Search parameters filtering\n",
    "\n",
    "BASE_URL = \"https://api.idealista.com/3.5/es\" # Base URL to search in Spain\n",
    "CENTER = '36.7213,-4.4214' # Malaga Center coordinates (latitude, longitude) for the search\n",
    "DISTANCE = 9000.0 # Search radius in meters \n",
    "MAX_ITEMS = 50 # Maximum number of items to retrieve in one request 50\n",
    "#since_date = 'M' # W:last week, M: last month, T:last day (for rent except rooms), Y: last 2 days (sale and rooms)\n",
    "SORT = 'desc'\n"
   ]
  },
  {
   "cell_type": "code",
   "execution_count": 65,
   "id": "793c99f7",
   "metadata": {},
   "outputs": [],
   "source": [
    "# Function to get the url for the search request\n",
    "\n",
    "def get_search_url(operation: str, property_type: str) -> str:\n",
    "    url = (\n",
    "        f\"{BASE_URL}/search?\"\n",
    "        f\"operation={operation}&\"\n",
    "        f\"maxItems={MAX_ITEMS}&\"\n",
    "        f\"center={CENTER}&\"\n",
    "        f\"distance={DISTANCE}&\"\n",
    "        f\"propertyType={property_type}&\"\n",
    "        f\"sort={SORT}&\"\n",
    "        f\"language=es&\"\n",
    "        f\"numPage=%s\"\n",
    "    )\n",
    "    return url\n"
   ]
  },
  {
   "cell_type": "code",
   "execution_count": 66,
   "id": "52ba13c8",
   "metadata": {},
   "outputs": [],
   "source": [
    "operation = \"sale\" # Operation type: sale or rent\n",
    "property_type = \"homes\" # Property type: homes, garages, offices, land, new_development"
   ]
  },
  {
   "cell_type": "code",
   "execution_count": 67,
   "id": "3f88cbe3",
   "metadata": {},
   "outputs": [
    {
     "data": {
      "text/plain": [
       "'https://api.idealista.com/3.5/es/search?operation=sale&maxItems=50&center=36.7213,-4.4214&distance=9000.0&propertyType=homes&sort=desc&language=es&numPage=%s'"
      ]
     },
     "execution_count": 67,
     "metadata": {},
     "output_type": "execute_result"
    }
   ],
   "source": [
    "url = get_search_url(operation, property_type)\n",
    "url"
   ]
  },
  {
   "cell_type": "code",
   "execution_count": null,
   "id": "f8065c16",
   "metadata": {},
   "outputs": [],
   "source": [
    "def get_data_from_api(url):\n",
    "    \"\"\"\n",
    "    This function retrieves data from the Idealista API.\n",
    "    It uses the provided URL to make a request to the API and get the data.\n",
    "    \"\"\"\n",
    "    # Get the OAuth token\n",
    "    token = get_oauth_token()\n",
    "\n",
    "    # Set up headers for the request\n",
    "    headers_dic = {'Content-Type': 'application/x-www-form-urlencoded',\n",
    "                   'Authorization': 'Bearer ' + token,\n",
    "                   }\n",
    "\n",
    "    # Make the request to get the data\n",
    "    request_call = requests.post(url, headers=headers_dic)\n",
    "\n",
    "    # Parse the response\n",
    "    try:\n",
    "        data = request_call.json()\n",
    "    except json.JSONDecodeError:\n",
    "        print(\"Error: la respuesta no es JSON válida.\")\n",
    "        print(\"Texto recibido:\", request_call.text)\n",
    "        return None\n",
    "\n",
    "    # File name with timestamp\n",
    "    timestamp = datetime.now().strftime(\"%Y-%m-%d_%H-%M-%S\")\n",
    "    filename = f\"data/idealista-data-{timestamp}.json\"\n",
    "\n",
    "    # Save as  JSON file\n",
    "    with open(filename, \"w\", encoding=\"utf-8\") as f:\n",
    "        json.dump(data, f, indent=2, ensure_ascii=False)\n",
    "\n",
    "    print(f\"JSON guardado en {filename}\")\n",
    "\n",
    "    return data"
   ]
  },
  {
   "cell_type": "code",
   "execution_count": 69,
   "id": "3c60b5ee",
   "metadata": {},
   "outputs": [],
   "source": [
    "pagination = 1\n",
    "first_search_url = url % (pagination)"
   ]
  },
  {
   "cell_type": "code",
   "execution_count": 58,
   "id": "05109583",
   "metadata": {},
   "outputs": [
    {
     "name": "stdout",
     "output_type": "stream",
     "text": [
      "JSON guardado en data/idealista-data-2025-05-07.json\n"
     ]
    }
   ],
   "source": [
    "results = get_data_from_api(first_search_url)"
   ]
  },
  {
   "cell_type": "code",
   "execution_count": 72,
   "id": "40171eb8",
   "metadata": {},
   "outputs": [
    {
     "name": "stdout",
     "output_type": "stream",
     "text": [
      "JSON guardado en data/idealista-data-2025-05-07_20-01-24.json\n",
      "JSON guardado en data/idealista-data-2025-05-07_20-01-25.json\n",
      "JSON guardado en data/idealista-data-2025-05-07_20-01-26.json\n",
      "JSON guardado en data/idealista-data-2025-05-07_20-01-26.json\n",
      "JSON guardado en data/idealista-data-2025-05-07_20-01-27.json\n",
      "JSON guardado en data/idealista-data-2025-05-07_20-01-28.json\n",
      "JSON guardado en data/idealista-data-2025-05-07_20-01-29.json\n",
      "JSON guardado en data/idealista-data-2025-05-07_20-01-29.json\n",
      "JSON guardado en data/idealista-data-2025-05-07_20-01-30.json\n",
      "JSON guardado en data/idealista-data-2025-05-07_20-01-30.json\n",
      "JSON guardado en data/idealista-data-2025-05-07_20-01-31.json\n"
     ]
    }
   ],
   "source": [
    "#Homes for sale\n",
    "url_homes_sale = get_search_url(\"sale\", \"homes\")\n",
    "for pagination in range(2, 13):\n",
    "    url = url_homes_sale % (pagination)\n",
    "    results = get_data_from_api(url)"
   ]
  },
  {
   "cell_type": "code",
   "execution_count": 73,
   "id": "94d1c247",
   "metadata": {},
   "outputs": [
    {
     "name": "stdout",
     "output_type": "stream",
     "text": [
      "JSON guardado en data/idealista-data-2025-05-07_20-01-37.json\n",
      "JSON guardado en data/idealista-data-2025-05-07_20-01-37.json\n",
      "JSON guardado en data/idealista-data-2025-05-07_20-01-38.json\n",
      "JSON guardado en data/idealista-data-2025-05-07_20-01-38.json\n",
      "JSON guardado en data/idealista-data-2025-05-07_20-01-39.json\n",
      "JSON guardado en data/idealista-data-2025-05-07_20-01-39.json\n",
      "JSON guardado en data/idealista-data-2025-05-07_20-01-40.json\n",
      "JSON guardado en data/idealista-data-2025-05-07_20-01-41.json\n",
      "JSON guardado en data/idealista-data-2025-05-07_20-01-41.json\n",
      "JSON guardado en data/idealista-data-2025-05-07_20-01-42.json\n",
      "JSON guardado en data/idealista-data-2025-05-07_20-01-42.json\n",
      "JSON guardado en data/idealista-data-2025-05-07_20-01-43.json\n"
     ]
    }
   ],
   "source": [
    "#Homes for rent\n",
    "url_homes_rent = get_search_url(\"rent\", \"homes\")\n",
    "for pagination in range(1, 13):\n",
    "    url = url_homes_rent % (pagination)\n",
    "    results = get_data_from_api(url)"
   ]
  },
  {
   "cell_type": "code",
   "execution_count": 74,
   "id": "d206dea1",
   "metadata": {},
   "outputs": [
    {
     "name": "stdout",
     "output_type": "stream",
     "text": [
      "JSON guardado en data/idealista-data-2025-05-07_20-01-48.json\n",
      "JSON guardado en data/idealista-data-2025-05-07_20-01-48.json\n",
      "JSON guardado en data/idealista-data-2025-05-07_20-01-49.json\n",
      "JSON guardado en data/idealista-data-2025-05-07_20-01-49.json\n",
      "JSON guardado en data/idealista-data-2025-05-07_20-01-49.json\n",
      "JSON guardado en data/idealista-data-2025-05-07_20-01-49.json\n",
      "JSON guardado en data/idealista-data-2025-05-07_20-01-49.json\n",
      "JSON guardado en data/idealista-data-2025-05-07_20-01-50.json\n",
      "JSON guardado en data/idealista-data-2025-05-07_20-01-50.json\n",
      "JSON guardado en data/idealista-data-2025-05-07_20-01-50.json\n",
      "JSON guardado en data/idealista-data-2025-05-07_20-01-50.json\n",
      "JSON guardado en data/idealista-data-2025-05-07_20-01-51.json\n"
     ]
    }
   ],
   "source": [
    "#Offices for sale\n",
    "url_offices_sale = get_search_url(\"sale\", \"offices\")\n",
    "for pagination in range(1, 13):\n",
    "    url = url_offices_sale % (pagination)\n",
    "    results = get_data_from_api(url)"
   ]
  },
  {
   "cell_type": "code",
   "execution_count": 75,
   "id": "b4919b20",
   "metadata": {},
   "outputs": [
    {
     "name": "stdout",
     "output_type": "stream",
     "text": [
      "JSON guardado en data/idealista-data-2025-05-07_20-01-53.json\n",
      "JSON guardado en data/idealista-data-2025-05-07_20-01-54.json\n",
      "JSON guardado en data/idealista-data-2025-05-07_20-01-54.json\n",
      "JSON guardado en data/idealista-data-2025-05-07_20-01-54.json\n",
      "JSON guardado en data/idealista-data-2025-05-07_20-01-55.json\n",
      "JSON guardado en data/idealista-data-2025-05-07_20-01-55.json\n",
      "JSON guardado en data/idealista-data-2025-05-07_20-01-55.json\n",
      "JSON guardado en data/idealista-data-2025-05-07_20-01-55.json\n",
      "JSON guardado en data/idealista-data-2025-05-07_20-01-56.json\n",
      "JSON guardado en data/idealista-data-2025-05-07_20-01-56.json\n",
      "JSON guardado en data/idealista-data-2025-05-07_20-01-56.json\n",
      "JSON guardado en data/idealista-data-2025-05-07_20-01-56.json\n"
     ]
    }
   ],
   "source": [
    "#Offices for rent\n",
    "url_offices_rent = get_search_url(\"rent\", \"offices\")\n",
    "for pagination in range(1, 13):\n",
    "    url = url_offices_rent % (pagination)\n",
    "    results = get_data_from_api(url)"
   ]
  },
  {
   "cell_type": "code",
   "execution_count": 76,
   "id": "02260626",
   "metadata": {},
   "outputs": [
    {
     "name": "stdout",
     "output_type": "stream",
     "text": [
      "JSON guardado en data/idealista-data-2025-05-07_20-01-59.json\n",
      "JSON guardado en data/idealista-data-2025-05-07_20-01-59.json\n",
      "JSON guardado en data/idealista-data-2025-05-07_20-02-00.json\n",
      "JSON guardado en data/idealista-data-2025-05-07_20-02-00.json\n",
      "JSON guardado en data/idealista-data-2025-05-07_20-02-01.json\n",
      "JSON guardado en data/idealista-data-2025-05-07_20-02-01.json\n",
      "JSON guardado en data/idealista-data-2025-05-07_20-02-02.json\n",
      "JSON guardado en data/idealista-data-2025-05-07_20-02-02.json\n",
      "JSON guardado en data/idealista-data-2025-05-07_20-02-03.json\n",
      "JSON guardado en data/idealista-data-2025-05-07_20-02-03.json\n",
      "JSON guardado en data/idealista-data-2025-05-07_20-02-03.json\n",
      "JSON guardado en data/idealista-data-2025-05-07_20-02-04.json\n"
     ]
    }
   ],
   "source": [
    "#Premises for sale\n",
    "url_premises_sale = get_search_url(\"sale\", \"premises\")\n",
    "for pagination in range(1, 13):\n",
    "    url = url_premises_sale % (pagination)\n",
    "    results = get_data_from_api(url)"
   ]
  },
  {
   "cell_type": "code",
   "execution_count": 77,
   "id": "a2c8a941",
   "metadata": {},
   "outputs": [
    {
     "name": "stdout",
     "output_type": "stream",
     "text": [
      "JSON guardado en data/idealista-data-2025-05-07_20-02-06.json\n",
      "JSON guardado en data/idealista-data-2025-05-07_20-02-07.json\n",
      "JSON guardado en data/idealista-data-2025-05-07_20-02-07.json\n",
      "JSON guardado en data/idealista-data-2025-05-07_20-02-07.json\n",
      "JSON guardado en data/idealista-data-2025-05-07_20-02-08.json\n",
      "JSON guardado en data/idealista-data-2025-05-07_20-02-08.json\n",
      "JSON guardado en data/idealista-data-2025-05-07_20-02-09.json\n",
      "JSON guardado en data/idealista-data-2025-05-07_20-02-09.json\n",
      "JSON guardado en data/idealista-data-2025-05-07_20-02-10.json\n",
      "JSON guardado en data/idealista-data-2025-05-07_20-02-10.json\n",
      "JSON guardado en data/idealista-data-2025-05-07_20-02-10.json\n",
      "JSON guardado en data/idealista-data-2025-05-07_20-02-11.json\n"
     ]
    }
   ],
   "source": [
    "#Premises for rent\n",
    "url_premises_rent = get_search_url(\"rent\", \"premises\")\n",
    "for pagination in range(1, 13):\n",
    "    url = url_premises_rent % (pagination)\n",
    "    results = get_data_from_api(url)"
   ]
  },
  {
   "cell_type": "code",
   "execution_count": 78,
   "id": "200007a3",
   "metadata": {},
   "outputs": [
    {
     "name": "stdout",
     "output_type": "stream",
     "text": [
      "JSON guardado en data/idealista-data-2025-05-07_20-02-14.json\n",
      "JSON guardado en data/idealista-data-2025-05-07_20-02-15.json\n",
      "JSON guardado en data/idealista-data-2025-05-07_20-02-15.json\n",
      "JSON guardado en data/idealista-data-2025-05-07_20-02-16.json\n",
      "JSON guardado en data/idealista-data-2025-05-07_20-02-16.json\n",
      "JSON guardado en data/idealista-data-2025-05-07_20-02-16.json\n",
      "JSON guardado en data/idealista-data-2025-05-07_20-02-16.json\n",
      "JSON guardado en data/idealista-data-2025-05-07_20-02-17.json\n",
      "JSON guardado en data/idealista-data-2025-05-07_20-02-17.json\n",
      "JSON guardado en data/idealista-data-2025-05-07_20-02-17.json\n",
      "JSON guardado en data/idealista-data-2025-05-07_20-02-17.json\n",
      "JSON guardado en data/idealista-data-2025-05-07_20-02-18.json\n"
     ]
    }
   ],
   "source": [
    "#Garages for sale\n",
    "url_garages_sale = get_search_url(\"sale\", \"garages\")\n",
    "for pagination in range(1, 13):\n",
    "    url = url_garages_sale % (pagination)\n",
    "    results = get_data_from_api(url)"
   ]
  },
  {
   "cell_type": "code",
   "execution_count": 79,
   "id": "67fe3eeb",
   "metadata": {},
   "outputs": [
    {
     "name": "stdout",
     "output_type": "stream",
     "text": [
      "JSON guardado en data/idealista-data-2025-05-07_20-02-20.json\n",
      "JSON guardado en data/idealista-data-2025-05-07_20-02-20.json\n",
      "JSON guardado en data/idealista-data-2025-05-07_20-02-20.json\n",
      "JSON guardado en data/idealista-data-2025-05-07_20-02-21.json\n",
      "JSON guardado en data/idealista-data-2025-05-07_20-02-21.json\n",
      "JSON guardado en data/idealista-data-2025-05-07_20-02-21.json\n",
      "JSON guardado en data/idealista-data-2025-05-07_20-02-21.json\n",
      "JSON guardado en data/idealista-data-2025-05-07_20-02-22.json\n",
      "JSON guardado en data/idealista-data-2025-05-07_20-02-22.json\n",
      "JSON guardado en data/idealista-data-2025-05-07_20-02-22.json\n",
      "JSON guardado en data/idealista-data-2025-05-07_20-02-22.json\n",
      "JSON guardado en data/idealista-data-2025-05-07_20-02-22.json\n"
     ]
    }
   ],
   "source": [
    "#Garages for rent\n",
    "url_garages_rent = get_search_url(\"rent\", \"garages\")\n",
    "for pagination in range(1, 13):\n",
    "    url = url_garages_rent % (pagination)\n",
    "    results = get_data_from_api(url)"
   ]
  }
 ],
 "metadata": {
  "kernelspec": {
   "display_name": ".venv",
   "language": "python",
   "name": "python3"
  },
  "language_info": {
   "codemirror_mode": {
    "name": "ipython",
    "version": 3
   },
   "file_extension": ".py",
   "mimetype": "text/x-python",
   "name": "python",
   "nbconvert_exporter": "python",
   "pygments_lexer": "ipython3",
   "version": "3.13.1"
  }
 },
 "nbformat": 4,
 "nbformat_minor": 5
}
